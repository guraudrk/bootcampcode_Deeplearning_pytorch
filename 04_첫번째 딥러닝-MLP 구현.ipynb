{
 "cells": [
  {
   "cell_type": "markdown",
   "metadata": {
    "slideshow": {
     "slide_type": "slide"
    }
   },
   "source": [
    "# Pytorch 개발 Process"
   ]
  },
  {
   "cell_type": "markdown",
   "metadata": {
    "slideshow": {
     "slide_type": "fragment"
    }
   },
   "source": [
    "1. **데이터 준비**\n",
    "    - Dataset 준비\n",
    "    - Dataloader 생성"
   ]
  },
  {
   "cell_type": "markdown",
   "metadata": {
    "slideshow": {
     "slide_type": "fragment"
    }
   },
   "source": [
    "2. **입력과 출력을 연결하는 Layer(층)으로 이뤄진 네트워크(모델)을 정의**\n",
    "    - **Sequential 방식**: 순서대로 쌓아올린 네트워크로 이뤄진 모델을 생성하는 방식\n",
    "        - layer를 순서대로 쌓은 모델을 구현할때 간단히 모델을 정의할 수 있다.\n",
    "        - layer block을 정의하는데 사용할 수 있다.\n",
    "    - **Subclass 방식**: 네트워크를 정의하는 클래스를 구현.\n",
    "        - 다양한 구조의 모델을 정의할 수 있다.\n",
    "        - inializer에서 필요한 layer들을 생성한다.\n",
    "        - forward(self, X) 메소드에 forward propagation 계산을 구현한다.\n",
    "    "
   ]
  },
  {
   "cell_type": "markdown",
   "metadata": {
    "slideshow": {
     "slide_type": "fragment"
    }
   },
   "source": [
    "3. **train**\n",
    "    - train 함수, test 함수 정의"
   ]
  },
  {
   "cell_type": "markdown",
   "metadata": {
    "slideshow": {
     "slide_type": "fragment"
    }
   },
   "source": [
    "4. test set 최종평가"
   ]
  },
  {
   "cell_type": "markdown",
   "metadata": {
    "slideshow": {
     "slide_type": "slide"
    }
   },
   "source": [
    "# MNIST 이미지 분류 \n",
    "- **[MNIST](https://ko.wikipedia.org/wiki/MNIST_%EB%8D%B0%EC%9D%B4%ED%84%B0%EB%B2%A0%EC%9D%B4%EC%8A%A4) (Modified National Institute of Standards and Technology) database**\n",
    "- 흑백 손글씨 숫자 0-9까지 10개의 범주로 구분해놓은 데이터셋\n",
    "- 하나의 이미지는 28 * 28 pixel 의 크기\n",
    "- 6만개의 Train 이미지와 1만개의 Test 이미지로 구성됨."
   ]
  },
  {
   "cell_type": "code",
   "execution_count": 3,
   "metadata": {},
   "outputs": [],
   "source": [
    "#이거 딥러닝할 때 겁나 많이 하는 것들이다. \n",
    "#이미 나는 교재에서 많이 했었지?\n",
    "#근데 순차적으로 잘 정리가 되어 있으므로 복습을 하기에도 용이하다.\n",
    "\n",
    "#근데 다시 해도 어럽다. 파이토치로 이뤄져서 그런가? 복습을 다시 하자. 주말에 2번 하는 것도 괜찮다."
   ]
  },
  {
   "cell_type": "markdown",
   "metadata": {},
   "source": [
    "## import"
   ]
  },
  {
   "cell_type": "code",
   "execution_count": 4,
   "metadata": {},
   "outputs": [
    {
     "name": "stdout",
     "output_type": "stream",
     "text": [
      "파이토치 버전: 2.1.0+cu118\n"
     ]
    }
   ],
   "source": [
    "import torch\n",
    "import torch.nn as nn\n",
    "from torch.utils.data import DataLoader\n",
    "from torchvision import datasets, transforms\n",
    "\n",
    "\n",
    "import matplotlib.pyplot as plt\n",
    "import numpy as np\n",
    "import os #os에 대해 import을 해야 한다.\n",
    "#이거는 덤이다.\n",
    "print(\"파이토치 버전:\",torch.__version__)\n",
    "\n",
    "#영상 관련된 것은 torchvision에 있다.\n",
    "\n",
    "#torch는 공통이고, torchvision은 영상처리에 관한 것이다."
   ]
  },
  {
   "cell_type": "code",
   "execution_count": 5,
   "metadata": {},
   "outputs": [],
   "source": [
    "#pip install torch torchvision\n",
    "#torchvision을 설치하는 구문이다.\n"
   ]
  },
  {
   "cell_type": "markdown",
   "metadata": {},
   "source": [
    "### device 설정"
   ]
  },
  {
   "cell_type": "code",
   "execution_count": 6,
   "metadata": {},
   "outputs": [
    {
     "name": "stdout",
     "output_type": "stream",
     "text": [
      "device: cpu\n"
     ]
    }
   ],
   "source": [
    "#처리를 cpu를 이용을 할지 gqu를 이용을 할지 설정한다.\n",
    "\n",
    "device = \"cuda\" if torch.cuda.is_available() else \"cpu\" #cuda가 true인지 물어보는 구문. 아니라면 cpu이 값이 된다.\n",
    "print(\"device:\",device)\n",
    "\n"
   ]
  },
  {
   "cell_type": "markdown",
   "metadata": {},
   "source": [
    "### 변수 설정"
   ]
  },
  {
   "cell_type": "code",
   "execution_count": 8,
   "metadata": {},
   "outputs": [
    {
     "name": "stdout",
     "output_type": "stream",
     "text": [
      "235.0\n"
     ]
    }
   ],
   "source": [
    "#뒤에서 여러번 사용할 값들을 저장할 변수 +\n",
    "#모델에 설정할 값(모델 자체,학습할 때 필요한 값 등등)으로 성능에 영향을 주는 값들을 저장할 변수 == 하이퍼 파라미터(hyper parameter)\n",
    "\n",
    "\n",
    "#BATCH_SIZE는 상수 개념으로 정의를 하는 것이다.\n",
    "#모델의 파라미터를 업데이트 할 때 사용할 데이터의 개수. 한번에 몇개 데이터를 입력할지를 정의한다. 데이터가 6만개 정도 있는데,\n",
    "#그걸 한번에 넣을 수는 없잖아..... 그래서 batch_size를 통해 전체 데이터를 1번 다 학습하는 것을 1epoch라고 한다. \n",
    "BATCH_SIZE = 256\n",
    "\n",
    "\n",
    "N_EPOCH = 20  #전체 train dataset을 한번 학습한 것을 1 epoch라고 한다. \n",
    "LR = 0.001 #학습률. 파라미터 update을 할 때 gradient 값에 곱해줄 값이다.\n",
    "#(gradient를 새로운 파라미터 계산할 때 얼마나 반영할지에 대한 비율이다.)\n",
    "\n",
    "\n",
    "##\n",
    "# step: 파라미터를 1번 업데이트 하는 단위이다. 1step은 1batch_size이다. \n",
    "#epoch: 전체 학습데이터셋을 모두 한번 학습한 것을 1epoch라고 한다. \n",
    "\n",
    "print(np.ceil(60000/256)) #총 총 데이터와 batch_size를 구한다.\n",
    "\n",
    "\n",
    "\n",
    "\n",
    "DATASET_SAVE_PATH = \"datasets\" #데이터셋을 저장할 디렉토리 경로이다.\n",
    "MODEL_SAVE_PATH =\"models\" #학습-평가가 끝나 모델을 저장할 디렉토리 경로이다. \n",
    "\n",
    "#디렉토리를 2개를 만든다. 하나는 저장용이고, 하는 model용이다.\n",
    "os.makedirs(DATASET_SAVE_PATH,exist_ok=True)\n",
    "os.makedirs(MODEL_SAVE_PATH,exist_ok=True)\n"
   ]
  },
  {
   "cell_type": "code",
   "execution_count": null,
   "metadata": {},
   "outputs": [],
   "source": []
  },
  {
   "cell_type": "markdown",
   "metadata": {
    "ExecuteTime": {
     "end_time": "2021-08-30T05:02:52.852140Z",
     "start_time": "2021-08-30T05:02:52.563117Z"
    },
    "slideshow": {
     "slide_type": "slide"
    }
   },
   "source": [
    "## MNIST dataset Loading\n",
    "\n",
    "### Dataset"
   ]
  },
  {
   "cell_type": "code",
   "execution_count": 9,
   "metadata": {},
   "outputs": [],
   "source": [
    "##MNIST 데이터셋을 다운로드 + DATASET 객체를 생성.\n",
    "\n",
    "#train dataset\n",
    "#torchvision.datasets\n",
    "\n",
    "\n",
    "train_set = datasets.MNIST(root=DATASET_SAVE_PATH,\n",
    "                          train=True, #trainset:훈련용이다.\n",
    "                          download=True, #root에 저장된 데이터파일들이 없을 때 다운로드를 받을지 여부에 대해.\n",
    "                           transform = transforms.ToTensor() #데이터 전처리. (전처리:변환하지 않고 쓰겠다.)\n",
    "                           \n",
    "                           \n",
    "                          ) #데이터셋을 저장할 디렉토리 경로.\n",
    "\n",
    "\n",
    "\n",
    "#ToTensor() : ndarray, PIL.Image 객체 -> torch.Tensor로 변환한다. Pixcel값을 정규화한다.(normalization)\n",
    "#Pixcel 값 정규화: 0부터 1사이의 실수로 변환한다. \n",
    "\n",
    "\n",
    "\n",
    "#testset을 설정해준다. \n",
    "test_set = datasets.MNIST(root=DATASET_SAVE_PATH,\n",
    "                          train=False,\n",
    "                         download=True,\n",
    "                         transform=transforms.ToTensor()) #trainset이 False라고 설정하면 된다.\n",
    "\n",
    "\n",
    "\n",
    "#실행을 하면,  dataset이라는 파일이 하나 생기는 것을 볼 수 있다."
   ]
  },
  {
   "cell_type": "code",
   "execution_count": 10,
   "metadata": {},
   "outputs": [
    {
     "name": "stdout",
     "output_type": "stream",
     "text": [
      "<class 'torchvision.datasets.mnist.MNIST'>\n",
      "Dataset MNIST\n",
      "    Number of datapoints: 60000\n",
      "    Root location: datasets\n",
      "    Split: Train\n",
      "    StandardTransform\n",
      "Transform: ToTensor()\n",
      "Dataset MNIST\n",
      "    Number of datapoints: 10000\n",
      "    Root location: datasets\n",
      "    Split: Test\n",
      "    StandardTransform\n",
      "Transform: ToTensor()\n"
     ]
    }
   ],
   "source": [
    "print(type(train_set)) #Dataset 타입.\n",
    "print(train_set)\n",
    "print(test_set)\n",
    "\n",
    "#여러가지 데이터들에 대한 정보를 print을 통해 알아내자!! \n",
    "\n"
   ]
  },
  {
   "cell_type": "code",
   "execution_count": 11,
   "metadata": {},
   "outputs": [
    {
     "name": "stdout",
     "output_type": "stream",
     "text": [
      "60000 10000\n"
     ]
    }
   ],
   "source": [
    "#데이터 포인트 개수\n",
    "\n",
    "print(len(train_set),len(test_set))\n"
   ]
  },
  {
   "cell_type": "markdown",
   "metadata": {},
   "source": [
    "### DataLoader"
   ]
  },
  {
   "cell_type": "code",
   "execution_count": 12,
   "metadata": {},
   "outputs": [],
   "source": [
    "#Dataset을 모델에 어떻게 제공할지를 설정 => 학습/평가시 설정된 대로 데이터를 loading한다. \n",
    "#훈련용 DataLoader\n",
    "\n",
    "\n",
    "train_loader = DataLoader(train_set,#Dataset\n",
    "                        batch_size=BATCH_SIZE, #BATCH_SIZE를 설정한다.\n",
    "                        shuffle = True, #한 epoch이 끝이나면 다음 epoch전에 데이터를 섞을지의 여부.(디폴트:false)\n",
    "                        drop_last=True,#마지막 batch의 데이터수가 batch_size보다 적을 경우 버릴지(학습에 사용안함) 여부(디폴트:false)\n",
    "                        \n",
    "\n",
    "                         )\n",
    "                          \n",
    "    \n",
    "    \n",
    "#평가용 dataloader\n",
    "\n",
    "test_loader = DataLoader(test_set,batch_size=BATCH_SIZE,shuffle=True)\n"
   ]
  },
  {
   "cell_type": "code",
   "execution_count": 13,
   "metadata": {},
   "outputs": [
    {
     "name": "stdout",
     "output_type": "stream",
     "text": [
      "1 예폭당 step 수\n",
      "trainset: 234\n",
      "testset: 40\n"
     ]
    }
   ],
   "source": [
    "print(\"1 예폭당 step 수\")\n",
    "print(\"trainset:\", len(train_loader)) #나머지 데이터는 따로 학습을 하지 않은 것이다.\n",
    "print(\"testset:\",len(test_loader)) #나머지를 학습을....했어?? 띠용\n",
    "\n",
    "\n"
   ]
  },
  {
   "cell_type": "markdown",
   "metadata": {},
   "source": [
    "- Dataset: input/output data를 묶어서 관리한다.\n",
    "- DataLoader:Dataset의 데이터들을 모델에 어떻게 제공할지를 관리한다. \n"
   ]
  },
  {
   "cell_type": "markdown",
   "metadata": {
    "slideshow": {
     "slide_type": "slide"
    }
   },
   "source": [
    "## 네트워크(모델) 정의\n",
    "- Network : 전체 모델 구조"
   ]
  },
  {
   "cell_type": "code",
   "execution_count": 14,
   "metadata": {},
   "outputs": [],
   "source": [
    "#class로 정의 : nn.Moudle을 상속해서 정의한다. \n",
    "#nn.Module을 상속받는다. \n",
    "#모델을 만들면, 아래의 2가지를 생성할 수 있다. \n",
    "class MnistModel(nn.Module):\n",
    "    def __init__(self):\n",
    "        \"\"\"\n",
    "        모델 객체 생성시 모델을 구현(정의)할 때 필요한 것들을 초기화한다.\n",
    "        필요한 것: Layer들. 등등.....\n",
    "        \n",
    "        \"\"\"\n",
    "        \n",
    "        super().__init__()\n",
    "        \n",
    "        \n",
    "        \n",
    "        self.lr1 = nn.Linear(28*28,128) #input feature의 크기, output size(임의지정)\n",
    "        self.lr2  = nn.Linear(128,64)\n",
    "        self.lr3 = nn.Linear(64,10) #784-----128-----64------10 이런 순으로 간다.\n",
    "        #이 때, 10은 '각 범주의 확률'이 된다. \n",
    "        ### Acrivation함수 --->비선형함수 :ReLU (비선형:직선형이 아니라는 것이다.)\n",
    "        self.relu = nn.ReLU() #중간중간의 결과값을 변형을 시킬 것이다.  sigmoid 함수 대신에 이걸 쓴다.\n",
    "        #x값이 뭐냐에 따라서 증감이 달라지는 것이다. 그래서 선형이 아니라 비선형. \n",
    "        #input으로 x를 받으면, x와 0을 비교해서 더 큰걸 받는다. 그래서 함수 그래프 그림이 약간 재미있어진다.\n",
    "        #이 부분에서 정의한 함수들 (4개)를 토대로 forward 함수 부분에서 계산을 할 것이다. \n",
    "    \n",
    "    def forward(self,x):\n",
    "        \n",
    "        \"\"\"\n",
    "        input data를 입력받아서 output 데이터를 만들 때 까지의 계산 흐름을 정의한다.\n",
    "        ====> forward propagation\n",
    "        \n",
    "        parameter\n",
    "        x: 입력데이터\n",
    "        return\n",
    "            torch.Tensor: 출력데이터(모델 예측결과.)\n",
    "        \n",
    "        \n",
    "        \"\"\"\n",
    "        #init 에서 생성한 함수들을 이용해서 계산\n",
    "        ### x->1차원으로 변환 -> lr1 ->relu ->lr2 ->relu ->lr3 ->output\n",
    "        pass #나중에 구현\n",
    "        #input(batch_size,channel,height,width) => (batch_size,전체 pixcel)    \n",
    "        #전체 pixcel은 channel,height,width을 곱한 것이라고 볼 수 있다.\n",
    "        x = torch.flatten(x,start_dim=1) #(b,c,h,w)=>(b,c*h*w) #1치원으로 변환 \n",
    "        x = self.lr1(x) #lr1\n",
    "        x = self.relu(x)#relu\n",
    "        \n",
    "        x = self.lr2(x)\n",
    "        x = self.relu(x)\n",
    "        \n",
    "        output = self.lr3(x)\n",
    "        return output"
   ]
  },
  {
   "cell_type": "code",
   "execution_count": 15,
   "metadata": {
    "scrolled": true
   },
   "outputs": [
    {
     "name": "stdout",
     "output_type": "stream",
     "text": [
      "MnistModel(\n",
      "  (lr1): Linear(in_features=784, out_features=128, bias=True)\n",
      "  (lr2): Linear(in_features=128, out_features=64, bias=True)\n",
      "  (lr3): Linear(in_features=64, out_features=10, bias=True)\n",
      "  (relu): ReLU()\n",
      ")\n"
     ]
    }
   ],
   "source": [
    "### 정의한 모델 클래스로부터 모델 객체를 생성한다.\n",
    "\n",
    "model = MnistModel()\n",
    "print(model)"
   ]
  },
  {
   "cell_type": "code",
   "execution_count": 13,
   "metadata": {},
   "outputs": [],
   "source": [
    "###모델의 연산 흐름 및 정보를 확인하자.  ====>torchinfo 패키지를 사용한다. \n",
    "\n",
    "#!pip install torchinfo"
   ]
  },
  {
   "cell_type": "code",
   "execution_count": 14,
   "metadata": {
    "scrolled": true
   },
   "outputs": [
    {
     "data": {
      "text/plain": [
       "==========================================================================================\n",
       "Layer (type:depth-idx)                   Output Shape              Param #\n",
       "==========================================================================================\n",
       "MnistModel                               [100, 10]                 --\n",
       "├─Linear: 1-1                            [100, 128]                100,480\n",
       "├─ReLU: 1-2                              [100, 128]                --\n",
       "├─Linear: 1-3                            [100, 64]                 8,256\n",
       "├─ReLU: 1-4                              [100, 64]                 --\n",
       "├─Linear: 1-5                            [100, 10]                 650\n",
       "==========================================================================================\n",
       "Total params: 109,386\n",
       "Trainable params: 109,386\n",
       "Non-trainable params: 0\n",
       "Total mult-adds (M): 10.94\n",
       "==========================================================================================\n",
       "Input size (MB): 0.31\n",
       "Forward/backward pass size (MB): 0.16\n",
       "Params size (MB): 0.44\n",
       "Estimated Total Size (MB): 0.91\n",
       "=========================================================================================="
      ]
     },
     "execution_count": 14,
     "metadata": {},
     "output_type": "execute_result"
    }
   ],
   "source": [
    "from torchinfo import summary\n",
    "\n",
    "summary(model,(100,1,28,28)) #summary(모델객체,input shape:tuple)\n",
    "#위의 input shape은 784와 같이 변동이 가능하다.\n",
    "\n",
    "#이렇게 하면, 어떤 순서대로 실행을 시켰는지에 대해 정보가 나온다.\n",
    "#output shape [100,10]은 100사이즈의 결과가 총 10개 나왔다는 것이다.앞의 100은 batch_size이다. \n",
    "#linear, relu들의 output shape를 보면 이 과정에 대해 더 잘 이해할 수 있다.\n",
    "\n",
    "#그냥 파이토치에서는 이런 상세 정보를 알 수 있는 것이 없다.\n",
    "#그래서 torchinfo을 통해 이런 정보를 알 수 있다.\n",
    "\n"
   ]
  },
  {
   "cell_type": "code",
   "execution_count": 16,
   "metadata": {},
   "outputs": [
    {
     "name": "stdout",
     "output_type": "stream",
     "text": [
      "torch.Size([256, 1, 28, 28]) torch.Size([256])\n"
     ]
    }
   ],
   "source": [
    "### train dataset의 첫번째 배치를 이용해서 모델에 추론하자.\n",
    "###next와 iter함수가 어떻게 쓰였는지에 대해 복습이 필요하다.\n",
    "x_batch,y_batch = next(iter(train_loader))     #(input,output) -----각각 학습을 시킨 것과 시키지 않은 것이다.\n",
    "print(x_batch.shape,y_batch.shape)"
   ]
  },
  {
   "cell_type": "code",
   "execution_count": 17,
   "metadata": {},
   "outputs": [
    {
     "data": {
      "text/plain": [
       "torch.Size([256, 10])"
      ]
     },
     "execution_count": 17,
     "metadata": {},
     "output_type": "execute_result"
    }
   ],
   "source": [
    "#추론\n",
    "\n",
    "pred_batch = model(x_batch) #model의 forward() 메소드가 실행.\n",
    "\n",
    "pred_batch.shape"
   ]
  },
  {
   "cell_type": "code",
   "execution_count": 18,
   "metadata": {},
   "outputs": [
    {
     "data": {
      "text/plain": [
       "tensor(8)"
      ]
     },
     "execution_count": 18,
     "metadata": {},
     "output_type": "execute_result"
    }
   ],
   "source": [
    "pred_batch[0].argmax() #첫번째 이미지에 대한 추론 결과!\n",
    "#첫번째 이미지가 0일 확률,1일확률......9일 확률이다. 이 중에서 가장 확률이 높은 것을 고르면 된다.\n",
    "#argmax()을 통해 숫자를 볼 수 있지!"
   ]
  },
  {
   "cell_type": "code",
   "execution_count": 19,
   "metadata": {},
   "outputs": [
    {
     "data": {
      "text/plain": [
       "tensor(8)"
      ]
     },
     "execution_count": 19,
     "metadata": {},
     "output_type": "execute_result"
    }
   ],
   "source": [
    "#근데 y_batch[0]을 하면, 당연히 틀리다. 학습을 안시켰으니까!\n",
    "\n",
    "y_batch[0]"
   ]
  },
  {
   "cell_type": "code",
   "execution_count": 19,
   "metadata": {},
   "outputs": [
    {
     "data": {
      "text/plain": [
       "tensor([False, False, False, False, False, False, False,  True, False, False,\n",
       "        False, False, False,  True, False, False, False, False, False, False,\n",
       "        False, False, False, False, False, False, False, False, False, False,\n",
       "        False, False, False, False,  True, False, False, False, False, False,\n",
       "        False, False, False, False, False, False, False, False,  True, False,\n",
       "        False,  True, False, False, False, False,  True, False, False, False,\n",
       "        False, False, False, False, False, False, False, False, False, False,\n",
       "        False, False, False, False, False, False, False, False, False, False,\n",
       "        False, False, False, False, False, False, False,  True,  True, False,\n",
       "        False,  True,  True,  True, False,  True, False, False, False, False,\n",
       "        False,  True, False, False, False, False, False, False, False, False,\n",
       "         True, False, False,  True, False, False, False, False, False, False,\n",
       "        False, False, False,  True, False, False, False, False, False,  True,\n",
       "        False, False, False, False, False,  True, False, False, False, False,\n",
       "         True, False, False, False, False, False, False, False, False, False,\n",
       "        False, False, False, False, False, False,  True, False, False, False,\n",
       "        False,  True, False, False, False, False, False,  True, False, False,\n",
       "        False, False, False, False,  True, False, False, False, False, False,\n",
       "         True, False, False,  True, False, False, False,  True, False,  True,\n",
       "        False, False, False,  True, False, False, False, False, False, False,\n",
       "        False, False, False, False, False, False, False, False, False, False,\n",
       "        False, False, False, False, False, False, False,  True, False,  True,\n",
       "        False, False, False, False, False,  True, False, False, False, False,\n",
       "         True, False, False, False, False, False, False, False, False, False,\n",
       "         True, False, False, False, False,  True,  True, False, False, False,\n",
       "        False, False, False, False, False, False])"
      ]
     },
     "execution_count": 19,
     "metadata": {},
     "output_type": "execute_result"
    }
   ],
   "source": [
    "#원소별로 계산\n",
    "\n",
    "pred_batch.argmax(dim=1)==y_batch\n",
    "#뭐 대략 10개중에 1개 정도 맞춘거다. 이건 걍 찍은거다ㅋㅋㅋㅋㅋㅋ"
   ]
  },
  {
   "cell_type": "code",
   "execution_count": 20,
   "metadata": {},
   "outputs": [
    {
     "data": {
      "text/plain": [
       "tensor([[  0,   1,   2,   3,   4,   5,   6,   7,   8,   9,  10,  11,  12,  13,\n",
       "          14,  15,  16,  17,  18,  19,  20,  21,  22,  23,  24,  25,  26,  27,\n",
       "          28,  29,  30,  31,  32,  33,  34,  35,  36,  37,  38,  39,  40,  41,\n",
       "          42,  43,  44,  45,  46,  47,  48,  49,  50,  51,  52,  53,  54,  55,\n",
       "          56,  57,  58,  59,  60,  61,  62,  63,  64,  65,  66,  67,  68,  69,\n",
       "          70,  71,  72,  73,  74,  75,  76,  77,  78,  79,  80,  81,  82,  83,\n",
       "          84,  85,  86,  87,  88,  89,  90,  91,  92,  93,  94,  95,  96,  97,\n",
       "          98,  99, 100, 101, 102, 103, 104, 105, 106, 107, 108, 109, 110, 111,\n",
       "         112, 113, 114, 115, 116, 117, 118, 119, 120, 121, 122, 123, 124, 125,\n",
       "         126, 127, 128, 129, 130, 131, 132, 133, 134, 135, 136, 137, 138, 139,\n",
       "         140, 141, 142, 143, 144, 145, 146, 147, 148, 149, 150, 151, 152, 153,\n",
       "         154, 155, 156, 157, 158, 159, 160, 161, 162, 163, 164, 165, 166, 167,\n",
       "         168, 169, 170, 171, 172, 173, 174, 175, 176, 177, 178, 179, 180, 181,\n",
       "         182, 183, 184, 185, 186, 187, 188, 189, 190, 191, 192, 193, 194, 195,\n",
       "         196, 197, 198, 199, 200, 201, 202, 203, 204, 205, 206, 207, 208, 209,\n",
       "         210, 211, 212, 213, 214, 215, 216, 217, 218, 219, 220, 221, 222, 223,\n",
       "         224, 225, 226, 227, 228, 229, 230, 231, 232, 233, 234, 235, 236, 237,\n",
       "         238, 239, 240, 241, 242, 243, 244, 245, 246, 247, 248, 249, 250, 251,\n",
       "         252, 253, 254, 255, 256, 257, 258, 259, 260, 261, 262, 263, 264, 265,\n",
       "         266, 267, 268, 269, 270, 271, 272, 273, 274, 275, 276, 277, 278, 279,\n",
       "         280, 281, 282, 283, 284, 285, 286, 287, 288, 289, 290, 291, 292, 293,\n",
       "         294, 295, 296, 297, 298, 299, 300, 301, 302, 303, 304, 305, 306, 307,\n",
       "         308, 309, 310, 311, 312, 313, 314, 315, 316, 317, 318, 319, 320, 321,\n",
       "         322, 323, 324, 325, 326, 327, 328, 329, 330, 331, 332, 333, 334, 335,\n",
       "         336, 337, 338, 339, 340, 341, 342, 343, 344, 345, 346, 347, 348, 349,\n",
       "         350, 351, 352, 353, 354, 355, 356, 357, 358, 359, 360, 361, 362, 363,\n",
       "         364, 365, 366, 367, 368, 369, 370, 371, 372, 373, 374, 375, 376, 377,\n",
       "         378, 379, 380, 381, 382, 383, 384, 385, 386, 387, 388, 389, 390, 391,\n",
       "         392, 393, 394, 395, 396, 397, 398, 399, 400, 401, 402, 403, 404, 405,\n",
       "         406, 407, 408, 409, 410, 411, 412, 413, 414, 415, 416, 417, 418, 419,\n",
       "         420, 421, 422, 423, 424, 425, 426, 427, 428, 429, 430, 431, 432, 433,\n",
       "         434, 435, 436, 437, 438, 439, 440, 441, 442, 443, 444, 445, 446, 447,\n",
       "         448, 449, 450, 451, 452, 453, 454, 455, 456, 457, 458, 459, 460, 461,\n",
       "         462, 463, 464, 465, 466, 467, 468, 469, 470, 471, 472, 473, 474, 475,\n",
       "         476, 477, 478, 479, 480, 481, 482, 483, 484, 485, 486, 487, 488, 489,\n",
       "         490, 491, 492, 493, 494, 495, 496, 497, 498, 499, 500, 501, 502, 503,\n",
       "         504, 505, 506, 507, 508, 509, 510, 511, 512, 513, 514, 515, 516, 517,\n",
       "         518, 519, 520, 521, 522, 523, 524, 525, 526, 527, 528, 529, 530, 531,\n",
       "         532, 533, 534, 535, 536, 537, 538, 539, 540, 541, 542, 543, 544, 545,\n",
       "         546, 547, 548, 549, 550, 551, 552, 553, 554, 555, 556, 557, 558, 559,\n",
       "         560, 561, 562, 563, 564, 565, 566, 567, 568, 569, 570, 571, 572, 573,\n",
       "         574, 575, 576, 577, 578, 579, 580, 581, 582, 583, 584, 585, 586, 587,\n",
       "         588, 589, 590, 591, 592, 593, 594, 595, 596, 597, 598, 599, 600, 601,\n",
       "         602, 603, 604, 605, 606, 607, 608, 609, 610, 611, 612, 613, 614, 615,\n",
       "         616, 617, 618, 619, 620, 621, 622, 623, 624, 625, 626, 627, 628, 629,\n",
       "         630, 631, 632, 633, 634, 635, 636, 637, 638, 639, 640, 641, 642, 643,\n",
       "         644, 645, 646, 647, 648, 649, 650, 651, 652, 653, 654, 655, 656, 657,\n",
       "         658, 659, 660, 661, 662, 663, 664, 665, 666, 667, 668, 669, 670, 671,\n",
       "         672, 673, 674, 675, 676, 677, 678, 679, 680, 681, 682, 683, 684, 685,\n",
       "         686, 687, 688, 689, 690, 691, 692, 693, 694, 695, 696, 697, 698, 699,\n",
       "         700, 701, 702, 703, 704, 705, 706, 707, 708, 709, 710, 711, 712, 713,\n",
       "         714, 715, 716, 717, 718, 719, 720, 721, 722, 723, 724, 725, 726, 727,\n",
       "         728, 729, 730, 731, 732, 733, 734, 735, 736, 737, 738, 739, 740, 741,\n",
       "         742, 743, 744, 745, 746, 747, 748, 749, 750, 751, 752, 753, 754, 755,\n",
       "         756, 757, 758, 759, 760, 761, 762, 763, 764, 765, 766, 767, 768, 769,\n",
       "         770, 771, 772, 773, 774, 775, 776, 777, 778, 779, 780, 781, 782, 783]])"
      ]
     },
     "execution_count": 20,
     "metadata": {},
     "output_type": "execute_result"
    }
   ],
   "source": [
    "i = torch.arange(28*28).reshape(1,1,28,28)\n",
    "i.shape #[1:데이터개수,1:channel,28:height,28:width]\n",
    "#1차원 => 데이터개수는 유지 [1,784]\n",
    "#만약 데이터개수가 5이면 [5,784]를 한다.\n",
    "\n",
    "##다차원 텐서 => 1차원 =>flatten([start_dim=axis])을 쓴다. #지정한 axis 부터 합친다.\n",
    "\n",
    "torch.flatten(i,start_dim=1) #axis 0은 유지하고, axis 1부터 나머지를 합친다.\n",
    "\n",
    "\n",
    "#이건 그냥 예제이다....\n"
   ]
  },
  {
   "cell_type": "markdown",
   "metadata": {},
   "source": [
    "## train"
   ]
  },
  {
   "cell_type": "markdown",
   "metadata": {},
   "source": [
    "### 모델, loss function, optimizer 생성"
   ]
  },
  {
   "cell_type": "code",
   "execution_count": 20,
   "metadata": {},
   "outputs": [],
   "source": [
    "###모델을 device로 옮긴다.(모델을 이용한 계산을 cpu에서 할지, gpu에서 할지...)\n",
    "###모델을 이용한 계산을 cpu에서 할지 gpu에서 할지....\n",
    "###참고로 device로 옮긴다는 것은 model, 주입할 input data, output data 등을 모색한다는 것이다.\n",
    "\n",
    "model = model.to(device)\n",
    "\n",
    "\n",
    "\n",
    "###loss function\n",
    "# 분류문제: cross entropy, 이중분류문제: binary crossentropy   ====> log loss라고 이야기한다. 보통은 log을 쓰거든.\n",
    "#다중분류:label이 여러개      이진분류: yes/no 분류\n",
    "\n",
    "\n",
    "\n",
    "loss_fn = nn.CrossEntropyLoss() #nn.functional.cross_entropy() 함수를 써도 된다.\n",
    "#이 방법은 객체를 생성해서 거시기를 하는 것이다.\n",
    "\n",
    "\n",
    "\n",
    "#####Optimizer =====>  모델 파라미터들을 최적화\n",
    "\n",
    "\n",
    "optimizer = torch.optim.Adam(model.parameters(), #최적화 대상 파라미터들\n",
    "                            lr=LR\n",
    "                            \n",
    "                            )\n",
    "#이번에는 아담이라는 옵티마이저를 쓰자.\n",
    "##어처피 뭘 쓰든, 경사하강법을 쓰는 것은 동일하다. 그러니 별 상관은 없어.\n",
    "###\n",
    "\n",
    "\n",
    "\n",
    "\n",
    "\n"
   ]
  },
  {
   "cell_type": "code",
   "execution_count": 21,
   "metadata": {},
   "outputs": [
    {
     "name": "stdout",
     "output_type": "stream",
     "text": [
      "torch.Size([128, 784])\n"
     ]
    },
    {
     "data": {
      "text/plain": [
       "Parameter containing:\n",
       "tensor([[ 0.0280,  0.0249,  0.0018,  ..., -0.0298, -0.0170,  0.0021],\n",
       "        [ 0.0175,  0.0110,  0.0196,  ...,  0.0019, -0.0293,  0.0263],\n",
       "        [-0.0313, -0.0249,  0.0098,  ..., -0.0216, -0.0161,  0.0245],\n",
       "        ...,\n",
       "        [-0.0190, -0.0195, -0.0312,  ..., -0.0185, -0.0318,  0.0007],\n",
       "        [-0.0289,  0.0342, -0.0083,  ...,  0.0281, -0.0264, -0.0153],\n",
       "        [ 0.0249, -0.0169, -0.0304,  ..., -0.0206,  0.0059, -0.0022]],\n",
       "       requires_grad=True)"
      ]
     },
     "execution_count": 21,
     "metadata": {},
     "output_type": "execute_result"
    }
   ],
   "source": [
    "### model.parameters() : generator\n",
    "a = next(model.parameters())\n",
    "print(a.shape)\n",
    "a"
   ]
  },
  {
   "cell_type": "code",
   "execution_count": null,
   "metadata": {},
   "outputs": [],
   "source": []
  },
  {
   "cell_type": "code",
   "execution_count": null,
   "metadata": {},
   "outputs": [],
   "source": []
  },
  {
   "cell_type": "code",
   "execution_count": null,
   "metadata": {},
   "outputs": [],
   "source": []
  },
  {
   "cell_type": "code",
   "execution_count": null,
   "metadata": {},
   "outputs": [],
   "source": []
  },
  {
   "cell_type": "markdown",
   "metadata": {},
   "source": [
    "### 학습 및 검증"
   ]
  },
  {
   "cell_type": "code",
   "execution_count": 23,
   "metadata": {},
   "outputs": [
    {
     "name": "stdout",
     "output_type": "stream",
     "text": [
      "[ 1/20] Train Loss: 127.25238919258118,Val Loss:0.5438136290281247,Val loss:0.2544334940612316, Val Accuracy: 0.9286\n",
      "[ 2/20] Train Loss: 51.21423093229532,Val Loss:0.2188642347533988,Val loss:0.18922494240105153, Val Accuracy: 0.9444\n",
      "[ 3/20] Train Loss: 37.68041828274727,Val Loss:0.16102742855874902,Val loss:0.13634217181243002, Val Accuracy: 0.9573\n",
      "[ 4/20] Train Loss: 29.40886839106679,Val Loss:0.12567892474814868,Val loss:0.11831049602478742, Val Accuracy: 0.9619\n",
      "[ 5/20] Train Loss: 23.719699501991272,Val Loss:0.1013662371879969,Val loss:0.10411972063593566, Val Accuracy: 0.9678\n",
      "[ 6/20] Train Loss: 19.540600538253784,Val Loss:0.08350683990706745,Val loss:0.10139821460470558, Val Accuracy: 0.9696\n",
      "[ 7/20] Train Loss: 16.604674896225333,Val Loss:0.07096014912916809,Val loss:0.09088453110307455, Val Accuracy: 0.9708\n",
      "[ 8/20] Train Loss: 14.458281129598618,Val Loss:0.06178752619486589,Val loss:0.08592809736146592, Val Accuracy: 0.9722\n",
      "[ 9/20] Train Loss: 12.190198944881558,Val Loss:0.05209486728581863,Val loss:0.07829982042312622, Val Accuracy: 0.9756\n",
      "[10/20] Train Loss: 10.770265479572117,Val Loss:0.046026775553726994,Val loss:0.09048718877602369, Val Accuracy: 0.9725\n",
      "[11/20] Train Loss: 9.227653495967388,Val Loss:0.039434416649433285,Val loss:0.07989979447120277, Val Accuracy: 0.9748\n",
      "[12/20] Train Loss: 8.206295797601342,Val Loss:0.035069640160689496,Val loss:0.07334256842150352, Val Accuracy: 0.977\n",
      "[13/20] Train Loss: 6.822169286664575,Val Loss:0.029154569601130664,Val loss:0.09125336240977049, Val Accuracy: 0.9768\n",
      "[14/20] Train Loss: 5.756110600195825,Val Loss:0.02459876324870011,Val loss:0.07898281952366233, Val Accuracy: 0.9767\n",
      "[15/20] Train Loss: 5.270721305627376,Val Loss:0.022524450024048615,Val loss:0.08527385655324907, Val Accuracy: 0.9767\n",
      "[16/20] Train Loss: 4.4717237101867795,Val Loss:0.019109930385413587,Val loss:0.08787207568529994, Val Accuracy: 0.9763\n",
      "[17/20] Train Loss: 3.971112069208175,Val Loss:0.016970564398325533,Val loss:0.09152449830435216, Val Accuracy: 0.9762\n",
      "[18/20] Train Loss: 3.349740620004013,Val Loss:0.014315130854718005,Val loss:0.08735147565603256, Val Accuracy: 0.9766\n",
      "[19/20] Train Loss: 2.9187739960616454,Val Loss:0.012473393145562587,Val loss:0.10982949137687684, Val Accuracy: 0.9708\n",
      "[20/20] Train Loss: 2.7247296618297696,Val Loss:0.011644143853973374,Val loss:0.0902187742991373, Val Accuracy: 0.9776\n"
     ]
    }
   ],
   "source": [
    "\n",
    "\n",
    "\n",
    "\n",
    "#학습 => train(훈련) + validation(1 epoch 학습한 모델성능을 검증.)\n",
    "## 에폭별 학습 결과를 저장할 리스트들\n",
    "\n",
    "\n",
    "train_loss_list =[] #train set으로 검증 시의 loss\n",
    "val_loss_list =[] #test set으로 검증 시의 loss\n",
    "val_accuracy_list =[] #test set으로 검증 시의 accuracy(정확도)\n",
    "\n",
    "\n",
    "\n",
    "\n",
    "#Train \n",
    "for epoch in range(N_EPOCH):\n",
    "    #먼저 학습을 한다!\n",
    "    model.train()#모델을 train 모드로 변경한다.\n",
    "    train_loss = 0.0 #현재 epoch의 학습 결과 loss를 저장할 변수.\n",
    "    \n",
    "    \n",
    "    #batch 단위로 학습한다.\n",
    "    for X_train,y_train in train_loader: #batch 단위 (input,output) 튜플로 반환.\n",
    "        #1.x,y를 device로 옮긴다. (model,X,y는 같은 device 상에 위치해야 한다.)\n",
    "        #같은 device 상에 위치하지 않으면 오류가 난다.\n",
    "        X_train,y_train = X_train.to(device),y_train.to(device)\n",
    "        #추론\n",
    "        pred = model(X_train)\n",
    "        \n",
    "        #3.loss 계산\n",
    "        \n",
    "        loss = loss_fn(pred,y_train) #args 순서: (모델예측값, 정답)\n",
    "        \n",
    "        \n",
    "        #4. 모델의 파라미터 업데이트\n",
    "        ## 1.파라미터의 gradient값들을 초기화\n",
    "        optimizer.zero_grad()\n",
    "        #2.gradient 계산 =====> 계산결과는 파라미터. grad 속성에 저장.\n",
    "        loss.backward()\n",
    "        #3.파라미터(weight,bias) 업데이트(파라미터 - 학습률*grad)\n",
    "        optimizer.step()\n",
    "        \n",
    "        \n",
    "        \n",
    "        ###현재 batch의 loss 값을 train_loss 변수에 누적한다.\n",
    "        \n",
    "        train_loss += loss.item() #Tensor -> 파이썬 값\n",
    "    #1epoch 학습 종료\n",
    "    #epoch의 평균 loss를 계산해서 리스트에 저장.(train_loss:step별로 loss를 누적했으므로 평균을 반드시 내 줘야 한다.)\n",
    "    train_loss_list.append(train_loss/len(train_loader))   #step수로 나눈다.\n",
    "    \n",
    "    \n",
    "    \n",
    "    #################################################\n",
    "    # validate(검증) -test set(학습할 때 사용하지 않았던 테스트셋을 이용)\n",
    "    #################################################\n",
    "    \n",
    "    \n",
    "    model.eval() #모델을 검증(평가) 모드로 변환.\n",
    "    ## 현재 epoch에 대한 검증경과를 저장할 변수\n",
    "    val_loss =0.0\n",
    "    val_acc = 0.0\n",
    "    \n",
    "    \n",
    "    #모델 추정을 위한 연산 -forward propagation\n",
    "    ## 검증/평가/서비스 ->gradient 계산이 필요없다. =>  도함수를 계산할 필요가 없다.\n",
    "    \n",
    "    with torch.no_grad():\n",
    "        ## batch 단위로 검증\n",
    "        for X_val, y_val in test_loader:\n",
    "            #1.device로 옮기기\n",
    "            X_val,y_val =X_val.to(device),y_val.to(device)\n",
    "            #2.모델을 이용해 추론\n",
    "            pred_val = model(X_val)\n",
    "            #3.검증\n",
    "            ##1.loss 계산 + val_loss에 누적\n",
    "            val_loss = val_loss + loss_fn(pred_val,y_val).item() #item 함수는 값만 빼오는 것이다.\n",
    "            ##2.정확도(accuarcy):맞은것개수/전체개수\n",
    "            val_acc = val_acc + torch.sum(pred_val.argmax(axis=-1)==y_val).item()\n",
    "            #식을 자세히 보면 충분히 이해가 가는 부분이니, 복습 시간에 이를 잘 파악하도록 하자.\n",
    "    #test set 전체에 대한 검증이 완료 => 현 epoch에 대한 검증 완료\n",
    "    ##  val_loss, val_acc 값을 리스트에 저장한다.\n",
    "    val_loss_list.append(val_loss / len(test_loader)) #loss는 step 수로 나눈다.\n",
    "    val_accuracy_list.append(val_acc/len(test_loader.dataset)) #정확도를 append한다.\n",
    "    \n",
    "    \n",
    "    #현재 epoch train 결과를 출력\n",
    "    print(f\"[{epoch+1:2d}/{N_EPOCH:2d}] Train Loss: {train_loss},Val Loss:{train_loss_list[-1]},Val loss:{val_loss_list[-1]}, Val Accuracy: {val_accuracy_list[-1]}\")\n",
    "\n",
    "\n",
    "\n",
    "\n",
    "\n",
    "#보면 점점 loss가 줄어들고, accuracy가 증가했음을 알 수 있다.\n",
    "#보통은 accuracy가 아닌 loss를 기준으로 성능을 판단한다."
   ]
  },
  {
   "cell_type": "markdown",
   "metadata": {},
   "source": [
    "### 학습 로그 시각화"
   ]
  },
  {
   "cell_type": "code",
   "execution_count": 37,
   "metadata": {
    "scrolled": true
   },
   "outputs": [
    {
     "data": {
      "image/png": "[encoded data removed]",
      "text/plain": [
       "<Figure size 720x360 with 2 Axes>"
      ]
     },
     "metadata": {
      "needs_background": "light"
     },
     "output_type": "display_data"
    }
   ],
   "source": [
    "#epoch 별 loss,accuracy의 변화흐름을 시각화\n",
    "plt.figure(figsize=(10,5))\n",
    "plt.subplot(1,2,1)\n",
    "plt.plot(range(N_EPOCH),train_loss_list,label=\"train\")\n",
    "plt.plot(range(N_EPOCH),val_loss_list,label=\"Validation\")\n",
    "plt.title(\"Loss\")\n",
    "plt.legend() #이것을 통해 train과 validation을 잘 파악한다.\n",
    "\n",
    "plt.subplot(1,2,2)\n",
    "plt.plot(range(N_EPOCH),val_accuracy_list)\n",
    "plt.title(\"Validation accuracy\")\n",
    "\n",
    "\n",
    "plt.tight_layout()\n",
    "plt.show()\n",
    "\n",
    "\n",
    "#근데 보면 학습을 너무 많이 시키면 loss가 미세하게 늘어나는 것을 볼 수 있다."
   ]
  },
  {
   "cell_type": "code",
   "execution_count": 24,
   "metadata": {},
   "outputs": [
    {
     "name": "stdout",
     "output_type": "stream",
     "text": [
      "models\\mnist\\mnist_mlp.pth\n"
     ]
    }
   ],
   "source": [
    "save_path = os.path.join(MODEL_SAVE_PATH,\"mnist\")\n",
    "os.makedirs(save_path,exist_ok=True)\n",
    "\n",
    "\n",
    "save_file_path = os.path.join(save_path,\"mnist_mlp.pth\") #파일을 만듬.\n",
    "print(save_file_path)\n",
    "\n",
    "\n"
   ]
  },
  {
   "cell_type": "code",
   "execution_count": 25,
   "metadata": {},
   "outputs": [],
   "source": [
    "torch.save(model,save_file_path) #파일을 저장. "
   ]
  },
  {
   "cell_type": "markdown",
   "metadata": {},
   "source": [
    "## 학습된 모델 저장 및 불러오기"
   ]
  },
  {
   "cell_type": "code",
   "execution_count": 26,
   "metadata": {},
   "outputs": [
    {
     "data": {
      "text/plain": [
       "MnistModel(\n",
       "  (lr1): Linear(in_features=784, out_features=128, bias=True)\n",
       "  (lr2): Linear(in_features=128, out_features=64, bias=True)\n",
       "  (lr3): Linear(in_features=64, out_features=10, bias=True)\n",
       "  (relu): ReLU()\n",
       ")"
      ]
     },
     "execution_count": 26,
     "metadata": {},
     "output_type": "execute_result"
    }
   ],
   "source": [
    "### 모델 불러오기\n",
    "\n",
    "\n",
    "load_model = torch.load(save_file_path)\n",
    "load_model"
   ]
  },
  {
   "cell_type": "code",
   "execution_count": 27,
   "metadata": {},
   "outputs": [
    {
     "data": {
      "text/plain": [
       "==========================================================================================\n",
       "Layer (type:depth-idx)                   Output Shape              Param #\n",
       "==========================================================================================\n",
       "MnistModel                               [256, 10]                 --\n",
       "├─Linear: 1-1                            [256, 128]                100,480\n",
       "├─ReLU: 1-2                              [256, 128]                --\n",
       "├─Linear: 1-3                            [256, 64]                 8,256\n",
       "├─ReLU: 1-4                              [256, 64]                 --\n",
       "├─Linear: 1-5                            [256, 10]                 650\n",
       "==========================================================================================\n",
       "Total params: 109,386\n",
       "Trainable params: 109,386\n",
       "Non-trainable params: 0\n",
       "Total mult-adds (M): 28.00\n",
       "==========================================================================================\n",
       "Input size (MB): 0.80\n",
       "Forward/backward pass size (MB): 0.41\n",
       "Params size (MB): 0.44\n",
       "Estimated Total Size (MB): 1.65\n",
       "=========================================================================================="
      ]
     },
     "execution_count": 27,
     "metadata": {},
     "output_type": "execute_result"
    }
   ],
   "source": [
    "from torchinfo import summary\n",
    "summary(load_model,(BATCH_SIZE,1,28,28))\n",
    "\n",
    "#잘 학습이 된 것인지 확인하기 위해 summary를 통해 정보를 확인한다.\n",
    "\n",
    "\n"
   ]
  },
  {
   "cell_type": "markdown",
   "metadata": {},
   "source": [
    "## 모델 평가"
   ]
  },
  {
   "cell_type": "code",
   "execution_count": 28,
   "metadata": {},
   "outputs": [
    {
     "name": "stdout",
     "output_type": "stream",
     "text": [
      "Test loss: 0.09755126386880875,Test accuracy: 0.9776\n"
     ]
    }
   ],
   "source": [
    "#device로 옮기기\n",
    "\n",
    "load_model = load_model.to(device)\n",
    "\n",
    "#평가모드 변환\n",
    "load_model.eval()\n",
    "\n",
    "\n",
    "test_loss, test_acc = 0.0,0.0\n",
    "\n",
    "\n",
    "with torch.no_grad():\n",
    "    for X,y in test_loader:\n",
    "        #device 옮기기\n",
    "        X,y = X.to(device),y.to(device)\n",
    "        #추정\n",
    "        pred = load_model(X)\n",
    "        #평가 -loss, accuracy\n",
    "        test_loss += loss_fn(pred,y)\n",
    "        test_acc += torch.sum(pred.argmax(axis=-1)==y).item()\n",
    "    test_loss /= len(test_loader) #step 수로 나누기.\n",
    "    test_acc /= len(test_loader.dataset) #총 데이터수로 나누기.\n",
    "print(f\"Test loss: {test_loss},Test accuracy: {test_acc}\")\n",
    "\n",
    "\n",
    "\n",
    "#'최종 모델의 성과가 이정도 입니다!'라는 것을 알려주는 코드이다."
   ]
  },
  {
   "cell_type": "markdown",
   "metadata": {
    "slideshow": {
     "slide_type": "slide"
    }
   },
   "source": [
    "## 새로운 데이터 추론"
   ]
  },
  {
   "cell_type": "code",
   "execution_count": 29,
   "metadata": {
    "scrolled": true
   },
   "outputs": [
    {
     "name": "stdout",
     "output_type": "stream",
     "text": [
      "Requirement already satisfied: opencv-contrib-python in c:\\users\\user\\anaconda3\\lib\\site-packages (4.8.1.78)\n",
      "Requirement already satisfied: numpy>=1.17.3 in c:\\users\\user\\anaconda3\\lib\\site-packages (from opencv-contrib-python) (1.22.4)\n"
     ]
    }
   ],
   "source": [
    "!pip install opencv-contrib-python\n"
   ]
  },
  {
   "cell_type": "code",
   "execution_count": 30,
   "metadata": {},
   "outputs": [],
   "source": [
    "from glob import glob\n",
    "import cv2"
   ]
  },
  {
   "cell_type": "code",
   "execution_count": 31,
   "metadata": {},
   "outputs": [
    {
     "data": {
      "text/plain": [
       "['test_img/num\\\\eight.png',\n",
       " 'test_img/num\\\\eight2.png',\n",
       " 'test_img/num\\\\five.png',\n",
       " 'test_img/num\\\\four.png',\n",
       " 'test_img/num\\\\one.png',\n",
       " 'test_img/num\\\\seven.png',\n",
       " 'test_img/num\\\\seven2.png',\n",
       " 'test_img/num\\\\three.png',\n",
       " 'test_img/num\\\\three2.png',\n",
       " 'test_img/num\\\\two.png']"
      ]
     },
     "execution_count": 31,
     "metadata": {},
     "output_type": "execute_result"
    }
   ],
   "source": [
    "img_file_list = glob(\"test_img/num/*.png\") #png 경로를 가진 것들을 찾는다.\n",
    "\n",
    "img_file_list"
   ]
  },
  {
   "cell_type": "code",
   "execution_count": 50,
   "metadata": {},
   "outputs": [
    {
     "name": "stdout",
     "output_type": "stream",
     "text": [
      "개수: 10\n"
     ]
    }
   ],
   "source": [
    "file_cnt = len(img_file_list)\n",
    "print(\"개수:\",file_cnt)\n",
    "\n",
    "\n",
    "#개수에 따라 zeros로 tensor를 만든다.\n",
    "input_tensor = torch.zeros((file_cnt,28,28))\n",
    "\n",
    "\n",
    "for i in range(file_cnt):\n",
    "    test_img = cv2.imread(img_file_list[i],cv2.IMREAD_GRAYSCALE)\n",
    "    test_img = cv2.resize(test_img,(28,28))\n",
    "    #ndarray -> torch.tensor로 변환 + 정규화(0~1) ->input_tensor에 추가한다.\n",
    "    input_tensor[i]=transforms.ToTensor()(test_img)\n",
    "    \n",
    "    "
   ]
  },
  {
   "cell_type": "code",
   "execution_count": 54,
   "metadata": {},
   "outputs": [
    {
     "name": "stdout",
     "output_type": "stream",
     "text": [
      "<class 'torch.Tensor'>\n",
      "torch.Size([10, 28, 28])\n",
      "tensor(0.) tensor(1.)\n"
     ]
    }
   ],
   "source": [
    "print(type(input_tensor))\n",
    "print(input_tensor.shape) #28*28짜리가 10개가 있다.\n",
    "print(input_tensor.min(),input_tensor.max())"
   ]
  },
  {
   "cell_type": "code",
   "execution_count": 62,
   "metadata": {},
   "outputs": [
    {
     "name": "stdout",
     "output_type": "stream",
     "text": [
      "torch.Size([10, 10])\n",
      "torch.Size([10, 10]) torch.Size([10, 10])\n"
     ]
    },
    {
     "data": {
      "text/plain": [
       "tensor([[-4.0875e+00, -8.3930e-01,  2.4044e+00, -1.8152e-01, -1.1501e+01,\n",
       "         -2.9924e+00,  3.4025e+00, -1.0995e+01,  8.6212e-01, -1.8572e+01],\n",
       "        [-5.4349e+00, -5.9389e+00, -3.7158e+00,  5.3131e+00, -3.4475e+01,\n",
       "          6.4566e+00,  4.0780e+00, -2.0936e+01, -2.4654e+00, -1.8884e+01],\n",
       "        [-1.4542e+01, -8.8649e+00, -6.9787e+00,  3.6781e+00, -6.3461e+00,\n",
       "          7.7310e+00, -6.0114e+00, -1.0400e+01,  1.9742e+00, -2.4675e+00],\n",
       "        [-3.8474e+00, -9.2019e+00,  1.7933e+00, -8.8632e+00,  3.2349e+00,\n",
       "         -7.5968e+00, -6.0340e+00, -9.4439e-01, -7.9913e+00, -3.5238e-01],\n",
       "        [ 4.0194e-01, -2.9654e-01,  5.6439e-01, -5.2847e+00,  1.2627e+00,\n",
       "         -3.9683e+00,  1.2894e-02, -2.0012e+00,  4.2700e-02, -8.1756e+00],\n",
       "        [-7.9451e+00,  1.4018e-01, -4.6891e+00, -3.0984e+00, -3.8588e+00,\n",
       "         -6.3512e+00, -1.3504e+01,  4.4581e+00, -2.8751e+00,  2.0424e+00],\n",
       "        [-1.5663e+01, -4.3054e+00, -4.7852e-01,  7.5035e+00, -2.1669e+01,\n",
       "         -7.1348e+00, -1.2064e+01, -3.2501e-01, -4.6386e+00, -1.8542e+01],\n",
       "        [-2.4053e+00, -2.2202e+00,  8.9394e-01,  3.5554e+00, -4.4933e+00,\n",
       "         -1.0218e+00, -3.1958e-01, -3.8274e+00, -6.2832e+00, -8.9975e+00],\n",
       "        [-4.9138e+00, -2.4185e+00, -4.5612e+00,  4.5076e+00, -5.9107e+00,\n",
       "          1.8677e-01, -1.8244e+00, -8.0297e+00, -1.1230e+00, -7.6578e+00],\n",
       "        [-1.0714e+01, -7.2661e+00,  7.0442e+00,  4.1279e+00, -2.1143e+01,\n",
       "          8.9931e-01, -1.2880e+01, -9.4964e+00, -5.1540e-01, -9.2389e+00]],\n",
       "       grad_fn=<AddmmBackward0>)"
      ]
     },
     "execution_count": 62,
     "metadata": {},
     "output_type": "execute_result"
    }
   ],
   "source": [
    "#추론\n",
    "\n",
    "load_model.to(device)\n",
    "load_model.eval()\n",
    "\n",
    "\n",
    "\n",
    "input_tensor = input_tensor.to(device)\n",
    "\n",
    "pred_new = load_model(input_tensor)\n",
    "print(pred_new.shape) #10개 데이터에 대한 확률값이 나오는 것이다.\n",
    "\n",
    "\n",
    "pred_new #근데 잘 보면.... 확률값이 마이너스가 나올 수 있나? 거참 궁금하네.... 그래서 pred_proba로 바꾼다.\n",
    "pred_proba = nn.Softmax(dim=-1)(pred_new) #pred_new의 가장 마지막 놈을 softmax로 풀어줘\n",
    "\n",
    "#모델이 예측한 값을 확률로 변환 =>softmax 함수\n",
    "print(pred_new.shape,pred_proba.shape) #pred_proba를 통해 모든 값이 다 확률값으로 바뀐다.\n",
    "pred_new"
   ]
  },
  {
   "cell_type": "code",
   "execution_count": 63,
   "metadata": {},
   "outputs": [
    {
     "data": {
      "text/plain": [
       "tensor([[3.7446e-04, 9.6405e-03, 2.4706e-01, 1.8611e-02, 2.2590e-07, 1.1195e-03,\n",
       "         6.7035e-01, 3.7465e-07, 5.2847e-02, 1.9189e-10],\n",
       "        [4.8514e-06, 2.9309e-06, 2.7069e-05, 2.2578e-01, 1.1854e-18, 7.0844e-01,\n",
       "         6.5656e-02, 8.9954e-13, 9.4517e-05, 6.9962e-12],\n",
       "        [2.0812e-10, 6.0762e-08, 4.0070e-07, 1.7021e-02, 7.5424e-07, 9.7984e-01,\n",
       "         1.0541e-06, 1.3089e-08, 3.0973e-03, 3.6475e-05],\n",
       "        [6.5586e-04, 3.1003e-06, 1.8473e-01, 4.3500e-06, 7.8094e-01, 1.5434e-05,\n",
       "         7.3653e-05, 1.1956e-02, 1.0403e-05, 2.1612e-02],\n",
       "        [1.5335e-01, 7.6265e-02, 1.8039e-01, 5.1999e-04, 3.6265e-01, 1.9395e-03,\n",
       "         1.0392e-01, 1.3868e-02, 1.0707e-01, 2.8873e-05],\n",
       "        [3.7181e-06, 1.2070e-02, 9.6467e-05, 4.7337e-04, 2.2129e-04, 1.8303e-05,\n",
       "         1.4324e-08, 9.0565e-01, 5.9180e-04, 8.0874e-02],\n",
       "        [8.6843e-11, 7.4324e-06, 3.4128e-04, 9.9925e-01, 2.1389e-13, 4.3888e-07,\n",
       "         3.1745e-09, 3.9791e-04, 5.3259e-06, 4.8776e-12],\n",
       "        [2.3276e-03, 2.8010e-03, 6.3061e-02, 9.0289e-01, 2.8849e-04, 9.2850e-03,\n",
       "         1.8739e-02, 5.6144e-04, 4.8170e-05, 3.1914e-06],\n",
       "        [7.9399e-05, 9.6275e-04, 1.1296e-04, 9.8052e-01, 2.9300e-05, 1.3030e-02,\n",
       "         1.7438e-03, 3.5202e-06, 3.5165e-03, 5.1060e-06],\n",
       "        [1.8356e-08, 5.7688e-07, 9.4625e-01, 5.1223e-02, 5.4252e-13, 2.0291e-03,\n",
       "         2.1036e-09, 6.2013e-08, 4.9306e-04, 8.0227e-08]],\n",
       "       grad_fn=<SoftmaxBackward0>)"
      ]
     },
     "execution_count": 63,
     "metadata": {},
     "output_type": "execute_result"
    }
   ],
   "source": [
    "pred_proba #확률값으로 바뀐다."
   ]
  },
  {
   "cell_type": "code",
   "execution_count": 77,
   "metadata": {},
   "outputs": [
    {
     "data": {
      "text/plain": [
       "tensor([0.6703, 0.7084, 0.9798, 0.7809, 0.3626, 0.9057, 0.9992, 0.9029, 0.9805,\n",
       "        0.9463], grad_fn=<MaxBackward0>)"
      ]
     },
     "execution_count": 77,
     "metadata": {},
     "output_type": "execute_result"
    }
   ],
   "source": [
    "pred_label_proba = pred_proba.max(dim=-1).values\n",
    "pred_label_proba#max을 통해 어떤 확률 예측을 했는지 결과가 나온다."
   ]
  },
  {
   "cell_type": "code",
   "execution_count": 85,
   "metadata": {},
   "outputs": [
    {
     "data": {
      "image/png": "[encoded data removed]",
      "text/plain": [
       "<Figure size 1080x504 with 10 Axes>"
      ]
     },
     "metadata": {
      "needs_background": "light"
     },
     "output_type": "display_data"
    }
   ],
   "source": [
    "plt.figure(figsize=(15,7))\n",
    "for i in range(file_cnt):\n",
    "    plt.subplot(3,4,i+1)\n",
    "    plt.imshow(input_tensor[i].to(\"cpu\").numpy(),cmap=\"gray\")\n",
    "    #plt.title(f\"{pred_label[i].item()} - {pred_label_proba[i].item():.2f}\") #이 부분은 에러났는데, 강사님 코드랑 잘 비교하기.\n",
    "    \n",
    "\n",
    "plt.tight_layout() #여백 관련 메소드\n",
    "plt.show()"
   ]
  },
  {
   "cell_type": "code",
   "execution_count": 81,
   "metadata": {},
   "outputs": [],
   "source": [
    "#근데 11개 중에서 7개 정도밖에 맞추지 못했다. 이를 해결하기 위해서는 데이터를 더 모아야 한다. \n",
    "#그리고 이건 tmi인데, 서양놈들이 데이터를 만들었기 때문에 우리나라의 필기체로 숫자를 구분하려 한다면 오류가 많이 나올 수 있다.\n"
   ]
  },
  {
   "cell_type": "code",
   "execution_count": null,
   "metadata": {},
   "outputs": [],
   "source": []
  }
 ],
 "metadata": {
  "kernelspec": {
   "display_name": "Python 3",
   "language": "python",
   "name": "python3"
  },
  "language_info": {
   "codemirror_mode": {
    "name": "ipython",
    "version": 3
   },
   "file_extension": ".py",
   "mimetype": "text/x-python",
   "name": "python",
   "nbconvert_exporter": "python",
   "pygments_lexer": "ipython3",
   "version": "3.8.8"
  },
  "toc": {
   "base_numbering": 1,
   "nav_menu": {},
   "number_sections": false,
   "sideBar": true,
   "skip_h1_title": false,
   "title_cell": "Table of Contents",
   "title_sidebar": "Contents",
   "toc_cell": false,
   "toc_position": {},
   "toc_section_display": true,
   "toc_window_display": false
  },
  "varInspector": {
   "cols": {
    "lenName": 16,
    "lenType": 16,
    "lenVar": 40
   },
   "kernels_config": {
    "python": {
     "delete_cmd_postfix": "",
     "delete_cmd_prefix": "del ",
     "library": "var_list.py",
     "varRefreshCmd": "print(var_dic_list())"
    },
    "r": {
     "delete_cmd_postfix": ") ",
     "delete_cmd_prefix": "rm(",
     "library": "var_list.r",
     "varRefreshCmd": "cat(var_dic_list()) "
    }
   },
   "position": {
    "height": "347.844px",
    "left": "1891px",
    "right": "20px",
    "top": "361px",
    "width": "486px"
   },
   "types_to_exclude": [
    "module",
    "function",
    "builtin_function_or_method",
    "instance",
    "_Feature"
   ],
   "window_display": false
  }
 },
 "nbformat": 4,
 "nbformat_minor": 4
}
