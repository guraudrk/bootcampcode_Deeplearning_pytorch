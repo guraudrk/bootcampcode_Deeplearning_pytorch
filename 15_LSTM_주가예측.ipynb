{
 "cells": [
  {
   "cell_type": "markdown",
   "id": "92933e86-724b-4568-a2ea-8951db5fee6e",
   "metadata": {},
   "source": [
    "# 삼성전자 주가 데이터 다운로드\n",
    "- Yahoo Finance 에서 주가 데이터 다운로드 (https://finance.yahoo.com/)\n",
    "    - 검색 키워드 '005930.KS' 입력\n",
    "- 검색 후 Historical Data 선택\n",
    "\n",
    "![yahoo finance](figures/rnn/21_yahoo_stock1.png)"
   ]
  },
  {
   "cell_type": "markdown",
   "id": "59ac250f-e525-49b6-93bd-a1e361d27224",
   "metadata": {},
   "source": [
    "- `Start Date: 2000년 1월 4일 End Date: 오늘날짜` 선택\n",
    "- Apply 클릭 후 다운로드\n",
    "![yahoo finance](figures/rnn/22_yahoo_stock2.png)"
   ]
  },
  {
   "cell_type": "code",
   "execution_count": 1,
   "id": "e8862e3a-6cb1-44f0-a7c0-fd62fd73352b",
   "metadata": {},
   "outputs": [
    {
     "data": {
      "text/plain": [
       "'cpu'"
      ]
     },
     "execution_count": 1,
     "metadata": {},
     "output_type": "execute_result"
    }
   ],
   "source": [
    "import os\n",
    "import time\n",
    "\n",
    "import numpy as np\n",
    "import pandas as pd\n",
    "import matplotlib.pyplot as plt\n",
    "\n",
    "import torch\n",
    "import torch.nn as nn\n",
    "from torch.utils.data import TensorDataset, DataLoader\n",
    "import torchinfo\n",
    "\n",
    "from sklearn.preprocessing import MinMaxScaler, StandardScaler\n",
    "from sklearn.model_selection import train_test_split  \n",
    "\n",
    "device = 'cuda' if torch.cuda.is_available() else 'cpu'\n",
    "device"
   ]
  },
  {
   "cell_type": "code",
   "execution_count": 2,
   "id": "2751f99f-94b2-44e1-99b2-5b020de7c22a",
   "metadata": {},
   "outputs": [],
   "source": [
    "#data loading + EDA\n",
    "\n",
    "df = pd.read_csv(\"datasets/005930.KS.csv\")"
   ]
  },
  {
   "cell_type": "code",
   "execution_count": 3,
   "id": "cecf42bc-1859-40df-a815-54653a562f76",
   "metadata": {},
   "outputs": [
    {
     "name": "stdout",
     "output_type": "stream",
     "text": [
      "<class 'pandas.core.frame.DataFrame'>\n",
      "RangeIndex: 5977 entries, 0 to 5976\n",
      "Data columns (total 7 columns):\n",
      " #   Column     Non-Null Count  Dtype  \n",
      "---  ------     --------------  -----  \n",
      " 0   Date       5977 non-null   object \n",
      " 1   Open       5977 non-null   float64\n",
      " 2   High       5977 non-null   float64\n",
      " 3   Low        5977 non-null   float64\n",
      " 4   Close      5977 non-null   float64\n",
      " 5   Adj Close  5977 non-null   float64\n",
      " 6   Volume     5977 non-null   int64  \n",
      "dtypes: float64(5), int64(1), object(1)\n",
      "memory usage: 327.0+ KB\n"
     ]
    }
   ],
   "source": [
    "df.info()"
   ]
  },
  {
   "cell_type": "code",
   "execution_count": 4,
   "id": "ca62c66b-b4ec-4075-a332-e0c712716170",
   "metadata": {
    "scrolled": true
   },
   "outputs": [
    {
     "data": {
      "text/html": [
       "<div>\n",
       "<style scoped>\n",
       "    .dataframe tbody tr th:only-of-type {\n",
       "        vertical-align: middle;\n",
       "    }\n",
       "\n",
       "    .dataframe tbody tr th {\n",
       "        vertical-align: top;\n",
       "    }\n",
       "\n",
       "    .dataframe thead th {\n",
       "        text-align: right;\n",
       "    }\n",
       "</style>\n",
       "<table border=\"1\" class=\"dataframe\">\n",
       "  <thead>\n",
       "    <tr style=\"text-align: right;\">\n",
       "      <th></th>\n",
       "      <th>Date</th>\n",
       "      <th>Open</th>\n",
       "      <th>High</th>\n",
       "      <th>Low</th>\n",
       "      <th>Close</th>\n",
       "      <th>Adj Close</th>\n",
       "      <th>Volume</th>\n",
       "    </tr>\n",
       "  </thead>\n",
       "  <tbody>\n",
       "    <tr>\n",
       "      <th>0</th>\n",
       "      <td>2000-01-04</td>\n",
       "      <td>6000.0</td>\n",
       "      <td>6110.0</td>\n",
       "      <td>5660.0</td>\n",
       "      <td>6110.0</td>\n",
       "      <td>4514.582031</td>\n",
       "      <td>74195000</td>\n",
       "    </tr>\n",
       "    <tr>\n",
       "      <th>1</th>\n",
       "      <td>2000-01-05</td>\n",
       "      <td>5800.0</td>\n",
       "      <td>6060.0</td>\n",
       "      <td>5520.0</td>\n",
       "      <td>5580.0</td>\n",
       "      <td>4122.971680</td>\n",
       "      <td>74680000</td>\n",
       "    </tr>\n",
       "    <tr>\n",
       "      <th>2</th>\n",
       "      <td>2000-01-06</td>\n",
       "      <td>5750.0</td>\n",
       "      <td>5780.0</td>\n",
       "      <td>5580.0</td>\n",
       "      <td>5620.0</td>\n",
       "      <td>4152.528320</td>\n",
       "      <td>54390000</td>\n",
       "    </tr>\n",
       "    <tr>\n",
       "      <th>3</th>\n",
       "      <td>2000-01-07</td>\n",
       "      <td>5560.0</td>\n",
       "      <td>5670.0</td>\n",
       "      <td>5360.0</td>\n",
       "      <td>5540.0</td>\n",
       "      <td>4093.417480</td>\n",
       "      <td>40305000</td>\n",
       "    </tr>\n",
       "    <tr>\n",
       "      <th>4</th>\n",
       "      <td>2000-01-10</td>\n",
       "      <td>5600.0</td>\n",
       "      <td>5770.0</td>\n",
       "      <td>5580.0</td>\n",
       "      <td>5770.0</td>\n",
       "      <td>4263.360352</td>\n",
       "      <td>46880000</td>\n",
       "    </tr>\n",
       "  </tbody>\n",
       "</table>\n",
       "</div>"
      ],
      "text/plain": [
       "         Date    Open    High     Low   Close    Adj Close    Volume\n",
       "0  2000-01-04  6000.0  6110.0  5660.0  6110.0  4514.582031  74195000\n",
       "1  2000-01-05  5800.0  6060.0  5520.0  5580.0  4122.971680  74680000\n",
       "2  2000-01-06  5750.0  5780.0  5580.0  5620.0  4152.528320  54390000\n",
       "3  2000-01-07  5560.0  5670.0  5360.0  5540.0  4093.417480  40305000\n",
       "4  2000-01-10  5600.0  5770.0  5580.0  5770.0  4263.360352  46880000"
      ]
     },
     "execution_count": 4,
     "metadata": {},
     "output_type": "execute_result"
    }
   ],
   "source": [
    "df.head()"
   ]
  },
  {
   "cell_type": "code",
   "execution_count": 16,
   "id": "9d9ba0ad",
   "metadata": {},
   "outputs": [],
   "source": [
    "#Date => datetime 타입으로 변경 -> index 변환.\n",
    "## 시계열 데이터는 (행) index로 일시를 가지도록 구성.\n",
    "\n",
    "#이렇게 바꾸는 것에 익숙해 져야 한다!\n",
    "df['Date']=pd.to_datetime(df['Date'])\n",
    "df.set_index(\"Date\",inplace=True)\n"
   ]
  },
  {
   "cell_type": "code",
   "execution_count": 17,
   "id": "08b0d21b",
   "metadata": {},
   "outputs": [
    {
     "data": {
      "text/plain": [
       "Open         0\n",
       "High         0\n",
       "Low          0\n",
       "Close        0\n",
       "Adj Close    0\n",
       "Volume       0\n",
       "dtype: int64"
      ]
     },
     "execution_count": 17,
     "metadata": {},
     "output_type": "execute_result"
    }
   ],
   "source": [
    "#결측치 확인\n",
    "\n",
    "df.isnull().sum()"
   ]
  },
  {
   "cell_type": "code",
   "execution_count": 18,
   "id": "bd55ee6c",
   "metadata": {},
   "outputs": [
    {
     "data": {
      "image/png": "[encoded data removed]",
      "text/plain": [
       "<Figure size 1440x360 with 1 Axes>"
      ]
     },
     "metadata": {
      "needs_background": "light"
     },
     "output_type": "display_data"
    }
   ],
   "source": [
    "## 시가, 종가의 흐름을 선그래프로 보기\n",
    "\n",
    "\n",
    "#두 개의 선을 한 그래프에 같이 그리는 코드.\n",
    "#alpha는 투명도를 정하는 것이다. 투명도를 정해서, 비슷비슷한 놈들을 더 잘 보이게 하자.\n",
    "\n",
    "\n",
    "df[['Open','Close']].plot(figsize=(20,5),alpha=0.5);"
   ]
  },
  {
   "cell_type": "code",
   "execution_count": 19,
   "id": "3d10b6d4",
   "metadata": {},
   "outputs": [
    {
     "data": {
      "text/plain": [
       "<AxesSubplot:xlabel='Date'>"
      ]
     },
     "execution_count": 19,
     "metadata": {},
     "output_type": "execute_result"
    },
    {
     "data": {
      "image/png": "[encoded data removed]",
      "text/plain": [
       "<Figure size 1440x360 with 1 Axes>"
      ]
     },
     "metadata": {
      "needs_background": "light"
     },
     "output_type": "display_data"
    }
   ],
   "source": [
    "#약간 다르게 해볼까?\n",
    "\n",
    "df[['Open','Close']][0:50].plot(figsize=(20,5),alpha=0.5,marker='.')"
   ]
  },
  {
   "cell_type": "markdown",
   "id": "7ae6a470-fc85-43c4-aa31-ffa22f3eb94c",
   "metadata": {},
   "source": [
    "###  Sequential Data  구성\n",
    "- X: 50일치 데이터(ex:1일 ~ 50일), y: 51일째 주가. (ex: 51일)\n",
    "    - 50일의 연속된 주식데이터를 학습하여 51일째 주가를 예측한다.\n",
    "    - X의 한개의 데이터가 50일치 주가데이터가 된다."
   ]
  },
  {
   "cell_type": "markdown",
   "id": "d0f7da27-56d2-464f-b1ce-ae0a26259caf",
   "metadata": {},
   "source": [
    "![img](figures/rnn/20_stock_dataset.png)\n",
    "\n",
    "[연속된 날짜가 5인 경우]"
   ]
  },
  {
   "cell_type": "markdown",
   "id": "e0e86f6e",
   "metadata": {},
   "source": [
    "# X와 Y를 만들기\n",
    "\n",
    "- X (input) feature 구성: Open,High,Low,Close,Adj Close, Volumn\n",
    "- y (output): Close\n"
   ]
  },
  {
   "cell_type": "code",
   "execution_count": 22,
   "id": "03652d88-0696-400b-ae66-b5be48aeb2b9",
   "metadata": {},
   "outputs": [
    {
     "data": {
      "text/plain": [
       "((5977, 6), (5977, 1))"
      ]
     },
     "execution_count": 22,
     "metadata": {},
     "output_type": "execute_result"
    }
   ],
   "source": [
    "y= df['Close'].to_frame() #(총 데이터수,1)\n",
    "X = df\n",
    "\n",
    "X.shape, y.shape"
   ]
  },
  {
   "cell_type": "code",
   "execution_count": 23,
   "id": "7f4ff4da-2e51-4b6c-8cbf-60b752c560c7",
   "metadata": {},
   "outputs": [
    {
     "data": {
      "text/html": [
       "<div>\n",
       "<style scoped>\n",
       "    .dataframe tbody tr th:only-of-type {\n",
       "        vertical-align: middle;\n",
       "    }\n",
       "\n",
       "    .dataframe tbody tr th {\n",
       "        vertical-align: top;\n",
       "    }\n",
       "\n",
       "    .dataframe thead th {\n",
       "        text-align: right;\n",
       "    }\n",
       "</style>\n",
       "<table border=\"1\" class=\"dataframe\">\n",
       "  <thead>\n",
       "    <tr style=\"text-align: right;\">\n",
       "      <th></th>\n",
       "      <th>Open</th>\n",
       "      <th>High</th>\n",
       "      <th>Low</th>\n",
       "      <th>Close</th>\n",
       "      <th>Adj Close</th>\n",
       "      <th>Volume</th>\n",
       "    </tr>\n",
       "    <tr>\n",
       "      <th>Date</th>\n",
       "      <th></th>\n",
       "      <th></th>\n",
       "      <th></th>\n",
       "      <th></th>\n",
       "      <th></th>\n",
       "      <th></th>\n",
       "    </tr>\n",
       "  </thead>\n",
       "  <tbody>\n",
       "    <tr>\n",
       "      <th>2000-01-04</th>\n",
       "      <td>6000.0</td>\n",
       "      <td>6110.0</td>\n",
       "      <td>5660.0</td>\n",
       "      <td>6110.0</td>\n",
       "      <td>4514.582031</td>\n",
       "      <td>74195000</td>\n",
       "    </tr>\n",
       "    <tr>\n",
       "      <th>2000-01-05</th>\n",
       "      <td>5800.0</td>\n",
       "      <td>6060.0</td>\n",
       "      <td>5520.0</td>\n",
       "      <td>5580.0</td>\n",
       "      <td>4122.971680</td>\n",
       "      <td>74680000</td>\n",
       "    </tr>\n",
       "    <tr>\n",
       "      <th>2000-01-06</th>\n",
       "      <td>5750.0</td>\n",
       "      <td>5780.0</td>\n",
       "      <td>5580.0</td>\n",
       "      <td>5620.0</td>\n",
       "      <td>4152.528320</td>\n",
       "      <td>54390000</td>\n",
       "    </tr>\n",
       "    <tr>\n",
       "      <th>2000-01-07</th>\n",
       "      <td>5560.0</td>\n",
       "      <td>5670.0</td>\n",
       "      <td>5360.0</td>\n",
       "      <td>5540.0</td>\n",
       "      <td>4093.417480</td>\n",
       "      <td>40305000</td>\n",
       "    </tr>\n",
       "    <tr>\n",
       "      <th>2000-01-10</th>\n",
       "      <td>5600.0</td>\n",
       "      <td>5770.0</td>\n",
       "      <td>5580.0</td>\n",
       "      <td>5770.0</td>\n",
       "      <td>4263.360352</td>\n",
       "      <td>46880000</td>\n",
       "    </tr>\n",
       "  </tbody>\n",
       "</table>\n",
       "</div>"
      ],
      "text/plain": [
       "              Open    High     Low   Close    Adj Close    Volume\n",
       "Date                                                             \n",
       "2000-01-04  6000.0  6110.0  5660.0  6110.0  4514.582031  74195000\n",
       "2000-01-05  5800.0  6060.0  5520.0  5580.0  4122.971680  74680000\n",
       "2000-01-06  5750.0  5780.0  5580.0  5620.0  4152.528320  54390000\n",
       "2000-01-07  5560.0  5670.0  5360.0  5540.0  4093.417480  40305000\n",
       "2000-01-10  5600.0  5770.0  5580.0  5770.0  4263.360352  46880000"
      ]
     },
     "execution_count": 23,
     "metadata": {},
     "output_type": "execute_result"
    }
   ],
   "source": [
    "X.head()"
   ]
  },
  {
   "cell_type": "markdown",
   "id": "56efa584",
   "metadata": {},
   "source": [
    "## 전처리"
   ]
  },
  {
   "cell_type": "code",
   "execution_count": 24,
   "id": "d97233c6",
   "metadata": {},
   "outputs": [],
   "source": [
    "#전처리는 feature 간의 scaling을 맞추는 작업이다.\n",
    "#한마디로 정규분포와 비스무레하게 데이터를 맞추는 것이다.\n",
    "\n",
    "#X : Standard Scaling (평균:0, 표준편차:1)\n",
    "#y : MinMax Scaling (최소:0, 최대:1) => X의 scale과 비슷한 값으로 변환한다.\n",
    "\n"
   ]
  },
  {
   "cell_type": "code",
   "execution_count": 28,
   "id": "d3a235c2",
   "metadata": {},
   "outputs": [],
   "source": [
    "#연속된 날짜가 5인 경우\n",
    "\n",
    "timestep = 50 #seq length\n",
    "\n",
    "data_X = [] #데이터를 모을 리스트. x:(50,6)\n",
    "data_y = [] #y값을 모을 리스트\n",
    "\n",
    "\n",
    "#데이터를 처리해준다.\n",
    "for i in range(0,y.size - timestep): \n",
    "    #총 개수 - seq_length: 이 이후 반복시에는 남은 데이터가 51개가 안되어서 데이터 구성이 안된다.\n",
    "    # X: 0~50,y:50 (1씩 증가)\n",
    "    _X = X[i:i+timestep]\n",
    "    _y = y[i:i+timestep]\n",
    "    data_X.append(_X)\n",
    "    data_y.append(_y)\n",
    "    "
   ]
  },
  {
   "cell_type": "code",
   "execution_count": 30,
   "id": "b5d11885",
   "metadata": {},
   "outputs": [],
   "source": [
    "np.set_printoptions(linewidth=np.inf) #한줄에 n개 원소를 출력한다."
   ]
  },
  {
   "cell_type": "code",
   "execution_count": 31,
   "id": "ae11ec91",
   "metadata": {},
   "outputs": [
    {
     "data": {
      "text/html": [
       "<div>\n",
       "<style scoped>\n",
       "    .dataframe tbody tr th:only-of-type {\n",
       "        vertical-align: middle;\n",
       "    }\n",
       "\n",
       "    .dataframe tbody tr th {\n",
       "        vertical-align: top;\n",
       "    }\n",
       "\n",
       "    .dataframe thead th {\n",
       "        text-align: right;\n",
       "    }\n",
       "</style>\n",
       "<table border=\"1\" class=\"dataframe\">\n",
       "  <thead>\n",
       "    <tr style=\"text-align: right;\">\n",
       "      <th></th>\n",
       "      <th>Open</th>\n",
       "      <th>High</th>\n",
       "      <th>Low</th>\n",
       "      <th>Close</th>\n",
       "      <th>Adj Close</th>\n",
       "      <th>Volume</th>\n",
       "    </tr>\n",
       "    <tr>\n",
       "      <th>Date</th>\n",
       "      <th></th>\n",
       "      <th></th>\n",
       "      <th></th>\n",
       "      <th></th>\n",
       "      <th></th>\n",
       "      <th></th>\n",
       "    </tr>\n",
       "  </thead>\n",
       "  <tbody>\n",
       "    <tr>\n",
       "      <th>2000-01-04</th>\n",
       "      <td>6000.0</td>\n",
       "      <td>6110.0</td>\n",
       "      <td>5660.0</td>\n",
       "      <td>6110.0</td>\n",
       "      <td>4514.582031</td>\n",
       "      <td>74195000</td>\n",
       "    </tr>\n",
       "    <tr>\n",
       "      <th>2000-01-05</th>\n",
       "      <td>5800.0</td>\n",
       "      <td>6060.0</td>\n",
       "      <td>5520.0</td>\n",
       "      <td>5580.0</td>\n",
       "      <td>4122.971680</td>\n",
       "      <td>74680000</td>\n",
       "    </tr>\n",
       "    <tr>\n",
       "      <th>2000-01-06</th>\n",
       "      <td>5750.0</td>\n",
       "      <td>5780.0</td>\n",
       "      <td>5580.0</td>\n",
       "      <td>5620.0</td>\n",
       "      <td>4152.528320</td>\n",
       "      <td>54390000</td>\n",
       "    </tr>\n",
       "    <tr>\n",
       "      <th>2000-01-07</th>\n",
       "      <td>5560.0</td>\n",
       "      <td>5670.0</td>\n",
       "      <td>5360.0</td>\n",
       "      <td>5540.0</td>\n",
       "      <td>4093.417480</td>\n",
       "      <td>40305000</td>\n",
       "    </tr>\n",
       "    <tr>\n",
       "      <th>2000-01-10</th>\n",
       "      <td>5600.0</td>\n",
       "      <td>5770.0</td>\n",
       "      <td>5580.0</td>\n",
       "      <td>5770.0</td>\n",
       "      <td>4263.360352</td>\n",
       "      <td>46880000</td>\n",
       "    </tr>\n",
       "    <tr>\n",
       "      <th>2000-01-11</th>\n",
       "      <td>5820.0</td>\n",
       "      <td>6100.0</td>\n",
       "      <td>5770.0</td>\n",
       "      <td>5770.0</td>\n",
       "      <td>4263.360352</td>\n",
       "      <td>59745000</td>\n",
       "    </tr>\n",
       "    <tr>\n",
       "      <th>2000-01-12</th>\n",
       "      <td>5610.0</td>\n",
       "      <td>5740.0</td>\n",
       "      <td>5600.0</td>\n",
       "      <td>5720.0</td>\n",
       "      <td>4226.416016</td>\n",
       "      <td>29220000</td>\n",
       "    </tr>\n",
       "    <tr>\n",
       "      <th>2000-01-13</th>\n",
       "      <td>5600.0</td>\n",
       "      <td>5740.0</td>\n",
       "      <td>5560.0</td>\n",
       "      <td>5710.0</td>\n",
       "      <td>4219.027832</td>\n",
       "      <td>41190000</td>\n",
       "    </tr>\n",
       "    <tr>\n",
       "      <th>2000-01-14</th>\n",
       "      <td>5720.0</td>\n",
       "      <td>5880.0</td>\n",
       "      <td>5680.0</td>\n",
       "      <td>5830.0</td>\n",
       "      <td>4307.693359</td>\n",
       "      <td>49375000</td>\n",
       "    </tr>\n",
       "    <tr>\n",
       "      <th>2000-01-17</th>\n",
       "      <td>6000.0</td>\n",
       "      <td>6180.0</td>\n",
       "      <td>5920.0</td>\n",
       "      <td>6100.0</td>\n",
       "      <td>4507.191895</td>\n",
       "      <td>63505000</td>\n",
       "    </tr>\n",
       "    <tr>\n",
       "      <th>2000-01-18</th>\n",
       "      <td>6160.0</td>\n",
       "      <td>6160.0</td>\n",
       "      <td>5980.0</td>\n",
       "      <td>6100.0</td>\n",
       "      <td>4507.191895</td>\n",
       "      <td>45260000</td>\n",
       "    </tr>\n",
       "    <tr>\n",
       "      <th>2000-01-19</th>\n",
       "      <td>6000.0</td>\n",
       "      <td>6040.0</td>\n",
       "      <td>5960.0</td>\n",
       "      <td>5960.0</td>\n",
       "      <td>4403.747559</td>\n",
       "      <td>40205000</td>\n",
       "    </tr>\n",
       "    <tr>\n",
       "      <th>2000-01-20</th>\n",
       "      <td>5860.0</td>\n",
       "      <td>6040.0</td>\n",
       "      <td>5820.0</td>\n",
       "      <td>6040.0</td>\n",
       "      <td>4462.858887</td>\n",
       "      <td>37315000</td>\n",
       "    </tr>\n",
       "    <tr>\n",
       "      <th>2000-01-21</th>\n",
       "      <td>5950.0</td>\n",
       "      <td>5980.0</td>\n",
       "      <td>5880.0</td>\n",
       "      <td>5880.0</td>\n",
       "      <td>4344.637207</td>\n",
       "      <td>32535000</td>\n",
       "    </tr>\n",
       "    <tr>\n",
       "      <th>2000-01-24</th>\n",
       "      <td>5800.0</td>\n",
       "      <td>5900.0</td>\n",
       "      <td>5700.0</td>\n",
       "      <td>5700.0</td>\n",
       "      <td>4211.638672</td>\n",
       "      <td>34355000</td>\n",
       "    </tr>\n",
       "    <tr>\n",
       "      <th>2000-01-25</th>\n",
       "      <td>5520.0</td>\n",
       "      <td>5640.0</td>\n",
       "      <td>5440.0</td>\n",
       "      <td>5440.0</td>\n",
       "      <td>4019.529541</td>\n",
       "      <td>44250000</td>\n",
       "    </tr>\n",
       "    <tr>\n",
       "      <th>2000-01-26</th>\n",
       "      <td>5500.0</td>\n",
       "      <td>5520.0</td>\n",
       "      <td>5410.0</td>\n",
       "      <td>5480.0</td>\n",
       "      <td>4049.083984</td>\n",
       "      <td>29285000</td>\n",
       "    </tr>\n",
       "    <tr>\n",
       "      <th>2000-01-27</th>\n",
       "      <td>5480.0</td>\n",
       "      <td>5620.0</td>\n",
       "      <td>5430.0</td>\n",
       "      <td>5520.0</td>\n",
       "      <td>4078.639648</td>\n",
       "      <td>27900000</td>\n",
       "    </tr>\n",
       "    <tr>\n",
       "      <th>2000-01-28</th>\n",
       "      <td>5640.0</td>\n",
       "      <td>5880.0</td>\n",
       "      <td>5540.0</td>\n",
       "      <td>5820.0</td>\n",
       "      <td>4300.304688</td>\n",
       "      <td>38315000</td>\n",
       "    </tr>\n",
       "    <tr>\n",
       "      <th>2000-01-31</th>\n",
       "      <td>5640.0</td>\n",
       "      <td>5730.0</td>\n",
       "      <td>5560.0</td>\n",
       "      <td>5580.0</td>\n",
       "      <td>4122.971680</td>\n",
       "      <td>39630000</td>\n",
       "    </tr>\n",
       "    <tr>\n",
       "      <th>2000-02-01</th>\n",
       "      <td>5600.0</td>\n",
       "      <td>5680.0</td>\n",
       "      <td>5260.0</td>\n",
       "      <td>5320.0</td>\n",
       "      <td>3930.862793</td>\n",
       "      <td>71470000</td>\n",
       "    </tr>\n",
       "    <tr>\n",
       "      <th>2000-02-02</th>\n",
       "      <td>5220.0</td>\n",
       "      <td>5370.0</td>\n",
       "      <td>5110.0</td>\n",
       "      <td>5250.0</td>\n",
       "      <td>3879.140625</td>\n",
       "      <td>64105000</td>\n",
       "    </tr>\n",
       "    <tr>\n",
       "      <th>2000-02-03</th>\n",
       "      <td>5250.0</td>\n",
       "      <td>5460.0</td>\n",
       "      <td>4970.0</td>\n",
       "      <td>5130.0</td>\n",
       "      <td>3790.474609</td>\n",
       "      <td>142765000</td>\n",
       "    </tr>\n",
       "    <tr>\n",
       "      <th>2000-02-04</th>\n",
       "      <td>5130.0</td>\n",
       "      <td>5130.0</td>\n",
       "      <td>5130.0</td>\n",
       "      <td>5130.0</td>\n",
       "      <td>3790.474609</td>\n",
       "      <td>0</td>\n",
       "    </tr>\n",
       "    <tr>\n",
       "      <th>2000-02-07</th>\n",
       "      <td>5140.0</td>\n",
       "      <td>5330.0</td>\n",
       "      <td>5040.0</td>\n",
       "      <td>5240.0</td>\n",
       "      <td>3871.752930</td>\n",
       "      <td>64140000</td>\n",
       "    </tr>\n",
       "    <tr>\n",
       "      <th>2000-02-08</th>\n",
       "      <td>5340.0</td>\n",
       "      <td>5480.0</td>\n",
       "      <td>5310.0</td>\n",
       "      <td>5430.0</td>\n",
       "      <td>4012.141602</td>\n",
       "      <td>58460000</td>\n",
       "    </tr>\n",
       "    <tr>\n",
       "      <th>2000-02-09</th>\n",
       "      <td>5560.0</td>\n",
       "      <td>5720.0</td>\n",
       "      <td>5480.0</td>\n",
       "      <td>5720.0</td>\n",
       "      <td>4226.416016</td>\n",
       "      <td>51050000</td>\n",
       "    </tr>\n",
       "    <tr>\n",
       "      <th>2000-02-10</th>\n",
       "      <td>5660.0</td>\n",
       "      <td>5880.0</td>\n",
       "      <td>5600.0</td>\n",
       "      <td>5760.0</td>\n",
       "      <td>4255.971191</td>\n",
       "      <td>61845000</td>\n",
       "    </tr>\n",
       "    <tr>\n",
       "      <th>2000-02-11</th>\n",
       "      <td>5960.0</td>\n",
       "      <td>5960.0</td>\n",
       "      <td>5680.0</td>\n",
       "      <td>5700.0</td>\n",
       "      <td>4211.638672</td>\n",
       "      <td>34660000</td>\n",
       "    </tr>\n",
       "    <tr>\n",
       "      <th>2000-02-14</th>\n",
       "      <td>5600.0</td>\n",
       "      <td>5660.0</td>\n",
       "      <td>5340.0</td>\n",
       "      <td>5380.0</td>\n",
       "      <td>3975.195068</td>\n",
       "      <td>44140000</td>\n",
       "    </tr>\n",
       "    <tr>\n",
       "      <th>2000-02-15</th>\n",
       "      <td>5380.0</td>\n",
       "      <td>5420.0</td>\n",
       "      <td>5140.0</td>\n",
       "      <td>5200.0</td>\n",
       "      <td>3842.198242</td>\n",
       "      <td>38315000</td>\n",
       "    </tr>\n",
       "    <tr>\n",
       "      <th>2000-02-16</th>\n",
       "      <td>5180.0</td>\n",
       "      <td>5200.0</td>\n",
       "      <td>4780.0</td>\n",
       "      <td>5000.0</td>\n",
       "      <td>3694.419678</td>\n",
       "      <td>73115000</td>\n",
       "    </tr>\n",
       "    <tr>\n",
       "      <th>2000-02-17</th>\n",
       "      <td>4940.0</td>\n",
       "      <td>5100.0</td>\n",
       "      <td>4910.0</td>\n",
       "      <td>5080.0</td>\n",
       "      <td>3753.529541</td>\n",
       "      <td>65185000</td>\n",
       "    </tr>\n",
       "    <tr>\n",
       "      <th>2000-02-18</th>\n",
       "      <td>5370.0</td>\n",
       "      <td>5630.0</td>\n",
       "      <td>5160.0</td>\n",
       "      <td>5300.0</td>\n",
       "      <td>3916.084961</td>\n",
       "      <td>108750000</td>\n",
       "    </tr>\n",
       "    <tr>\n",
       "      <th>2000-02-21</th>\n",
       "      <td>5200.0</td>\n",
       "      <td>5260.0</td>\n",
       "      <td>5030.0</td>\n",
       "      <td>5070.0</td>\n",
       "      <td>3746.141357</td>\n",
       "      <td>26485000</td>\n",
       "    </tr>\n",
       "    <tr>\n",
       "      <th>2000-02-22</th>\n",
       "      <td>5000.0</td>\n",
       "      <td>5240.0</td>\n",
       "      <td>5000.0</td>\n",
       "      <td>5120.0</td>\n",
       "      <td>3783.085205</td>\n",
       "      <td>24180000</td>\n",
       "    </tr>\n",
       "    <tr>\n",
       "      <th>2000-02-23</th>\n",
       "      <td>5220.0</td>\n",
       "      <td>5260.0</td>\n",
       "      <td>5100.0</td>\n",
       "      <td>5140.0</td>\n",
       "      <td>3797.864502</td>\n",
       "      <td>27720000</td>\n",
       "    </tr>\n",
       "    <tr>\n",
       "      <th>2000-02-24</th>\n",
       "      <td>5120.0</td>\n",
       "      <td>5240.0</td>\n",
       "      <td>5060.0</td>\n",
       "      <td>5070.0</td>\n",
       "      <td>3746.141357</td>\n",
       "      <td>26075000</td>\n",
       "    </tr>\n",
       "    <tr>\n",
       "      <th>2000-02-25</th>\n",
       "      <td>5080.0</td>\n",
       "      <td>5150.0</td>\n",
       "      <td>4980.0</td>\n",
       "      <td>5120.0</td>\n",
       "      <td>3783.085205</td>\n",
       "      <td>27875000</td>\n",
       "    </tr>\n",
       "    <tr>\n",
       "      <th>2000-02-28</th>\n",
       "      <td>5000.0</td>\n",
       "      <td>5050.0</td>\n",
       "      <td>4800.0</td>\n",
       "      <td>4800.0</td>\n",
       "      <td>3546.642334</td>\n",
       "      <td>30140000</td>\n",
       "    </tr>\n",
       "    <tr>\n",
       "      <th>2000-02-29</th>\n",
       "      <td>4900.0</td>\n",
       "      <td>5140.0</td>\n",
       "      <td>4840.0</td>\n",
       "      <td>5120.0</td>\n",
       "      <td>3783.085205</td>\n",
       "      <td>51820000</td>\n",
       "    </tr>\n",
       "    <tr>\n",
       "      <th>2000-03-01</th>\n",
       "      <td>5120.0</td>\n",
       "      <td>5120.0</td>\n",
       "      <td>5120.0</td>\n",
       "      <td>5120.0</td>\n",
       "      <td>3783.085205</td>\n",
       "      <td>0</td>\n",
       "    </tr>\n",
       "    <tr>\n",
       "      <th>2000-03-02</th>\n",
       "      <td>5880.0</td>\n",
       "      <td>5880.0</td>\n",
       "      <td>5520.0</td>\n",
       "      <td>5880.0</td>\n",
       "      <td>4344.637207</td>\n",
       "      <td>117750000</td>\n",
       "    </tr>\n",
       "    <tr>\n",
       "      <th>2000-03-03</th>\n",
       "      <td>6200.0</td>\n",
       "      <td>6250.0</td>\n",
       "      <td>5880.0</td>\n",
       "      <td>6000.0</td>\n",
       "      <td>4433.304199</td>\n",
       "      <td>140990000</td>\n",
       "    </tr>\n",
       "    <tr>\n",
       "      <th>2000-03-06</th>\n",
       "      <td>6000.0</td>\n",
       "      <td>6050.0</td>\n",
       "      <td>5600.0</td>\n",
       "      <td>5640.0</td>\n",
       "      <td>4167.305176</td>\n",
       "      <td>39150000</td>\n",
       "    </tr>\n",
       "    <tr>\n",
       "      <th>2000-03-07</th>\n",
       "      <td>5600.0</td>\n",
       "      <td>5640.0</td>\n",
       "      <td>5480.0</td>\n",
       "      <td>5620.0</td>\n",
       "      <td>4152.528320</td>\n",
       "      <td>30070000</td>\n",
       "    </tr>\n",
       "    <tr>\n",
       "      <th>2000-03-08</th>\n",
       "      <td>5520.0</td>\n",
       "      <td>6000.0</td>\n",
       "      <td>5500.0</td>\n",
       "      <td>5920.0</td>\n",
       "      <td>4374.192383</td>\n",
       "      <td>32460000</td>\n",
       "    </tr>\n",
       "    <tr>\n",
       "      <th>2000-03-09</th>\n",
       "      <td>5970.0</td>\n",
       "      <td>5980.0</td>\n",
       "      <td>5620.0</td>\n",
       "      <td>5620.0</td>\n",
       "      <td>4152.528320</td>\n",
       "      <td>55890000</td>\n",
       "    </tr>\n",
       "    <tr>\n",
       "      <th>2000-03-10</th>\n",
       "      <td>5790.0</td>\n",
       "      <td>5800.0</td>\n",
       "      <td>5520.0</td>\n",
       "      <td>5540.0</td>\n",
       "      <td>4093.417480</td>\n",
       "      <td>28605000</td>\n",
       "    </tr>\n",
       "    <tr>\n",
       "      <th>2000-03-13</th>\n",
       "      <td>5480.0</td>\n",
       "      <td>5490.0</td>\n",
       "      <td>5160.0</td>\n",
       "      <td>5180.0</td>\n",
       "      <td>3827.418945</td>\n",
       "      <td>32215000</td>\n",
       "    </tr>\n",
       "  </tbody>\n",
       "</table>\n",
       "</div>"
      ],
      "text/plain": [
       "              Open    High     Low   Close    Adj Close     Volume\n",
       "Date                                                              \n",
       "2000-01-04  6000.0  6110.0  5660.0  6110.0  4514.582031   74195000\n",
       "2000-01-05  5800.0  6060.0  5520.0  5580.0  4122.971680   74680000\n",
       "2000-01-06  5750.0  5780.0  5580.0  5620.0  4152.528320   54390000\n",
       "2000-01-07  5560.0  5670.0  5360.0  5540.0  4093.417480   40305000\n",
       "2000-01-10  5600.0  5770.0  5580.0  5770.0  4263.360352   46880000\n",
       "2000-01-11  5820.0  6100.0  5770.0  5770.0  4263.360352   59745000\n",
       "2000-01-12  5610.0  5740.0  5600.0  5720.0  4226.416016   29220000\n",
       "2000-01-13  5600.0  5740.0  5560.0  5710.0  4219.027832   41190000\n",
       "2000-01-14  5720.0  5880.0  5680.0  5830.0  4307.693359   49375000\n",
       "2000-01-17  6000.0  6180.0  5920.0  6100.0  4507.191895   63505000\n",
       "2000-01-18  6160.0  6160.0  5980.0  6100.0  4507.191895   45260000\n",
       "2000-01-19  6000.0  6040.0  5960.0  5960.0  4403.747559   40205000\n",
       "2000-01-20  5860.0  6040.0  5820.0  6040.0  4462.858887   37315000\n",
       "2000-01-21  5950.0  5980.0  5880.0  5880.0  4344.637207   32535000\n",
       "2000-01-24  5800.0  5900.0  5700.0  5700.0  4211.638672   34355000\n",
       "2000-01-25  5520.0  5640.0  5440.0  5440.0  4019.529541   44250000\n",
       "2000-01-26  5500.0  5520.0  5410.0  5480.0  4049.083984   29285000\n",
       "2000-01-27  5480.0  5620.0  5430.0  5520.0  4078.639648   27900000\n",
       "2000-01-28  5640.0  5880.0  5540.0  5820.0  4300.304688   38315000\n",
       "2000-01-31  5640.0  5730.0  5560.0  5580.0  4122.971680   39630000\n",
       "2000-02-01  5600.0  5680.0  5260.0  5320.0  3930.862793   71470000\n",
       "2000-02-02  5220.0  5370.0  5110.0  5250.0  3879.140625   64105000\n",
       "2000-02-03  5250.0  5460.0  4970.0  5130.0  3790.474609  142765000\n",
       "2000-02-04  5130.0  5130.0  5130.0  5130.0  3790.474609          0\n",
       "2000-02-07  5140.0  5330.0  5040.0  5240.0  3871.752930   64140000\n",
       "2000-02-08  5340.0  5480.0  5310.0  5430.0  4012.141602   58460000\n",
       "2000-02-09  5560.0  5720.0  5480.0  5720.0  4226.416016   51050000\n",
       "2000-02-10  5660.0  5880.0  5600.0  5760.0  4255.971191   61845000\n",
       "2000-02-11  5960.0  5960.0  5680.0  5700.0  4211.638672   34660000\n",
       "2000-02-14  5600.0  5660.0  5340.0  5380.0  3975.195068   44140000\n",
       "2000-02-15  5380.0  5420.0  5140.0  5200.0  3842.198242   38315000\n",
       "2000-02-16  5180.0  5200.0  4780.0  5000.0  3694.419678   73115000\n",
       "2000-02-17  4940.0  5100.0  4910.0  5080.0  3753.529541   65185000\n",
       "2000-02-18  5370.0  5630.0  5160.0  5300.0  3916.084961  108750000\n",
       "2000-02-21  5200.0  5260.0  5030.0  5070.0  3746.141357   26485000\n",
       "2000-02-22  5000.0  5240.0  5000.0  5120.0  3783.085205   24180000\n",
       "2000-02-23  5220.0  5260.0  5100.0  5140.0  3797.864502   27720000\n",
       "2000-02-24  5120.0  5240.0  5060.0  5070.0  3746.141357   26075000\n",
       "2000-02-25  5080.0  5150.0  4980.0  5120.0  3783.085205   27875000\n",
       "2000-02-28  5000.0  5050.0  4800.0  4800.0  3546.642334   30140000\n",
       "2000-02-29  4900.0  5140.0  4840.0  5120.0  3783.085205   51820000\n",
       "2000-03-01  5120.0  5120.0  5120.0  5120.0  3783.085205          0\n",
       "2000-03-02  5880.0  5880.0  5520.0  5880.0  4344.637207  117750000\n",
       "2000-03-03  6200.0  6250.0  5880.0  6000.0  4433.304199  140990000\n",
       "2000-03-06  6000.0  6050.0  5600.0  5640.0  4167.305176   39150000\n",
       "2000-03-07  5600.0  5640.0  5480.0  5620.0  4152.528320   30070000\n",
       "2000-03-08  5520.0  6000.0  5500.0  5920.0  4374.192383   32460000\n",
       "2000-03-09  5970.0  5980.0  5620.0  5620.0  4152.528320   55890000\n",
       "2000-03-10  5790.0  5800.0  5520.0  5540.0  4093.417480   28605000\n",
       "2000-03-13  5480.0  5490.0  5160.0  5180.0  3827.418945   32215000"
      ]
     },
     "execution_count": 31,
     "metadata": {},
     "output_type": "execute_result"
    }
   ],
   "source": [
    "#데이터 직접 확인.\n",
    "\n",
    "data_X[0]"
   ]
  },
  {
   "cell_type": "markdown",
   "id": "2e862a63-bc02-4137-bee0-f83a5edfe462",
   "metadata": {},
   "source": [
    "### Train / test set 분리"
   ]
  },
  {
   "cell_type": "code",
   "execution_count": 32,
   "id": "2fb79d9d-bb45-4d5b-ae18-38b62e12266b",
   "metadata": {},
   "outputs": [
    {
     "data": {
      "text/plain": [
       "((4741, 50, 6), (1186, 50, 6))"
      ]
     },
     "execution_count": 32,
     "metadata": {},
     "output_type": "execute_result"
    }
   ],
   "source": [
    "#일단 데이터들을 나눈다.\n",
    "\n",
    "\n",
    "#test_size를 통해 데이터들의 비율을 나눈다.\n",
    "#data_X,data_y의 데이터를 잘 섞도록 한다.\n",
    "X_train, X_test, y_train, y_test = train_test_split(data_X,data_y,test_size=0.2)\n",
    "\n",
    "\n",
    "#정보를 보도록 하자.\n",
    "np.shape(X_train), np.shape(X_test)\n",
    "\n"
   ]
  },
  {
   "cell_type": "code",
   "execution_count": null,
   "id": "a29ad8b9-e898-4140-974b-73739d406732",
   "metadata": {},
   "outputs": [],
   "source": []
  },
  {
   "cell_type": "code",
   "execution_count": null,
   "id": "0d6eb754-adf7-4f40-9853-70cd757e2593",
   "metadata": {},
   "outputs": [],
   "source": []
  },
  {
   "cell_type": "code",
   "execution_count": null,
   "id": "a32b4151",
   "metadata": {},
   "outputs": [],
   "source": []
  },
  {
   "cell_type": "markdown",
   "id": "de4fb806-4921-4bed-82ca-6aa1dfb4270a",
   "metadata": {},
   "source": [
    "### Dataset, DataLoader 구성"
   ]
  },
  {
   "cell_type": "code",
   "execution_count": 45,
   "id": "c76e4d78-b1e5-4eb3-8759-a3be7b2b12b4",
   "metadata": {},
   "outputs": [],
   "source": [
    "#Tensor 변환:\n",
    "## X_train:List -> ndarray -> torch.Tensor\n",
    "X_train_tensor = torch.tensor(np.array(X_train),dtype=torch.float32)\n",
    "X_test_tensor = torch.tensor(np.array(X_test),dtype=torch.float32)\n",
    "y_train_tensor = torch.tensor(np.array(y_train),dtype=torch.float32)\n",
    "y_test_tensor = torch.tensor(np.array(y_test),dtype=torch.float32)"
   ]
  },
  {
   "cell_type": "code",
   "execution_count": 46,
   "id": "00366c72-7a8e-421f-95ce-7d8925fec7e3",
   "metadata": {},
   "outputs": [
    {
     "name": "stdout",
     "output_type": "stream",
     "text": [
      "데이터 개수: 4741 1186\n"
     ]
    }
   ],
   "source": [
    "# Dataset 생성 -> raw 데이터 : 메모리상의 Tensor ===>TensorDataset\n",
    "\n",
    "trainset = TensorDataset(X_train_tensor,y_train_tensor)\n",
    "testset = TensorDataset(X_test_tensor,y_test_tensor)\n",
    "\n",
    "print(\"데이터 개수:\",len(trainset),len(testset))"
   ]
  },
  {
   "cell_type": "code",
   "execution_count": 47,
   "id": "bdbe59b4",
   "metadata": {},
   "outputs": [
    {
     "name": "stdout",
     "output_type": "stream",
     "text": [
      "에폭당 step수: 23 6\n"
     ]
    }
   ],
   "source": [
    "#DataLoader 생성\n",
    "\n",
    "trainloader = DataLoader(trainset,batch_size=200,shuffle=True,drop_last=True)\n",
    "testloader = DataLoader(testset,batch_size=200)\n",
    "\n",
    "\n",
    "print(\"에폭당 step수:\",len(trainloader),len(testloader))"
   ]
  },
  {
   "cell_type": "code",
   "execution_count": 48,
   "id": "1b8f30fb",
   "metadata": {},
   "outputs": [
    {
     "data": {
      "text/plain": [
       "(torch.Size([200, 50, 6]), torch.Size([200, 50, 1]))"
      ]
     },
     "execution_count": 48,
     "metadata": {},
     "output_type": "execute_result"
    }
   ],
   "source": [
    "#LSTM layer  생성 후 추론\n",
    "\n",
    "a,b = next(iter(trainloader))\n",
    "a.shape, b.shape"
   ]
  },
  {
   "cell_type": "code",
   "execution_count": 49,
   "id": "b9514ef2",
   "metadata": {},
   "outputs": [
    {
     "data": {
      "text/plain": [
       "(torch.Size([50, 200, 10]), torch.Size([1, 200, 10]), torch.Size([1, 200, 10]))"
      ]
     },
     "execution_count": 49,
     "metadata": {},
     "output_type": "execute_result"
    }
   ],
   "source": [
    "lstm = nn.LSTM(input_size=6,hidden_size=10,\n",
    "               #batch_first=True) #(batch,seq,feature)\n",
    "\n",
    "              )\n",
    "a = a.permute(1,0,2) #데이터의 배치를 바꾼다.\n",
    "o,(h,c) = lstm(a.type(torch.float32))\n",
    "\n",
    "o.shape,h.shape,c.shape\n",
    "\n"
   ]
  },
  {
   "cell_type": "markdown",
   "id": "7a3e6cbc-3787-4afd-b670-5ceebef5d207",
   "metadata": {},
   "source": [
    "### 모델 정의"
   ]
  },
  {
   "cell_type": "code",
   "execution_count": 64,
   "id": "d7ba956f-13cd-436f-80e8-6363713d2a77",
   "metadata": {},
   "outputs": [],
   "source": [
    "class StockLSTM(nn.Module):\n",
    "    def __init__(self,input_size:\"feature수\",\n",
    "                 hidden_size:\"hidden(유닛)수\",\n",
    "                num_layers:\"레이어개수\"=1,\n",
    "                bidirectional:\"양방향여부\"=False):\n",
    "        \n",
    "        super().__init__()\n",
    "        \n",
    "        \n",
    "        \n",
    "        self.lstm = nn.LSTM(input_size=input_size,\n",
    "                           hidden_size=hidden_size,\n",
    "                           num_layers=num_layers,\n",
    "                           bidirectional=bidirectional)\n",
    "        D = 2 if bidirectional else 1 #bidirectional여부에 따라 값을 다르게 한다.\n",
    "        self.output = nn.Linear(in_features=D*num_layers*hidden_size,\n",
    "                               out_features=1) #출력\n",
    "        \n",
    "    def forward(self,X):\n",
    "        #LSTM(특성을 추출) -- hidden state -->Linear -> 예측결과\n",
    "        # X:(batch,seq,feature) -> (seq,batch,feature)\n",
    "        X = X.permute(1,0,2)\n",
    "        out, (hidden_state,cell_state) = self.lstm(X) #hidden state 값을 쓴다.\n",
    "        # hidden state (seq,batch,hidden)\n",
    "        \n",
    "        hidden_state = hidden_state.permute(1,0,2)\n",
    "        nn.Flatten()(hidden_state) \n",
    "        pred = self.output(hidden_state) #lstm은 hidden을 뽑아서 output에 전달해준다.\n",
    "       # nn.Sigmoid()(pred) #값을 0부터 1사이로 정규화해준다.\n",
    "        return pred #pred 값을 전달한다.\n",
    "        \n",
    "    \n",
    "    "
   ]
  },
  {
   "cell_type": "code",
   "execution_count": 65,
   "id": "73ae9e02",
   "metadata": {},
   "outputs": [],
   "source": [
    "#본격적으로 모델을 정의한다.\n",
    "\n",
    "model = StockLSTM(input_size=6,hidden_size=50)\n"
   ]
  },
  {
   "cell_type": "code",
   "execution_count": null,
   "id": "76200c8b",
   "metadata": {},
   "outputs": [],
   "source": []
  },
  {
   "cell_type": "code",
   "execution_count": null,
   "id": "af9a6e5f",
   "metadata": {},
   "outputs": [],
   "source": []
  },
  {
   "cell_type": "markdown",
   "id": "0d160366-9d68-4adc-89cd-841bbb84ce2f",
   "metadata": {},
   "source": [
    "### train"
   ]
  },
  {
   "cell_type": "code",
   "execution_count": 66,
   "id": "55541a1c-933c-46e8-aa2e-ce74a2966eb4",
   "metadata": {},
   "outputs": [],
   "source": [
    "#하이퍼파라미터\n",
    "\n",
    "N_EPOCH = 1000\n",
    "LR=0.0001\n",
    "\n",
    "INPUT_SIZE=6\n",
    "HIDDEN_SIZE=30\n",
    "NUM_LAYERS=1\n",
    "BIDIRECTIONAL = False\n"
   ]
  },
  {
   "cell_type": "code",
   "execution_count": 67,
   "id": "0b9ced6c-2409-487f-9758-2e411f4f3203",
   "metadata": {},
   "outputs": [],
   "source": [
    "model = StockLSTM(INPUT_SIZE,HIDDEN_SIZE,NUM_LAYERS,BIDIRECTIONAL)\n",
    "\n",
    "\n",
    "model = model.to(device) #device로 이동을 잘 시켜야 딥러닝을 수행할 수 있다.\n",
    "\n",
    "\n",
    "#loss_fn = 회귀: MSE\n",
    "\n",
    "loss_fn = nn.MSELoss()\n",
    "optimizer = torch.optim.Adam(model.parameters(),lr=LR)\n"
   ]
  },
  {
   "cell_type": "code",
   "execution_count": 72,
   "id": "dfcc6b15-1b3f-4f17-ac4d-627858b4ba88",
   "metadata": {},
   "outputs": [
    {
     "name": "stdout",
     "output_type": "stream",
     "text": [
      "[1/1000] train loss:1205280990.6086957 valid loss:1135666730.6666667\n",
      "[101/1000] train loss:1199501050.4347825 valid loss:1135578880.0\n"
     ]
    },
    {
     "ename": "KeyboardInterrupt",
     "evalue": "",
     "output_type": "error",
     "traceback": [
      "\u001b[1;31m---------------------------------------------------------------------------\u001b[0m",
      "\u001b[1;31mKeyboardInterrupt\u001b[0m                         Traceback (most recent call last)",
      "\u001b[1;32m<ipython-input-72-9abf93e2f0c4>\u001b[0m in \u001b[0;36m<module>\u001b[1;34m\u001b[0m\n\u001b[0;32m     21\u001b[0m \u001b[1;33m\u001b[0m\u001b[0m\n\u001b[0;32m     22\u001b[0m         \u001b[1;31m#6. gradient 초기화\u001b[0m\u001b[1;33m\u001b[0m\u001b[1;33m\u001b[0m\u001b[1;33m\u001b[0m\u001b[0m\n\u001b[1;32m---> 23\u001b[1;33m         \u001b[0moptimizer\u001b[0m\u001b[1;33m.\u001b[0m\u001b[0mzero_grad\u001b[0m\u001b[1;33m(\u001b[0m\u001b[1;33m)\u001b[0m\u001b[1;33m\u001b[0m\u001b[1;33m\u001b[0m\u001b[0m\n\u001b[0m\u001b[0;32m     24\u001b[0m         \u001b[0mtrain_loss\u001b[0m \u001b[1;33m+=\u001b[0m \u001b[0mloss\u001b[0m\u001b[1;33m.\u001b[0m\u001b[0mitem\u001b[0m\u001b[1;33m(\u001b[0m\u001b[1;33m)\u001b[0m\u001b[1;33m\u001b[0m\u001b[1;33m\u001b[0m\u001b[0m\n\u001b[0;32m     25\u001b[0m     \u001b[0mtrain_loss\u001b[0m \u001b[1;33m/=\u001b[0m \u001b[0mlen\u001b[0m\u001b[1;33m(\u001b[0m\u001b[0mtrainloader\u001b[0m\u001b[1;33m)\u001b[0m \u001b[1;31m#train_loss 평균 계산\u001b[0m\u001b[1;33m\u001b[0m\u001b[1;33m\u001b[0m\u001b[0m\n",
      "\u001b[1;32m~\\anaconda3\\lib\\site-packages\\torch\\_compile.py\u001b[0m in \u001b[0;36minner\u001b[1;34m(*args, **kwargs)\u001b[0m\n\u001b[0;32m     22\u001b[0m             \u001b[1;32mimport\u001b[0m \u001b[0mtorch\u001b[0m\u001b[1;33m.\u001b[0m\u001b[0m_dynamo\u001b[0m\u001b[1;33m\u001b[0m\u001b[1;33m\u001b[0m\u001b[0m\n\u001b[0;32m     23\u001b[0m \u001b[1;33m\u001b[0m\u001b[0m\n\u001b[1;32m---> 24\u001b[1;33m             \u001b[1;32mreturn\u001b[0m \u001b[0mtorch\u001b[0m\u001b[1;33m.\u001b[0m\u001b[0m_dynamo\u001b[0m\u001b[1;33m.\u001b[0m\u001b[0mdisable\u001b[0m\u001b[1;33m(\u001b[0m\u001b[0mfn\u001b[0m\u001b[1;33m,\u001b[0m \u001b[0mrecursive\u001b[0m\u001b[1;33m)\u001b[0m\u001b[1;33m(\u001b[0m\u001b[1;33m*\u001b[0m\u001b[0margs\u001b[0m\u001b[1;33m,\u001b[0m \u001b[1;33m**\u001b[0m\u001b[0mkwargs\u001b[0m\u001b[1;33m)\u001b[0m\u001b[1;33m\u001b[0m\u001b[1;33m\u001b[0m\u001b[0m\n\u001b[0m\u001b[0;32m     25\u001b[0m \u001b[1;33m\u001b[0m\u001b[0m\n\u001b[0;32m     26\u001b[0m         \u001b[1;32mreturn\u001b[0m \u001b[0minner\u001b[0m\u001b[1;33m\u001b[0m\u001b[1;33m\u001b[0m\u001b[0m\n",
      "\u001b[1;32m~\\anaconda3\\lib\\site-packages\\torch\\_dynamo\\decorators.py\u001b[0m in \u001b[0;36mdisable\u001b[1;34m(fn, recursive)\u001b[0m\n\u001b[0;32m     45\u001b[0m             \u001b[0mfn\u001b[0m \u001b[1;33m=\u001b[0m \u001b[0minnermost_fn\u001b[0m\u001b[1;33m(\u001b[0m\u001b[0mfn\u001b[0m\u001b[1;33m)\u001b[0m\u001b[1;33m\u001b[0m\u001b[1;33m\u001b[0m\u001b[0m\n\u001b[0;32m     46\u001b[0m             \u001b[1;32massert\u001b[0m \u001b[0mcallable\u001b[0m\u001b[1;33m(\u001b[0m\u001b[0mfn\u001b[0m\u001b[1;33m)\u001b[0m\u001b[1;33m\u001b[0m\u001b[1;33m\u001b[0m\u001b[0m\n\u001b[1;32m---> 47\u001b[1;33m             \u001b[1;32mreturn\u001b[0m \u001b[0mDisableContext\u001b[0m\u001b[1;33m(\u001b[0m\u001b[1;33m)\u001b[0m\u001b[1;33m(\u001b[0m\u001b[0mfn\u001b[0m\u001b[1;33m)\u001b[0m\u001b[1;33m\u001b[0m\u001b[1;33m\u001b[0m\u001b[0m\n\u001b[0m\u001b[0;32m     48\u001b[0m         \u001b[1;32mreturn\u001b[0m \u001b[0mDisableContext\u001b[0m\u001b[1;33m(\u001b[0m\u001b[1;33m)\u001b[0m\u001b[1;33m\u001b[0m\u001b[1;33m\u001b[0m\u001b[0m\n\u001b[0;32m     49\u001b[0m     \u001b[1;32melse\u001b[0m\u001b[1;33m:\u001b[0m\u001b[1;33m\u001b[0m\u001b[1;33m\u001b[0m\u001b[0m\n",
      "\u001b[1;32m~\\anaconda3\\lib\\site-packages\\torch\\_dynamo\\eval_frame.py\u001b[0m in \u001b[0;36m__call__\u001b[1;34m(self, fn)\u001b[0m\n\u001b[0;32m    288\u001b[0m \u001b[1;33m\u001b[0m\u001b[0m\n\u001b[0;32m    289\u001b[0m         \u001b[1;32mtry\u001b[0m\u001b[1;33m:\u001b[0m\u001b[1;33m\u001b[0m\u001b[1;33m\u001b[0m\u001b[0m\n\u001b[1;32m--> 290\u001b[1;33m             \u001b[0mfilename\u001b[0m \u001b[1;33m=\u001b[0m \u001b[0minspect\u001b[0m\u001b[1;33m.\u001b[0m\u001b[0mgetsourcefile\u001b[0m\u001b[1;33m(\u001b[0m\u001b[0mfn\u001b[0m\u001b[1;33m)\u001b[0m\u001b[1;33m\u001b[0m\u001b[1;33m\u001b[0m\u001b[0m\n\u001b[0m\u001b[0;32m    291\u001b[0m         \u001b[1;32mexcept\u001b[0m \u001b[0mTypeError\u001b[0m\u001b[1;33m:\u001b[0m\u001b[1;33m\u001b[0m\u001b[1;33m\u001b[0m\u001b[0m\n\u001b[0;32m    292\u001b[0m             \u001b[0mfilename\u001b[0m \u001b[1;33m=\u001b[0m \u001b[1;32mNone\u001b[0m\u001b[1;33m\u001b[0m\u001b[1;33m\u001b[0m\u001b[0m\n",
      "\u001b[1;32m~\\anaconda3\\lib\\inspect.py\u001b[0m in \u001b[0;36mgetsourcefile\u001b[1;34m(object)\u001b[0m\n\u001b[0;32m    703\u001b[0m                  importlib.machinery.EXTENSION_SUFFIXES):\n\u001b[0;32m    704\u001b[0m         \u001b[1;32mreturn\u001b[0m \u001b[1;32mNone\u001b[0m\u001b[1;33m\u001b[0m\u001b[1;33m\u001b[0m\u001b[0m\n\u001b[1;32m--> 705\u001b[1;33m     \u001b[1;32mif\u001b[0m \u001b[0mos\u001b[0m\u001b[1;33m.\u001b[0m\u001b[0mpath\u001b[0m\u001b[1;33m.\u001b[0m\u001b[0mexists\u001b[0m\u001b[1;33m(\u001b[0m\u001b[0mfilename\u001b[0m\u001b[1;33m)\u001b[0m\u001b[1;33m:\u001b[0m\u001b[1;33m\u001b[0m\u001b[1;33m\u001b[0m\u001b[0m\n\u001b[0m\u001b[0;32m    706\u001b[0m         \u001b[1;32mreturn\u001b[0m \u001b[0mfilename\u001b[0m\u001b[1;33m\u001b[0m\u001b[1;33m\u001b[0m\u001b[0m\n\u001b[0;32m    707\u001b[0m     \u001b[1;31m# only return a non-existent filename if the module has a PEP 302 loader\u001b[0m\u001b[1;33m\u001b[0m\u001b[1;33m\u001b[0m\u001b[1;33m\u001b[0m\u001b[0m\n",
      "\u001b[1;32m~\\anaconda3\\lib\\genericpath.py\u001b[0m in \u001b[0;36mexists\u001b[1;34m(path)\u001b[0m\n\u001b[0;32m     17\u001b[0m     \u001b[1;34m\"\"\"Test whether a path exists.  Returns False for broken symbolic links\"\"\"\u001b[0m\u001b[1;33m\u001b[0m\u001b[1;33m\u001b[0m\u001b[0m\n\u001b[0;32m     18\u001b[0m     \u001b[1;32mtry\u001b[0m\u001b[1;33m:\u001b[0m\u001b[1;33m\u001b[0m\u001b[1;33m\u001b[0m\u001b[0m\n\u001b[1;32m---> 19\u001b[1;33m         \u001b[0mos\u001b[0m\u001b[1;33m.\u001b[0m\u001b[0mstat\u001b[0m\u001b[1;33m(\u001b[0m\u001b[0mpath\u001b[0m\u001b[1;33m)\u001b[0m\u001b[1;33m\u001b[0m\u001b[1;33m\u001b[0m\u001b[0m\n\u001b[0m\u001b[0;32m     20\u001b[0m     \u001b[1;32mexcept\u001b[0m \u001b[1;33m(\u001b[0m\u001b[0mOSError\u001b[0m\u001b[1;33m,\u001b[0m \u001b[0mValueError\u001b[0m\u001b[1;33m)\u001b[0m\u001b[1;33m:\u001b[0m\u001b[1;33m\u001b[0m\u001b[1;33m\u001b[0m\u001b[0m\n\u001b[0;32m     21\u001b[0m         \u001b[1;32mreturn\u001b[0m \u001b[1;32mFalse\u001b[0m\u001b[1;33m\u001b[0m\u001b[1;33m\u001b[0m\u001b[0m\n",
      "\u001b[1;31mKeyboardInterrupt\u001b[0m: "
     ]
    }
   ],
   "source": [
    "#코드가 살짝 잘못되었다. 그러니 소스코드를 보도록 하자.\n",
    "\n",
    "\n",
    "train_loss_list = []\n",
    "valid_loss_list = []\n",
    "\n",
    "for epoch in range(N_EPOCH):\n",
    "    \n",
    "    model.train()\n",
    "    train_loss = 0.0\n",
    "    for X,y in trainloader:\n",
    "        #1. device로 이동한다.\n",
    "        X,y = X.to(device),y.to(device)\n",
    "        #2. 추정\n",
    "        pred = model(X)\n",
    "        \n",
    "        #3.Loss 계산\n",
    "        loss = loss_fn(pred,y)\n",
    "        #4.grad 계산\n",
    "        loss.backward()\n",
    "        \n",
    "        #5. layer의 파라미터들을 update한다.\n",
    "        optimizer.step()\n",
    "        \n",
    "        #6. gradient 초기화\n",
    "        optimizer.zero_grad()\n",
    "        train_loss += loss.item()\n",
    "    train_loss /= len(trainloader) #train_loss 평균 계산\n",
    "    train_loss_list.append(train_loss) #한 epoch에 대한 학습 끝남.\n",
    "    \n",
    "    \n",
    "    ##검증\n",
    "    model.eval() #eval 모드로 바꿔야 한다.\n",
    "    valid_loss= 0.0\n",
    "    for X_valid,y_valid in testloader:\n",
    "        # 1.device 이동\n",
    "        X_valid,y_valid = X_valid.to(device), y_valid.to(device)\n",
    "        \n",
    "     \n",
    "        \n",
    "        with torch.no_grad():\n",
    "            #2. 추정\n",
    "            pred_valid = model(X_valid)\n",
    "            \n",
    "            #3.loss 계산\n",
    "            valid_loss += loss_fn(pred_valid,y_valid).item()\n",
    "            \n",
    "    valid_loss /= len(testloader) #valid_loss의 평균\n",
    "    valid_loss_list.append(valid_loss)\n",
    "    if epoch % 100 == 0 or epoch == (N_EPOCH-1):\n",
    "        #epoch이 100번 돌았거나 마지막 epoch 이라면\n",
    "        print(f\"[{epoch+1}/{N_EPOCH}] train loss:{train_loss} valid loss:{valid_loss}\")\n",
    "        "
   ]
  },
  {
   "cell_type": "code",
   "execution_count": 73,
   "id": "cdea6e5a",
   "metadata": {},
   "outputs": [
    {
     "ename": "NameError",
     "evalue": "name 'y_scaler' is not defined",
     "output_type": "error",
     "traceback": [
      "\u001b[1;31m---------------------------------------------------------------------------\u001b[0m",
      "\u001b[1;31mNameError\u001b[0m                                 Traceback (most recent call last)",
      "\u001b[1;32m<ipython-input-73-99557ac2a78d>\u001b[0m in \u001b[0;36m<module>\u001b[1;34m\u001b[0m\n\u001b[1;32m----> 1\u001b[1;33m \u001b[0my_scaler\u001b[0m\u001b[1;33m.\u001b[0m\u001b[0minverse_transform\u001b[0m\u001b[1;33m(\u001b[0m\u001b[1;33m[\u001b[0m\u001b[1;33m[\u001b[0m\u001b[1;36m0.0000356\u001b[0m\u001b[1;33m]\u001b[0m\u001b[1;33m]\u001b[0m\u001b[1;33m)\u001b[0m\u001b[1;33m\u001b[0m\u001b[1;33m\u001b[0m\u001b[0m\n\u001b[0m",
      "\u001b[1;31mNameError\u001b[0m: name 'y_scaler' is not defined"
     ]
    }
   ],
   "source": [
    "y_scaler.inverse_transform([[0.0000356]])\n",
    "#여기서 나오는 값이 바로 예측값의 오차이다."
   ]
  },
  {
   "cell_type": "code",
   "execution_count": 83,
   "id": "bd7e408c",
   "metadata": {},
   "outputs": [
    {
     "data": {
      "text/plain": [
       "torch.Size([1, 50, 6])"
      ]
     },
     "execution_count": 83,
     "metadata": {},
     "output_type": "execute_result"
    }
   ],
   "source": [
    "new_X = torch.tensor(np.expand_dims(data_X[-1],axis=0),dtype=torch.float32) #데이터를 섞기 전이다.\n",
    "new_X.shape"
   ]
  },
  {
   "cell_type": "code",
   "execution_count": 84,
   "id": "6efc5989",
   "metadata": {},
   "outputs": [],
   "source": [
    "pred_new = model(new_X.to(device))"
   ]
  },
  {
   "cell_type": "code",
   "execution_count": 85,
   "id": "b243dfc2",
   "metadata": {},
   "outputs": [
    {
     "data": {
      "text/plain": [
       "tensor([[[8.6703]]], grad_fn=<ViewBackward0>)"
      ]
     },
     "execution_count": 85,
     "metadata": {},
     "output_type": "execute_result"
    }
   ],
   "source": [
    "pred_new"
   ]
  },
  {
   "cell_type": "code",
   "execution_count": 89,
   "id": "a62b971e",
   "metadata": {},
   "outputs": [
    {
     "ename": "NameError",
     "evalue": "name 'y_scaler' is not defined",
     "output_type": "error",
     "traceback": [
      "\u001b[1;31m---------------------------------------------------------------------------\u001b[0m",
      "\u001b[1;31mNameError\u001b[0m                                 Traceback (most recent call last)",
      "\u001b[1;32m<ipython-input-89-1648a5321c7a>\u001b[0m in \u001b[0;36m<module>\u001b[1;34m\u001b[0m\n\u001b[1;32m----> 1\u001b[1;33m \u001b[0my_scaler\u001b[0m\u001b[1;33m.\u001b[0m\u001b[0minverse_transform\u001b[0m\u001b[1;33m(\u001b[0m\u001b[0mpred_new\u001b[0m\u001b[1;33m.\u001b[0m\u001b[0mdetach\u001b[0m\u001b[1;33m(\u001b[0m\u001b[1;33m)\u001b[0m\u001b[1;33m.\u001b[0m\u001b[0mnumpy\u001b[0m\u001b[1;33m(\u001b[0m\u001b[1;33m)\u001b[0m\u001b[1;33m)\u001b[0m\u001b[1;33m\u001b[0m\u001b[1;33m\u001b[0m\u001b[0m\n\u001b[0m\u001b[0;32m      2\u001b[0m \u001b[1;33m\u001b[0m\u001b[0m\n\u001b[0;32m      3\u001b[0m \u001b[1;31m#여기서 출력된 값이 바로 예측값이다.\u001b[0m\u001b[1;33m\u001b[0m\u001b[1;33m\u001b[0m\u001b[1;33m\u001b[0m\u001b[0m\n\u001b[0;32m      4\u001b[0m \u001b[1;31m#결과:xxxx원 정도의 오차가 났다.\u001b[0m\u001b[1;33m\u001b[0m\u001b[1;33m\u001b[0m\u001b[1;33m\u001b[0m\u001b[0m\n",
      "\u001b[1;31mNameError\u001b[0m: name 'y_scaler' is not defined"
     ]
    }
   ],
   "source": [
    "y_scaler.inverse_transform(pred_new.detach().numpy())\n",
    "\n",
    "#여기서 출력된 값이 바로 예측값이다.\n",
    "#결과:xxxx원 정도의 오차가 났다."
   ]
  },
  {
   "cell_type": "code",
   "execution_count": null,
   "id": "6851d665",
   "metadata": {},
   "outputs": [],
   "source": []
  }
 ],
 "metadata": {
  "kernelspec": {
   "display_name": "Python 3",
   "language": "python",
   "name": "python3"
  },
  "language_info": {
   "codemirror_mode": {
    "name": "ipython",
    "version": 3
   },
   "file_extension": ".py",
   "mimetype": "text/x-python",
   "name": "python",
   "nbconvert_exporter": "python",
   "pygments_lexer": "ipython3",
   "version": "3.8.8"
  }
 },
 "nbformat": 4,
 "nbformat_minor": 5
}
