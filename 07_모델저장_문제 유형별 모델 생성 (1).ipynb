{
 "cells": [
  {
   "cell_type": "markdown",
   "metadata": {},
   "source": [
    "# 모델 저장\n",
    "\n",
    "- 학습한 모델을 저장장치에 파일로 저장하고 나중에 불러와 사용(추가 학습, 예측 서비스) 할 수 있도록 한다. \n",
    "- 파이토치는 모델의 파라미터만 저장하는 방법과 모델 구조와 파라미터 모두를 저장하는 두가지 방식을 제공한다.\n",
    "- 저장 함수\n",
    "    - `torch.save(저장할 객체, 저장경로)`\n",
    "- 보통 저장파일의 확장자는 `pt`나 `pth` 를 지정한다.\n",
    "\n",
    "## 모델 전체 저장하기 및 불러오기\n",
    "\n",
    "- 저장하기\n",
    "    - `torch.save(model, 저장경로)`\n",
    "- 불러오기\n",
    "    - `load_model = torch.load(저장경로)`\n",
    "- 저장시 **pickle**을 이용해 직렬화하기 때문에 불어오는 실행환경에도 모델을 저장할 때 사용한 클래스가 있어야 한다.\n"
   ]
  },
  {
   "cell_type": "markdown",
   "metadata": {},
   "source": [
    "\n",
    "## 모델의 파라미터만 저장\n",
    "- 모델을 구성하는 파라미터만 저장한다.\n",
    "- 모델의 구조는 저장하지 않기 때문에 불러올 때 **모델을 먼저 생성하고 생성한 모델에 불러온 파라미터를 덮어씌운다.**\n",
    "- 모델의 파라미터는 **state_dict** 형식으로 저장한다.\n",
    "\n",
    "### state_dict\n",
    "- 모델의 파라미터 Tensor들을 레이어 단위별로 나누어 저장한 Ordered Dictionary (OrderedDict)\n",
    "- `모델객체.state_dict()` 메소드를 이용해 조회한다.\n",
    "- 모델의 state_dict을 조회 후 저장한다.\n",
    "    - `torch.save(model.state_dict(), \"저장경로\")`\n",
    "- 생성된 모델에 읽어온 state_dict를 덮어씌운다.\n",
    "    - `new_model.load_state_dict(torch.load(\"state_dict저장경로\"))`\n"
   ]
  },
  {
   "cell_type": "markdown",
   "metadata": {},
   "source": [
    "# Checkpoint를 저장 및 불러오기\n",
    "- 학습이 끝나지 않은 모델을 저장 후 나중에 이어서 학습시킬 경우에는 모델의 구조, 파라미터 뿐만 아니라 optimizer, loss 함수등 학습에 필요한 객체들을 저장해야 한다.\n",
    "- Dictionary에 필요한 요소들을 key-value 쌍으로 저장후 `torch.save()`를 이용해 저장한다.\n",
    "```python\n",
    "# 저장\n",
    "torch.save({\n",
    "    'epoch':epoch,\n",
    "    'model_state_dict':model.state_dict(),\n",
    "    'optimizer_state_dict':optimizer.state_dict(),\n",
    "    'loss':train_loss\n",
    "}, \"저장경로\")\n",
    "\n",
    "# 불러오기\n",
    "model = MyModel()\n",
    "optimizer = optim.Adam(model.parameter())\n",
    "\n",
    "checkpoint = torch.load(\"저장경로\")\n",
    "model.load_state_dict(checkpoint['model_state_dict'])\n",
    "optimizer.load_state_dict(checkpoint['optimizer_state_dict'])\n",
    "epoch = checkpoint['epoch']\n",
    "loss = checkpoint['loss']\n",
    "\n",
    "#### 이어학습\n",
    "model.train()\n",
    "#### 추론\n",
    "model.eval()\n",
    "\n",
    "```"
   ]
  },
  {
   "cell_type": "code",
   "execution_count": 9,
   "metadata": {},
   "outputs": [],
   "source": [
    "import torch\n",
    "import torch.nn as nn\n",
    "\n",
    "\n",
    "class Network(nn.Module):\n",
    "    \n",
    "    def __init__(self):\n",
    "        super().__init__()\n",
    "        self.lr = nn.Linear(784, 64)\n",
    "        self.out = nn.Linear(64, 10)\n",
    "        self.relu = nn.ReLU()\n",
    "        \n",
    "    def forward(self, X):\n",
    "        X = torch.flatten(X, start_dim=1)\n",
    "        X = self.lr(X)\n",
    "        X = relu(X)\n",
    "        X = out(X)\n",
    "        return X"
   ]
  },
  {
   "cell_type": "code",
   "execution_count": 10,
   "metadata": {},
   "outputs": [],
   "source": [
    "sample_model = Network() # 모델 생성"
   ]
  },
  {
   "cell_type": "code",
   "execution_count": 11,
   "metadata": {},
   "outputs": [],
   "source": [
    "# 모델 구조 + 파라미터\n",
    "# torch.save(sample_model, \"경로/sample_model.pth\")"
   ]
  },
  {
   "cell_type": "code",
   "execution_count": 12,
   "metadata": {},
   "outputs": [
    {
     "name": "stdout",
     "output_type": "stream",
     "text": [
      "<class 'collections.OrderedDict'>\n"
     ]
    },
    {
     "data": {
      "text/plain": [
       "odict_keys(['lr.weight', 'lr.bias', 'out.weight', 'out.bias'])"
      ]
     },
     "execution_count": 12,
     "metadata": {},
     "output_type": "execute_result"
    }
   ],
   "source": [
    "## 모델의 파라미터만 저장 -> model.state_dict(): 파라미터들만 조회\n",
    "state_dict = sample_model.state_dict()\n",
    "print(type(state_dict)) # OrderedDict: 순서를 유지하는 dictionary\n",
    "state_dict.keys()  # 키값들만 조회\n",
    "### 레이어객체_변수.weight, 변수.bias"
   ]
  },
  {
   "cell_type": "code",
   "execution_count": 15,
   "metadata": {},
   "outputs": [
    {
     "data": {
      "text/plain": [
       "(torch.Size([64, 784]), torch.Size([64]))"
      ]
     },
     "execution_count": 15,
     "metadata": {},
     "output_type": "execute_result"
    }
   ],
   "source": [
    "lr_weight = state_dict['lr.weight']\n",
    "lr_bias = state_dict['lr.bias']\n",
    "lr_weight.shape, lr_bias.shape"
   ]
  },
  {
   "cell_type": "code",
   "execution_count": 16,
   "metadata": {},
   "outputs": [
    {
     "data": {
      "text/plain": [
       "(torch.Size([10, 64]), torch.Size([10]))"
      ]
     },
     "execution_count": 16,
     "metadata": {},
     "output_type": "execute_result"
    }
   ],
   "source": [
    "lr_weight = state_dict['out.weight']\n",
    "lr_bias = state_dict['out.bias']\n",
    "lr_weight.shape, lr_bias.shape"
   ]
  },
  {
   "cell_type": "code",
   "execution_count": 17,
   "metadata": {},
   "outputs": [
    {
     "data": {
      "text/plain": [
       "tensor([ 0.0082,  0.0996, -0.0871, -0.0782,  0.1093,  0.0935,  0.0523,  0.0392,\n",
       "         0.0252, -0.1052])"
      ]
     },
     "execution_count": 17,
     "metadata": {},
     "output_type": "execute_result"
    }
   ],
   "source": [
    "lr_bias"
   ]
  },
  {
   "cell_type": "code",
   "execution_count": 19,
   "metadata": {},
   "outputs": [],
   "source": [
    "### 파라미터 저장\n",
    "import os\n",
    "os.makedirs('models/sample')\n",
    "torch.save(state_dict, \"models/sample/sample_state_dict.pth\")"
   ]
  },
  {
   "cell_type": "code",
   "execution_count": 20,
   "metadata": {
    "collapsed": true
   },
   "outputs": [
    {
     "data": {
      "text/plain": [
       "odict_keys(['lr.weight', 'lr.bias', 'out.weight', 'out.bias'])"
      ]
     },
     "execution_count": 20,
     "metadata": {},
     "output_type": "execute_result"
    }
   ],
   "source": [
    "### 파라미터 로드.\n",
    "load_state_dict = torch.load(\"models/sample/sample_state_dict.pth\")\n",
    "load_state_dict.keys()"
   ]
  },
  {
   "cell_type": "code",
   "execution_count": 22,
   "metadata": {},
   "outputs": [
    {
     "data": {
      "text/plain": [
       "tensor([ 0.0082,  0.0996, -0.0871, -0.0782,  0.1093,  0.0935,  0.0523,  0.0392,\n",
       "         0.0252, -0.1052])"
      ]
     },
     "execution_count": 22,
     "metadata": {},
     "output_type": "execute_result"
    }
   ],
   "source": [
    "load_state_dict['out.bias']"
   ]
  },
  {
   "cell_type": "code",
   "execution_count": 24,
   "metadata": {},
   "outputs": [
    {
     "data": {
      "text/plain": [
       "<All keys matched successfully>"
      ]
     },
     "execution_count": 24,
     "metadata": {},
     "output_type": "execute_result"
    }
   ],
   "source": [
    "# 새로 모델객체를 생성 -> 읽어온 파라미터로 변환.\n",
    "new_model = Network()\n",
    "new_model.load_state_dict(load_state_dict)"
   ]
  },
  {
   "cell_type": "code",
   "execution_count": null,
   "metadata": {},
   "outputs": [],
   "source": []
  },
  {
   "cell_type": "markdown",
   "metadata": {
    "jp-MarkdownHeadingCollapsed": true,
    "slideshow": {
     "slide_type": "slide"
    }
   },
   "source": [
    "# 문제 유형별 MLP 네트워크\n",
    "- MLP(Multi Layer Perceptron)\n",
    "    - Fully Connected Layer로 구성된 네트워크"
   ]
  },
  {
   "cell_type": "markdown",
   "metadata": {
    "slideshow": {
     "slide_type": "fragment"
    }
   },
   "source": [
    "# Regression(회귀)\n",
    "- 예측할 값이 정해져 있지 않는 경우. => 연속형값(실수)을 추론\n",
    "\n",
    "\n",
    "## Boston Housing Dataset\n",
    "보스턴 주택가격 dataset은 다음과 같은 속성을 바탕으로 해당 타운 주택 가격의 중앙값을 예측하는 문제.\n",
    "- CRIM: 범죄율\n",
    "- ZN: 25,000 평방피트당 주거지역 비율\n",
    "- INDUS: 비소매 상업지구 비율\n",
    "- CHAS: 찰스강에 인접해 있는지 여부(인접:1, 아니면:0)\n",
    "- NOX: 일산화질소 농도(단위: 0.1ppm)\n",
    "- RM: 주택당 방의 수\n",
    "- AGE: 1940년 이전에 건설된 주택의 비율\n",
    "- DIS: 5개의 보스턴 직업고용센터와의 거리(가중 평균)\n",
    "- RAD: 고속도로 접근성\n",
    "- TAX: 재산세율\n",
    "- PTRATIO: 학생/교사 비율\n",
    "- B: 흑인 비율\n",
    "- LSTAT: 하위 계층 비율\n",
    "<br><br>\n",
    "- **Target**\n",
    "    - MEDV: 타운의 주택가격 중앙값(단위: 1,000달러)"
   ]
  },
  {
   "cell_type": "code",
   "execution_count": null,
   "metadata": {},
   "outputs": [],
   "source": [
    "# !pip install scikit-learn torchinfo"
   ]
  },
  {
   "cell_type": "code",
   "execution_count": 3,
   "metadata": {},
   "outputs": [
    {
     "name": "stdout",
     "output_type": "stream",
     "text": [
      "cpu\n"
     ]
    }
   ],
   "source": [
    "import pandas as pd\n",
    "import numpy as np\n",
    "import matplotlib.pyplot as plt\n",
    "\n",
    "from sklearn.preprocessing import StandardScaler\n",
    "from sklearn.model_selection import train_test_split\n",
    "\n",
    "import torch\n",
    "import torch.nn as nn\n",
    "from torch.utils.data import TensorDataset, DataLoader\n",
    "import torchinfo\n",
    "\n",
    "device = \"cuda\" if torch.cuda.is_available() else \"cpu\"\n",
    "print(device)"
   ]
  },
  {
   "cell_type": "markdown",
   "metadata": {},
   "source": [
    "## Dataset, DataLoader 생성"
   ]
  },
  {
   "cell_type": "code",
   "execution_count": 6,
   "metadata": {
    "collapsed": true
   },
   "outputs": [
    {
     "name": "stdout",
     "output_type": "stream",
     "text": [
      "(506, 14)\n",
      "<class 'pandas.core.frame.DataFrame'>\n",
      "RangeIndex: 506 entries, 0 to 505\n",
      "Data columns (total 14 columns):\n",
      " #   Column   Non-Null Count  Dtype  \n",
      "---  ------   --------------  -----  \n",
      " 0   CRIM     506 non-null    float64\n",
      " 1   ZN       506 non-null    float64\n",
      " 2   INDUS    506 non-null    float64\n",
      " 3   CHAS     506 non-null    float64\n",
      " 4   NOX      506 non-null    float64\n",
      " 5   RM       506 non-null    float64\n",
      " 6   AGE      506 non-null    float64\n",
      " 7   DIS      506 non-null    float64\n",
      " 8   RAD      506 non-null    float64\n",
      " 9   TAX      506 non-null    float64\n",
      " 10  PTRATIO  506 non-null    float64\n",
      " 11  B        506 non-null    float64\n",
      " 12  LSTAT    506 non-null    float64\n",
      " 13  MEDV     506 non-null    float64\n",
      "dtypes: float64(14)\n",
      "memory usage: 55.5 KB\n"
     ]
    }
   ],
   "source": [
    "boston = pd.read_csv('data/boston_hosing.csv')\n",
    "print(boston.shape)\n",
    "boston.info()"
   ]
  },
  {
   "cell_type": "code",
   "execution_count": 7,
   "metadata": {},
   "outputs": [
    {
     "data": {
      "text/html": [
       "<div>\n",
       "<style scoped>\n",
       "    .dataframe tbody tr th:only-of-type {\n",
       "        vertical-align: middle;\n",
       "    }\n",
       "\n",
       "    .dataframe tbody tr th {\n",
       "        vertical-align: top;\n",
       "    }\n",
       "\n",
       "    .dataframe thead th {\n",
       "        text-align: right;\n",
       "    }\n",
       "</style>\n",
       "<table border=\"1\" class=\"dataframe\">\n",
       "  <thead>\n",
       "    <tr style=\"text-align: right;\">\n",
       "      <th></th>\n",
       "      <th>CRIM</th>\n",
       "      <th>ZN</th>\n",
       "      <th>INDUS</th>\n",
       "      <th>CHAS</th>\n",
       "      <th>NOX</th>\n",
       "      <th>RM</th>\n",
       "      <th>AGE</th>\n",
       "      <th>DIS</th>\n",
       "      <th>RAD</th>\n",
       "      <th>TAX</th>\n",
       "      <th>PTRATIO</th>\n",
       "      <th>B</th>\n",
       "      <th>LSTAT</th>\n",
       "      <th>MEDV</th>\n",
       "    </tr>\n",
       "  </thead>\n",
       "  <tbody>\n",
       "    <tr>\n",
       "      <th>0</th>\n",
       "      <td>0.00632</td>\n",
       "      <td>18.0</td>\n",
       "      <td>2.31</td>\n",
       "      <td>0.0</td>\n",
       "      <td>0.538</td>\n",
       "      <td>6.575</td>\n",
       "      <td>65.2</td>\n",
       "      <td>4.0900</td>\n",
       "      <td>1.0</td>\n",
       "      <td>296.0</td>\n",
       "      <td>15.3</td>\n",
       "      <td>396.90</td>\n",
       "      <td>4.98</td>\n",
       "      <td>24.0</td>\n",
       "    </tr>\n",
       "    <tr>\n",
       "      <th>1</th>\n",
       "      <td>0.02731</td>\n",
       "      <td>0.0</td>\n",
       "      <td>7.07</td>\n",
       "      <td>0.0</td>\n",
       "      <td>0.469</td>\n",
       "      <td>6.421</td>\n",
       "      <td>78.9</td>\n",
       "      <td>4.9671</td>\n",
       "      <td>2.0</td>\n",
       "      <td>242.0</td>\n",
       "      <td>17.8</td>\n",
       "      <td>396.90</td>\n",
       "      <td>9.14</td>\n",
       "      <td>21.6</td>\n",
       "    </tr>\n",
       "    <tr>\n",
       "      <th>2</th>\n",
       "      <td>0.02729</td>\n",
       "      <td>0.0</td>\n",
       "      <td>7.07</td>\n",
       "      <td>0.0</td>\n",
       "      <td>0.469</td>\n",
       "      <td>7.185</td>\n",
       "      <td>61.1</td>\n",
       "      <td>4.9671</td>\n",
       "      <td>2.0</td>\n",
       "      <td>242.0</td>\n",
       "      <td>17.8</td>\n",
       "      <td>392.83</td>\n",
       "      <td>4.03</td>\n",
       "      <td>34.7</td>\n",
       "    </tr>\n",
       "    <tr>\n",
       "      <th>3</th>\n",
       "      <td>0.03237</td>\n",
       "      <td>0.0</td>\n",
       "      <td>2.18</td>\n",
       "      <td>0.0</td>\n",
       "      <td>0.458</td>\n",
       "      <td>6.998</td>\n",
       "      <td>45.8</td>\n",
       "      <td>6.0622</td>\n",
       "      <td>3.0</td>\n",
       "      <td>222.0</td>\n",
       "      <td>18.7</td>\n",
       "      <td>394.63</td>\n",
       "      <td>2.94</td>\n",
       "      <td>33.4</td>\n",
       "    </tr>\n",
       "    <tr>\n",
       "      <th>4</th>\n",
       "      <td>0.06905</td>\n",
       "      <td>0.0</td>\n",
       "      <td>2.18</td>\n",
       "      <td>0.0</td>\n",
       "      <td>0.458</td>\n",
       "      <td>7.147</td>\n",
       "      <td>54.2</td>\n",
       "      <td>6.0622</td>\n",
       "      <td>3.0</td>\n",
       "      <td>222.0</td>\n",
       "      <td>18.7</td>\n",
       "      <td>396.90</td>\n",
       "      <td>5.33</td>\n",
       "      <td>36.2</td>\n",
       "    </tr>\n",
       "  </tbody>\n",
       "</table>\n",
       "</div>"
      ],
      "text/plain": [
       "      CRIM    ZN  INDUS  CHAS    NOX     RM   AGE     DIS  RAD    TAX  \\\n",
       "0  0.00632  18.0   2.31   0.0  0.538  6.575  65.2  4.0900  1.0  296.0   \n",
       "1  0.02731   0.0   7.07   0.0  0.469  6.421  78.9  4.9671  2.0  242.0   \n",
       "2  0.02729   0.0   7.07   0.0  0.469  7.185  61.1  4.9671  2.0  242.0   \n",
       "3  0.03237   0.0   2.18   0.0  0.458  6.998  45.8  6.0622  3.0  222.0   \n",
       "4  0.06905   0.0   2.18   0.0  0.458  7.147  54.2  6.0622  3.0  222.0   \n",
       "\n",
       "   PTRATIO       B  LSTAT  MEDV  \n",
       "0     15.3  396.90   4.98  24.0  \n",
       "1     17.8  396.90   9.14  21.6  \n",
       "2     17.8  392.83   4.03  34.7  \n",
       "3     18.7  394.63   2.94  33.4  \n",
       "4     18.7  396.90   5.33  36.2  "
      ]
     },
     "execution_count": 7,
     "metadata": {},
     "output_type": "execute_result"
    }
   ],
   "source": [
    "boston.head()"
   ]
  },
  {
   "cell_type": "code",
   "execution_count": 13,
   "metadata": {},
   "outputs": [
    {
     "data": {
      "text/plain": [
       "((506, 13), (506, 1))"
      ]
     },
     "execution_count": 13,
     "metadata": {},
     "output_type": "execute_result"
    }
   ],
   "source": [
    "# X(input data, features), y(output data, target, label) 을 분리\n",
    "## dataframe/servies.values => ndarray로 변환.\n",
    "X_boston = boston.drop(columns=\"MEDV\").values\n",
    "y_boston = boston['MEDV'].to_frame().values\n",
    "X_boston.shape, y_boston.shape"
   ]
  },
  {
   "cell_type": "code",
   "execution_count": 14,
   "metadata": {},
   "outputs": [
    {
     "name": "stdout",
     "output_type": "stream",
     "text": [
      "(404, 13) (102, 13) (404, 1) (102, 1)\n"
     ]
    }
   ],
   "source": [
    "## Trainset/Testset을 분리\n",
    "## X_boston, y_boston을 섞은 뒤에 0.8 : 0.2 의 비율로 나눈다. \n",
    "X_train, X_test, y_train, y_test = train_test_split(X_boston,\n",
    "                                                    y_boston,\n",
    "                                                    test_size=0.2,\n",
    "                                                    random_state=0 # seed값 설정 -> 섞이는 순서를 동일\n",
    "                                                   )\n",
    "# 회귀(정답이 연속형-다 다른값) ==> stratify=y 를 설정하지 않는다. (분류는 필수.)\n",
    "print(X_train.shape, X_test.shape, y_train.shape, y_test.shape)"
   ]
  },
  {
   "cell_type": "code",
   "execution_count": 19,
   "metadata": {},
   "outputs": [],
   "source": [
    "### Feature scaling => 컬럼들의 scaling(척도-단위)를 맞춰주는 작업.\n",
    "#  단순 값의 크기에 따라 모델링이 되지 않도록 처리.\n",
    "## StandardScaler => 모든 컬럼의 척도를 평균-0, 표준편차-1 로 맞춘다.\n",
    "## Feature scaling은 Train set의 평균과 표준편차를 이용해 train set/test set의 값들에 적용한다.\n",
    "X_train_mean = X_train.mean(axis=0)  # 컬럼별 평균\n",
    "X_train_std = X_train.std(axis=0)    # 컬럼별 표준편차\n",
    "X_train_scaled_raw = (X_train - X_train_mean)/X_train_std\n",
    "# (각원소값 - 평균)/표준편차 = 표준점수(Z score)"
   ]
  },
  {
   "cell_type": "code",
   "execution_count": 24,
   "metadata": {},
   "outputs": [
    {
     "data": {
      "text/plain": [
       "array([1., 1., 1., 1., 1., 1., 1., 1., 1., 1., 1., 1., 1.])"
      ]
     },
     "execution_count": 24,
     "metadata": {},
     "output_type": "execute_result"
    }
   ],
   "source": [
    "X_train_scaled_raw.mean(axis=0)\n",
    "X_train_scaled_raw.std(axis=0)"
   ]
  },
  {
   "cell_type": "code",
   "execution_count": 33,
   "metadata": {},
   "outputs": [],
   "source": [
    "#### Sklearn을 이용해 Standard Scaling 처리\n",
    "scaler = StandardScaler()\n",
    "scaler.fit(X_train)  # 어떻게 변환할지 학습 -> 평균/표준편차 계산\n",
    "X_train_scaled = scaler.transform(X_train)  # 변환.\n",
    "X_test_scaled = scaler.transform(X_test)    \n",
    "      # X_train의 평균/표준편차 기준으로 testset도 변환 ==> 모델을 좀더 정확하게 평가하기 위해."
   ]
  },
  {
   "cell_type": "code",
   "execution_count": 28,
   "metadata": {},
   "outputs": [
    {
     "data": {
      "text/plain": [
       "array([1., 1., 1., 1., 1., 1., 1., 1., 1., 1., 1., 1., 1.])"
      ]
     },
     "execution_count": 28,
     "metadata": {},
     "output_type": "execute_result"
    }
   ],
   "source": [
    "X_train_scaled.mean(axis=0)\n",
    "X_train_scaled.std(axis=0)"
   ]
  },
  {
   "cell_type": "code",
   "execution_count": 32,
   "metadata": {},
   "outputs": [
    {
     "data": {
      "text/plain": [
       "array([-1.30070247e-16,  2.26398421e-16, -1.27947761e-15,  6.96610525e-17,\n",
       "       -9.25185854e-18, -2.42834075e-15, -4.33204670e-16, -3.98374144e-16,\n",
       "        4.24497039e-17, -1.69254589e-16, -4.22973203e-15, -6.57426183e-16,\n",
       "       -9.06682137e-16])"
      ]
     },
     "execution_count": 32,
     "metadata": {},
     "output_type": "execute_result"
    }
   ],
   "source": [
    "X_test_scaled.mean(axis=0)\n",
    "# X_test_scaled.std(axis=0)"
   ]
  },
  {
   "cell_type": "code",
   "execution_count": null,
   "metadata": {},
   "outputs": [],
   "source": [
    "# train set: 모델을 학습 ==> 이전(과거) 데이터를 대표하는 샘플\n",
    "# test set: 모델을 평가 ==>  앞으로 예측할(미래) 데이터를 대표하는 샘플"
   ]
  },
  {
   "cell_type": "code",
   "execution_count": 37,
   "metadata": {},
   "outputs": [],
   "source": [
    "# X, y: ndarray => torch.Tensor 로 변환\n",
    "X_train_scaled = torch.tensor(X_train_scaled, dtype=torch.float32)\n",
    "X_test_scaled = torch.tensor(X_test_scaled, dtype=torch.float32)\n",
    "y_train = torch.tensor(y_train, dtype=torch.float32)\n",
    "y_test = torch.tensor(y_test, dtype=torch.float32)"
   ]
  },
  {
   "cell_type": "code",
   "execution_count": 39,
   "metadata": {},
   "outputs": [
    {
     "name": "stdout",
     "output_type": "stream",
     "text": [
      "Dataset의 데이터 개수: 404 102\n"
     ]
    },
    {
     "data": {
      "text/plain": [
       "(tensor([-0.3726, -0.4996, -0.7049,  3.6645, -0.4249,  0.9357,  0.6937, -0.4372,\n",
       "         -0.1622, -0.5617, -0.4846,  0.3717, -0.4110]),\n",
       " tensor([26.7000]))"
      ]
     },
     "execution_count": 39,
     "metadata": {},
     "output_type": "execute_result"
    }
   ],
   "source": [
    "# Dataset 생성\n",
    "boston_trainset = TensorDataset(X_train_scaled, y_train)\n",
    "boston_testset = TensorDataset(X_test_scaled, y_test)\n",
    "print(\"Dataset의 데이터 개수:\", len(boston_trainset), len(boston_testset))\n",
    "boston_trainset[0]"
   ]
  },
  {
   "cell_type": "code",
   "execution_count": 40,
   "metadata": {},
   "outputs": [
    {
     "name": "stdout",
     "output_type": "stream",
     "text": [
      "epoch당 step수: 2 1\n"
     ]
    }
   ],
   "source": [
    "# DataLoader 생성\n",
    "boston_trainloader = DataLoader(boston_trainset, \n",
    "                               batch_size=200,\n",
    "                               shuffle=True,\n",
    "                               drop_last=True)\n",
    "boston_testloader = DataLoader(boston_testset, \n",
    "                               batch_size=len(boston_testset))\n",
    "\n",
    "print(\"epoch당 step수:\", len(boston_trainloader), len(boston_testloader))"
   ]
  },
  {
   "cell_type": "markdown",
   "metadata": {},
   "source": [
    "## 모델정의"
   ]
  },
  {
   "cell_type": "code",
   "execution_count": 42,
   "metadata": {},
   "outputs": [
    {
     "data": {
      "text/plain": [
       "(506, 13)"
      ]
     },
     "execution_count": 42,
     "metadata": {},
     "output_type": "execute_result"
    }
   ],
   "source": [
    "X_boston.shape"
   ]
  },
  {
   "cell_type": "code",
   "execution_count": 43,
   "metadata": {},
   "outputs": [
    {
     "data": {
      "text/plain": [
       "(506, 1)"
      ]
     },
     "execution_count": 43,
     "metadata": {},
     "output_type": "execute_result"
    }
   ],
   "source": [
    "y_boston.shape"
   ]
  },
  {
   "cell_type": "code",
   "execution_count": 44,
   "metadata": {},
   "outputs": [],
   "source": [
    "class BostonModel(nn.Module):\n",
    "    \n",
    "    def __init__(self):\n",
    "        # nn.Module의 __init__() 실행 => 초기화.\n",
    "        super().__init__()\n",
    "        # forward propagation(예측) 할때 필요한 Layer들 생성.\n",
    "        \n",
    "        ## 입력 feature: 13, 출력 feature: 32 => weight: 13(weight수) x 32(unit수)\n",
    "        self.lr1 = nn.Linear(in_features=13, out_features=32)\n",
    "        self.lr2 = nn.Linear(32, 16)\n",
    "        ## lr3 -> 출력 Layer: out_features=모델이 출력해야할 값의 개수에 맞춰준다.\n",
    "        self.lr3 = nn.Linear(16, 1) # 집값(중앙값) 하나를 예측해야 하므로 1로 설정.\n",
    "        \n",
    "    def forward(self, X):\n",
    "        out = self.lr1(X)    # 선형\n",
    "        out = nn.ReLU()(out) # 비선형\n",
    "        out = self.lr2(out)  # 선형\n",
    "        out = nn.ReLU()(out) # 비선형\n",
    "        \n",
    "        out = self.lr3(out) # 출력 레이어(이 값이 모델의 예측값이 된다.)\n",
    "        # 회귀의 출력결과에는 Activation 함수를 적용하지 않는다.\n",
    "        #    예외: 출력값의 범위가 정해져 있고 그 범위값을 출력하는 함수가 있을경우에는 적용 가능\n",
    "        #       범위: 0 ~ 1 -> logistic (nn.Sigmoid())\n",
    "        #            -1 ~ 1 -> tanh (nn.Tanh())\n",
    "        return out\n",
    "        "
   ]
  },
  {
   "cell_type": "code",
   "execution_count": 45,
   "metadata": {},
   "outputs": [
    {
     "name": "stdout",
     "output_type": "stream",
     "text": [
      "BostonModel(\n",
      "  (lr1): Linear(in_features=13, out_features=32, bias=True)\n",
      "  (lr2): Linear(in_features=32, out_features=16, bias=True)\n",
      "  (lr3): Linear(in_features=16, out_features=1, bias=True)\n",
      ")\n"
     ]
    }
   ],
   "source": [
    "# 모델 생성\n",
    "boston_model = BostonModel()\n",
    "## 모델 구조 확인\n",
    "print(boston_model)  # attribute로 설정된 Layer들을 확인."
   ]
  },
  {
   "cell_type": "code",
   "execution_count": 46,
   "metadata": {},
   "outputs": [
    {
     "data": {
      "text/plain": [
       "==========================================================================================\n",
       "Layer (type:depth-idx)                   Output Shape              Param #\n",
       "==========================================================================================\n",
       "BostonModel                              [100, 1]                  --\n",
       "├─Linear: 1-1                            [100, 32]                 448\n",
       "├─Linear: 1-2                            [100, 16]                 528\n",
       "├─Linear: 1-3                            [100, 1]                  17\n",
       "==========================================================================================\n",
       "Total params: 993\n",
       "Trainable params: 993\n",
       "Non-trainable params: 0\n",
       "Total mult-adds (M): 0.10\n",
       "==========================================================================================\n",
       "Input size (MB): 0.01\n",
       "Forward/backward pass size (MB): 0.04\n",
       "Params size (MB): 0.00\n",
       "Estimated Total Size (MB): 0.05\n",
       "=========================================================================================="
      ]
     },
     "execution_count": 46,
     "metadata": {},
     "output_type": "execute_result"
    }
   ],
   "source": [
    "## 모델 구조 확인 - 연산 흐름 + output 의 shape 등등\n",
    "# (모델, 입력데이터의 shape(batch_size, features))\n",
    "torchinfo.summary(boston_model, (100, 13))"
   ]
  },
  {
   "cell_type": "code",
   "execution_count": 48,
   "metadata": {},
   "outputs": [
    {
     "data": {
      "text/plain": [
       "448"
      ]
     },
     "execution_count": 48,
     "metadata": {},
     "output_type": "execute_result"
    }
   ],
   "source": [
    "# lr1 => in: 13, out: 32\n",
    "# weight 개수: 13 * 32\n",
    "# bias 개수: 13 (유닛수)\n",
    "13 * 32 + 32"
   ]
  },
  {
   "cell_type": "markdown",
   "metadata": {},
   "source": [
    "### 학습(train)\n",
    "학습 + 검증"
   ]
  },
  {
   "cell_type": "code",
   "execution_count": 50,
   "metadata": {},
   "outputs": [],
   "source": [
    "# 하이퍼파라미터 (우리가 설정하는 파라미터) 정의 \n",
    "N_EPOCH = 1000\n",
    "LR = 0.001\n",
    "\n",
    "# 모델 준비\n",
    "boston_model = boston_model.to(device)  # 모델: 1. 생성 2. device를 설정.\n",
    "# loss 함수 정의 - 회귀: mse\n",
    "loss_fn = nn.MSELoss()\n",
    "# optimizer 정의\n",
    "optimizer = torch.optim.RMSprop(boston_model.parameters(), lr=LR)\n",
    "# torch.optim 모듈에 최적화알고리즘들이 정의. (모델의 파라미터, 학습률)"
   ]
  },
  {
   "cell_type": "code",
   "execution_count": 52,
   "metadata": {},
   "outputs": [],
   "source": [
    "# 에폭별 학습 결과를 저장할 리스트 \n",
    "## train loss와 validation loss 를 저장.\n",
    "train_loss_list = []\n",
    "valid_loss_list = []"
   ]
  },
  {
   "cell_type": "code",
   "execution_count": 53,
   "metadata": {
    "collapsed": true
   },
   "outputs": [
    {
     "name": "stdout",
     "output_type": "stream",
     "text": [
      "[0.001] train loss: 584.2444, valid loss: 551.9719\n",
      "[1.001] train loss: 570.3487, valid loss: 533.3219\n",
      "[2.001] train loss: 548.4057, valid loss: 510.3056\n",
      "[3.001] train loss: 523.3595, valid loss: 484.3445\n",
      "[4.001] train loss: 498.0820, valid loss: 455.9897\n",
      "[5.001] train loss: 467.1116, valid loss: 425.7925\n",
      "[6.001] train loss: 435.2229, valid loss: 394.2942\n",
      "[7.001] train loss: 403.3908, valid loss: 362.1492\n",
      "[8.001] train loss: 361.7223, valid loss: 330.1360\n",
      "[9.001] train loss: 333.2557, valid loss: 298.9735\n",
      "[10.001] train loss: 299.4612, valid loss: 269.1623\n",
      "[11.001] train loss: 268.2816, valid loss: 241.2909\n",
      "[12.001] train loss: 237.5238, valid loss: 215.7054\n",
      "[13.001] train loss: 205.7362, valid loss: 192.6596\n",
      "[14.001] train loss: 186.2806, valid loss: 172.4190\n",
      "[15.001] train loss: 164.4296, valid loss: 155.1058\n",
      "[16.001] train loss: 144.5126, valid loss: 140.8239\n",
      "[17.001] train loss: 127.9399, valid loss: 129.5627\n",
      "[18.001] train loss: 116.8709, valid loss: 121.2253\n",
      "[19.001] train loss: 107.4715, valid loss: 115.6442\n",
      "[20.001] train loss: 100.8146, valid loss: 112.6210\n",
      "[21.001] train loss: 96.4547, valid loss: 111.8713\n",
      "[22.001] train loss: 95.3545, valid loss: 112.9681\n",
      "[23.001] train loss: 96.2325, valid loss: 115.4831\n",
      "[24.001] train loss: 98.2636, valid loss: 118.9231\n",
      "[25.001] train loss: 100.3438, valid loss: 122.7272\n",
      "[26.001] train loss: 104.2190, valid loss: 126.4832\n",
      "[27.001] train loss: 106.0370, valid loss: 129.7632\n",
      "[28.001] train loss: 110.1580, valid loss: 132.3239\n",
      "[29.001] train loss: 109.9551, valid loss: 133.7480\n",
      "[30.001] train loss: 112.4331, valid loss: 133.9762\n",
      "[31.001] train loss: 111.5916, valid loss: 133.0009\n",
      "[32.001] train loss: 109.9121, valid loss: 130.5070\n",
      "[33.001] train loss: 104.2795, valid loss: 126.7061\n",
      "[34.001] train loss: 101.2818, valid loss: 121.8097\n",
      "[35.001] train loss: 95.4469, valid loss: 116.1006\n",
      "[36.001] train loss: 88.6351, valid loss: 109.7624\n",
      "[37.001] train loss: 80.3679, valid loss: 103.0663\n",
      "[38.001] train loss: 72.6154, valid loss: 96.3131\n",
      "[39.001] train loss: 65.9819, valid loss: 89.8006\n",
      "[40.001] train loss: 59.0362, valid loss: 83.7953\n",
      "[41.001] train loss: 52.1437, valid loss: 78.4350\n",
      "[42.001] train loss: 45.6239, valid loss: 73.8354\n",
      "[43.001] train loss: 41.4571, valid loss: 70.0405\n",
      "[44.001] train loss: 36.3724, valid loss: 67.0978\n",
      "[45.001] train loss: 33.5157, valid loss: 64.9694\n",
      "[46.001] train loss: 31.6218, valid loss: 63.6078\n",
      "[47.001] train loss: 30.3000, valid loss: 62.9047\n",
      "[48.001] train loss: 29.4038, valid loss: 62.7798\n",
      "[49.001] train loss: 29.5705, valid loss: 63.1397\n",
      "[50.001] train loss: 29.7624, valid loss: 63.8984\n",
      "[51.001] train loss: 31.1964, valid loss: 64.9632\n",
      "[52.001] train loss: 32.5085, valid loss: 66.2499\n",
      "[53.001] train loss: 32.8317, valid loss: 67.6901\n",
      "[54.001] train loss: 35.2541, valid loss: 69.1868\n",
      "[55.001] train loss: 38.1021, valid loss: 70.7039\n",
      "[56.001] train loss: 39.3492, valid loss: 72.1800\n",
      "[57.001] train loss: 41.8236, valid loss: 73.5600\n",
      "[58.001] train loss: 43.7350, valid loss: 74.8151\n",
      "[59.001] train loss: 45.4548, valid loss: 75.8817\n",
      "[60.001] train loss: 46.2092, valid loss: 76.7601\n",
      "[61.001] train loss: 47.7203, valid loss: 77.4186\n",
      "[62.001] train loss: 49.6588, valid loss: 77.8593\n",
      "[63.001] train loss: 50.2140, valid loss: 78.0766\n",
      "[64.001] train loss: 51.0748, valid loss: 78.0597\n",
      "[65.001] train loss: 51.0105, valid loss: 77.8293\n",
      "[66.001] train loss: 51.6566, valid loss: 77.3886\n",
      "[67.001] train loss: 51.0765, valid loss: 76.7528\n",
      "[68.001] train loss: 51.5234, valid loss: 75.9382\n",
      "[69.001] train loss: 51.0893, valid loss: 74.9822\n",
      "[70.001] train loss: 50.8288, valid loss: 73.8943\n",
      "[71.001] train loss: 49.8717, valid loss: 72.7119\n",
      "[72.001] train loss: 49.4204, valid loss: 71.4627\n",
      "[73.001] train loss: 48.4490, valid loss: 70.1950\n",
      "[74.001] train loss: 47.7453, valid loss: 68.9192\n",
      "[75.001] train loss: 46.7253, valid loss: 67.6562\n",
      "[76.001] train loss: 45.9964, valid loss: 66.4467\n",
      "[77.001] train loss: 45.0975, valid loss: 65.3236\n",
      "[78.001] train loss: 43.6799, valid loss: 64.3122\n",
      "[79.001] train loss: 43.8912, valid loss: 63.4271\n",
      "[80.001] train loss: 43.0788, valid loss: 62.6900\n",
      "[81.001] train loss: 43.1056, valid loss: 62.1090\n",
      "[82.001] train loss: 42.6252, valid loss: 61.6821\n",
      "[83.001] train loss: 42.9362, valid loss: 61.3865\n",
      "[84.001] train loss: 42.9235, valid loss: 61.2097\n",
      "[85.001] train loss: 43.3000, valid loss: 61.1456\n",
      "[86.001] train loss: 43.4581, valid loss: 61.1620\n",
      "[87.001] train loss: 43.8342, valid loss: 61.2275\n",
      "[88.001] train loss: 44.2536, valid loss: 61.3150\n",
      "[89.001] train loss: 44.4204, valid loss: 61.3436\n",
      "[90.001] train loss: 44.4086, valid loss: 61.3077\n",
      "[91.001] train loss: 45.3404, valid loss: 61.1719\n",
      "[92.001] train loss: 45.0550, valid loss: 60.8886\n",
      "[93.001] train loss: 44.0447, valid loss: 60.4233\n",
      "[94.001] train loss: 44.4729, valid loss: 59.7840\n",
      "[95.001] train loss: 43.6591, valid loss: 58.9392\n",
      "[96.001] train loss: 42.6835, valid loss: 57.9078\n",
      "[97.001] train loss: 41.5959, valid loss: 56.7176\n",
      "[98.001] train loss: 39.9355, valid loss: 55.3720\n",
      "[99.001] train loss: 38.5152, valid loss: 53.9357\n",
      "[100.001] train loss: 37.1487, valid loss: 52.4682\n",
      "[101.001] train loss: 35.1494, valid loss: 51.0041\n",
      "[102.001] train loss: 33.9401, valid loss: 49.5882\n",
      "[103.001] train loss: 31.9911, valid loss: 48.2619\n",
      "[104.001] train loss: 30.5740, valid loss: 47.0584\n",
      "[105.001] train loss: 29.2255, valid loss: 46.0000\n",
      "[106.001] train loss: 28.1429, valid loss: 45.1100\n",
      "[107.001] train loss: 27.2412, valid loss: 44.3922\n",
      "[108.001] train loss: 26.0962, valid loss: 43.8584\n",
      "[109.001] train loss: 25.7106, valid loss: 43.4904\n",
      "[110.001] train loss: 25.2630, valid loss: 43.2863\n",
      "[111.001] train loss: 25.0212, valid loss: 43.2253\n",
      "[112.001] train loss: 23.9042, valid loss: 43.2854\n",
      "[113.001] train loss: 25.0072, valid loss: 43.4453\n",
      "[114.001] train loss: 25.4380, valid loss: 43.6978\n",
      "[115.001] train loss: 25.5513, valid loss: 44.0091\n",
      "[116.001] train loss: 25.9456, valid loss: 44.3575\n",
      "[117.001] train loss: 26.2994, valid loss: 44.7222\n",
      "[118.001] train loss: 26.7226, valid loss: 45.0658\n",
      "[119.001] train loss: 27.0208, valid loss: 45.3792\n",
      "[120.001] train loss: 27.2555, valid loss: 45.6440\n",
      "[121.001] train loss: 27.5550, valid loss: 45.8328\n",
      "[122.001] train loss: 27.8730, valid loss: 45.9361\n",
      "[123.001] train loss: 27.7376, valid loss: 45.9425\n",
      "[124.001] train loss: 27.6997, valid loss: 45.8477\n",
      "[125.001] train loss: 27.7865, valid loss: 45.6565\n",
      "[126.001] train loss: 27.3718, valid loss: 45.3704\n",
      "[127.001] train loss: 27.4096, valid loss: 44.9919\n",
      "[128.001] train loss: 26.9729, valid loss: 44.5377\n",
      "[129.001] train loss: 26.3876, valid loss: 44.0109\n",
      "[130.001] train loss: 25.9483, valid loss: 43.4287\n",
      "[131.001] train loss: 25.0793, valid loss: 42.8215\n",
      "[132.001] train loss: 24.4843, valid loss: 42.2063\n",
      "[133.001] train loss: 24.1024, valid loss: 41.6080\n",
      "[134.001] train loss: 23.8545, valid loss: 41.0421\n",
      "[135.001] train loss: 23.1672, valid loss: 40.5277\n",
      "[136.001] train loss: 22.8824, valid loss: 40.0872\n",
      "[137.001] train loss: 22.6127, valid loss: 39.7313\n",
      "[138.001] train loss: 22.4816, valid loss: 39.4790\n",
      "[139.001] train loss: 22.3708, valid loss: 39.3261\n",
      "[140.001] train loss: 22.3244, valid loss: 39.2780\n",
      "[141.001] train loss: 22.3098, valid loss: 39.3238\n",
      "[142.001] train loss: 22.7266, valid loss: 39.4513\n",
      "[143.001] train loss: 23.2083, valid loss: 39.6387\n",
      "[144.001] train loss: 23.6326, valid loss: 39.8632\n",
      "[145.001] train loss: 24.1430, valid loss: 40.0952\n",
      "[146.001] train loss: 24.4547, valid loss: 40.2966\n",
      "[147.001] train loss: 24.8672, valid loss: 40.4441\n",
      "[148.001] train loss: 25.3423, valid loss: 40.5045\n",
      "[149.001] train loss: 25.4664, valid loss: 40.4615\n",
      "[150.001] train loss: 25.5706, valid loss: 40.2992\n",
      "[151.001] train loss: 25.4620, valid loss: 40.0065\n",
      "[152.001] train loss: 25.3336, valid loss: 39.5929\n",
      "[153.001] train loss: 25.1803, valid loss: 39.0640\n",
      "[154.001] train loss: 24.6008, valid loss: 38.4551\n",
      "[155.001] train loss: 24.1916, valid loss: 37.7879\n",
      "[156.001] train loss: 23.2542, valid loss: 37.1065\n",
      "[157.001] train loss: 22.8404, valid loss: 36.4325\n",
      "[158.001] train loss: 22.1602, valid loss: 35.8152\n",
      "[159.001] train loss: 21.7065, valid loss: 35.2850\n",
      "[160.001] train loss: 21.3281, valid loss: 34.8621\n",
      "[161.001] train loss: 21.0267, valid loss: 34.5634\n",
      "[162.001] train loss: 20.3084, valid loss: 34.3937\n",
      "[163.001] train loss: 20.6776, valid loss: 34.3500\n",
      "[164.001] train loss: 20.7376, valid loss: 34.4230\n",
      "[165.001] train loss: 20.6091, valid loss: 34.5974\n",
      "[166.001] train loss: 20.9521, valid loss: 34.8468\n",
      "[167.001] train loss: 21.6338, valid loss: 35.1453\n",
      "[168.001] train loss: 21.8718, valid loss: 35.4633\n",
      "[169.001] train loss: 22.4183, valid loss: 35.7695\n",
      "[170.001] train loss: 22.7421, valid loss: 36.0459\n",
      "[171.001] train loss: 23.1953, valid loss: 36.2481\n",
      "[172.001] train loss: 23.5153, valid loss: 36.3544\n",
      "[173.001] train loss: 23.7231, valid loss: 36.3389\n",
      "[174.001] train loss: 23.6422, valid loss: 36.2052\n",
      "[175.001] train loss: 23.7608, valid loss: 35.9447\n",
      "[176.001] train loss: 23.4253, valid loss: 35.5473\n",
      "[177.001] train loss: 23.0206, valid loss: 35.0417\n",
      "[178.001] train loss: 22.2052, valid loss: 34.4371\n",
      "[179.001] train loss: 22.0333, valid loss: 33.7622\n",
      "[180.001] train loss: 21.6488, valid loss: 33.0563\n",
      "[181.001] train loss: 20.9779, valid loss: 32.3467\n",
      "[182.001] train loss: 20.3542, valid loss: 31.6781\n",
      "[183.001] train loss: 19.9910, valid loss: 31.0846\n",
      "[184.001] train loss: 19.4974, valid loss: 30.5982\n",
      "[185.001] train loss: 19.1802, valid loss: 30.2421\n",
      "[186.001] train loss: 18.8119, valid loss: 30.0303\n",
      "[187.001] train loss: 19.0364, valid loss: 29.9638\n",
      "[188.001] train loss: 19.2606, valid loss: 30.0344\n",
      "[189.001] train loss: 19.6334, valid loss: 30.2150\n",
      "[190.001] train loss: 19.9182, valid loss: 30.4753\n",
      "[191.001] train loss: 20.2010, valid loss: 30.7694\n",
      "[192.001] train loss: 20.9704, valid loss: 31.0465\n",
      "[193.001] train loss: 21.2875, valid loss: 31.2604\n",
      "[194.001] train loss: 21.5849, valid loss: 31.3776\n",
      "[195.001] train loss: 21.6701, valid loss: 31.3612\n",
      "[196.001] train loss: 20.7728, valid loss: 31.2073\n",
      "[197.001] train loss: 21.4340, valid loss: 30.9032\n"
     ]
    },
    {
     "name": "stdout",
     "output_type": "stream",
     "text": [
      "[198.001] train loss: 20.9495, valid loss: 30.4854\n",
      "[199.001] train loss: 19.4645, valid loss: 30.0161\n",
      "[200.001] train loss: 19.8303, valid loss: 29.5340\n",
      "[201.001] train loss: 19.0349, valid loss: 29.1032\n",
      "[202.001] train loss: 18.3601, valid loss: 28.7764\n",
      "[203.001] train loss: 17.7933, valid loss: 28.5966\n",
      "[204.001] train loss: 17.4312, valid loss: 28.5961\n",
      "[205.001] train loss: 17.1709, valid loss: 28.7772\n",
      "[206.001] train loss: 17.0923, valid loss: 29.1368\n",
      "[207.001] train loss: 16.6588, valid loss: 29.6423\n",
      "[208.001] train loss: 17.4149, valid loss: 30.2563\n",
      "[209.001] train loss: 16.1999, valid loss: 30.9292\n",
      "[210.001] train loss: 17.8944, valid loss: 31.6165\n",
      "[211.001] train loss: 18.7628, valid loss: 32.2456\n",
      "[212.001] train loss: 18.9369, valid loss: 32.7827\n",
      "[213.001] train loss: 19.5519, valid loss: 33.1669\n",
      "[214.001] train loss: 19.7041, valid loss: 33.3596\n",
      "[215.001] train loss: 19.6891, valid loss: 33.3514\n",
      "[216.001] train loss: 19.4352, valid loss: 33.1417\n",
      "[217.001] train loss: 19.1397, valid loss: 32.7317\n",
      "[218.001] train loss: 18.3583, valid loss: 32.1717\n",
      "[219.001] train loss: 17.6387, valid loss: 31.5099\n",
      "[220.001] train loss: 17.3386, valid loss: 30.8187\n",
      "[221.001] train loss: 16.6371, valid loss: 30.1626\n",
      "[222.001] train loss: 16.1289, valid loss: 29.5963\n",
      "[223.001] train loss: 15.6644, valid loss: 29.1861\n",
      "[224.001] train loss: 14.4987, valid loss: 28.9666\n",
      "[225.001] train loss: 15.5044, valid loss: 28.9535\n",
      "[226.001] train loss: 15.9029, valid loss: 29.1324\n",
      "[227.001] train loss: 15.9142, valid loss: 29.4583\n",
      "[228.001] train loss: 16.8028, valid loss: 29.8759\n",
      "[229.001] train loss: 17.4650, valid loss: 30.3170\n",
      "[230.001] train loss: 17.9617, valid loss: 30.6905\n",
      "[231.001] train loss: 18.0962, valid loss: 30.9520\n",
      "[232.001] train loss: 18.2664, valid loss: 31.0542\n",
      "[233.001] train loss: 18.4261, valid loss: 30.9846\n",
      "[234.001] train loss: 18.2735, valid loss: 30.7768\n",
      "[235.001] train loss: 17.6319, valid loss: 30.4757\n",
      "[236.001] train loss: 17.1093, valid loss: 30.1629\n",
      "[237.001] train loss: 16.3945, valid loss: 29.9225\n",
      "[238.001] train loss: 15.6411, valid loss: 29.8335\n",
      "[239.001] train loss: 15.2173, valid loss: 29.9564\n",
      "[240.001] train loss: 14.8507, valid loss: 30.3176\n",
      "[241.001] train loss: 14.7822, valid loss: 30.9076\n",
      "[242.001] train loss: 15.1581, valid loss: 31.6960\n",
      "[243.001] train loss: 15.5971, valid loss: 32.5963\n",
      "[244.001] train loss: 15.9935, valid loss: 33.5114\n",
      "[245.001] train loss: 16.6432, valid loss: 34.3694\n",
      "[246.001] train loss: 17.2183, valid loss: 35.0468\n",
      "[247.001] train loss: 17.6541, valid loss: 35.4758\n",
      "[248.001] train loss: 17.9581, valid loss: 35.6232\n",
      "[249.001] train loss: 17.9130, valid loss: 35.4408\n",
      "[250.001] train loss: 16.2564, valid loss: 34.9770\n",
      "[251.001] train loss: 16.8980, valid loss: 34.2729\n",
      "[252.001] train loss: 16.3531, valid loss: 33.4240\n",
      "[253.001] train loss: 15.8061, valid loss: 32.5221\n",
      "[254.001] train loss: 14.5640, valid loss: 31.6935\n",
      "[255.001] train loss: 14.4531, valid loss: 31.0354\n",
      "[256.001] train loss: 14.3147, valid loss: 30.6088\n",
      "[257.001] train loss: 14.2094, valid loss: 30.4377\n",
      "[258.001] train loss: 14.5923, valid loss: 30.5003\n",
      "[259.001] train loss: 15.1702, valid loss: 30.7417\n",
      "[260.001] train loss: 15.8910, valid loss: 31.0705\n",
      "[261.001] train loss: 16.3187, valid loss: 31.3809\n",
      "[262.001] train loss: 17.0653, valid loss: 31.5794\n",
      "[263.001] train loss: 17.3772, valid loss: 31.6016\n",
      "[264.001] train loss: 17.3728, valid loss: 31.4350\n",
      "[265.001] train loss: 16.9237, valid loss: 31.1235\n",
      "[266.001] train loss: 16.3148, valid loss: 30.7422\n",
      "[267.001] train loss: 15.6105, valid loss: 30.3936\n",
      "[268.001] train loss: 14.8760, valid loss: 30.2016\n",
      "[269.001] train loss: 14.1152, valid loss: 30.2508\n",
      "[270.001] train loss: 13.9000, valid loss: 30.5903\n",
      "[271.001] train loss: 13.8462, valid loss: 31.2107\n",
      "[272.001] train loss: 14.0351, valid loss: 32.0493\n",
      "[273.001] train loss: 14.5996, valid loss: 33.0094\n",
      "[274.001] train loss: 15.2892, valid loss: 33.9558\n",
      "[275.001] train loss: 16.0369, valid loss: 34.7241\n",
      "[276.001] train loss: 16.6319, valid loss: 35.2187\n",
      "[277.001] train loss: 16.7665, valid loss: 35.3142\n",
      "[278.001] train loss: 16.6697, valid loss: 35.0414\n",
      "[279.001] train loss: 16.5121, valid loss: 34.3803\n",
      "[280.001] train loss: 15.9633, valid loss: 33.4377\n",
      "[281.001] train loss: 15.2100, valid loss: 32.3400\n",
      "[282.001] train loss: 14.5873, valid loss: 31.2247\n",
      "[283.001] train loss: 13.6809, valid loss: 30.3106\n",
      "[284.001] train loss: 13.5645, valid loss: 29.6717\n",
      "[285.001] train loss: 13.6161, valid loss: 29.3573\n",
      "[286.001] train loss: 13.9042, valid loss: 29.3453\n",
      "[287.001] train loss: 14.5110, valid loss: 29.5487\n",
      "[288.001] train loss: 15.2511, valid loss: 29.8387\n",
      "[289.001] train loss: 16.0409, valid loss: 30.0701\n",
      "[290.001] train loss: 16.4789, valid loss: 30.1489\n",
      "[291.001] train loss: 16.5062, valid loss: 30.0026\n",
      "[292.001] train loss: 16.1110, valid loss: 29.6860\n",
      "[293.001] train loss: 15.6327, valid loss: 29.2912\n",
      "[294.001] train loss: 14.8458, valid loss: 28.9605\n",
      "[295.001] train loss: 14.0236, valid loss: 28.8477\n",
      "[296.001] train loss: 13.3949, valid loss: 29.0648\n",
      "[297.001] train loss: 12.8853, valid loss: 29.6600\n",
      "[298.001] train loss: 13.2579, valid loss: 30.5714\n",
      "[299.001] train loss: 13.5378, valid loss: 31.6829\n",
      "[300.001] train loss: 14.4074, valid loss: 32.8079\n",
      "[301.001] train loss: 15.2297, valid loss: 33.7295\n",
      "[302.001] train loss: 15.6351, valid loss: 34.3200\n",
      "[303.001] train loss: 15.9811, valid loss: 34.3899\n",
      "[304.001] train loss: 15.8086, valid loss: 33.9576\n",
      "[305.001] train loss: 15.3459, valid loss: 33.1098\n",
      "[306.001] train loss: 14.8415, valid loss: 31.9572\n",
      "[307.001] train loss: 13.9824, valid loss: 30.7366\n",
      "[308.001] train loss: 13.3060, valid loss: 29.6149\n",
      "[309.001] train loss: 12.7279, valid loss: 28.8274\n",
      "[310.001] train loss: 12.6017, valid loss: 28.4219\n",
      "[311.001] train loss: 13.0258, valid loss: 28.3918\n",
      "[312.001] train loss: 13.7630, valid loss: 28.6114\n",
      "[313.001] train loss: 14.5766, valid loss: 28.9100\n",
      "[314.001] train loss: 15.0468, valid loss: 29.1208\n",
      "[315.001] train loss: 15.6017, valid loss: 29.1277\n",
      "[316.001] train loss: 15.4243, valid loss: 28.9092\n",
      "[317.001] train loss: 14.8088, valid loss: 28.5766\n",
      "[318.001] train loss: 13.1477, valid loss: 28.3024\n",
      "[319.001] train loss: 13.2095, valid loss: 28.2919\n",
      "[320.001] train loss: 11.6249, valid loss: 28.6797\n",
      "[321.001] train loss: 12.1737, valid loss: 29.5134\n",
      "[322.001] train loss: 12.3918, valid loss: 30.6805\n",
      "[323.001] train loss: 13.1101, valid loss: 32.0261\n",
      "[324.001] train loss: 13.7714, valid loss: 33.1990\n",
      "[325.001] train loss: 14.3443, valid loss: 34.0283\n",
      "[326.001] train loss: 15.0148, valid loss: 34.2831\n",
      "[327.001] train loss: 15.1655, valid loss: 33.9207\n",
      "[328.001] train loss: 14.6788, valid loss: 33.0007\n",
      "[329.001] train loss: 13.9519, valid loss: 31.7054\n",
      "[330.001] train loss: 13.0056, valid loss: 30.3157\n",
      "[331.001] train loss: 12.3734, valid loss: 29.1112\n",
      "[332.001] train loss: 11.7946, valid loss: 28.3401\n",
      "[333.001] train loss: 12.1206, valid loss: 28.0352\n",
      "[334.001] train loss: 12.4421, valid loss: 28.1090\n",
      "[335.001] train loss: 13.5378, valid loss: 28.3684\n",
      "[336.001] train loss: 14.3171, valid loss: 28.5882\n",
      "[337.001] train loss: 14.7782, valid loss: 28.6109\n",
      "[338.001] train loss: 14.6613, valid loss: 28.3770\n",
      "[339.001] train loss: 14.1709, valid loss: 28.0295\n",
      "[340.001] train loss: 13.3227, valid loss: 27.7778\n",
      "[341.001] train loss: 12.4729, valid loss: 27.8821\n",
      "[342.001] train loss: 11.7442, valid loss: 28.4741\n",
      "[343.001] train loss: 11.6986, valid loss: 29.5263\n",
      "[344.001] train loss: 11.4450, valid loss: 30.8445\n",
      "[345.001] train loss: 12.7945, valid loss: 32.1245\n",
      "[346.001] train loss: 13.8641, valid loss: 33.1097\n",
      "[347.001] train loss: 14.2379, valid loss: 33.4520\n",
      "[348.001] train loss: 14.5520, valid loss: 33.0313\n",
      "[349.001] train loss: 14.1288, valid loss: 31.9305\n",
      "[350.001] train loss: 13.3841, valid loss: 30.4398\n",
      "[351.001] train loss: 12.2532, valid loss: 28.9454\n",
      "[352.001] train loss: 11.6496, valid loss: 27.7509\n",
      "[353.001] train loss: 11.6417, valid loss: 27.0568\n",
      "[354.001] train loss: 10.8814, valid loss: 26.8806\n",
      "[355.001] train loss: 12.7139, valid loss: 27.0194\n",
      "[356.001] train loss: 13.5898, valid loss: 27.2007\n",
      "[357.001] train loss: 14.2666, valid loss: 27.2346\n",
      "[358.001] train loss: 14.0699, valid loss: 27.0268\n",
      "[359.001] train loss: 13.8476, valid loss: 26.6707\n",
      "[360.001] train loss: 13.0324, valid loss: 26.4208\n",
      "[361.001] train loss: 11.0697, valid loss: 26.5511\n",
      "[362.001] train loss: 11.5069, valid loss: 27.2147\n",
      "[363.001] train loss: 11.6476, valid loss: 28.3809\n",
      "[364.001] train loss: 12.0176, valid loss: 29.7782\n",
      "[365.001] train loss: 12.8506, valid loss: 31.0482\n",
      "[366.001] train loss: 13.8621, valid loss: 31.8066\n",
      "[367.001] train loss: 14.2936, valid loss: 31.7795\n",
      "[368.001] train loss: 14.1894, valid loss: 30.8768\n",
      "[369.001] train loss: 13.4895, valid loss: 29.4178\n",
      "[370.001] train loss: 12.5884, valid loss: 27.7882\n",
      "[371.001] train loss: 11.7918, valid loss: 26.4813\n",
      "[372.001] train loss: 11.6384, valid loss: 25.7380\n",
      "[373.001] train loss: 11.9256, valid loss: 25.5850\n",
      "[374.001] train loss: 12.6551, valid loss: 25.7827\n",
      "[375.001] train loss: 13.5808, valid loss: 26.0073\n",
      "[376.001] train loss: 14.2461, valid loss: 26.0103\n",
      "[377.001] train loss: 14.2061, valid loss: 25.7457\n",
      "[378.001] train loss: 13.4930, valid loss: 25.4128\n",
      "[379.001] train loss: 12.5187, valid loss: 25.3493\n",
      "[380.001] train loss: 11.6046, valid loss: 25.8249\n",
      "[381.001] train loss: 11.4110, valid loss: 26.9159\n",
      "[382.001] train loss: 11.9338, valid loss: 28.4314\n",
      "[383.001] train loss: 12.5642, valid loss: 29.8170\n",
      "[384.001] train loss: 13.5289, valid loss: 30.6909\n",
      "[385.001] train loss: 13.8593, valid loss: 30.8217\n",
      "[386.001] train loss: 13.9149, valid loss: 29.9500\n",
      "[387.001] train loss: 12.7400, valid loss: 28.4782\n",
      "[388.001] train loss: 12.1153, valid loss: 26.8946\n",
      "[389.001] train loss: 11.2935, valid loss: 25.6742\n",
      "[390.001] train loss: 11.1578, valid loss: 25.0871\n",
      "[391.001] train loss: 11.6258, valid loss: 25.0830\n",
      "[392.001] train loss: 12.6632, valid loss: 25.3702\n",
      "[393.001] train loss: 13.4789, valid loss: 25.6011\n",
      "[394.001] train loss: 13.8945, valid loss: 25.4965\n",
      "[395.001] train loss: 13.4612, valid loss: 25.1759\n",
      "[396.001] train loss: 12.5173, valid loss: 24.9754\n"
     ]
    },
    {
     "name": "stdout",
     "output_type": "stream",
     "text": [
      "[397.001] train loss: 11.1397, valid loss: 25.2915\n",
      "[398.001] train loss: 10.9417, valid loss: 26.3200\n",
      "[399.001] train loss: 10.0226, valid loss: 27.9112\n",
      "[400.001] train loss: 12.0350, valid loss: 29.5946\n",
      "[401.001] train loss: 13.0538, valid loss: 30.6521\n",
      "[402.001] train loss: 13.6680, valid loss: 30.7693\n",
      "[403.001] train loss: 13.3994, valid loss: 29.8309\n",
      "[404.001] train loss: 12.6160, valid loss: 28.2095\n",
      "[405.001] train loss: 11.6435, valid loss: 26.4841\n",
      "[406.001] train loss: 10.8610, valid loss: 25.2867\n",
      "[407.001] train loss: 10.7887, valid loss: 24.8705\n",
      "[408.001] train loss: 11.5257, valid loss: 25.0390\n",
      "[409.001] train loss: 12.4385, valid loss: 25.3652\n",
      "[410.001] train loss: 13.4318, valid loss: 25.4435\n",
      "[411.001] train loss: 13.4220, valid loss: 25.1546\n",
      "[412.001] train loss: 12.6737, valid loss: 24.7710\n",
      "[413.001] train loss: 11.1803, valid loss: 24.8068\n",
      "[414.001] train loss: 10.7365, valid loss: 25.6032\n",
      "[415.001] train loss: 10.5758, valid loss: 27.0552\n",
      "[416.001] train loss: 11.5023, valid loss: 28.7791\n",
      "[417.001] train loss: 12.3135, valid loss: 29.9303\n",
      "[418.001] train loss: 12.8836, valid loss: 30.1861\n",
      "[419.001] train loss: 13.1434, valid loss: 29.2048\n",
      "[420.001] train loss: 12.2990, valid loss: 27.4411\n",
      "[421.001] train loss: 11.1619, valid loss: 25.6316\n",
      "[422.001] train loss: 9.3256, valid loss: 24.4909\n",
      "[423.001] train loss: 10.5332, valid loss: 24.1515\n",
      "[424.001] train loss: 11.5025, valid loss: 24.3618\n",
      "[425.001] train loss: 12.6406, valid loss: 24.6375\n",
      "[426.001] train loss: 13.0795, valid loss: 24.5509\n",
      "[427.001] train loss: 12.8934, valid loss: 24.1447\n",
      "[428.001] train loss: 11.7626, valid loss: 23.8773\n",
      "[429.001] train loss: 10.6260, valid loss: 24.2543\n",
      "[430.001] train loss: 10.2870, valid loss: 25.4393\n",
      "[431.001] train loss: 10.7149, valid loss: 27.0917\n",
      "[432.001] train loss: 11.6798, valid loss: 28.5558\n",
      "[433.001] train loss: 12.7384, valid loss: 29.1674\n",
      "[434.001] train loss: 12.9560, valid loss: 28.5515\n",
      "[435.001] train loss: 12.4109, valid loss: 26.9864\n",
      "[436.001] train loss: 11.1944, valid loss: 25.2331\n",
      "[437.001] train loss: 10.5087, valid loss: 23.9316\n",
      "[438.001] train loss: 10.4622, valid loss: 23.5135\n",
      "[439.001] train loss: 11.3148, valid loss: 23.7627\n",
      "[440.001] train loss: 12.4658, valid loss: 24.1063\n",
      "[441.001] train loss: 13.0997, valid loss: 24.0666\n",
      "[442.001] train loss: 12.7610, valid loss: 23.6718\n",
      "[443.001] train loss: 11.7408, valid loss: 23.4684\n",
      "[444.001] train loss: 10.5231, valid loss: 24.0120\n",
      "[445.001] train loss: 10.2121, valid loss: 25.3632\n",
      "[446.001] train loss: 10.7148, valid loss: 27.0779\n",
      "[447.001] train loss: 12.0259, valid loss: 28.5093\n",
      "[448.001] train loss: 12.6377, valid loss: 28.7393\n",
      "[449.001] train loss: 12.7013, valid loss: 27.7600\n",
      "[450.001] train loss: 11.7354, valid loss: 26.0594\n",
      "[451.001] train loss: 9.8660, valid loss: 24.4542\n",
      "[452.001] train loss: 9.2570, valid loss: 23.6562\n",
      "[453.001] train loss: 10.6835, valid loss: 23.7594\n",
      "[454.001] train loss: 11.7535, valid loss: 24.1982\n",
      "[455.001] train loss: 12.8267, valid loss: 24.3686\n",
      "[456.001] train loss: 12.8198, valid loss: 24.0652\n",
      "[457.001] train loss: 11.8934, valid loss: 23.7428\n",
      "[458.001] train loss: 10.5800, valid loss: 24.0991\n",
      "[459.001] train loss: 10.0050, valid loss: 25.4347\n",
      "[460.001] train loss: 10.7053, valid loss: 27.4297\n",
      "[461.001] train loss: 11.7392, valid loss: 28.9529\n",
      "[462.001] train loss: 12.6256, valid loss: 29.3177\n",
      "[463.001] train loss: 12.5611, valid loss: 28.2346\n",
      "[464.001] train loss: 11.5460, valid loss: 26.3391\n",
      "[465.001] train loss: 10.3637, valid loss: 24.6592\n",
      "[466.001] train loss: 9.8689, valid loss: 23.9388\n",
      "[467.001] train loss: 10.5881, valid loss: 24.1164\n",
      "[468.001] train loss: 11.7667, valid loss: 24.5166\n",
      "[469.001] train loss: 12.5489, valid loss: 24.5029\n",
      "[470.001] train loss: 12.2911, valid loss: 24.0910\n",
      "[471.001] train loss: 11.0365, valid loss: 23.9240\n",
      "[472.001] train loss: 10.1142, valid loss: 24.6327\n",
      "[473.001] train loss: 9.9743, valid loss: 26.2536\n",
      "[474.001] train loss: 10.6823, valid loss: 28.0498\n",
      "[475.001] train loss: 11.4877, valid loss: 29.0146\n",
      "[476.001] train loss: 11.7804, valid loss: 28.6222\n",
      "[477.001] train loss: 11.8414, valid loss: 27.0530\n",
      "[478.001] train loss: 10.7382, valid loss: 25.1176\n",
      "[479.001] train loss: 9.8050, valid loss: 23.9397\n",
      "[480.001] train loss: 10.0725, valid loss: 23.7946\n",
      "[481.001] train loss: 10.9422, valid loss: 24.1995\n",
      "[482.001] train loss: 11.9629, valid loss: 24.3969\n",
      "[483.001] train loss: 12.3574, valid loss: 24.0854\n",
      "[484.001] train loss: 11.4263, valid loss: 23.6986\n",
      "[485.001] train loss: 10.1622, valid loss: 24.0981\n",
      "[486.001] train loss: 9.8554, valid loss: 25.6395\n",
      "[487.001] train loss: 10.7024, valid loss: 27.6870\n",
      "[488.001] train loss: 11.4173, valid loss: 28.8513\n",
      "[489.001] train loss: 12.2922, valid loss: 28.4787\n",
      "[490.001] train loss: 11.8796, valid loss: 26.8215\n",
      "[491.001] train loss: 10.6252, valid loss: 24.8836\n",
      "[492.001] train loss: 10.0910, valid loss: 23.8426\n",
      "[493.001] train loss: 10.3055, valid loss: 23.9766\n",
      "[494.001] train loss: 11.4000, valid loss: 24.4794\n",
      "[495.001] train loss: 12.1128, valid loss: 24.5461\n",
      "[496.001] train loss: 12.0851, valid loss: 24.1430\n",
      "[497.001] train loss: 10.9127, valid loss: 23.9764\n",
      "[498.001] train loss: 9.9418, valid loss: 24.9218\n",
      "[499.001] train loss: 10.1641, valid loss: 26.9331\n",
      "[500.001] train loss: 11.1533, valid loss: 28.8058\n",
      "[501.001] train loss: 12.2616, valid loss: 29.3197\n",
      "[502.001] train loss: 12.3350, valid loss: 28.1352\n",
      "[503.001] train loss: 11.0583, valid loss: 26.1108\n",
      "[504.001] train loss: 9.9432, valid loss: 24.5907\n",
      "[505.001] train loss: 9.9586, valid loss: 24.3551\n",
      "[506.001] train loss: 11.1878, valid loss: 24.9199\n",
      "[507.001] train loss: 12.2804, valid loss: 25.1544\n",
      "[508.001] train loss: 12.2198, valid loss: 24.7639\n",
      "[509.001] train loss: 11.1619, valid loss: 24.4191\n",
      "[510.001] train loss: 9.9086, valid loss: 25.1342\n",
      "[511.001] train loss: 9.6405, valid loss: 26.9768\n",
      "[512.001] train loss: 10.8894, valid loss: 29.0966\n",
      "[513.001] train loss: 12.1631, valid loss: 29.8260\n",
      "[514.001] train loss: 12.2633, valid loss: 28.6463\n",
      "[515.001] train loss: 10.9130, valid loss: 26.4341\n",
      "[516.001] train loss: 9.9295, valid loss: 24.7354\n",
      "[517.001] train loss: 9.5996, valid loss: 24.4022\n",
      "[518.001] train loss: 10.7597, valid loss: 24.8690\n",
      "[519.001] train loss: 12.0081, valid loss: 25.0569\n",
      "[520.001] train loss: 12.1141, valid loss: 24.5604\n",
      "[521.001] train loss: 10.7216, valid loss: 24.1754\n",
      "[522.001] train loss: 9.5783, valid loss: 24.9567\n",
      "[523.001] train loss: 9.7076, valid loss: 26.9807\n",
      "[524.001] train loss: 10.8073, valid loss: 28.9866\n",
      "[525.001] train loss: 12.1253, valid loss: 29.3739\n",
      "[526.001] train loss: 11.9345, valid loss: 27.7028\n",
      "[527.001] train loss: 10.7276, valid loss: 25.2451\n",
      "[528.001] train loss: 9.4904, valid loss: 23.9447\n",
      "[529.001] train loss: 10.1018, valid loss: 24.0812\n",
      "[530.001] train loss: 11.3829, valid loss: 24.6357\n",
      "[531.001] train loss: 12.1194, valid loss: 24.4675\n",
      "[532.001] train loss: 11.5970, valid loss: 23.8570\n",
      "[533.001] train loss: 10.0812, valid loss: 24.0505\n",
      "[534.001] train loss: 9.2368, valid loss: 25.7256\n",
      "[535.001] train loss: 10.1223, valid loss: 27.9750\n",
      "[536.001] train loss: 11.5117, valid loss: 29.2060\n",
      "[537.001] train loss: 12.0479, valid loss: 28.3018\n",
      "[538.001] train loss: 10.9384, valid loss: 26.0415\n",
      "[539.001] train loss: 9.6307, valid loss: 24.3059\n",
      "[540.001] train loss: 9.3703, valid loss: 24.0240\n",
      "[541.001] train loss: 10.6679, valid loss: 24.5889\n",
      "[542.001] train loss: 11.8211, valid loss: 24.7689\n",
      "[543.001] train loss: 11.6357, valid loss: 24.3019\n",
      "[544.001] train loss: 10.4500, valid loss: 24.2721\n",
      "[545.001] train loss: 9.2737, valid loss: 25.6373\n",
      "[546.001] train loss: 9.7624, valid loss: 27.8558\n",
      "[547.001] train loss: 11.0778, valid loss: 29.3114\n",
      "[548.001] train loss: 11.7669, valid loss: 28.6608\n",
      "[549.001] train loss: 10.9046, valid loss: 26.5995\n",
      "[550.001] train loss: 9.3584, valid loss: 24.7155\n",
      "[551.001] train loss: 9.2893, valid loss: 24.2136\n",
      "[552.001] train loss: 10.1967, valid loss: 24.6266\n",
      "[553.001] train loss: 11.3812, valid loss: 24.7482\n",
      "[554.001] train loss: 11.3008, valid loss: 24.2595\n",
      "[555.001] train loss: 10.1132, valid loss: 24.2013\n",
      "[556.001] train loss: 9.1187, valid loss: 25.4042\n",
      "[557.001] train loss: 9.6623, valid loss: 27.5866\n",
      "[558.001] train loss: 10.8095, valid loss: 28.5868\n",
      "[559.001] train loss: 11.3173, valid loss: 27.8446\n",
      "[560.001] train loss: 10.5551, valid loss: 25.7278\n",
      "[561.001] train loss: 9.3114, valid loss: 24.1730\n",
      "[562.001] train loss: 9.1977, valid loss: 24.0101\n",
      "[563.001] train loss: 10.4474, valid loss: 24.5057\n",
      "[564.001] train loss: 11.3291, valid loss: 24.4866\n",
      "[565.001] train loss: 10.7185, valid loss: 24.0302\n",
      "[566.001] train loss: 9.5717, valid loss: 24.3482\n",
      "[567.001] train loss: 9.0005, valid loss: 26.0393\n",
      "[568.001] train loss: 9.8566, valid loss: 27.9870\n",
      "[569.001] train loss: 11.0535, valid loss: 28.5602\n",
      "[570.001] train loss: 11.0824, valid loss: 27.2903\n",
      "[571.001] train loss: 9.9339, valid loss: 25.3446\n",
      "[572.001] train loss: 9.1349, valid loss: 24.4801\n",
      "[573.001] train loss: 9.5165, valid loss: 24.8210\n",
      "[574.001] train loss: 10.7922, valid loss: 25.1841\n",
      "[575.001] train loss: 11.1967, valid loss: 24.8982\n",
      "[576.001] train loss: 10.0965, valid loss: 24.7491\n",
      "[577.001] train loss: 9.1384, valid loss: 25.9174\n",
      "[578.001] train loss: 9.0144, valid loss: 27.9045\n",
      "[579.001] train loss: 10.4322, valid loss: 29.0026\n",
      "[580.001] train loss: 11.0605, valid loss: 28.1610\n",
      "[581.001] train loss: 10.1320, valid loss: 26.2492\n",
      "[582.001] train loss: 9.1360, valid loss: 24.8764\n",
      "[583.001] train loss: 9.1898, valid loss: 24.7681\n",
      "[584.001] train loss: 10.3428, valid loss: 25.0835\n",
      "[585.001] train loss: 10.9309, valid loss: 24.8114\n",
      "[586.001] train loss: 10.1613, valid loss: 24.5002\n",
      "[587.001] train loss: 9.1658, valid loss: 25.2915\n"
     ]
    },
    {
     "name": "stdout",
     "output_type": "stream",
     "text": [
      "[588.001] train loss: 8.9917, valid loss: 27.0004\n",
      "[589.001] train loss: 10.1822, valid loss: 28.3864\n",
      "[590.001] train loss: 10.7786, valid loss: 27.8389\n",
      "[591.001] train loss: 10.0280, valid loss: 25.8850\n",
      "[592.001] train loss: 9.0539, valid loss: 24.4628\n",
      "[593.001] train loss: 9.1189, valid loss: 24.3207\n",
      "[594.001] train loss: 9.9502, valid loss: 24.6048\n",
      "[595.001] train loss: 10.6330, valid loss: 24.4459\n",
      "[596.001] train loss: 9.8028, valid loss: 24.3063\n",
      "[597.001] train loss: 9.0010, valid loss: 25.2863\n",
      "[598.001] train loss: 9.0702, valid loss: 27.2086\n",
      "[599.001] train loss: 10.1252, valid loss: 28.3603\n",
      "[600.001] train loss: 10.5219, valid loss: 27.6683\n",
      "[601.001] train loss: 9.8118, valid loss: 25.7309\n",
      "[602.001] train loss: 8.9341, valid loss: 24.5981\n",
      "[603.001] train loss: 9.2742, valid loss: 24.6524\n",
      "[604.001] train loss: 10.3208, valid loss: 24.8420\n",
      "[605.001] train loss: 10.4681, valid loss: 24.5910\n",
      "[606.001] train loss: 9.5879, valid loss: 24.9046\n",
      "[607.001] train loss: 8.9132, valid loss: 26.4863\n",
      "[608.001] train loss: 9.4966, valid loss: 28.1591\n",
      "[609.001] train loss: 10.3129, valid loss: 28.2686\n",
      "[610.001] train loss: 10.1249, valid loss: 26.4795\n",
      "[611.001] train loss: 9.1397, valid loss: 24.6790\n",
      "[612.001] train loss: 8.8961, valid loss: 24.2031\n",
      "[613.001] train loss: 9.7299, valid loss: 24.3912\n",
      "[614.001] train loss: 10.2359, valid loss: 24.2027\n",
      "[615.001] train loss: 9.8236, valid loss: 24.1037\n",
      "[616.001] train loss: 8.8151, valid loss: 25.2297\n",
      "[617.001] train loss: 9.0156, valid loss: 27.0654\n",
      "[618.001] train loss: 9.9646, valid loss: 27.6884\n",
      "[619.001] train loss: 10.0333, valid loss: 26.3393\n",
      "[620.001] train loss: 8.9971, valid loss: 24.5700\n",
      "[621.001] train loss: 8.7451, valid loss: 23.9879\n",
      "[622.001] train loss: 9.4088, valid loss: 24.2452\n",
      "[623.001] train loss: 10.1435, valid loss: 24.1711\n",
      "[624.001] train loss: 9.1450, valid loss: 24.1314\n",
      "[625.001] train loss: 8.4337, valid loss: 25.2342\n",
      "[626.001] train loss: 8.8214, valid loss: 27.2306\n",
      "[627.001] train loss: 9.8356, valid loss: 27.8778\n",
      "[628.001] train loss: 9.8648, valid loss: 26.4131\n",
      "[629.001] train loss: 8.8305, valid loss: 24.5418\n",
      "[630.001] train loss: 8.4835, valid loss: 23.9607\n",
      "[631.001] train loss: 9.2588, valid loss: 24.1070\n",
      "[632.001] train loss: 9.9153, valid loss: 23.8985\n",
      "[633.001] train loss: 9.2158, valid loss: 23.9293\n",
      "[634.001] train loss: 8.3889, valid loss: 25.2925\n",
      "[635.001] train loss: 8.7203, valid loss: 26.9368\n",
      "[636.001] train loss: 9.7006, valid loss: 27.1652\n",
      "[637.001] train loss: 9.5378, valid loss: 25.3073\n",
      "[638.001] train loss: 8.4134, valid loss: 23.6444\n",
      "[639.001] train loss: 8.2734, valid loss: 23.3280\n",
      "[640.001] train loss: 9.3901, valid loss: 23.4547\n",
      "[641.001] train loss: 9.6848, valid loss: 23.2157\n",
      "[642.001] train loss: 8.6779, valid loss: 23.7477\n",
      "[643.001] train loss: 8.2630, valid loss: 25.5835\n",
      "[644.001] train loss: 9.1289, valid loss: 27.0789\n",
      "[645.001] train loss: 9.3669, valid loss: 26.1739\n",
      "[646.001] train loss: 8.7421, valid loss: 24.1945\n",
      "[647.001] train loss: 8.1541, valid loss: 23.1883\n",
      "[648.001] train loss: 8.7793, valid loss: 23.2736\n",
      "[649.001] train loss: 9.3074, valid loss: 23.1890\n",
      "[650.001] train loss: 8.9708, valid loss: 23.3721\n",
      "[651.001] train loss: 8.0029, valid loss: 24.8652\n",
      "[652.001] train loss: 8.4366, valid loss: 26.5917\n",
      "[653.001] train loss: 9.3053, valid loss: 26.5643\n",
      "[654.001] train loss: 8.9042, valid loss: 24.5619\n",
      "[655.001] train loss: 8.0726, valid loss: 22.9798\n",
      "[656.001] train loss: 8.2132, valid loss: 22.7222\n",
      "[657.001] train loss: 9.1214, valid loss: 22.6877\n",
      "[658.001] train loss: 9.0929, valid loss: 22.6684\n",
      "[659.001] train loss: 8.1970, valid loss: 23.8867\n",
      "[660.001] train loss: 8.2212, valid loss: 25.9414\n",
      "[661.001] train loss: 9.2186, valid loss: 26.3536\n",
      "[662.001] train loss: 9.0415, valid loss: 24.5719\n",
      "[663.001] train loss: 8.2013, valid loss: 22.8104\n",
      "[664.001] train loss: 8.2824, valid loss: 22.5402\n",
      "[665.001] train loss: 9.2789, valid loss: 22.5711\n",
      "[666.001] train loss: 8.9670, valid loss: 22.6806\n",
      "[667.001] train loss: 7.9716, valid loss: 24.1735\n",
      "[668.001] train loss: 7.9944, valid loss: 26.2849\n",
      "[669.001] train loss: 9.1743, valid loss: 26.4938\n",
      "[670.001] train loss: 8.5058, valid loss: 24.4591\n",
      "[671.001] train loss: 7.8823, valid loss: 22.6783\n",
      "[672.001] train loss: 8.2635, valid loss: 22.4449\n",
      "[673.001] train loss: 9.0124, valid loss: 22.3958\n",
      "[674.001] train loss: 8.6102, valid loss: 22.6181\n",
      "[675.001] train loss: 7.8700, valid loss: 24.2576\n",
      "[676.001] train loss: 8.3515, valid loss: 26.0882\n",
      "[677.001] train loss: 9.0131, valid loss: 25.5616\n",
      "[678.001] train loss: 8.4762, valid loss: 23.3684\n",
      "[679.001] train loss: 7.8773, valid loss: 22.1475\n",
      "[680.001] train loss: 8.4380, valid loss: 22.1003\n",
      "[681.001] train loss: 8.9842, valid loss: 22.0419\n",
      "[682.001] train loss: 8.0672, valid loss: 22.7183\n",
      "[683.001] train loss: 7.8891, valid loss: 24.7905\n",
      "[684.001] train loss: 8.5201, valid loss: 25.8280\n",
      "[685.001] train loss: 8.8109, valid loss: 24.3816\n",
      "[686.001] train loss: 8.0400, valid loss: 22.4204\n",
      "[687.001] train loss: 7.8245, valid loss: 21.9408\n",
      "[688.001] train loss: 8.7796, valid loss: 21.9555\n",
      "[689.001] train loss: 8.4613, valid loss: 22.2283\n",
      "[690.001] train loss: 7.7938, valid loss: 23.9394\n",
      "[691.001] train loss: 8.2176, valid loss: 25.6521\n",
      "[692.001] train loss: 8.7745, valid loss: 24.7658\n",
      "[693.001] train loss: 8.1218, valid loss: 22.5825\n",
      "[694.001] train loss: 7.8463, valid loss: 21.8004\n",
      "[695.001] train loss: 8.2807, valid loss: 21.7770\n",
      "[696.001] train loss: 8.3095, valid loss: 21.8741\n",
      "[697.001] train loss: 7.6876, valid loss: 23.1764\n",
      "[698.001] train loss: 7.9734, valid loss: 24.8654\n",
      "[699.001] train loss: 8.6109, valid loss: 24.5435\n",
      "[700.001] train loss: 8.0395, valid loss: 22.5604\n",
      "[701.001] train loss: 7.6825, valid loss: 21.6458\n",
      "[702.001] train loss: 8.5028, valid loss: 21.6943\n",
      "[703.001] train loss: 8.6017, valid loss: 21.7606\n",
      "[704.001] train loss: 7.6926, valid loss: 23.2338\n",
      "[705.001] train loss: 8.1392, valid loss: 25.3700\n",
      "[706.001] train loss: 8.5922, valid loss: 24.7273\n",
      "[707.001] train loss: 8.1942, valid loss: 22.3385\n",
      "[708.001] train loss: 7.6433, valid loss: 21.6555\n",
      "[709.001] train loss: 8.3828, valid loss: 21.6461\n",
      "[710.001] train loss: 8.3039, valid loss: 21.7980\n",
      "[711.001] train loss: 7.6591, valid loss: 23.5257\n",
      "[712.001] train loss: 8.0759, valid loss: 25.0463\n",
      "[713.001] train loss: 8.4669, valid loss: 23.8229\n",
      "[714.001] train loss: 7.7019, valid loss: 21.9203\n",
      "[715.001] train loss: 7.5250, valid loss: 21.6294\n",
      "[716.001] train loss: 8.5791, valid loss: 21.6631\n",
      "[717.001] train loss: 8.0327, valid loss: 22.0762\n",
      "[718.001] train loss: 7.6365, valid loss: 24.4507\n",
      "[719.001] train loss: 8.3433, valid loss: 25.4994\n",
      "[720.001] train loss: 8.4834, valid loss: 23.5499\n",
      "[721.001] train loss: 7.4714, valid loss: 22.0085\n",
      "[722.001] train loss: 8.0409, valid loss: 22.1067\n",
      "[723.001] train loss: 8.5933, valid loss: 22.0375\n",
      "[724.001] train loss: 7.7523, valid loss: 23.2745\n",
      "[725.001] train loss: 7.5884, valid loss: 25.2556\n",
      "[726.001] train loss: 8.2402, valid loss: 24.7309\n",
      "[727.001] train loss: 7.8308, valid loss: 22.5377\n",
      "[728.001] train loss: 7.3706, valid loss: 21.9070\n",
      "[729.001] train loss: 8.0203, valid loss: 21.9123\n",
      "[730.001] train loss: 7.9629, valid loss: 22.2113\n",
      "[731.001] train loss: 7.2281, valid loss: 24.2180\n",
      "[732.001] train loss: 7.9169, valid loss: 25.4213\n",
      "[733.001] train loss: 8.1617, valid loss: 23.4366\n",
      "[734.001] train loss: 7.1247, valid loss: 22.1842\n",
      "[735.001] train loss: 7.8077, valid loss: 22.3320\n",
      "[736.001] train loss: 8.2661, valid loss: 22.4176\n",
      "[737.001] train loss: 7.2112, valid loss: 23.9387\n",
      "[738.001] train loss: 7.5130, valid loss: 25.9375\n",
      "[739.001] train loss: 8.1238, valid loss: 24.8196\n",
      "[740.001] train loss: 7.4108, valid loss: 22.7926\n",
      "[741.001] train loss: 7.3336, valid loss: 22.3954\n",
      "[742.001] train loss: 8.0764, valid loss: 22.3034\n",
      "[743.001] train loss: 7.4655, valid loss: 22.9897\n",
      "[744.001] train loss: 7.1864, valid loss: 25.0396\n",
      "[745.001] train loss: 8.0441, valid loss: 25.0938\n",
      "[746.001] train loss: 7.6616, valid loss: 22.9254\n",
      "[747.001] train loss: 7.2191, valid loss: 22.3494\n",
      "[748.001] train loss: 7.8748, valid loss: 22.4366\n",
      "[749.001] train loss: 7.4388, valid loss: 23.1477\n",
      "[750.001] train loss: 6.9446, valid loss: 25.2019\n",
      "[751.001] train loss: 7.8371, valid loss: 25.6176\n",
      "[752.001] train loss: 7.5866, valid loss: 23.6197\n"
     ]
    },
    {
     "name": "stdout",
     "output_type": "stream",
     "text": [
      "[753.001] train loss: 7.1997, valid loss: 22.8082\n",
      "[754.001] train loss: 7.8158, valid loss: 22.7832\n",
      "[755.001] train loss: 7.4767, valid loss: 23.2395\n",
      "[756.001] train loss: 7.0483, valid loss: 25.0441\n",
      "[757.001] train loss: 7.7288, valid loss: 24.8880\n",
      "[758.001] train loss: 7.4655, valid loss: 22.9513\n",
      "[759.001] train loss: 7.2090, valid loss: 22.5101\n",
      "[760.001] train loss: 7.7741, valid loss: 22.5191\n",
      "[761.001] train loss: 7.2364, valid loss: 23.4551\n",
      "[762.001] train loss: 7.3992, valid loss: 25.4499\n",
      "[763.001] train loss: 7.6156, valid loss: 24.5545\n",
      "[764.001] train loss: 6.6375, valid loss: 23.0884\n",
      "[765.001] train loss: 7.0800, valid loss: 23.0165\n",
      "[766.001] train loss: 7.5588, valid loss: 23.1555\n",
      "[767.001] train loss: 7.0417, valid loss: 24.4522\n",
      "[768.001] train loss: 7.2449, valid loss: 25.2799\n",
      "[769.001] train loss: 7.3958, valid loss: 23.7989\n",
      "[770.001] train loss: 6.9513, valid loss: 22.7169\n",
      "[771.001] train loss: 7.3680, valid loss: 22.6067\n",
      "[772.001] train loss: 7.2892, valid loss: 23.0299\n",
      "[773.001] train loss: 6.8862, valid loss: 24.7504\n",
      "[774.001] train loss: 7.4468, valid loss: 24.9388\n",
      "[775.001] train loss: 7.1756, valid loss: 23.0784\n",
      "[776.001] train loss: 6.9053, valid loss: 22.8338\n",
      "[777.001] train loss: 7.4662, valid loss: 22.9898\n",
      "[778.001] train loss: 7.0503, valid loss: 24.4208\n",
      "[779.001] train loss: 7.0012, valid loss: 25.6461\n",
      "[780.001] train loss: 7.0256, valid loss: 24.4085\n",
      "[781.001] train loss: 7.0350, valid loss: 22.9397\n",
      "[782.001] train loss: 7.0625, valid loss: 22.7942\n",
      "[783.001] train loss: 7.1117, valid loss: 23.0922\n",
      "[784.001] train loss: 6.5749, valid loss: 24.6416\n",
      "[785.001] train loss: 7.1836, valid loss: 24.2012\n",
      "[786.001] train loss: 6.9926, valid loss: 22.6551\n",
      "[787.001] train loss: 7.0963, valid loss: 22.4350\n",
      "[788.001] train loss: 7.2215, valid loss: 22.7314\n",
      "[789.001] train loss: 6.6209, valid loss: 24.2850\n",
      "[790.001] train loss: 7.0257, valid loss: 24.7263\n",
      "[791.001] train loss: 6.9480, valid loss: 23.3375\n",
      "[792.001] train loss: 6.5263, valid loss: 22.6487\n",
      "[793.001] train loss: 7.2232, valid loss: 22.5601\n",
      "[794.001] train loss: 6.7959, valid loss: 23.5409\n",
      "[795.001] train loss: 6.8531, valid loss: 24.8613\n",
      "[796.001] train loss: 7.2140, valid loss: 23.0527\n",
      "[797.001] train loss: 6.6390, valid loss: 21.9427\n",
      "[798.001] train loss: 7.0253, valid loss: 21.8846\n",
      "[799.001] train loss: 6.9420, valid loss: 22.8966\n",
      "[800.001] train loss: 6.8977, valid loss: 24.5527\n",
      "[801.001] train loss: 7.1186, valid loss: 23.2797\n",
      "[802.001] train loss: 6.6918, valid loss: 22.0406\n",
      "[803.001] train loss: 7.1438, valid loss: 22.0832\n",
      "[804.001] train loss: 6.7208, valid loss: 23.0432\n",
      "[805.001] train loss: 6.5803, valid loss: 24.6197\n",
      "[806.001] train loss: 7.1955, valid loss: 23.4625\n",
      "[807.001] train loss: 6.5854, valid loss: 21.7738\n",
      "[808.001] train loss: 6.9803, valid loss: 21.5868\n",
      "[809.001] train loss: 6.8311, valid loss: 22.1788\n",
      "[810.001] train loss: 6.8589, valid loss: 24.2296\n",
      "[811.001] train loss: 7.3112, valid loss: 22.9209\n",
      "[812.001] train loss: 6.5132, valid loss: 21.3872\n",
      "[813.001] train loss: 7.3459, valid loss: 21.4172\n",
      "[814.001] train loss: 6.9076, valid loss: 22.7712\n",
      "[815.001] train loss: 6.9757, valid loss: 25.3257\n",
      "[816.001] train loss: 7.5986, valid loss: 22.7767\n",
      "[817.001] train loss: 6.5027, valid loss: 21.5273\n",
      "[818.001] train loss: 7.5802, valid loss: 21.4352\n",
      "[819.001] train loss: 6.8377, valid loss: 22.8557\n",
      "[820.001] train loss: 6.8145, valid loss: 24.3862\n",
      "[821.001] train loss: 7.2043, valid loss: 21.9982\n",
      "[822.001] train loss: 6.8053, valid loss: 20.9635\n",
      "[823.001] train loss: 7.4597, valid loss: 20.9684\n",
      "[824.001] train loss: 6.5787, valid loss: 23.2790\n",
      "[825.001] train loss: 7.3297, valid loss: 24.2397\n",
      "[826.001] train loss: 6.9997, valid loss: 21.4192\n",
      "[827.001] train loss: 6.7330, valid loss: 21.2653\n",
      "[828.001] train loss: 7.5899, valid loss: 21.5335\n",
      "[829.001] train loss: 6.6519, valid loss: 24.6836\n",
      "[830.001] train loss: 7.5261, valid loss: 23.4098\n",
      "[831.001] train loss: 6.7507, valid loss: 20.9259\n",
      "[832.001] train loss: 7.2859, valid loss: 20.7857\n",
      "[833.001] train loss: 6.8679, valid loss: 21.8321\n",
      "[834.001] train loss: 6.8935, valid loss: 24.6606\n",
      "[835.001] train loss: 7.5247, valid loss: 21.6138\n",
      "[836.001] train loss: 6.4714, valid loss: 20.7281\n",
      "[837.001] train loss: 7.5077, valid loss: 20.7831\n",
      "[838.001] train loss: 6.4033, valid loss: 23.1216\n",
      "[839.001] train loss: 7.1632, valid loss: 23.8792\n",
      "[840.001] train loss: 6.8748, valid loss: 21.1192\n",
      "[841.001] train loss: 6.7725, valid loss: 20.8871\n",
      "[842.001] train loss: 7.0739, valid loss: 21.1794\n",
      "[843.001] train loss: 6.5708, valid loss: 23.7568\n",
      "[844.001] train loss: 7.3207, valid loss: 22.2044\n",
      "[845.001] train loss: 6.4780, valid loss: 20.5947\n",
      "[846.001] train loss: 7.3908, valid loss: 20.6046\n",
      "[847.001] train loss: 6.7470, valid loss: 22.6927\n",
      "[848.001] train loss: 7.0347, valid loss: 24.4630\n",
      "[849.001] train loss: 7.1297, valid loss: 21.2093\n",
      "[850.001] train loss: 6.5185, valid loss: 20.8883\n",
      "[851.001] train loss: 7.0696, valid loss: 21.3123\n",
      "[852.001] train loss: 6.6290, valid loss: 24.2732\n",
      "[853.001] train loss: 7.2432, valid loss: 22.8600\n",
      "[854.001] train loss: 6.3606, valid loss: 20.7147\n",
      "[855.001] train loss: 7.3649, valid loss: 20.6218\n",
      "[856.001] train loss: 6.5111, valid loss: 22.6536\n",
      "[857.001] train loss: 6.8126, valid loss: 24.1619\n",
      "[858.001] train loss: 6.8471, valid loss: 21.0952\n",
      "[859.001] train loss: 6.4611, valid loss: 20.6813\n",
      "[860.001] train loss: 7.3220, valid loss: 20.9883\n",
      "[861.001] train loss: 6.1316, valid loss: 24.3481\n",
      "[862.001] train loss: 7.3837, valid loss: 23.3151\n",
      "[863.001] train loss: 6.4164, valid loss: 20.6936\n",
      "[864.001] train loss: 7.0279, valid loss: 20.6792\n",
      "[865.001] train loss: 6.7886, valid loss: 22.2682\n",
      "[866.001] train loss: 6.5757, valid loss: 24.0939\n",
      "[867.001] train loss: 6.9895, valid loss: 20.9766\n",
      "[868.001] train loss: 6.2859, valid loss: 20.5402\n",
      "[869.001] train loss: 6.8201, valid loss: 20.9256\n",
      "[870.001] train loss: 6.2025, valid loss: 23.5230\n",
      "[871.001] train loss: 6.9248, valid loss: 22.5307\n",
      "[872.001] train loss: 6.0911, valid loss: 20.7700\n",
      "[873.001] train loss: 6.7764, valid loss: 20.7703\n",
      "[874.001] train loss: 6.3158, valid loss: 22.5283\n",
      "[875.001] train loss: 6.5738, valid loss: 23.5289\n",
      "[876.001] train loss: 6.5565, valid loss: 20.8521\n",
      "[877.001] train loss: 6.7118, valid loss: 20.4497\n",
      "[878.001] train loss: 6.6331, valid loss: 21.6051\n",
      "[879.001] train loss: 6.0840, valid loss: 23.3919\n",
      "[880.001] train loss: 6.5927, valid loss: 21.4191\n",
      "[881.001] train loss: 6.0916, valid loss: 20.6407\n",
      "[882.001] train loss: 6.5038, valid loss: 20.9685\n",
      "[883.001] train loss: 6.1079, valid loss: 23.0565\n",
      "[884.001] train loss: 6.5263, valid loss: 22.1094\n",
      "[885.001] train loss: 6.0247, valid loss: 20.5234\n",
      "[886.001] train loss: 6.4173, valid loss: 20.3530\n",
      "[887.001] train loss: 6.1919, valid loss: 21.8216\n",
      "[888.001] train loss: 6.3409, valid loss: 22.2778\n",
      "[889.001] train loss: 6.1521, valid loss: 20.7334\n",
      "[890.001] train loss: 6.3402, valid loss: 20.4472\n",
      "[891.001] train loss: 6.3161, valid loss: 21.6344\n",
      "[892.001] train loss: 6.2460, valid loss: 23.2056\n",
      "[893.001] train loss: 6.3561, valid loss: 20.8974\n",
      "[894.001] train loss: 6.3855, valid loss: 20.3069\n",
      "[895.001] train loss: 6.1425, valid loss: 21.2609\n",
      "[896.001] train loss: 6.1030, valid loss: 22.8038\n",
      "[897.001] train loss: 6.4816, valid loss: 20.7736\n",
      "[898.001] train loss: 6.0618, valid loss: 20.0506\n",
      "[899.001] train loss: 6.4720, valid loss: 20.7464\n",
      "[900.001] train loss: 6.1946, valid loss: 23.3745\n",
      "[901.001] train loss: 6.5977, valid loss: 20.7138\n",
      "[902.001] train loss: 5.9523, valid loss: 20.0620\n",
      "[903.001] train loss: 6.2862, valid loss: 20.8821\n",
      "[904.001] train loss: 6.2671, valid loss: 22.4610\n",
      "[905.001] train loss: 6.2291, valid loss: 20.3010\n",
      "[906.001] train loss: 6.0031, valid loss: 19.9295\n",
      "[907.001] train loss: 6.1262, valid loss: 20.7553\n",
      "[908.001] train loss: 6.0291, valid loss: 21.7725\n",
      "[909.001] train loss: 6.0369, valid loss: 20.1926\n",
      "[910.001] train loss: 5.8225, valid loss: 19.8818\n",
      "[911.001] train loss: 6.1000, valid loss: 20.2781\n",
      "[912.001] train loss: 6.2793, valid loss: 21.7779\n",
      "[913.001] train loss: 6.1363, valid loss: 19.9992\n",
      "[914.001] train loss: 5.9744, valid loss: 19.7387\n",
      "[915.001] train loss: 6.0415, valid loss: 21.1022\n",
      "[916.001] train loss: 6.2574, valid loss: 20.9818\n",
      "[917.001] train loss: 5.8369, valid loss: 19.4930\n",
      "[918.001] train loss: 6.3394, valid loss: 19.7970\n",
      "[919.001] train loss: 5.9361, valid loss: 21.9751\n",
      "[920.001] train loss: 6.3476, valid loss: 20.7768\n",
      "[921.001] train loss: 6.3213, valid loss: 19.4046\n",
      "[922.001] train loss: 6.3140, valid loss: 20.7238\n",
      "[923.001] train loss: 6.2148, valid loss: 22.8183\n",
      "[924.001] train loss: 6.2350, valid loss: 19.6481\n",
      "[925.001] train loss: 6.5509, valid loss: 19.3259\n",
      "[926.001] train loss: 6.1310, valid loss: 22.0937\n",
      "[927.001] train loss: 6.8468, valid loss: 22.1560\n",
      "[928.001] train loss: 6.1426, valid loss: 19.2705\n",
      "[929.001] train loss: 7.2265, valid loss: 19.4987\n",
      "[930.001] train loss: 6.1961, valid loss: 24.6562\n",
      "[931.001] train loss: 7.5615, valid loss: 20.7487\n",
      "[932.001] train loss: 6.8928, valid loss: 20.0039\n",
      "[933.001] train loss: 8.0201, valid loss: 21.0278\n",
      "[934.001] train loss: 6.4881, valid loss: 25.2364\n"
     ]
    },
    {
     "name": "stdout",
     "output_type": "stream",
     "text": [
      "[935.001] train loss: 7.1671, valid loss: 19.5324\n",
      "[936.001] train loss: 6.9941, valid loss: 19.5120\n",
      "[937.001] train loss: 7.1632, valid loss: 21.9885\n",
      "[938.001] train loss: 6.6664, valid loss: 24.1969\n",
      "[939.001] train loss: 6.4967, valid loss: 19.3112\n",
      "[940.001] train loss: 6.4577, valid loss: 19.2657\n",
      "[941.001] train loss: 6.2667, valid loss: 21.6497\n",
      "[942.001] train loss: 6.7249, valid loss: 23.6459\n",
      "[943.001] train loss: 6.5125, valid loss: 19.1778\n",
      "[944.001] train loss: 6.8871, valid loss: 19.0515\n",
      "[945.001] train loss: 6.1259, valid loss: 22.8096\n",
      "[946.001] train loss: 6.8411, valid loss: 22.1705\n",
      "[947.001] train loss: 5.8169, valid loss: 18.9807\n",
      "[948.001] train loss: 6.8770, valid loss: 19.0251\n",
      "[949.001] train loss: 5.9031, valid loss: 22.5581\n",
      "[950.001] train loss: 6.9975, valid loss: 22.3365\n",
      "[951.001] train loss: 6.0688, valid loss: 18.9979\n",
      "[952.001] train loss: 6.7224, valid loss: 19.2148\n",
      "[953.001] train loss: 5.9610, valid loss: 23.2016\n",
      "[954.001] train loss: 6.5771, valid loss: 21.0665\n",
      "[955.001] train loss: 5.7175, valid loss: 19.2075\n",
      "[956.001] train loss: 6.5182, valid loss: 19.7326\n",
      "[957.001] train loss: 5.5587, valid loss: 23.0663\n",
      "[958.001] train loss: 6.3880, valid loss: 20.7208\n",
      "[959.001] train loss: 5.7082, valid loss: 19.2671\n",
      "[960.001] train loss: 6.1831, valid loss: 20.0984\n",
      "[961.001] train loss: 5.5046, valid loss: 22.7472\n",
      "[962.001] train loss: 6.2401, valid loss: 20.5198\n",
      "[963.001] train loss: 5.6094, valid loss: 19.2811\n",
      "[964.001] train loss: 6.3521, valid loss: 20.4639\n",
      "[965.001] train loss: 5.6537, valid loss: 22.5871\n",
      "[966.001] train loss: 6.0147, valid loss: 20.2153\n",
      "[967.001] train loss: 5.6706, valid loss: 19.3746\n",
      "[968.001] train loss: 6.1853, valid loss: 20.5734\n",
      "[969.001] train loss: 5.7988, valid loss: 22.9278\n",
      "[970.001] train loss: 6.0403, valid loss: 19.6367\n",
      "[971.001] train loss: 5.8336, valid loss: 19.1280\n",
      "[972.001] train loss: 6.1280, valid loss: 21.0371\n",
      "[973.001] train loss: 5.8064, valid loss: 21.6932\n",
      "[974.001] train loss: 5.8250, valid loss: 19.3948\n",
      "[975.001] train loss: 5.9319, valid loss: 19.7653\n",
      "[976.001] train loss: 5.6946, valid loss: 22.1620\n",
      "[977.001] train loss: 6.0336, valid loss: 20.4265\n",
      "[978.001] train loss: 5.4877, valid loss: 19.4918\n",
      "[979.001] train loss: 5.9793, valid loss: 20.4104\n",
      "[980.001] train loss: 5.7122, valid loss: 22.1403\n",
      "[981.001] train loss: 5.8561, valid loss: 19.5096\n",
      "[982.001] train loss: 6.2239, valid loss: 19.3586\n",
      "[983.001] train loss: 5.8798, valid loss: 22.4908\n",
      "[984.001] train loss: 5.9160, valid loss: 21.1216\n",
      "[985.001] train loss: 5.4354, valid loss: 19.8534\n",
      "[986.001] train loss: 5.9457, valid loss: 20.4040\n",
      "[987.001] train loss: 5.3387, valid loss: 22.8885\n",
      "[988.001] train loss: 5.4226, valid loss: 20.4815\n",
      "[989.001] train loss: 5.9015, valid loss: 19.5152\n",
      "[990.001] train loss: 5.5042, valid loss: 21.8280\n",
      "[991.001] train loss: 5.7805, valid loss: 21.0870\n",
      "[992.001] train loss: 5.4635, valid loss: 19.3528\n",
      "[993.001] train loss: 5.8921, valid loss: 19.9731\n",
      "[994.001] train loss: 5.4918, valid loss: 22.2280\n",
      "[995.001] train loss: 5.7546, valid loss: 19.8660\n",
      "[996.001] train loss: 5.7560, valid loss: 19.4042\n",
      "[997.001] train loss: 5.6046, valid loss: 21.7171\n",
      "[998.001] train loss: 5.7419, valid loss: 21.0734\n",
      "[999.001] train loss: 5.4135, valid loss: 19.2870\n"
     ]
    }
   ],
   "source": [
    "import time\n",
    "## Train (학습/훈련) \n",
    "### 두단계 -> Train + Validation => step별로 train -> epoch 별로 검증.\n",
    "s = time.time()\n",
    "for epoch in range(N_EPOCH):\n",
    "    ### 한 epoch에 대한 train 코드\n",
    "    ######################################\n",
    "    # train - 모델을 train mode로 변경\n",
    "    ######################################\n",
    "    boston_model.train() # train 모드로 변경\n",
    "    train_loss = 0.0 # 현재 epoch의 train loss를 저장할 변수\n",
    "    ### batch 단위로 학습 => step\n",
    "    for X, y in boston_trainloader:\n",
    "        ## 한 STEP에 대한 train 코드\n",
    "        # 1. X, y 를 device로 옮긴다. => 모델과 동일한 device에 위치시킨다.\n",
    "        X, y = X.to(device), y.to(device)\n",
    "        # 2. 모델 추정(예측) => forward propagation\n",
    "        pred = boston_model(X)\n",
    "        # 3. loss 계산\n",
    "        loss = loss_fn(pred, y) # 오차계산 -> grad_fn\n",
    "      \n",
    "        ## 파라미터 업데이트\n",
    "        # 4. 파라미터 초기화\n",
    "        optimizer.zero_grad()\n",
    "        # 5. back propagation -> 파라미터들의 gradient값들을 계산.\n",
    "        loss.backward() # 모든 weight와 bias 에 대한 loss의 gradient들을 구한다. - 변수의 grad 속성에 저장.\n",
    "        # 6. 파라미터 업데이터 \n",
    "        optimizer.step()\n",
    "        \n",
    "        # 7. 현 step의 loss를 train_loss에 누적\n",
    "        train_loss += loss.item()\n",
    "    # train_loss의 전체 평균을 계산 (step별 평균loss의 합계  -> step수로 나눠서 전체 평균으로 계산.)\n",
    "    train_loss /= len(boston_trainloader) # step수로 나누기.\n",
    "    \n",
    "    ############################################\n",
    "    # validation - 모델을 평가(eval) mode로 변경 \n",
    "    #            - 검증, 평가, 서비스 할때.\n",
    "    #            - validation/test dataset으로 모델을 평가.\n",
    "    ############################################\n",
    "    boston_model.eval() # 평가 모드로 변경.\n",
    "    # 검증 loss를 저장할 변수\n",
    "    valid_loss = 0.0\n",
    "    # 검증은 gradient 계산할 필요가 없음. forward propagation시 도함수를 구할 필요가 없다.\n",
    "    with torch.no_grad():\n",
    "        for X_valid, y_valid in boston_testloader:\n",
    "            # 1. X, y를 device로 이동.\n",
    "            X_valid, y_valid = X_valid.to(device), y_valid.to(device)\n",
    "            # 2. 모델을 이용해 예측\n",
    "            pred_valid = boston_model(X_valid)\n",
    "            # 3. 평가 - MSE\n",
    "            valid_loss += loss_fn(pred_valid, y_valid).item()\n",
    "        # valid_loss 평균\n",
    "        valid_loss /= len(boston_testloader)\n",
    "    # 현 epoch에 대한 학습 결과 로그를 출력 + list에 추가\n",
    "    print(f\"[{epoch+1}/{N_EPOCH}] train loss: {train_loss:.4f}, valid loss: {valid_loss:.4f}\")\n",
    "    train_loss_list.append(train_loss)\n",
    "    valid_loss_list.append(valid_loss)\n",
    "\n",
    "e = time.time()"
   ]
  },
  {
   "cell_type": "code",
   "execution_count": 55,
   "metadata": {},
   "outputs": [
    {
     "name": "stdout",
     "output_type": "stream",
     "text": [
      "걸린시간: 5.517737865447998 초\n"
     ]
    }
   ],
   "source": [
    "# 회귀 -> loss: mse, 평가: mse, rmse (Root Mean squared error)\n",
    "print('걸린시간:', (e-s), \"초\")"
   ]
  },
  {
   "cell_type": "code",
   "execution_count": 61,
   "metadata": {},
   "outputs": [
    {
     "data": {
      "image/png": "[encoded data removed]",
      "text/plain": [
       "<Figure size 640x480 with 1 Axes>"
      ]
     },
     "metadata": {},
     "output_type": "display_data"
    }
   ],
   "source": [
    "## train loss, valid loss 의 epoch 별 변화의 흐름 시각화.\n",
    "plt.plot(range(1, N_EPOCH+1), train_loss_list, label=\"Train Loss\")\n",
    "plt.plot(range(1, N_EPOCH+1), valid_loss_list, label=\"Validation Loss\")\n",
    "\n",
    "plt.xlabel(\"EPOCH\")\n",
    "plt.ylabel(\"Loss\")\n",
    "# plt.ylim(3, 50)\n",
    "plt.legend()\n",
    "plt.show()"
   ]
  },
  {
   "cell_type": "code",
   "execution_count": 62,
   "metadata": {},
   "outputs": [
    {
     "data": {
      "text/plain": [
       "(2.326683314909665, 4.391697219848517)"
      ]
     },
     "execution_count": 62,
     "metadata": {},
     "output_type": "execute_result"
    }
   ],
   "source": [
    "train_loss_list[-1] ** (1/2), valid_loss_list[-1]**(1/2)"
   ]
  },
  {
   "cell_type": "markdown",
   "metadata": {},
   "source": [
    "# 모델 저장\n",
    "\n",
    "## 모델 전체 저장 및 불러오기\n",
    "- 모델구조, 파라미터 저장\n"
   ]
  },
  {
   "cell_type": "code",
   "execution_count": 63,
   "metadata": {},
   "outputs": [],
   "source": [
    "save_path = \"models/boston_model.pth\"\n",
    "torch.save(boston_model, save_path)"
   ]
  },
  {
   "cell_type": "code",
   "execution_count": 65,
   "metadata": {},
   "outputs": [
    {
     "data": {
      "text/plain": [
       "==========================================================================================\n",
       "Layer (type:depth-idx)                   Output Shape              Param #\n",
       "==========================================================================================\n",
       "BostonModel                              [200, 1]                  --\n",
       "├─Linear: 1-1                            [200, 32]                 448\n",
       "├─Linear: 1-2                            [200, 16]                 528\n",
       "├─Linear: 1-3                            [200, 1]                  17\n",
       "==========================================================================================\n",
       "Total params: 993\n",
       "Trainable params: 993\n",
       "Non-trainable params: 0\n",
       "Total mult-adds (M): 0.20\n",
       "==========================================================================================\n",
       "Input size (MB): 0.01\n",
       "Forward/backward pass size (MB): 0.08\n",
       "Params size (MB): 0.00\n",
       "Estimated Total Size (MB): 0.09\n",
       "=========================================================================================="
      ]
     },
     "execution_count": 65,
     "metadata": {},
     "output_type": "execute_result"
    }
   ],
   "source": [
    "load_boston_model = torch.load(save_path)\n",
    "torchinfo.summary(load_boston_model, (200, 13))"
   ]
  },
  {
   "cell_type": "code",
   "execution_count": 78,
   "metadata": {},
   "outputs": [
    {
     "data": {
      "text/plain": [
       "torch.Size([2, 13])"
      ]
     },
     "execution_count": 78,
     "metadata": {},
     "output_type": "execute_result"
    }
   ],
   "source": [
    "# 예측 서비스\n",
    "new_X = torch.cat([boston_testset[0][0], boston_testset[1][0]])\n",
    "new_X = new_X.reshape(-1, 13)\n",
    "new_X.shape  #[2: 데이터수, 13: feature수]"
   ]
  },
  {
   "cell_type": "code",
   "execution_count": 74,
   "metadata": {},
   "outputs": [
    {
     "data": {
      "text/plain": [
       "tensor([-0.4084, -0.4996, -1.1287, -0.2729, -0.8334,  0.0450, -1.8462,  0.6951,\n",
       "        -0.6246,  0.1591, -0.7127,  0.1855, -0.7361])"
      ]
     },
     "execution_count": 74,
     "metadata": {},
     "output_type": "execute_result"
    }
   ],
   "source": [
    "boston_testset[0][0]  # 첫번째 데이터 => X, y\n",
    "boston_testset[1][0]\n",
    "torch.cat([boston_testset[0][0], boston_testset[1][0]]).reshape(-1, 13)"
   ]
  },
  {
   "cell_type": "code",
   "execution_count": 79,
   "metadata": {},
   "outputs": [
    {
     "name": "stdout",
     "output_type": "stream",
     "text": [
      "tensor([[22.7247],\n",
      "        [24.4805]], grad_fn=<AddmmBackward0>)\n"
     ]
    }
   ],
   "source": [
    "pred_new = load_boston_model(new_X)\n",
    "print(pred_new)"
   ]
  },
  {
   "cell_type": "code",
   "execution_count": 80,
   "metadata": {},
   "outputs": [
    {
     "data": {
      "text/plain": [
       "(tensor([22.6000]), tensor([50.]))"
      ]
     },
     "execution_count": 80,
     "metadata": {},
     "output_type": "execute_result"
    }
   ],
   "source": [
    "boston_testset[0][1], boston_testset[1][1]"
   ]
  },
  {
   "cell_type": "code",
   "execution_count": 82,
   "metadata": {},
   "outputs": [
    {
     "data": {
      "text/plain": [
       "tensor(651.2448, grad_fn=<MseLossBackward0>)"
      ]
     },
     "execution_count": 82,
     "metadata": {},
     "output_type": "execute_result"
    }
   ],
   "source": [
    "loss_fn(pred_new[1], boston_testset[1][1])"
   ]
  },
  {
   "cell_type": "markdown",
   "metadata": {},
   "source": [
    "## state_dict 저장 및 로딩\n",
    "- 모델 파라미터만 저장"
   ]
  },
  {
   "cell_type": "code",
   "execution_count": 91,
   "metadata": {},
   "outputs": [],
   "source": [
    "save_path2 = \"models/boston_model_statedict.pth\"\n",
    "# 모델에서 state_dict를 조회\n",
    "model_sd = boston_model.state_dict()\n",
    "torch.save(model_sd, save_path2)"
   ]
  },
  {
   "cell_type": "code",
   "execution_count": 90,
   "metadata": {},
   "outputs": [
    {
     "data": {
      "text/plain": [
       "tensor([-2.0362,  1.3646, -1.2309,  1.9352, -2.1697,  2.2205, -1.7415, -1.4992,\n",
       "        -0.6139, -2.1902, -2.1760,  1.8528, -2.3148])"
      ]
     },
     "execution_count": 90,
     "metadata": {},
     "output_type": "execute_result"
    }
   ],
   "source": [
    "# type(model_sd), model_sd.keys()\n",
    "# model_sd['lr1.weight'].shape\n",
    "# model_sd['lr1.weight'][0]"
   ]
  },
  {
   "cell_type": "code",
   "execution_count": 93,
   "metadata": {},
   "outputs": [
    {
     "data": {
      "text/plain": [
       "<All keys matched successfully>"
      ]
     },
     "execution_count": 93,
     "metadata": {},
     "output_type": "execute_result"
    }
   ],
   "source": [
    "# 불러오기\n",
    "## state_dict를 불러오기\n",
    "load_sd = torch.load(save_path2)  \n",
    "type(load_sd)\n",
    "## 새로운 모델을 생성한 뒤에 파라미터를 변경.\n",
    "new_model = BostonModel()\n",
    "new_model.load_state_dict(load_sd)"
   ]
  },
  {
   "cell_type": "code",
   "execution_count": 94,
   "metadata": {},
   "outputs": [
    {
     "data": {
      "text/plain": [
       "tensor([[22.7247],\n",
       "        [24.4805]], grad_fn=<AddmmBackward0>)"
      ]
     },
     "execution_count": 94,
     "metadata": {},
     "output_type": "execute_result"
    }
   ],
   "source": [
    "pred_new2 = new_model(new_X)\n",
    "pred_new2"
   ]
  },
  {
   "cell_type": "code",
   "execution_count": null,
   "metadata": {},
   "outputs": [],
   "source": []
  },
  {
   "cell_type": "markdown",
   "metadata": {
    "slideshow": {
     "slide_type": "slide"
    }
   },
   "source": [
    "# 분류 (Classification)\n",
    "- 예측할 값이 정해져 있는 경우. ==> 범주형인 경우.\n",
    "- 다중분류\n",
    "    - 범주값(class)가 여러인 경우\n",
    "- 이진분류\n",
    "    - 범주값: 0/1 => 맞는지 틀린지를 추정 문제. \n",
    "    - 맞는것: Posivitve -> 1\n",
    "    - 틀린것: Negative -> 0\n",
    "\n",
    "## Fashion MNIST Dataset - 다중분류(Multi-Class Classification) 문제"
   ]
  },
  {
   "cell_type": "markdown",
   "metadata": {
    "slideshow": {
     "slide_type": "fragment"
    }
   },
   "source": [
    "10개의 범주(category)와 70,000개의 흑백 이미지로 구성된 [패션 MNIST](https://github.com/zalandoresearch/fashion-mnist) 데이터셋. \n",
    "이미지는 해상도(28x28 픽셀)가 낮고 다음처럼 개별 의류 품목을 나타낸다:\n",
    "\n",
    "<table>\n",
    "  <tr><td>\n",
    "    <img src=\"https://tensorflow.org/images/fashion-mnist-sprite.png\"\n",
    "         alt=\"Fashion MNIST sprite\"  width=\"600\">\n",
    "  </td></tr>\n",
    "  <tr><td align=\"center\">\n",
    "    <b>그림</b> <a href=\"https://github.com/zalandoresearch/fashion-mnist\">패션-MNIST 샘플</a> (Zalando, MIT License).<br/>&nbsp;\n",
    "  </td></tr>\n",
    "</table>"
   ]
  },
  {
   "cell_type": "markdown",
   "metadata": {
    "slideshow": {
     "slide_type": "fragment"
    }
   },
   "source": [
    "이미지는 28x28 크기이며 Gray scale이다. *레이블*(label)은 0에서 9까지의 정수 배열이다. 아래 표는 이미지에 있는 의류의 **클래스**(class)들이다.\n",
    "\n",
    "<table>\n",
    "  <tr>\n",
    "    <th>레이블</th>\n",
    "    <th>클래스</th>\n",
    "  </tr>\n",
    "  <tr>\n",
    "    <td>0</td>\n",
    "    <td>T-shirt/top</td>\n",
    "  </tr>\n",
    "  <tr>\n",
    "    <td>1</td>\n",
    "    <td>Trousers</td>\n",
    "  </tr>\n",
    "    <tr>\n",
    "    <td>2</td>\n",
    "    <td>Pullover</td>\n",
    "  </tr>\n",
    "    <tr>\n",
    "    <td>3</td>\n",
    "    <td>Dress</td>\n",
    "  </tr>\n",
    "    <tr>\n",
    "    <td>4</td>\n",
    "    <td>Coat</td>\n",
    "  </tr>\n",
    "    <tr>\n",
    "    <td>5</td>\n",
    "    <td>Sandal</td>\n",
    "  </tr>\n",
    "    <tr>\n",
    "    <td>6</td>\n",
    "    <td>Shirt</td>\n",
    "  </tr>\n",
    "    <tr>\n",
    "    <td>7</td>\n",
    "    <td>Sneaker</td>\n",
    "  </tr>\n",
    "    <tr>\n",
    "    <td>8</td>\n",
    "    <td>Bag</td>\n",
    "  </tr>\n",
    "    <tr>\n",
    "    <td>9</td>\n",
    "    <td>Ankle boot</td>\n",
    "  </tr>\n",
    "</table>"
   ]
  },
  {
   "cell_type": "code",
   "execution_count": 1,
   "metadata": {},
   "outputs": [
    {
     "name": "stdout",
     "output_type": "stream",
     "text": [
      "cpu\n"
     ]
    }
   ],
   "source": [
    "import numpy as np\n",
    "import matplotlib.pyplot as plt\n",
    "\n",
    "import torch\n",
    "import torch.nn as nn\n",
    "from torch.utils.data import DataLoader\n",
    "from torchvision import datasets, transforms\n",
    "\n",
    "import torchinfo\n",
    "\n",
    "device = \"cuda\" if torch.cuda.is_available() else \"cpu\"\n",
    "print(device)"
   ]
  },
  {
   "cell_type": "code",
   "execution_count": 2,
   "metadata": {},
   "outputs": [],
   "source": [
    "### Dataset, DataLoader 생성\n",
    "#### Built in Dataset\n",
    "fmnist_trainset = datasets.FashionMNIST(root=\"datasets\", train=True, download=True,\n",
    "                                       transform=transforms.ToTensor())\n",
    "fmnist_testset = datasets.FashionMNIST(root=\"datasets\", train=False, download=True,\n",
    "                                      transform=transforms.ToTensor())\n"
   ]
  },
  {
   "cell_type": "code",
   "execution_count": 3,
   "metadata": {},
   "outputs": [
    {
     "name": "stdout",
     "output_type": "stream",
     "text": [
      "train 개수: 60000\n",
      "test 개수: 10000\n"
     ]
    }
   ],
   "source": [
    "# 데이터개수\n",
    "print(\"train 개수:\", len(fmnist_trainset))\n",
    "print(\"test 개수:\", len(fmnist_testset))"
   ]
  },
  {
   "cell_type": "code",
   "execution_count": 4,
   "metadata": {},
   "outputs": [
    {
     "name": "stdout",
     "output_type": "stream",
     "text": [
      "Dataset FashionMNIST\n",
      "    Number of datapoints: 60000\n",
      "    Root location: datasets\n",
      "    Split: Train\n",
      "    StandardTransform\n",
      "Transform: ToTensor()\n",
      "\n",
      "Dataset FashionMNIST\n",
      "    Number of datapoints: 10000\n",
      "    Root location: datasets\n",
      "    Split: Test\n",
      "    StandardTransform\n",
      "Transform: ToTensor()\n"
     ]
    }
   ],
   "source": [
    "print(fmnist_trainset)\n",
    "print()\n",
    "print(fmnist_testset)"
   ]
  },
  {
   "cell_type": "code",
   "execution_count": null,
   "metadata": {},
   "outputs": [],
   "source": [
    "p = model(data)"
   ]
  },
  {
   "cell_type": "code",
   "execution_count": 5,
   "metadata": {},
   "outputs": [
    {
     "data": {
      "text/plain": [
       "array(['Trouser', 'Trouser', 'Pullover', 'Dress', 'T-shirt/top'],\n",
       "      dtype='<U11')"
      ]
     },
     "execution_count": 5,
     "metadata": {},
     "output_type": "execute_result"
    }
   ],
   "source": [
    "# index to class \n",
    "index_to_class = np.array(fmnist_trainset.classes) # fany indexing을 위해서 list->ndarray\n",
    "index_to_class[[1, 1, 2, 3, 0]]"
   ]
  },
  {
   "cell_type": "code",
   "execution_count": 6,
   "metadata": {},
   "outputs": [
    {
     "data": {
      "text/plain": [
       "{'T-shirt/top': 0,\n",
       " 'Trouser': 1,\n",
       " 'Pullover': 2,\n",
       " 'Dress': 3,\n",
       " 'Coat': 4,\n",
       " 'Sandal': 5,\n",
       " 'Shirt': 6,\n",
       " 'Sneaker': 7,\n",
       " 'Bag': 8,\n",
       " 'Ankle boot': 9}"
      ]
     },
     "execution_count": 6,
     "metadata": {},
     "output_type": "execute_result"
    }
   ],
   "source": [
    "# class to index\n",
    "class_to_index = fmnist_trainset.class_to_idx\n",
    "class_to_index"
   ]
  },
  {
   "cell_type": "code",
   "execution_count": 11,
   "metadata": {},
   "outputs": [
    {
     "data": {
      "image/png": "[encoded data removed]",
      "text/plain": [
       "<Figure size 640x480 with 1 Axes>"
      ]
     },
     "metadata": {},
     "output_type": "display_data"
    }
   ],
   "source": [
    "# 이미지 확인\n",
    "idx = 11500\n",
    "x, y = fmnist_trainset[idx]  # Dataset[i] : (X, y)\n",
    "plt.imshow(x[0], cmap='Greys')  # x: (channel: 1, height, width)\n",
    "plt.title(index_to_class[y])\n",
    "plt.show()"
   ]
  },
  {
   "cell_type": "code",
   "execution_count": 12,
   "metadata": {},
   "outputs": [],
   "source": [
    "### DataLoader\n",
    "fmnist_trainloader = DataLoader(fmnist_trainset, batch_size=128, shuffle=True,\n",
    "                                drop_last=True)\n",
    "fmnist_testloader = DataLoader(fmnist_testset, batch_size=128)"
   ]
  },
  {
   "cell_type": "code",
   "execution_count": null,
   "metadata": {},
   "outputs": [],
   "source": []
  },
  {
   "cell_type": "code",
   "execution_count": 14,
   "metadata": {},
   "outputs": [
    {
     "data": {
      "text/plain": [
       "(468, 79)"
      ]
     },
     "execution_count": 14,
     "metadata": {},
     "output_type": "execute_result"
    }
   ],
   "source": [
    "len(fmnist_trainloader), len(fmnist_testloader)  # epoch당 step수"
   ]
  },
  {
   "cell_type": "code",
   "execution_count": 15,
   "metadata": {},
   "outputs": [],
   "source": [
    "### 모델 정의\n",
    "class FashionMNISTModel(nn.Module):\n",
    "    \n",
    "    def __init__(self):\n",
    "        super().__init__()\n",
    "        # 입력 이미지를 받아서 처리후 리턴\n",
    "        self.lr1 = nn.Linear(28*28, 2048) # 784  -> 2048\n",
    "        self.lr2 = nn.Linear(2048, 1024)  # 2048 -> 1024\n",
    "        self.lr3 = nn.Linear(1024, 512)   # 1024 ->  512\n",
    "        self.lr4 = nn.Linear(512, 256)    # 512  ->  256\n",
    "        self.lr5 = nn.Linear(256, 128)    # 256  ->  128\n",
    "        self.lr6 = nn.Linear(128, 64)     # 128  ->   64\n",
    "        # output - out_features: 다중분류- class 개수 (fashion mnist: 10)\n",
    "        self.lr7 = nn.Linear(64, 10)  # 각 클래스별 확률이 출력되도록 한다.\n",
    "    def forward(self, X):\n",
    "        #  X: (batch, channel, height, width) ====> (batch, channel*height*width)\n",
    "#         out = torch.flatten(X, start_dim=1)\n",
    "        out = nn.Flatten()(X)\n",
    "        # lr1  ~ lr7\n",
    "        ## forward 처리를 구현. => Linear -> ReLU() (lr7의 출력은 ReLU에 넣지 마세요.)\n",
    "        out = nn.ReLU()(self.lr1(out))\n",
    "        out = nn.ReLU()(self.lr2(out))\n",
    "        out = nn.ReLU()(self.lr3(out))\n",
    "        out = nn.ReLU()(self.lr4(out))\n",
    "        out = nn.ReLU()(self.lr5(out))\n",
    "        out = nn.ReLU()(self.lr6(out))\n",
    "        ### output\n",
    "        out = self.lr7(out)\n",
    "        return out"
   ]
  },
  {
   "cell_type": "code",
   "execution_count": 16,
   "metadata": {},
   "outputs": [
    {
     "name": "stdout",
     "output_type": "stream",
     "text": [
      "FashionMNISTModel(\n",
      "  (lr1): Linear(in_features=784, out_features=2048, bias=True)\n",
      "  (lr2): Linear(in_features=2048, out_features=1024, bias=True)\n",
      "  (lr3): Linear(in_features=1024, out_features=512, bias=True)\n",
      "  (lr4): Linear(in_features=512, out_features=256, bias=True)\n",
      "  (lr5): Linear(in_features=256, out_features=128, bias=True)\n",
      "  (lr6): Linear(in_features=128, out_features=64, bias=True)\n",
      "  (lr7): Linear(in_features=64, out_features=10, bias=True)\n",
      ")\n"
     ]
    }
   ],
   "source": [
    "## 모델 생성 및 확인\n",
    "f_model = FashionMNISTModel()\n",
    "print(f_model)"
   ]
  },
  {
   "cell_type": "code",
   "execution_count": 17,
   "metadata": {},
   "outputs": [
    {
     "data": {
      "text/plain": [
       "==========================================================================================\n",
       "Layer (type:depth-idx)                   Output Shape              Param #\n",
       "==========================================================================================\n",
       "FashionMNISTModel                        [128, 10]                 --\n",
       "├─Linear: 1-1                            [128, 2048]               1,607,680\n",
       "├─Linear: 1-2                            [128, 1024]               2,098,176\n",
       "├─Linear: 1-3                            [128, 512]                524,800\n",
       "├─Linear: 1-4                            [128, 256]                131,328\n",
       "├─Linear: 1-5                            [128, 128]                32,896\n",
       "├─Linear: 1-6                            [128, 64]                 8,256\n",
       "├─Linear: 1-7                            [128, 10]                 650\n",
       "==========================================================================================\n",
       "Total params: 4,403,786\n",
       "Trainable params: 4,403,786\n",
       "Non-trainable params: 0\n",
       "Total mult-adds (M): 563.68\n",
       "==========================================================================================\n",
       "Input size (MB): 0.40\n",
       "Forward/backward pass size (MB): 4.14\n",
       "Params size (MB): 17.62\n",
       "Estimated Total Size (MB): 22.16\n",
       "=========================================================================================="
      ]
     },
     "execution_count": 17,
     "metadata": {},
     "output_type": "execute_result"
    }
   ],
   "source": [
    "torchinfo.summary(f_model, (128, 1, 28, 28))"
   ]
  },
  {
   "cell_type": "code",
   "execution_count": 131,
   "metadata": {},
   "outputs": [
    {
     "data": {
      "text/plain": [
       "tensor([ 0.0382,  0.0802, -0.1152,  0.0955, -0.0201,  0.0386, -0.0091, -0.0076,\n",
       "         0.0581,  0.0474], grad_fn=<SelectBackward0>)"
      ]
     },
     "execution_count": 131,
     "metadata": {},
     "output_type": "execute_result"
    }
   ],
   "source": [
    "### 모델 추정결과 형태를 확인\n",
    "i = torch.ones((2, 1, 28, 28))  # 1 x 28 x 28 이미지 2장\n",
    "y_hat = f_model(i)\n",
    "y_hat[0]  # 첫번째 이미지에대한 추론결과"
   ]
  },
  {
   "cell_type": "code",
   "execution_count": 144,
   "metadata": {},
   "outputs": [
    {
     "data": {
      "text/plain": [
       "array(['Dress', 'Dress'], dtype='<U11')"
      ]
     },
     "execution_count": 144,
     "metadata": {},
     "output_type": "execute_result"
    }
   ],
   "source": [
    "y_hat[0].shape\n",
    "# 정답 class => 예측결과 10중에서 가장 큰값이 있는 index\n",
    "y_hat.argmax(axis=-1)  # 첫번째: 3, 두번째: 3\n",
    "index_to_class[y_hat.detach().numpy().argmax(axis=-1)]\n",
    "# requires_grad=True인 Tensor를 ndarray로 변환할 때는 \n",
    "## tensor.detach() 를 한 다음 변환해야 한다."
   ]
  },
  {
   "cell_type": "code",
   "execution_count": 152,
   "metadata": {},
   "outputs": [
    {
     "data": {
      "text/plain": [
       "(tensor([0.1076, 0.1076], grad_fn=<MaxBackward0>), tensor([3, 3]))"
      ]
     },
     "execution_count": 152,
     "metadata": {},
     "output_type": "execute_result"
    }
   ],
   "source": [
    "# y_hat => 확률값으로 변환 ===> Softmax()\n",
    "y_hat_probability = nn.Softmax(dim=-1)(y_hat)\n",
    "y_hat_probability#.sum(dim=-1)\n",
    "# 정답의 확률, 정답 라벨\n",
    "y_hat_probability.max(dim=-1).values, y_hat_probability.argmax(dim=-1)"
   ]
  },
  {
   "cell_type": "code",
   "execution_count": 21,
   "metadata": {},
   "outputs": [
    {
     "data": {
      "text/plain": [
       "tensor([0, 0, 2, 9, 9, 9, 9, 0, 5, 9, 2, 6, 0, 2, 6, 1, 5, 5, 6, 6, 0, 5, 0, 9,\n",
       "        2, 0, 5, 7, 1, 5, 2, 3, 8, 1, 6, 1, 0, 6, 3, 9, 3, 1, 9, 9, 1, 1, 5, 1,\n",
       "        6, 8, 2, 3, 4, 9, 3, 1, 1, 4, 8, 6, 5, 6, 2, 1, 6, 2, 4, 4, 4, 3, 7, 1,\n",
       "        4, 6, 7, 4, 9, 0, 0, 8, 0, 7, 8, 0, 8, 7, 2, 0, 9, 7, 2, 5, 8, 1, 4, 9,\n",
       "        5, 5, 2, 8, 3, 5, 3, 6, 4, 3, 3, 9, 0, 4, 7, 9, 6, 7, 7, 7, 3, 5, 4, 2,\n",
       "        9, 5, 5, 1, 0, 7, 3, 1])"
      ]
     },
     "execution_count": 21,
     "metadata": {},
     "output_type": "execute_result"
    }
   ],
   "source": [
    "a, b = next(iter(fmnist_trainloader))\n",
    "b"
   ]
  },
  {
   "cell_type": "code",
   "execution_count": 23,
   "metadata": {},
   "outputs": [],
   "source": [
    "c = f_model(a.to(device))"
   ]
  },
  {
   "cell_type": "code",
   "execution_count": 26,
   "metadata": {},
   "outputs": [
    {
     "data": {
      "text/plain": [
       "torch.Size([128, 10])"
      ]
     },
     "execution_count": 26,
     "metadata": {},
     "output_type": "execute_result"
    }
   ],
   "source": [
    "c.shape"
   ]
  },
  {
   "cell_type": "code",
   "execution_count": 34,
   "metadata": {},
   "outputs": [
    {
     "data": {
      "text/plain": [
       "tensor([1, 1, 1, 1, 1, 1, 1, 1, 1, 1, 1, 1, 1, 1, 1, 1, 1, 1, 1, 1, 1, 1, 1, 1,\n",
       "        1, 1, 1, 1, 1, 1, 1, 1, 1, 1, 1, 1, 1, 1, 1, 1, 1, 1, 1, 1, 1, 1, 1, 1,\n",
       "        1, 1, 1, 1, 1, 1, 1, 1, 1, 1, 1, 1, 1, 1, 1, 1, 1, 1, 1, 1, 1, 1, 1, 1,\n",
       "        1, 1, 1, 1, 1, 1, 1, 1, 1, 1, 1, 1, 1, 1, 1, 1, 1, 1, 1, 1, 1, 1, 1, 1,\n",
       "        1, 1, 1, 1, 1, 1, 1, 1, 1, 1, 1, 1, 1, 1, 1, 1, 1, 1, 1, 1, 1, 1, 1, 1,\n",
       "        1, 1, 1, 1, 1, 1, 1, 1])"
      ]
     },
     "execution_count": 34,
     "metadata": {},
     "output_type": "execute_result"
    }
   ],
   "source": [
    "d = c.argmax(-1)\n",
    "d"
   ]
  },
  {
   "cell_type": "code",
   "execution_count": 33,
   "metadata": {},
   "outputs": [
    {
     "data": {
      "text/plain": [
       "tensor(0.1172)"
      ]
     },
     "execution_count": 33,
     "metadata": {},
     "output_type": "execute_result"
    }
   ],
   "source": [
    "torch.sum(b == d)/128"
   ]
  },
  {
   "cell_type": "code",
   "execution_count": 18,
   "metadata": {},
   "outputs": [],
   "source": [
    "#### 학습(Train)\n",
    "## 하이퍼파라미터\n",
    "LR = 0.001\n",
    "N_EPOCH = 20\n",
    "\n",
    "# 모델을 device 로 이동.\n",
    "f_model = f_model.to(device)\n",
    "# loss fn -> 다중분류: nn.CrossEntropyLoss() ==> 다중 분류용 Log loss \n",
    "loss_fn = nn.CrossEntropyLoss()\n",
    "# optimizer\n",
    "optimizer = torch.optim.Adam(f_model.parameters(), lr=LR)"
   ]
  },
  {
   "cell_type": "code",
   "execution_count": 47,
   "metadata": {},
   "outputs": [
    {
     "name": "stdout",
     "output_type": "stream",
     "text": [
      "[01/20] train loss: 0.15759624657818141 valid loss: 0.3811964841583107 valid acc: 0.8985\n"
     ]
    }
   ],
   "source": [
    "# train\n",
    "import time\n",
    "## 각 에폭별 학습이 끝나고 모델 평가한 값을 저장.\n",
    "train_loss_list = []\n",
    "valid_loss_list = []\n",
    "valid_acc_list = []   # test set의 정확도 검증 결과 => 전체데이터 중 맞은데이터의 개수\n",
    "\n",
    "s = time.time()\n",
    "for epoch in range(N_EPOCH):\n",
    "    ######### train\n",
    "    f_model.train()\n",
    "    train_loss = 0.0 # 현재 epoch의 tain set의 loss\n",
    "    for X_train, y_train in fmnist_trainloader:\n",
    "        # 1. device로 옮기기. model과 같은 device로 옮긴다.\n",
    "        X_train, y_train = X_train.to(device), y_train.to(device)\n",
    "        # 2. 예측 - 순전파\n",
    "        pred_train = f_model(X_train)\n",
    "        # 3. Loss 계산\n",
    "        loss = loss_fn(pred_train, y_train) # (예측, 정답)\n",
    "        # 4 모델 파라미터 업데이트\n",
    "        ## 4-1 gradient 초기화\n",
    "        optimizer.zero_grad()\n",
    "        ## 4-2 grad 계산 - (오차) 역전파\n",
    "        loss.backward()\n",
    "        ## 4-3 파라미터 업데이트\n",
    "        optimizer.step()\n",
    "        \n",
    "        # train loss를 누적\n",
    "        train_loss += loss.item()\n",
    "    # 1에폭 학습 종료 => train_loss의 평균을 list에 저장.\n",
    "    train_loss /= len(fmnist_trainloader)  # 누적_train_loss/step수\n",
    "    train_loss_list.append(train_loss)\n",
    "    \n",
    "    ######### validation\n",
    "    f_model.eval()\n",
    "    valid_loss = 0.0  # 현재 epoch의 validation loss 저장할 변수\n",
    "    valid_acc = 0.0   # 현재 epoch의 validation accuracy(정확도)를 저장할 변수\n",
    "    ### 정확도: 맞은것의 개수 / 전체 개수\n",
    "    with torch.no_grad(): # 도함수 구할 필요가 없으므로 no grad context manager에서 실행.\n",
    "        for X_valid, y_valid in fmnist_testloader:\n",
    "            # 1. device로 옮기기\n",
    "            X_valid, y_valid = X_valid.to(device), y_valid.to(device)\n",
    "            \n",
    "            # 2. 예측\n",
    "            pred_valid = f_model(X_valid) # class별 정답일 가능성을 출력 (batch, 10)\n",
    "            pred_label = pred_valid.argmax(dim=-1) # 정답 class를 조회. (pred_valid에서 가장 큰값을 가진 index)\n",
    "            \n",
    "            # 3. 평가\n",
    "            ## 3.1 loss 계산\n",
    "            loss_valid = loss_fn(pred_valid, y_valid) ## loss_fn() batch만큼 평균을 계산.\n",
    "            valid_loss += loss_valid.item()\n",
    "            ## 3.2 정확도 계산\n",
    "            valid_acc += torch.sum(pred_label == y_valid).item()\n",
    "        # 한 epoch에 대한 평가 완료 => valid_loss_list, valid_acc_list에 추가\n",
    "        valid_loss /= len(fmnist_testloader)        # step수로 나눠서 평균을 계산\n",
    "        valid_acc /= len(fmnist_testloader.dataset) # testset의 총 데이터 개수로 나눔.\n",
    "        valid_loss_list.append(valid_loss)\n",
    "        valid_acc_list.append(valid_acc)\n",
    "        \n",
    "        print(f\"[{epoch+1:02d}/{N_EPOCH}] train loss: {train_loss} valid loss: {valid_loss} valid acc: {valid_acc}\")\n",
    "    \n",
    "    \n",
    "    \n",
    "e = time.time()"
   ]
  },
  {
   "cell_type": "code",
   "execution_count": 36,
   "metadata": {},
   "outputs": [
    {
     "name": "stdout",
     "output_type": "stream",
     "text": [
      "걸린시간: 724.6633155345917초\n"
     ]
    }
   ],
   "source": [
    "print(f\"걸린시간: {e-s}초\")"
   ]
  },
  {
   "cell_type": "code",
   "execution_count": 42,
   "metadata": {
    "collapsed": true
   },
   "outputs": [
    {
     "data": {
      "text/plain": [
       "[0.5012025237083435,\n",
       " 0.4390244781970978,\n",
       " 0.4064876139163971,\n",
       " 0.3639106750488281,\n",
       " 0.3725932538509369,\n",
       " 0.35287195444107056,\n",
       " 0.3404465317726135,\n",
       " 0.33981508016586304,\n",
       " 0.33494001626968384,\n",
       " 0.33171260356903076,\n",
       " 0.3399675488471985,\n",
       " 0.3234052360057831,\n",
       " 0.3317050635814667,\n",
       " 0.3545818030834198,\n",
       " 0.3590960204601288,\n",
       " 0.3160719871520996,\n",
       " 0.3673509955406189,\n",
       " 0.3594995439052582,\n",
       " 0.35006678104400635,\n",
       " 0.3596830666065216]"
      ]
     },
     "execution_count": 42,
     "metadata": {},
     "output_type": "execute_result"
    }
   ],
   "source": [
    "valid_loss_list = [v.item() for v in valid_loss_list]\n",
    "valid_loss_list"
   ]
  },
  {
   "cell_type": "code",
   "execution_count": 45,
   "metadata": {},
   "outputs": [
    {
     "data": {
      "image/png": "[encoded data removed]",
      "text/plain": [
       "<Figure size 1000x500 with 2 Axes>"
      ]
     },
     "metadata": {},
     "output_type": "display_data"
    }
   ],
   "source": [
    "# 결과 시각화\n",
    "plt.rcParams[\"font.family\"] = \"Malgun gothic\"\n",
    "\n",
    "plt.figure(figsize=(10, 5))\n",
    "plt.subplot(1, 2, 1)\n",
    "plt.plot(train_loss_list, label=\"train\")\n",
    "plt.plot(valid_loss_list, label=\"validation\")\n",
    "plt.title(\"Epoch 별 loss 변화\")\n",
    "plt.legend()\n",
    "\n",
    "plt.subplot(1, 2, 2)\n",
    "plt.plot(valid_acc_list)\n",
    "plt.title(\"Validation Accuracy\")\n",
    "\n",
    "plt.tight_layout()\n",
    "plt.show()"
   ]
  },
  {
   "cell_type": "code",
   "execution_count": 46,
   "metadata": {},
   "outputs": [],
   "source": [
    "#################################################################################\n",
    "# 모델 학습이 진행되면 어느 시점부터 성능이 떨어지기 시작\n",
    "#   (trainset으로 검증한 결과는 계속 좋아지는데 \n",
    "#     validation set으로 검증한 결과는 성능이 좋아지다 안좋아진다.)\n",
    "# 1. 학습 도중 성능 개선될 때마다 저장. (가장 좋은 성능의 모델을 서비스 할 수 있게한다.)\n",
    "# 2. 더이상 성능개선이 안되면 학습을 중지(조기종료)\n",
    "##################################################################################"
   ]
  },
  {
   "cell_type": "code",
   "execution_count": 49,
   "metadata": {},
   "outputs": [
    {
     "name": "stdout",
     "output_type": "stream",
     "text": [
      "[01/1000] train loss: 0.6355121705012444 valid loss: 0.4740014958985244 valid acc: 0.8321\n",
      "모델저장:  1 Epoch - 이전 valid_loss: inf,               현재 valid_loss: 0.4740014958985244\n",
      "[02/1000] train loss: 0.39493234506529623 valid loss: 0.4090986514016043 valid acc: 0.8548\n",
      "모델저장:  2 Epoch - 이전 valid_loss: 0.4740014958985244,               현재 valid_loss: 0.4090986514016043\n",
      "[03/1000] train loss: 0.3558846613089753 valid loss: 0.3680261739447147 valid acc: 0.8652\n",
      "모델저장:  3 Epoch - 이전 valid_loss: 0.4090986514016043,               현재 valid_loss: 0.3680261739447147\n",
      "[04/1000] train loss: 0.3206319821695996 valid loss: 0.37015241158159473 valid acc: 0.8662\n",
      "[05/1000] train loss: 0.3044445222705348 valid loss: 0.34685571208784854 valid acc: 0.8757\n",
      "모델저장:  5 Epoch - 이전 valid_loss: 0.3680261739447147,               현재 valid_loss: 0.34685571208784854\n",
      "[06/1000] train loss: 0.28472161668742824 valid loss: 0.320456976188889 valid acc: 0.883\n",
      "모델저장:  6 Epoch - 이전 valid_loss: 0.34685571208784854,               현재 valid_loss: 0.320456976188889\n",
      "[07/1000] train loss: 0.2700596894336562 valid loss: 0.3505033963843237 valid acc: 0.88\n",
      "[08/1000] train loss: 0.2596632132036054 valid loss: 0.3342578763825984 valid acc: 0.8747\n",
      "[09/1000] train loss: 0.24620429833984783 valid loss: 0.3472842572233345 valid acc: 0.8855\n",
      "[10/1000] train loss: 0.2377468452303328 valid loss: 0.34488803072820734 valid acc: 0.8761\n",
      "[11/1000] train loss: 0.22859801987233835 valid loss: 0.3253792380041714 valid acc: 0.8848\n",
      "=====> 11 Epoch에서 조기종료-0.320456976188889에서 개선 안됨\n"
     ]
    }
   ],
   "source": [
    "import time\n",
    "\n",
    "LR = 0.001\n",
    "N_EPOCH = 1000\n",
    "\n",
    "# 모델을 device 로 이동.\n",
    "f_model = FashionMNISTModel()\n",
    "f_model = f_model.to(device)\n",
    "# loss fn -> 다중분류: nn.CrossEntropyLoss() ==> 다중 분류용 Log loss \n",
    "loss_fn = nn.CrossEntropyLoss()\n",
    "# optimizer\n",
    "optimizer = torch.optim.Adam(f_model.parameters(), lr=LR)\n",
    "\n",
    "########################################\n",
    "# 조기종료 + 모델 저장을 위한 변수 추가\n",
    "########################################\n",
    "###### 모델 저장을 위한변수\n",
    "# 학습 중 가장 좋은 성능 평가지표를 저장. 현 epoch의 지표가 이 변수값보다 좋으면 저장\n",
    "# 평가지표: validation loss\n",
    "best_score = torch.inf  \n",
    "save_model_path = \"models/fashion_mnist_best_model.pth\"\n",
    "\n",
    "###### 조기 종료를 위한 변수: 특정 epoch동안 성능 개선이 없으면 학습을 중단\n",
    "patience = 5 # 성능이 개선 될지를 기다릴 epoch 수. patience 번 만큼 개선이 안되면 중단.(보통 10이상 지정)\n",
    "trigger_cnt = 0 # 성능 개선을 몇번 째 기다리는 지 정할 변수. patience==trigger_cnt : 중단\n",
    "\n",
    "# train\n",
    "\n",
    "## 각 에폭별 학습이 끝나고 모델 평가한 값을 저장.\n",
    "train_loss_list = []\n",
    "valid_loss_list = []\n",
    "valid_acc_list = []   # test set의 정확도 검증 결과 => 전체데이터 중 맞은데이터의 개수\n",
    "\n",
    "s = time.time()\n",
    "for epoch in range(N_EPOCH):\n",
    "    ######### train\n",
    "    f_model.train()\n",
    "    train_loss = 0.0 # 현재 epoch의 tain set의 loss\n",
    "    for X_train, y_train in fmnist_trainloader:\n",
    "        # 1. device로 옮기기. model과 같은 device로 옮긴다.\n",
    "        X_train, y_train = X_train.to(device), y_train.to(device)\n",
    "        # 2. 예측 - 순전파\n",
    "        pred_train = f_model(X_train)\n",
    "        # 3. Loss 계산\n",
    "        loss = loss_fn(pred_train, y_train) # (예측, 정답)\n",
    "        # 4 모델 파라미터 업데이트\n",
    "        ## 4-1 gradient 초기화\n",
    "        optimizer.zero_grad()\n",
    "        ## 4-2 grad 계산 - (오차) 역전파\n",
    "        loss.backward()\n",
    "        ## 4-3 파라미터 업데이트\n",
    "        optimizer.step()\n",
    "        \n",
    "        # train loss를 누적\n",
    "        train_loss += loss.item()\n",
    "    # 1에폭 학습 종료 => train_loss의 평균을 list에 저장.\n",
    "    train_loss /= len(fmnist_trainloader)  # 누적_train_loss/step수\n",
    "    train_loss_list.append(train_loss)\n",
    "    \n",
    "    ######### validation\n",
    "    f_model.eval()\n",
    "    valid_loss = 0.0  # 현재 epoch의 validation loss 저장할 변수\n",
    "    valid_acc = 0.0   # 현재 epoch의 validation accuracy(정확도)를 저장할 변수\n",
    "    ### 정확도: 맞은것의 개수 / 전체 개수\n",
    "    with torch.no_grad(): # 도함수 구할 필요가 없으므로 no grad context manager에서 실행.\n",
    "        for X_valid, y_valid in fmnist_testloader:\n",
    "            # 1. device로 옮기기\n",
    "            X_valid, y_valid = X_valid.to(device), y_valid.to(device)\n",
    "            \n",
    "            # 2. 예측\n",
    "            pred_valid = f_model(X_valid) # class별 정답일 가능성을 출력 (batch, 10)\n",
    "            pred_label = pred_valid.argmax(dim=-1) # 정답 class를 조회. (pred_valid에서 가장 큰값을 가진 index)\n",
    "            \n",
    "            # 3. 평가\n",
    "            ## 3.1 loss 계산\n",
    "            loss_valid = loss_fn(pred_valid, y_valid) ## loss_fn() batch만큼 평균을 계산.\n",
    "            valid_loss += loss_valid.item()\n",
    "            ## 3.2 정확도 계산\n",
    "            valid_acc += torch.sum(pred_label == y_valid).item()\n",
    "        # 한 epoch에 대한 평가 완료 => valid_loss_list, valid_acc_list에 추가\n",
    "        valid_loss /= len(fmnist_testloader)        # step수로 나눠서 평균을 계산\n",
    "        valid_acc /= len(fmnist_testloader.dataset) # testset의 총 데이터 개수로 나눔.\n",
    "        valid_loss_list.append(valid_loss)\n",
    "        valid_acc_list.append(valid_acc)\n",
    "        \n",
    "        print(f\"[{epoch+1:02d}/{N_EPOCH}] train loss: {train_loss} valid loss: {valid_loss} valid acc: {valid_acc}\")\n",
    "        \n",
    "    ##################################\n",
    "    # 조기종료여부, 모델 저장 처리\n",
    "    #   저장: 현 epoch valid_loss 가 best_score 보다 개선된 경우 저장(작으면 개선)\n",
    "    #################################\n",
    "    if valid_loss < best_score: # 성능이 개선된 경우.\n",
    "        #저장 로그 출력\n",
    "        print(f\"====> 모델저장:  {epoch+1} Epoch - 이전 valid_loss: {best_score}, 현재 valid_loss: {valid_loss}\")\n",
    "        # best_score교체\n",
    "        best_score = valid_loss\n",
    "        # 저장\n",
    "        torch.save(f_model, save_model_path)\n",
    "        # trigger_cnt 를 0으로 초기화\n",
    "        trigger_cnt = 0\n",
    "    else: # 성능개선이 안된경우.\n",
    "        # trigger_cnt를 1 증가\n",
    "        trigger_cnt += 1\n",
    "        if patience == trigger_cnt: # patience 만큼 대기 ==> 조기 종료\n",
    "            #로그\n",
    "            print(f\"=====> {epoch+1} Epoch에서 조기종료-{best_score}에서 개선 안됨\")\n",
    "            break\n",
    "    \n",
    "e = time.time()"
   ]
  },
  {
   "cell_type": "code",
   "execution_count": 50,
   "metadata": {},
   "outputs": [],
   "source": [
    "### 저장된 모델 로딩\n",
    "best_model = torch.load(save_model_path)"
   ]
  },
  {
   "cell_type": "code",
   "execution_count": 51,
   "metadata": {},
   "outputs": [],
   "source": [
    "#### test_dataloader 로 평가\n",
    "best_model = best_model.to(device)\n",
    "best_model.eval()\n",
    "valid_loss = 0.0  # 현재 epoch의 validation loss 저장할 변수\n",
    "valid_acc = 0.0   # 현재 epoch의 validation accuracy(정확도)를 저장할 변수\n",
    "### 정확도: 맞은것의 개수 / 전체 개수\n",
    "with torch.no_grad(): # 도함수 구할 필요가 없으므로 no grad context manager에서 실행.\n",
    "    for X_valid, y_valid in fmnist_testloader:\n",
    "        # 1. device로 옮기기\n",
    "        X_valid, y_valid = X_valid.to(device), y_valid.to(device)\n",
    "\n",
    "        # 2. 예측\n",
    "        pred_valid = best_model(X_valid) # class별 정답일 가능성을 출력 (batch, 10)\n",
    "        pred_label = pred_valid.argmax(dim=-1) # 정답 class를 조회. (pred_valid에서 가장 큰값을 가진 index)\n",
    "\n",
    "        # 3. 평가\n",
    "        ## 3.1 loss 계산\n",
    "        loss_valid = loss_fn(pred_valid, y_valid) ## loss_fn() batch만큼 평균을 계산.\n",
    "        valid_loss += loss_valid.item()\n",
    "        ## 3.2 정확도 계산\n",
    "        valid_acc += torch.sum(pred_label == y_valid).item()\n",
    "    # 한 epoch에 대한 평가 완료 => valid_loss_list, valid_acc_list에 추가\n",
    "    valid_loss /= len(fmnist_testloader)        # step수로 나눠서 평균을 계산\n",
    "    valid_acc /= len(fmnist_testloader.dataset) # testset의 총 데이터 개수로 나눔"
   ]
  },
  {
   "cell_type": "code",
   "execution_count": 52,
   "metadata": {},
   "outputs": [
    {
     "data": {
      "text/plain": [
       "0.320456976188889"
      ]
     },
     "execution_count": 52,
     "metadata": {},
     "output_type": "execute_result"
    }
   ],
   "source": [
    "valid_loss"
   ]
  },
  {
   "cell_type": "code",
   "execution_count": 53,
   "metadata": {},
   "outputs": [
    {
     "data": {
      "text/plain": [
       "0.883"
      ]
     },
     "execution_count": 53,
     "metadata": {},
     "output_type": "execute_result"
    }
   ],
   "source": [
    "valid_acc"
   ]
  },
  {
   "cell_type": "code",
   "execution_count": null,
   "metadata": {},
   "outputs": [],
   "source": []
  },
  {
   "cell_type": "markdown",
   "metadata": {
    "slideshow": {
     "slide_type": "slide"
    }
   },
   "source": [
    "## 위스콘신 유방암 데이터셋 - 이진분류(Binary Classification) 문제\n",
    "\n",
    "- **이진 분류 문제 처리 모델의 두가지 방법**\n",
    "    1. positive(1)일 확률을 출력하도록 구현\n",
    "        - output layer: units=1, activation='sigmoid'\n",
    "        - loss: binary_crossentropy\n",
    "    2. negative(0)일 확률과 positive(1)일 확률을 출력하도록 구현 => 다중분류 처리 방식으로 해결\n",
    "        - output layer: units=2, activation='softmax', y(정답)은 one hot encoding 처리\n",
    "        - loss: categorical_crossentropy\n",
    "        \n",
    "- 위스콘신 대학교에서 제공한 종양의 악성/양성여부 분류를 위한 데이터셋\n",
    "- Feature\n",
    "    - 종양에 대한 다양한 측정값들\n",
    "- Target의 class\n",
    "    - 0 - malignant(악성종양)\n",
    "    - 1 - benign(양성종양)"
   ]
  },
  {
   "cell_type": "code",
   "execution_count": 4,
   "metadata": {},
   "outputs": [],
   "source": [
    "from sklearn.datasets import load_breast_cancer\n",
    "from sklearn.preprocessing import StandardScaler\n",
    "from sklearn.model_selection import train_test_split\n",
    "\n",
    "import torch\n",
    "import torch.nn as nn\n",
    "from torch.utils.data import TensorDataset, DataLoader\n",
    "\n",
    "import numpy as np\n",
    "import matplotlib.pyplot as plt"
   ]
  },
  {
   "cell_type": "code",
   "execution_count": 5,
   "metadata": {},
   "outputs": [
    {
     "data": {
      "text/plain": [
       "'cpu'"
      ]
     },
     "execution_count": 5,
     "metadata": {},
     "output_type": "execute_result"
    }
   ],
   "source": [
    "device = \"cuda\" if torch.cuda.is_available() else \"cpu\"\n",
    "device"
   ]
  },
  {
   "cell_type": "markdown",
   "metadata": {},
   "source": [
    "### Dataset, DataLoader  생성"
   ]
  },
  {
   "cell_type": "code",
   "execution_count": 8,
   "metadata": {},
   "outputs": [
    {
     "name": "stdout",
     "output_type": "stream",
     "text": [
      "<class 'numpy.ndarray'> <class 'numpy.ndarray'>\n",
      "(569, 30) (569,)\n",
      "[0 1]\n"
     ]
    }
   ],
   "source": [
    "X, y = load_breast_cancer(return_X_y=True)\n",
    "print(type(X), type(y))\n",
    "print(X.shape, y.shape)\n",
    "print(np.unique(y))"
   ]
  },
  {
   "cell_type": "code",
   "execution_count": 9,
   "metadata": {},
   "outputs": [],
   "source": [
    "index_to_class = np.array([\"악성\", \"양성\"])\n",
    "class_to_index = dict(악성=0, 양성=1)"
   ]
  },
  {
   "cell_type": "code",
   "execution_count": 10,
   "metadata": {},
   "outputs": [
    {
     "data": {
      "text/plain": [
       "(569, 1)"
      ]
     },
     "execution_count": 10,
     "metadata": {},
     "output_type": "execute_result"
    }
   ],
   "source": [
    "# y shape을 2차원으로 변경 ==> 모델 출력 shape과 맞춰준다.\n",
    "# (batch_size, 1)\n",
    "y = y.reshape(-1, 1)\n",
    "y.shape"
   ]
  },
  {
   "cell_type": "code",
   "execution_count": 11,
   "metadata": {},
   "outputs": [
    {
     "name": "stdout",
     "output_type": "stream",
     "text": [
      "(426, 30) (143, 30) (426, 1) (143, 1)\n"
     ]
    }
   ],
   "source": [
    "### train / test set 분리\n",
    "X_train, X_test, y_train, y_test = train_test_split(X, y, # 나눌 대상 X, y\n",
    "                                                    test_size=0.25, # 나눌 비율\n",
    "                                                    stratify=y # class 별 비율을 맞춰서 나눔.\n",
    "                                                   )\n",
    "\n",
    "print(X_train.shape, X_test.shape, y_train.shape, y_test.shape)"
   ]
  },
  {
   "cell_type": "code",
   "execution_count": 12,
   "metadata": {},
   "outputs": [],
   "source": [
    "#### 전처리 - Feature Scaling (컬럼들의 scale(척도)를 맞춘다.)\n",
    "# StandardScaler => 평균: 0, 표준편차: 1 을 기준으로 맞춤.\n",
    "scaler = StandardScaler()\n",
    "# scaler.fit(X_train)\n",
    "# X_train_scaled = scaler.transform(X_train)\n",
    "X_train_scaled = scaler.fit_transform(X_train)\n",
    "X_test_scaled = scaler.transform(X_test)  # TrainSet으로 fit한 scaler를 이용해 변환."
   ]
  },
  {
   "cell_type": "code",
   "execution_count": 13,
   "metadata": {},
   "outputs": [],
   "source": [
    "#### ndarry => Tensor 변환 ==> Dataset을 구성 ====> DataLoader 구성\n",
    "# ndarray => torch.Tensor\n",
    "X_train_tensor = torch.tensor(X_train_scaled, dtype=torch.float32)\n",
    "X_test_tensor = torch.tensor(X_test_scaled, dtype=torch.float32)\n",
    "\n",
    "y_train_tensor = torch.tensor(y_train, dtype=torch.float32)\n",
    "y_test_tensor = torch.tensor(y_test, dtype=torch.float32)"
   ]
  },
  {
   "cell_type": "code",
   "execution_count": 16,
   "metadata": {},
   "outputs": [],
   "source": [
    "# Dataset 생성 ==> 메모리의 Tensor를 Dataset으로 생성=>TensorDataset\n",
    "trainset = TensorDataset(X_train_tensor, y_train_tensor)\n",
    "testset = TensorDataset(X_test_tensor, y_test_tensor)\n",
    "\n",
    "# DataLoader\n",
    "train_loader = DataLoader(trainset, batch_size=200, shuffle=True, drop_last=True)\n",
    "test_loader = DataLoader(testset, batch_size=len(testset))"
   ]
  },
  {
   "cell_type": "markdown",
   "metadata": {},
   "source": [
    "### Model 클래스 정의"
   ]
  },
  {
   "cell_type": "code",
   "execution_count": 17,
   "metadata": {},
   "outputs": [
    {
     "data": {
      "text/plain": [
       "(426, 30)"
      ]
     },
     "execution_count": 17,
     "metadata": {},
     "output_type": "execute_result"
    }
   ],
   "source": [
    "X_train.shape"
   ]
  },
  {
   "cell_type": "code",
   "execution_count": 47,
   "metadata": {},
   "outputs": [],
   "source": [
    "class BCModel(nn.Module):\n",
    "    \n",
    "    def __init__(self):\n",
    "        super().__init__()\n",
    "        self.lr1 = nn.Linear(30, 32)\n",
    "        self.lr2 = nn.Linear(32, 8)\n",
    "        # 출력 Layer: 이진분류 - positive의 확률 값 한개를 출력. out_features=1\n",
    "        self.lr3 = nn.Linear(8, 1)\n",
    "        \n",
    "    def forward(self, X):\n",
    "        # X (입력) shape: (batchsize, 30)\n",
    "#         out = self.lr1(X)\n",
    "#         out = nn.ReLU()(out)\n",
    "        out = nn.ReLU()(self.lr1(X))\n",
    "        out = nn.ReLU()(self.lr2(out))\n",
    "        # 이진분류 출력값 처리 -> Linear()는 한개의 값을 출력 => 확률값으로 변경.==> Sigmoid/Logistic 함수를 Activation 함수로 사용\n",
    "        out = self.lr3(out)\n",
    "        out = nn.Sigmoid()(out)\n",
    "        return out"
   ]
  },
  {
   "cell_type": "code",
   "execution_count": 48,
   "metadata": {},
   "outputs": [
    {
     "name": "stdout",
     "output_type": "stream",
     "text": [
      "torch.Size([5, 30])\n"
     ]
    },
    {
     "data": {
      "text/plain": [
       "tensor([[0.5260],\n",
       "        [0.5260],\n",
       "        [0.5260],\n",
       "        [0.5260],\n",
       "        [0.5260]], grad_fn=<SigmoidBackward0>)"
      ]
     },
     "execution_count": 48,
     "metadata": {},
     "output_type": "execute_result"
    }
   ],
   "source": [
    "model = BCModel()\n",
    "tmp_x = torch.ones(5, 30)\n",
    "print(tmp_x.shape)\n",
    "tmp_y = model(tmp_x)\n",
    "tmp_y\n",
    "# 0.4755 -> 1(양성-positive)일 확률"
   ]
  },
  {
   "cell_type": "code",
   "execution_count": 51,
   "metadata": {},
   "outputs": [
    {
     "data": {
      "text/plain": [
       "tensor([[1],\n",
       "        [1],\n",
       "        [1],\n",
       "        [1],\n",
       "        [1]], dtype=torch.int32)"
      ]
     },
     "execution_count": 51,
     "metadata": {},
     "output_type": "execute_result"
    }
   ],
   "source": [
    "# Tensor객체.type(타입을지정) ==> Tensor 데이터타입 변한.\n",
    "# bool -> int : False: 0, True: 1\n",
    "(tmp_y > 0.5).type(torch.int32)"
   ]
  },
  {
   "cell_type": "markdown",
   "metadata": {},
   "source": [
    "### Train(학습/훈련)"
   ]
  },
  {
   "cell_type": "code",
   "execution_count": 59,
   "metadata": {},
   "outputs": [
    {
     "name": "stdout",
     "output_type": "stream",
     "text": [
      "[1/1000] train loss: 0.6600761711597443, valid loss: 0.6541908383369446, valid accuracy: 0.6293706293706294\n",
      "===> 1에폭에서 모델 저장. 이전 score: inf, 현재 score: 0.6541908383369446\n",
      "[2/1000] train loss: 0.6508070826530457, valid loss: 0.6489077210426331, valid accuracy: 0.6293706293706294\n",
      "===> 2에폭에서 모델 저장. 이전 score: 0.6541908383369446, 현재 score: 0.6489077210426331\n",
      "[3/1000] train loss: 0.6499413549900055, valid loss: 0.6433717012405396, valid accuracy: 0.6293706293706294\n",
      "===> 3에폭에서 모델 저장. 이전 score: 0.6489077210426331, 현재 score: 0.6433717012405396\n",
      "[4/1000] train loss: 0.6422750055789948, valid loss: 0.6375226378440857, valid accuracy: 0.6293706293706294\n",
      "===> 4에폭에서 모델 저장. 이전 score: 0.6433717012405396, 현재 score: 0.6375226378440857\n",
      "[5/1000] train loss: 0.6378816366195679, valid loss: 0.6312955021858215, valid accuracy: 0.6293706293706294\n",
      "===> 5에폭에서 모델 저장. 이전 score: 0.6375226378440857, 현재 score: 0.6312955021858215\n",
      "[6/1000] train loss: 0.6275888681411743, valid loss: 0.6247140765190125, valid accuracy: 0.6293706293706294\n",
      "===> 6에폭에서 모델 저장. 이전 score: 0.6312955021858215, 현재 score: 0.6247140765190125\n",
      "[7/1000] train loss: 0.6255381405353546, valid loss: 0.6176744103431702, valid accuracy: 0.6503496503496503\n",
      "===> 7에폭에서 모델 저장. 이전 score: 0.6247140765190125, 현재 score: 0.6176744103431702\n",
      "[8/1000] train loss: 0.6155331134796143, valid loss: 0.6101639866828918, valid accuracy: 0.6573426573426573\n",
      "===> 8에폭에서 모델 저장. 이전 score: 0.6176744103431702, 현재 score: 0.6101639866828918\n",
      "[9/1000] train loss: 0.6084557473659515, valid loss: 0.6021616458892822, valid accuracy: 0.6783216783216783\n",
      "===> 9에폭에서 모델 저장. 이전 score: 0.6101639866828918, 현재 score: 0.6021616458892822\n",
      "[10/1000] train loss: 0.6014630794525146, valid loss: 0.5937258005142212, valid accuracy: 0.6923076923076923\n",
      "===> 10에폭에서 모델 저장. 이전 score: 0.6021616458892822, 현재 score: 0.5937258005142212\n",
      "[11/1000] train loss: 0.5937307476997375, valid loss: 0.5847026109695435, valid accuracy: 0.6993006993006993\n",
      "===> 11에폭에서 모델 저장. 이전 score: 0.5937258005142212, 현재 score: 0.5847026109695435\n",
      "[12/1000] train loss: 0.589849054813385, valid loss: 0.5750752687454224, valid accuracy: 0.7342657342657343\n",
      "===> 12에폭에서 모델 저장. 이전 score: 0.5847026109695435, 현재 score: 0.5750752687454224\n",
      "[13/1000] train loss: 0.5755467116832733, valid loss: 0.5648117065429688, valid accuracy: 0.7552447552447552\n",
      "===> 13에폭에서 모델 저장. 이전 score: 0.5750752687454224, 현재 score: 0.5648117065429688\n",
      "[14/1000] train loss: 0.5685779750347137, valid loss: 0.5539277195930481, valid accuracy: 0.7622377622377622\n",
      "===> 14에폭에서 모델 저장. 이전 score: 0.5648117065429688, 현재 score: 0.5539277195930481\n",
      "[15/1000] train loss: 0.5534643530845642, valid loss: 0.5424272418022156, valid accuracy: 0.8041958041958042\n",
      "===> 15에폭에서 모델 저장. 이전 score: 0.5539277195930481, 현재 score: 0.5424272418022156\n",
      "[16/1000] train loss: 0.5462923347949982, valid loss: 0.5303307771682739, valid accuracy: 0.8251748251748252\n",
      "===> 16에폭에서 모델 저장. 이전 score: 0.5424272418022156, 현재 score: 0.5303307771682739\n",
      "[17/1000] train loss: 0.5278309285640717, valid loss: 0.5175948143005371, valid accuracy: 0.8391608391608392\n",
      "===> 17에폭에서 모델 저장. 이전 score: 0.5303307771682739, 현재 score: 0.5175948143005371\n",
      "[18/1000] train loss: 0.5193441808223724, valid loss: 0.50425785779953, valid accuracy: 0.8461538461538461\n",
      "===> 18에폭에서 모델 저장. 이전 score: 0.5175948143005371, 현재 score: 0.50425785779953\n",
      "[19/1000] train loss: 0.5067301690578461, valid loss: 0.4903981685638428, valid accuracy: 0.8741258741258742\n",
      "===> 19에폭에서 모델 저장. 이전 score: 0.50425785779953, 현재 score: 0.4903981685638428\n",
      "[20/1000] train loss: 0.49099308252334595, valid loss: 0.47609129548072815, valid accuracy: 0.8881118881118881\n",
      "===> 20에폭에서 모델 저장. 이전 score: 0.4903981685638428, 현재 score: 0.47609129548072815\n",
      "[21/1000] train loss: 0.48040007054805756, valid loss: 0.4612898528575897, valid accuracy: 0.9020979020979021\n",
      "===> 21에폭에서 모델 저장. 이전 score: 0.47609129548072815, 현재 score: 0.4612898528575897\n",
      "[22/1000] train loss: 0.4615515470504761, valid loss: 0.4460435211658478, valid accuracy: 0.9090909090909091\n",
      "===> 22에폭에서 모델 저장. 이전 score: 0.4612898528575897, 현재 score: 0.4460435211658478\n",
      "[23/1000] train loss: 0.44883692264556885, valid loss: 0.43042173981666565, valid accuracy: 0.9300699300699301\n",
      "===> 23에폭에서 모델 저장. 이전 score: 0.4460435211658478, 현재 score: 0.43042173981666565\n",
      "[24/1000] train loss: 0.433066189289093, valid loss: 0.4145766496658325, valid accuracy: 0.9370629370629371\n",
      "===> 24에폭에서 모델 저장. 이전 score: 0.43042173981666565, 현재 score: 0.4145766496658325\n",
      "[25/1000] train loss: 0.41589392721652985, valid loss: 0.39862021803855896, valid accuracy: 0.951048951048951\n",
      "===> 25에폭에서 모델 저장. 이전 score: 0.4145766496658325, 현재 score: 0.39862021803855896\n",
      "[26/1000] train loss: 0.4043397307395935, valid loss: 0.3826194405555725, valid accuracy: 0.958041958041958\n",
      "===> 26에폭에서 모델 저장. 이전 score: 0.39862021803855896, 현재 score: 0.3826194405555725\n",
      "[27/1000] train loss: 0.38856668770313263, valid loss: 0.36670365929603577, valid accuracy: 0.958041958041958\n",
      "===> 27에폭에서 모델 저장. 이전 score: 0.3826194405555725, 현재 score: 0.36670365929603577\n",
      "[28/1000] train loss: 0.36870136857032776, valid loss: 0.35096582770347595, valid accuracy: 0.958041958041958\n",
      "===> 28에폭에서 모델 저장. 이전 score: 0.36670365929603577, 현재 score: 0.35096582770347595\n",
      "[29/1000] train loss: 0.35575515031814575, valid loss: 0.3354688882827759, valid accuracy: 0.958041958041958\n",
      "===> 29에폭에서 모델 저장. 이전 score: 0.35096582770347595, 현재 score: 0.3354688882827759\n",
      "[30/1000] train loss: 0.3374685198068619, valid loss: 0.3203391134738922, valid accuracy: 0.958041958041958\n",
      "===> 30에폭에서 모델 저장. 이전 score: 0.3354688882827759, 현재 score: 0.3203391134738922\n",
      "[31/1000] train loss: 0.3235898017883301, valid loss: 0.30567046999931335, valid accuracy: 0.958041958041958\n",
      "===> 31에폭에서 모델 저장. 이전 score: 0.3203391134738922, 현재 score: 0.30567046999931335\n",
      "[32/1000] train loss: 0.31465812027454376, valid loss: 0.29154568910598755, valid accuracy: 0.958041958041958\n",
      "===> 32에폭에서 모델 저장. 이전 score: 0.30567046999931335, 현재 score: 0.29154568910598755\n",
      "[33/1000] train loss: 0.2953763008117676, valid loss: 0.2779957950115204, valid accuracy: 0.958041958041958\n",
      "===> 33에폭에서 모델 저장. 이전 score: 0.29154568910598755, 현재 score: 0.2779957950115204\n",
      "[34/1000] train loss: 0.2827608436346054, valid loss: 0.26507529616355896, valid accuracy: 0.958041958041958\n",
      "===> 34에폭에서 모델 저장. 이전 score: 0.2779957950115204, 현재 score: 0.26507529616355896\n",
      "[35/1000] train loss: 0.27043235301971436, valid loss: 0.25281432271003723, valid accuracy: 0.951048951048951\n",
      "===> 35에폭에서 모델 저장. 이전 score: 0.26507529616355896, 현재 score: 0.25281432271003723\n",
      "[36/1000] train loss: 0.25907326489686966, valid loss: 0.24121785163879395, valid accuracy: 0.951048951048951\n",
      "===> 36에폭에서 모델 저장. 이전 score: 0.25281432271003723, 현재 score: 0.24121785163879395\n",
      "[37/1000] train loss: 0.24414615333080292, valid loss: 0.23031701147556305, valid accuracy: 0.951048951048951\n",
      "===> 37에폭에서 모델 저장. 이전 score: 0.24121785163879395, 현재 score: 0.23031701147556305\n",
      "[38/1000] train loss: 0.23263610899448395, valid loss: 0.22013568878173828, valid accuracy: 0.951048951048951\n",
      "===> 38에폭에서 모델 저장. 이전 score: 0.23031701147556305, 현재 score: 0.22013568878173828\n",
      "[39/1000] train loss: 0.22750330716371536, valid loss: 0.21058088541030884, valid accuracy: 0.951048951048951\n",
      "===> 39에폭에서 모델 저장. 이전 score: 0.22013568878173828, 현재 score: 0.21058088541030884\n",
      "[40/1000] train loss: 0.2088901624083519, valid loss: 0.20163990557193756, valid accuracy: 0.951048951048951\n",
      "===> 40에폭에서 모델 저장. 이전 score: 0.21058088541030884, 현재 score: 0.20163990557193756\n",
      "[41/1000] train loss: 0.20561732351779938, valid loss: 0.19334526360034943, valid accuracy: 0.951048951048951\n",
      "===> 41에폭에서 모델 저장. 이전 score: 0.20163990557193756, 현재 score: 0.19334526360034943\n",
      "[42/1000] train loss: 0.19599726051092148, valid loss: 0.18560905754566193, valid accuracy: 0.951048951048951\n",
      "===> 42에폭에서 모델 저장. 이전 score: 0.19334526360034943, 현재 score: 0.18560905754566193\n",
      "[43/1000] train loss: 0.18072600662708282, valid loss: 0.17840753495693207, valid accuracy: 0.951048951048951\n",
      "===> 43에폭에서 모델 저장. 이전 score: 0.18560905754566193, 현재 score: 0.17840753495693207\n",
      "[44/1000] train loss: 0.1794857531785965, valid loss: 0.17171819508075714, valid accuracy: 0.951048951048951\n",
      "===> 44에폭에서 모델 저장. 이전 score: 0.17840753495693207, 현재 score: 0.17171819508075714\n",
      "[45/1000] train loss: 0.17147309333086014, valid loss: 0.16550998389720917, valid accuracy: 0.951048951048951\n",
      "===> 45에폭에서 모델 저장. 이전 score: 0.17171819508075714, 현재 score: 0.16550998389720917\n",
      "[46/1000] train loss: 0.16365166008472443, valid loss: 0.15967829525470734, valid accuracy: 0.951048951048951\n",
      "===> 46에폭에서 모델 저장. 이전 score: 0.16550998389720917, 현재 score: 0.15967829525470734\n",
      "[47/1000] train loss: 0.15598326176404953, valid loss: 0.15425565838813782, valid accuracy: 0.951048951048951\n",
      "===> 47에폭에서 모델 저장. 이전 score: 0.15967829525470734, 현재 score: 0.15425565838813782\n",
      "[48/1000] train loss: 0.1548387110233307, valid loss: 0.14923393726348877, valid accuracy: 0.951048951048951\n",
      "===> 48에폭에서 모델 저장. 이전 score: 0.15425565838813782, 현재 score: 0.14923393726348877\n",
      "[49/1000] train loss: 0.14932384341955185, valid loss: 0.14455658197402954, valid accuracy: 0.951048951048951\n",
      "===> 49에폭에서 모델 저장. 이전 score: 0.14923393726348877, 현재 score: 0.14455658197402954\n",
      "[50/1000] train loss: 0.1466461569070816, valid loss: 0.14021427929401398, valid accuracy: 0.958041958041958\n",
      "===> 50에폭에서 모델 저장. 이전 score: 0.14455658197402954, 현재 score: 0.14021427929401398\n",
      "[51/1000] train loss: 0.13246605545282364, valid loss: 0.13619153201580048, valid accuracy: 0.958041958041958\n",
      "===> 51에폭에서 모델 저장. 이전 score: 0.14021427929401398, 현재 score: 0.13619153201580048\n",
      "[52/1000] train loss: 0.1328018754720688, valid loss: 0.1324731558561325, valid accuracy: 0.958041958041958\n",
      "===> 52에폭에서 모델 저장. 이전 score: 0.13619153201580048, 현재 score: 0.1324731558561325\n",
      "[53/1000] train loss: 0.1275971494615078, valid loss: 0.12896467745304108, valid accuracy: 0.958041958041958\n",
      "===> 53에폭에서 모델 저장. 이전 score: 0.1324731558561325, 현재 score: 0.12896467745304108\n",
      "[54/1000] train loss: 0.13251782953739166, valid loss: 0.12567543983459473, valid accuracy: 0.958041958041958\n",
      "===> 54에폭에서 모델 저장. 이전 score: 0.12896467745304108, 현재 score: 0.12567543983459473\n",
      "[55/1000] train loss: 0.1255457140505314, valid loss: 0.12264329195022583, valid accuracy: 0.965034965034965\n",
      "===> 55에폭에서 모델 저장. 이전 score: 0.12567543983459473, 현재 score: 0.12264329195022583\n",
      "[56/1000] train loss: 0.1237245425581932, valid loss: 0.1197892427444458, valid accuracy: 0.965034965034965\n",
      "===> 56에폭에서 모델 저장. 이전 score: 0.12264329195022583, 현재 score: 0.1197892427444458\n",
      "[57/1000] train loss: 0.10709596797823906, valid loss: 0.11709890514612198, valid accuracy: 0.972027972027972\n",
      "===> 57에폭에서 모델 저장. 이전 score: 0.1197892427444458, 현재 score: 0.11709890514612198\n",
      "[58/1000] train loss: 0.11646942049264908, valid loss: 0.11455513536930084, valid accuracy: 0.972027972027972\n",
      "===> 58에폭에서 모델 저장. 이전 score: 0.11709890514612198, 현재 score: 0.11455513536930084\n",
      "[59/1000] train loss: 0.11506514996290207, valid loss: 0.11212968081235886, valid accuracy: 0.972027972027972\n",
      "===> 59에폭에서 모델 저장. 이전 score: 0.11455513536930084, 현재 score: 0.11212968081235886\n"
     ]
    },
    {
     "name": "stdout",
     "output_type": "stream",
     "text": [
      "[60/1000] train loss: 0.10956179723143578, valid loss: 0.10988839715719223, valid accuracy: 0.972027972027972\n",
      "===> 60에폭에서 모델 저장. 이전 score: 0.11212968081235886, 현재 score: 0.10988839715719223\n",
      "[61/1000] train loss: 0.108187735080719, valid loss: 0.1078074648976326, valid accuracy: 0.972027972027972\n",
      "===> 61에폭에서 모델 저장. 이전 score: 0.10988839715719223, 현재 score: 0.1078074648976326\n",
      "[62/1000] train loss: 0.10696880146861076, valid loss: 0.10583995282649994, valid accuracy: 0.972027972027972\n",
      "===> 62에폭에서 모델 저장. 이전 score: 0.1078074648976326, 현재 score: 0.10583995282649994\n",
      "[63/1000] train loss: 0.10341939330101013, valid loss: 0.10400591790676117, valid accuracy: 0.965034965034965\n",
      "===> 63에폭에서 모델 저장. 이전 score: 0.10583995282649994, 현재 score: 0.10400591790676117\n",
      "[64/1000] train loss: 0.0985913947224617, valid loss: 0.10225709527730942, valid accuracy: 0.965034965034965\n",
      "===> 64에폭에서 모델 저장. 이전 score: 0.10400591790676117, 현재 score: 0.10225709527730942\n",
      "[65/1000] train loss: 0.09446350485086441, valid loss: 0.10064072906970978, valid accuracy: 0.965034965034965\n",
      "===> 65에폭에서 모델 저장. 이전 score: 0.10225709527730942, 현재 score: 0.10064072906970978\n",
      "[66/1000] train loss: 0.09307929500937462, valid loss: 0.09914693236351013, valid accuracy: 0.965034965034965\n",
      "===> 66에폭에서 모델 저장. 이전 score: 0.10064072906970978, 현재 score: 0.09914693236351013\n",
      "[67/1000] train loss: 0.09703435376286507, valid loss: 0.09769513458013535, valid accuracy: 0.965034965034965\n",
      "===> 67에폭에서 모델 저장. 이전 score: 0.09914693236351013, 현재 score: 0.09769513458013535\n",
      "[68/1000] train loss: 0.08596936985850334, valid loss: 0.09627892076969147, valid accuracy: 0.965034965034965\n",
      "===> 68에폭에서 모델 저장. 이전 score: 0.09769513458013535, 현재 score: 0.09627892076969147\n",
      "[69/1000] train loss: 0.09251038730144501, valid loss: 0.09493576735258102, valid accuracy: 0.965034965034965\n",
      "===> 69에폭에서 모델 저장. 이전 score: 0.09627892076969147, 현재 score: 0.09493576735258102\n",
      "[70/1000] train loss: 0.08691415563225746, valid loss: 0.09369195252656937, valid accuracy: 0.965034965034965\n",
      "===> 70에폭에서 모델 저장. 이전 score: 0.09493576735258102, 현재 score: 0.09369195252656937\n",
      "[71/1000] train loss: 0.08996972441673279, valid loss: 0.09245862811803818, valid accuracy: 0.965034965034965\n",
      "===> 71에폭에서 모델 저장. 이전 score: 0.09369195252656937, 현재 score: 0.09245862811803818\n",
      "[72/1000] train loss: 0.08889931067824364, valid loss: 0.09131994098424911, valid accuracy: 0.965034965034965\n",
      "===> 72에폭에서 모델 저장. 이전 score: 0.09245862811803818, 현재 score: 0.09131994098424911\n",
      "[73/1000] train loss: 0.08707142621278763, valid loss: 0.09025181829929352, valid accuracy: 0.965034965034965\n",
      "===> 73에폭에서 모델 저장. 이전 score: 0.09131994098424911, 현재 score: 0.09025181829929352\n",
      "[74/1000] train loss: 0.08756456896662712, valid loss: 0.0892300084233284, valid accuracy: 0.965034965034965\n",
      "===> 74에폭에서 모델 저장. 이전 score: 0.09025181829929352, 현재 score: 0.0892300084233284\n",
      "[75/1000] train loss: 0.08595929481089115, valid loss: 0.08825042098760605, valid accuracy: 0.965034965034965\n",
      "===> 75에폭에서 모델 저장. 이전 score: 0.0892300084233284, 현재 score: 0.08825042098760605\n",
      "[76/1000] train loss: 0.08045951649546623, valid loss: 0.08730698376893997, valid accuracy: 0.965034965034965\n",
      "===> 76에폭에서 모델 저장. 이전 score: 0.08825042098760605, 현재 score: 0.08730698376893997\n",
      "[77/1000] train loss: 0.08152966946363449, valid loss: 0.0864100381731987, valid accuracy: 0.965034965034965\n",
      "===> 77에폭에서 모델 저장. 이전 score: 0.08730698376893997, 현재 score: 0.0864100381731987\n",
      "[78/1000] train loss: 0.08150935173034668, valid loss: 0.08553799986839294, valid accuracy: 0.965034965034965\n",
      "===> 78에폭에서 모델 저장. 이전 score: 0.0864100381731987, 현재 score: 0.08553799986839294\n",
      "[79/1000] train loss: 0.07913399115204811, valid loss: 0.0847124457359314, valid accuracy: 0.965034965034965\n",
      "===> 79에폭에서 모델 저장. 이전 score: 0.08553799986839294, 현재 score: 0.0847124457359314\n",
      "[80/1000] train loss: 0.08176648244261742, valid loss: 0.08393726497888565, valid accuracy: 0.965034965034965\n",
      "===> 80에폭에서 모델 저장. 이전 score: 0.0847124457359314, 현재 score: 0.08393726497888565\n",
      "[81/1000] train loss: 0.07873864099383354, valid loss: 0.0832233726978302, valid accuracy: 0.965034965034965\n",
      "===> 81에폭에서 모델 저장. 이전 score: 0.08393726497888565, 현재 score: 0.0832233726978302\n",
      "[82/1000] train loss: 0.07737283036112785, valid loss: 0.08249840140342712, valid accuracy: 0.965034965034965\n",
      "===> 82에폭에서 모델 저장. 이전 score: 0.0832233726978302, 현재 score: 0.08249840140342712\n",
      "[83/1000] train loss: 0.07768387719988823, valid loss: 0.08181294798851013, valid accuracy: 0.965034965034965\n",
      "===> 83에폭에서 모델 저장. 이전 score: 0.08249840140342712, 현재 score: 0.08181294798851013\n",
      "[84/1000] train loss: 0.06583664380013943, valid loss: 0.08119716495275497, valid accuracy: 0.965034965034965\n",
      "===> 84에폭에서 모델 저장. 이전 score: 0.08181294798851013, 현재 score: 0.08119716495275497\n",
      "[85/1000] train loss: 0.06644506752490997, valid loss: 0.08060838282108307, valid accuracy: 0.965034965034965\n",
      "===> 85에폭에서 모델 저장. 이전 score: 0.08119716495275497, 현재 score: 0.08060838282108307\n",
      "[86/1000] train loss: 0.07520792633295059, valid loss: 0.08008425682783127, valid accuracy: 0.965034965034965\n",
      "===> 86에폭에서 모델 저장. 이전 score: 0.08060838282108307, 현재 score: 0.08008425682783127\n",
      "[87/1000] train loss: 0.07127093896269798, valid loss: 0.07956680655479431, valid accuracy: 0.965034965034965\n",
      "===> 87에폭에서 모델 저장. 이전 score: 0.08008425682783127, 현재 score: 0.07956680655479431\n",
      "[88/1000] train loss: 0.07462052628397942, valid loss: 0.07907967269420624, valid accuracy: 0.965034965034965\n",
      "===> 88에폭에서 모델 저장. 이전 score: 0.07956680655479431, 현재 score: 0.07907967269420624\n",
      "[89/1000] train loss: 0.06573133543133736, valid loss: 0.07864535599946976, valid accuracy: 0.965034965034965\n",
      "===> 89에폭에서 모델 저장. 이전 score: 0.07907967269420624, 현재 score: 0.07864535599946976\n",
      "[90/1000] train loss: 0.07154063135385513, valid loss: 0.07820998877286911, valid accuracy: 0.965034965034965\n",
      "===> 90에폭에서 모델 저장. 이전 score: 0.07864535599946976, 현재 score: 0.07820998877286911\n",
      "[91/1000] train loss: 0.07091980613768101, valid loss: 0.0777718722820282, valid accuracy: 0.972027972027972\n",
      "===> 91에폭에서 모델 저장. 이전 score: 0.07820998877286911, 현재 score: 0.0777718722820282\n",
      "[92/1000] train loss: 0.06987352855503559, valid loss: 0.07731382548809052, valid accuracy: 0.972027972027972\n",
      "===> 92에폭에서 모델 저장. 이전 score: 0.0777718722820282, 현재 score: 0.07731382548809052\n",
      "[93/1000] train loss: 0.06860591843724251, valid loss: 0.0769638642668724, valid accuracy: 0.972027972027972\n",
      "===> 93에폭에서 모델 저장. 이전 score: 0.07731382548809052, 현재 score: 0.0769638642668724\n",
      "[94/1000] train loss: 0.06156635098159313, valid loss: 0.0766817256808281, valid accuracy: 0.972027972027972\n",
      "===> 94에폭에서 모델 저장. 이전 score: 0.0769638642668724, 현재 score: 0.0766817256808281\n",
      "[95/1000] train loss: 0.06913152150809765, valid loss: 0.0763704925775528, valid accuracy: 0.972027972027972\n",
      "===> 95에폭에서 모델 저장. 이전 score: 0.0766817256808281, 현재 score: 0.0763704925775528\n",
      "[96/1000] train loss: 0.0684058926999569, valid loss: 0.07603749632835388, valid accuracy: 0.972027972027972\n",
      "===> 96에폭에서 모델 저장. 이전 score: 0.0763704925775528, 현재 score: 0.07603749632835388\n",
      "[97/1000] train loss: 0.06764233112335205, valid loss: 0.07573067396879196, valid accuracy: 0.972027972027972\n",
      "===> 97에폭에서 모델 저장. 이전 score: 0.07603749632835388, 현재 score: 0.07573067396879196\n",
      "[98/1000] train loss: 0.05561311915516853, valid loss: 0.07550352811813354, valid accuracy: 0.972027972027972\n",
      "===> 98에폭에서 모델 저장. 이전 score: 0.07573067396879196, 현재 score: 0.07550352811813354\n",
      "[99/1000] train loss: 0.0676093827933073, valid loss: 0.07521927356719971, valid accuracy: 0.972027972027972\n",
      "===> 99에폭에서 모델 저장. 이전 score: 0.07550352811813354, 현재 score: 0.07521927356719971\n",
      "[100/1000] train loss: 0.06455640867352486, valid loss: 0.07494892179965973, valid accuracy: 0.9790209790209791\n",
      "===> 100에폭에서 모델 저장. 이전 score: 0.07521927356719971, 현재 score: 0.07494892179965973\n",
      "[101/1000] train loss: 0.053998010233044624, valid loss: 0.07469426095485687, valid accuracy: 0.9790209790209791\n",
      "===> 101에폭에서 모델 저장. 이전 score: 0.07494892179965973, 현재 score: 0.07469426095485687\n",
      "[102/1000] train loss: 0.06535545736551285, valid loss: 0.07445530593395233, valid accuracy: 0.9790209790209791\n",
      "===> 102에폭에서 모델 저장. 이전 score: 0.07469426095485687, 현재 score: 0.07445530593395233\n",
      "[103/1000] train loss: 0.06535126455128193, valid loss: 0.07421186566352844, valid accuracy: 0.9790209790209791\n",
      "===> 103에폭에서 모델 저장. 이전 score: 0.07445530593395233, 현재 score: 0.07421186566352844\n",
      "[104/1000] train loss: 0.0617308784276247, valid loss: 0.07392047345638275, valid accuracy: 0.9790209790209791\n",
      "===> 104에폭에서 모델 저장. 이전 score: 0.07421186566352844, 현재 score: 0.07392047345638275\n",
      "[105/1000] train loss: 0.05309494212269783, valid loss: 0.07367070019245148, valid accuracy: 0.9790209790209791\n",
      "===> 105에폭에서 모델 저장. 이전 score: 0.07392047345638275, 현재 score: 0.07367070019245148\n",
      "[106/1000] train loss: 0.0629762802273035, valid loss: 0.0734008178114891, valid accuracy: 0.9790209790209791\n",
      "===> 106에폭에서 모델 저장. 이전 score: 0.07367070019245148, 현재 score: 0.0734008178114891\n",
      "[107/1000] train loss: 0.06071803532540798, valid loss: 0.07315986603498459, valid accuracy: 0.9790209790209791\n",
      "===> 107에폭에서 모델 저장. 이전 score: 0.0734008178114891, 현재 score: 0.07315986603498459\n",
      "[108/1000] train loss: 0.06288996897637844, valid loss: 0.07288222014904022, valid accuracy: 0.9790209790209791\n",
      "===> 108에폭에서 모델 저장. 이전 score: 0.07315986603498459, 현재 score: 0.07288222014904022\n",
      "[109/1000] train loss: 0.06141125224530697, valid loss: 0.07252335548400879, valid accuracy: 0.9790209790209791\n",
      "===> 109에폭에서 모델 저장. 이전 score: 0.07288222014904022, 현재 score: 0.07252335548400879\n",
      "[110/1000] train loss: 0.06121925637125969, valid loss: 0.07222749292850494, valid accuracy: 0.9790209790209791\n",
      "===> 110에폭에서 모델 저장. 이전 score: 0.07252335548400879, 현재 score: 0.07222749292850494\n",
      "[111/1000] train loss: 0.06116647645831108, valid loss: 0.07199525833129883, valid accuracy: 0.9790209790209791\n",
      "===> 111에폭에서 모델 저장. 이전 score: 0.07222749292850494, 현재 score: 0.07199525833129883\n",
      "[112/1000] train loss: 0.058117540553212166, valid loss: 0.07168031483888626, valid accuracy: 0.9790209790209791\n",
      "===> 112에폭에서 모델 저장. 이전 score: 0.07199525833129883, 현재 score: 0.07168031483888626\n",
      "[113/1000] train loss: 0.06035917438566685, valid loss: 0.07139720022678375, valid accuracy: 0.9790209790209791\n",
      "===> 113에폭에서 모델 저장. 이전 score: 0.07168031483888626, 현재 score: 0.07139720022678375\n",
      "[114/1000] train loss: 0.06047073006629944, valid loss: 0.07111341506242752, valid accuracy: 0.9790209790209791\n",
      "===> 114에폭에서 모델 저장. 이전 score: 0.07139720022678375, 현재 score: 0.07111341506242752\n",
      "[115/1000] train loss: 0.05927746184170246, valid loss: 0.07087991386651993, valid accuracy: 0.9790209790209791\n",
      "===> 115에폭에서 모델 저장. 이전 score: 0.07111341506242752, 현재 score: 0.07087991386651993\n"
     ]
    },
    {
     "name": "stdout",
     "output_type": "stream",
     "text": [
      "[116/1000] train loss: 0.046778575517237186, valid loss: 0.07063715159893036, valid accuracy: 0.9790209790209791\n",
      "===> 116에폭에서 모델 저장. 이전 score: 0.07087991386651993, 현재 score: 0.07063715159893036\n",
      "[117/1000] train loss: 0.057493824511766434, valid loss: 0.07035258412361145, valid accuracy: 0.9790209790209791\n",
      "===> 117에폭에서 모델 저장. 이전 score: 0.07063715159893036, 현재 score: 0.07035258412361145\n",
      "[118/1000] train loss: 0.05726117268204689, valid loss: 0.07007354497909546, valid accuracy: 0.9790209790209791\n",
      "===> 118에폭에서 모델 저장. 이전 score: 0.07035258412361145, 현재 score: 0.07007354497909546\n",
      "[119/1000] train loss: 0.058145297691226006, valid loss: 0.06988619267940521, valid accuracy: 0.9790209790209791\n",
      "===> 119에폭에서 모델 저장. 이전 score: 0.07007354497909546, 현재 score: 0.06988619267940521\n",
      "[120/1000] train loss: 0.057365886867046356, valid loss: 0.0696156844496727, valid accuracy: 0.9790209790209791\n",
      "===> 120에폭에서 모델 저장. 이전 score: 0.06988619267940521, 현재 score: 0.0696156844496727\n",
      "[121/1000] train loss: 0.047582998871803284, valid loss: 0.06947573274374008, valid accuracy: 0.9790209790209791\n",
      "===> 121에폭에서 모델 저장. 이전 score: 0.0696156844496727, 현재 score: 0.06947573274374008\n",
      "[122/1000] train loss: 0.05418494716286659, valid loss: 0.06923171132802963, valid accuracy: 0.9790209790209791\n",
      "===> 122에폭에서 모델 저장. 이전 score: 0.06947573274374008, 현재 score: 0.06923171132802963\n",
      "[123/1000] train loss: 0.05737164989113808, valid loss: 0.0690312311053276, valid accuracy: 0.9790209790209791\n",
      "===> 123에폭에서 모델 저장. 이전 score: 0.06923171132802963, 현재 score: 0.0690312311053276\n",
      "[124/1000] train loss: 0.05614038556814194, valid loss: 0.0688294842839241, valid accuracy: 0.9790209790209791\n",
      "===> 124에폭에서 모델 저장. 이전 score: 0.0690312311053276, 현재 score: 0.0688294842839241\n",
      "[125/1000] train loss: 0.056820183992385864, valid loss: 0.06867727637290955, valid accuracy: 0.9790209790209791\n",
      "===> 125에폭에서 모델 저장. 이전 score: 0.0688294842839241, 현재 score: 0.06867727637290955\n",
      "[126/1000] train loss: 0.055295560508966446, valid loss: 0.06851688772439957, valid accuracy: 0.9790209790209791\n",
      "===> 126에폭에서 모델 저장. 이전 score: 0.06867727637290955, 현재 score: 0.06851688772439957\n",
      "[127/1000] train loss: 0.05478021129965782, valid loss: 0.06844308227300644, valid accuracy: 0.9790209790209791\n",
      "===> 127에폭에서 모델 저장. 이전 score: 0.06851688772439957, 현재 score: 0.06844308227300644\n",
      "[128/1000] train loss: 0.05316498130559921, valid loss: 0.06840165704488754, valid accuracy: 0.9790209790209791\n",
      "===> 128에폭에서 모델 저장. 이전 score: 0.06844308227300644, 현재 score: 0.06840165704488754\n",
      "[129/1000] train loss: 0.05347971152514219, valid loss: 0.06822970509529114, valid accuracy: 0.9790209790209791\n",
      "===> 129에폭에서 모델 저장. 이전 score: 0.06840165704488754, 현재 score: 0.06822970509529114\n",
      "[130/1000] train loss: 0.05475968308746815, valid loss: 0.06807609647512436, valid accuracy: 0.9790209790209791\n",
      "===> 130에폭에서 모델 저장. 이전 score: 0.06822970509529114, 현재 score: 0.06807609647512436\n",
      "[131/1000] train loss: 0.05438137799501419, valid loss: 0.06804683804512024, valid accuracy: 0.9790209790209791\n",
      "===> 131에폭에서 모델 저장. 이전 score: 0.06807609647512436, 현재 score: 0.06804683804512024\n",
      "[132/1000] train loss: 0.05221892334520817, valid loss: 0.06790751963853836, valid accuracy: 0.9790209790209791\n",
      "===> 132에폭에서 모델 저장. 이전 score: 0.06804683804512024, 현재 score: 0.06790751963853836\n",
      "[133/1000] train loss: 0.05347529985010624, valid loss: 0.06786316633224487, valid accuracy: 0.9790209790209791\n",
      "===> 133에폭에서 모델 저장. 이전 score: 0.06790751963853836, 현재 score: 0.06786316633224487\n",
      "[134/1000] train loss: 0.05256653390824795, valid loss: 0.06778919696807861, valid accuracy: 0.9790209790209791\n",
      "===> 134에폭에서 모델 저장. 이전 score: 0.06786316633224487, 현재 score: 0.06778919696807861\n",
      "[135/1000] train loss: 0.05247999541461468, valid loss: 0.06763634085655212, valid accuracy: 0.9790209790209791\n",
      "===> 135에폭에서 모델 저장. 이전 score: 0.06778919696807861, 현재 score: 0.06763634085655212\n",
      "[136/1000] train loss: 0.05370409972965717, valid loss: 0.06751330196857452, valid accuracy: 0.9790209790209791\n",
      "===> 136에폭에서 모델 저장. 이전 score: 0.06763634085655212, 현재 score: 0.06751330196857452\n",
      "[137/1000] train loss: 0.052888182923197746, valid loss: 0.06742070615291595, valid accuracy: 0.9790209790209791\n",
      "===> 137에폭에서 모델 저장. 이전 score: 0.06751330196857452, 현재 score: 0.06742070615291595\n",
      "[138/1000] train loss: 0.05171186849474907, valid loss: 0.06734714657068253, valid accuracy: 0.9790209790209791\n",
      "===> 138에폭에서 모델 저장. 이전 score: 0.06742070615291595, 현재 score: 0.06734714657068253\n",
      "[139/1000] train loss: 0.05145364627242088, valid loss: 0.06722387671470642, valid accuracy: 0.9790209790209791\n",
      "===> 139에폭에서 모델 저장. 이전 score: 0.06734714657068253, 현재 score: 0.06722387671470642\n",
      "[140/1000] train loss: 0.05223364196717739, valid loss: 0.0670929104089737, valid accuracy: 0.9790209790209791\n",
      "===> 140에폭에서 모델 저장. 이전 score: 0.06722387671470642, 현재 score: 0.0670929104089737\n",
      "[141/1000] train loss: 0.05189074017107487, valid loss: 0.06706030666828156, valid accuracy: 0.9790209790209791\n",
      "===> 141에폭에서 모델 저장. 이전 score: 0.0670929104089737, 현재 score: 0.06706030666828156\n",
      "[142/1000] train loss: 0.04929214529693127, valid loss: 0.06689153611660004, valid accuracy: 0.9790209790209791\n",
      "===> 142에폭에서 모델 저장. 이전 score: 0.06706030666828156, 현재 score: 0.06689153611660004\n",
      "[143/1000] train loss: 0.05099686607718468, valid loss: 0.06684838980436325, valid accuracy: 0.9790209790209791\n",
      "===> 143에폭에서 모델 저장. 이전 score: 0.06689153611660004, 현재 score: 0.06684838980436325\n",
      "[144/1000] train loss: 0.03941364772617817, valid loss: 0.06666829437017441, valid accuracy: 0.9790209790209791\n",
      "===> 144에폭에서 모델 저장. 이전 score: 0.06684838980436325, 현재 score: 0.06666829437017441\n",
      "[145/1000] train loss: 0.05039482284337282, valid loss: 0.06654727458953857, valid accuracy: 0.9790209790209791\n",
      "===> 145에폭에서 모델 저장. 이전 score: 0.06666829437017441, 현재 score: 0.06654727458953857\n",
      "[146/1000] train loss: 0.05088227614760399, valid loss: 0.06638864427804947, valid accuracy: 0.9790209790209791\n",
      "===> 146에폭에서 모델 저장. 이전 score: 0.06654727458953857, 현재 score: 0.06638864427804947\n",
      "[147/1000] train loss: 0.049454234540462494, valid loss: 0.06627925485372543, valid accuracy: 0.9790209790209791\n",
      "===> 147에폭에서 모델 저장. 이전 score: 0.06638864427804947, 현재 score: 0.06627925485372543\n",
      "[148/1000] train loss: 0.04970402270555496, valid loss: 0.06612849235534668, valid accuracy: 0.9790209790209791\n",
      "===> 148에폭에서 모델 저장. 이전 score: 0.06627925485372543, 현재 score: 0.06612849235534668\n",
      "[149/1000] train loss: 0.04185814969241619, valid loss: 0.0661136656999588, valid accuracy: 0.9790209790209791\n",
      "===> 149에폭에서 모델 저장. 이전 score: 0.06612849235534668, 현재 score: 0.0661136656999588\n",
      "[150/1000] train loss: 0.0480705164372921, valid loss: 0.06612789630889893, valid accuracy: 0.9790209790209791\n",
      "[151/1000] train loss: 0.04929926432669163, valid loss: 0.06610461324453354, valid accuracy: 0.9790209790209791\n",
      "===> 151에폭에서 모델 저장. 이전 score: 0.0661136656999588, 현재 score: 0.06610461324453354\n",
      "[152/1000] train loss: 0.04842778109014034, valid loss: 0.06610031425952911, valid accuracy: 0.9790209790209791\n",
      "===> 152에폭에서 모델 저장. 이전 score: 0.06610461324453354, 현재 score: 0.06610031425952911\n",
      "[153/1000] train loss: 0.048690157011151314, valid loss: 0.06603774428367615, valid accuracy: 0.9790209790209791\n",
      "===> 153에폭에서 모델 저장. 이전 score: 0.06610031425952911, 현재 score: 0.06603774428367615\n",
      "[154/1000] train loss: 0.04792238213121891, valid loss: 0.06601143628358841, valid accuracy: 0.9790209790209791\n",
      "===> 154에폭에서 모델 저장. 이전 score: 0.06603774428367615, 현재 score: 0.06601143628358841\n",
      "[155/1000] train loss: 0.04808671306818724, valid loss: 0.06600465625524521, valid accuracy: 0.9790209790209791\n",
      "===> 155에폭에서 모델 저장. 이전 score: 0.06601143628358841, 현재 score: 0.06600465625524521\n",
      "[156/1000] train loss: 0.048206012696027756, valid loss: 0.06587435305118561, valid accuracy: 0.9790209790209791\n",
      "===> 156에폭에서 모델 저장. 이전 score: 0.06600465625524521, 현재 score: 0.06587435305118561\n",
      "[157/1000] train loss: 0.04748643562197685, valid loss: 0.06580404937267303, valid accuracy: 0.9790209790209791\n",
      "===> 157에폭에서 모델 저장. 이전 score: 0.06587435305118561, 현재 score: 0.06580404937267303\n",
      "[158/1000] train loss: 0.04803337715566158, valid loss: 0.06573056429624557, valid accuracy: 0.9790209790209791\n",
      "===> 158에폭에서 모델 저장. 이전 score: 0.06580404937267303, 현재 score: 0.06573056429624557\n",
      "[159/1000] train loss: 0.045580411329865456, valid loss: 0.06559646129608154, valid accuracy: 0.9790209790209791\n",
      "===> 159에폭에서 모델 저장. 이전 score: 0.06573056429624557, 현재 score: 0.06559646129608154\n",
      "[160/1000] train loss: 0.045882055535912514, valid loss: 0.06539066135883331, valid accuracy: 0.9790209790209791\n",
      "===> 160에폭에서 모델 저장. 이전 score: 0.06559646129608154, 현재 score: 0.06539066135883331\n",
      "[161/1000] train loss: 0.04693910852074623, valid loss: 0.06527261435985565, valid accuracy: 0.9790209790209791\n",
      "===> 161에폭에서 모델 저장. 이전 score: 0.06539066135883331, 현재 score: 0.06527261435985565\n",
      "[162/1000] train loss: 0.04457651637494564, valid loss: 0.06507253646850586, valid accuracy: 0.9790209790209791\n",
      "===> 162에폭에서 모델 저장. 이전 score: 0.06527261435985565, 현재 score: 0.06507253646850586\n",
      "[163/1000] train loss: 0.0454842783510685, valid loss: 0.06494245678186417, valid accuracy: 0.9790209790209791\n",
      "===> 163에폭에서 모델 저장. 이전 score: 0.06507253646850586, 현재 score: 0.06494245678186417\n",
      "[164/1000] train loss: 0.04424449987709522, valid loss: 0.06483142077922821, valid accuracy: 0.9790209790209791\n",
      "===> 164에폭에서 모델 저장. 이전 score: 0.06494245678186417, 현재 score: 0.06483142077922821\n",
      "[165/1000] train loss: 0.04572050832211971, valid loss: 0.06457599252462387, valid accuracy: 0.9790209790209791\n",
      "===> 165에폭에서 모델 저장. 이전 score: 0.06483142077922821, 현재 score: 0.06457599252462387\n"
     ]
    },
    {
     "name": "stdout",
     "output_type": "stream",
     "text": [
      "[166/1000] train loss: 0.044717926532030106, valid loss: 0.06447076052427292, valid accuracy: 0.9790209790209791\n",
      "===> 166에폭에서 모델 저장. 이전 score: 0.06457599252462387, 현재 score: 0.06447076052427292\n",
      "[167/1000] train loss: 0.04486469738185406, valid loss: 0.06435530632734299, valid accuracy: 0.9790209790209791\n",
      "===> 167에폭에서 모델 저장. 이전 score: 0.06447076052427292, 현재 score: 0.06435530632734299\n",
      "[168/1000] train loss: 0.03468093741685152, valid loss: 0.06417442858219147, valid accuracy: 0.9790209790209791\n",
      "===> 168에폭에서 모델 저장. 이전 score: 0.06435530632734299, 현재 score: 0.06417442858219147\n",
      "[169/1000] train loss: 0.04327096603810787, valid loss: 0.06405695527791977, valid accuracy: 0.9790209790209791\n",
      "===> 169에폭에서 모델 저장. 이전 score: 0.06417442858219147, 현재 score: 0.06405695527791977\n",
      "[170/1000] train loss: 0.04204528033733368, valid loss: 0.06395886838436127, valid accuracy: 0.9790209790209791\n",
      "===> 170에폭에서 모델 저장. 이전 score: 0.06405695527791977, 현재 score: 0.06395886838436127\n",
      "[171/1000] train loss: 0.04361890256404877, valid loss: 0.06381185352802277, valid accuracy: 0.9790209790209791\n",
      "===> 171에폭에서 모델 저장. 이전 score: 0.06395886838436127, 현재 score: 0.06381185352802277\n",
      "[172/1000] train loss: 0.03422511089593172, valid loss: 0.06367121636867523, valid accuracy: 0.9790209790209791\n",
      "===> 172에폭에서 모델 저장. 이전 score: 0.06381185352802277, 현재 score: 0.06367121636867523\n",
      "[173/1000] train loss: 0.04255329631268978, valid loss: 0.06347085535526276, valid accuracy: 0.9790209790209791\n",
      "===> 173에폭에서 모델 저장. 이전 score: 0.06367121636867523, 현재 score: 0.06347085535526276\n",
      "[174/1000] train loss: 0.04395258612930775, valid loss: 0.06324739009141922, valid accuracy: 0.9790209790209791\n",
      "===> 174에폭에서 모델 저장. 이전 score: 0.06347085535526276, 현재 score: 0.06324739009141922\n",
      "[175/1000] train loss: 0.04165689833462238, valid loss: 0.06313453614711761, valid accuracy: 0.9790209790209791\n",
      "===> 175에폭에서 모델 저장. 이전 score: 0.06324739009141922, 현재 score: 0.06313453614711761\n",
      "[176/1000] train loss: 0.04258613847196102, valid loss: 0.06305107474327087, valid accuracy: 0.9790209790209791\n",
      "===> 176에폭에서 모델 저장. 이전 score: 0.06313453614711761, 현재 score: 0.06305107474327087\n",
      "[177/1000] train loss: 0.04297984391450882, valid loss: 0.06292939931154251, valid accuracy: 0.9790209790209791\n",
      "===> 177에폭에서 모델 저장. 이전 score: 0.06305107474327087, 현재 score: 0.06292939931154251\n",
      "[178/1000] train loss: 0.043108053505420685, valid loss: 0.06272333860397339, valid accuracy: 0.9790209790209791\n",
      "===> 178에폭에서 모델 저장. 이전 score: 0.06292939931154251, 현재 score: 0.06272333860397339\n",
      "[179/1000] train loss: 0.04240414686501026, valid loss: 0.0626111552119255, valid accuracy: 0.9790209790209791\n",
      "===> 179에폭에서 모델 저장. 이전 score: 0.06272333860397339, 현재 score: 0.0626111552119255\n",
      "[180/1000] train loss: 0.04226234462112188, valid loss: 0.06264308094978333, valid accuracy: 0.9790209790209791\n",
      "[181/1000] train loss: 0.04240700230002403, valid loss: 0.06252552568912506, valid accuracy: 0.9790209790209791\n",
      "===> 181에폭에서 모델 저장. 이전 score: 0.0626111552119255, 현재 score: 0.06252552568912506\n",
      "[182/1000] train loss: 0.041957639157772064, valid loss: 0.06250055879354477, valid accuracy: 0.9790209790209791\n",
      "===> 182에폭에서 모델 저장. 이전 score: 0.06252552568912506, 현재 score: 0.06250055879354477\n",
      "[183/1000] train loss: 0.04117354564368725, valid loss: 0.06250151991844177, valid accuracy: 0.9790209790209791\n",
      "[184/1000] train loss: 0.03217209689319134, valid loss: 0.06250708550214767, valid accuracy: 0.9790209790209791\n",
      "[185/1000] train loss: 0.04108895733952522, valid loss: 0.06240497902035713, valid accuracy: 0.9790209790209791\n",
      "===> 185에폭에서 모델 저장. 이전 score: 0.06250055879354477, 현재 score: 0.06240497902035713\n",
      "[186/1000] train loss: 0.04053024481981993, valid loss: 0.06226126104593277, valid accuracy: 0.9790209790209791\n",
      "===> 186에폭에서 모델 저장. 이전 score: 0.06240497902035713, 현재 score: 0.06226126104593277\n",
      "[187/1000] train loss: 0.039491504430770874, valid loss: 0.06211356073617935, valid accuracy: 0.9790209790209791\n",
      "===> 187에폭에서 모델 저장. 이전 score: 0.06226126104593277, 현재 score: 0.06211356073617935\n",
      "[188/1000] train loss: 0.033128052949905396, valid loss: 0.06185230240225792, valid accuracy: 0.9790209790209791\n",
      "===> 188에폭에서 모델 저장. 이전 score: 0.06211356073617935, 현재 score: 0.06185230240225792\n",
      "[189/1000] train loss: 0.03301859460771084, valid loss: 0.06183329597115517, valid accuracy: 0.9790209790209791\n",
      "===> 189에폭에서 모델 저장. 이전 score: 0.06185230240225792, 현재 score: 0.06183329597115517\n",
      "[190/1000] train loss: 0.040157132782042027, valid loss: 0.06186773255467415, valid accuracy: 0.9790209790209791\n",
      "[191/1000] train loss: 0.038813335821032524, valid loss: 0.061882711946964264, valid accuracy: 0.9790209790209791\n",
      "[192/1000] train loss: 0.030901163816452026, valid loss: 0.06179691478610039, valid accuracy: 0.9790209790209791\n",
      "===> 192에폭에서 모델 저장. 이전 score: 0.06183329597115517, 현재 score: 0.06179691478610039\n",
      "[193/1000] train loss: 0.037837181240320206, valid loss: 0.06164667382836342, valid accuracy: 0.9790209790209791\n",
      "===> 193에폭에서 모델 저장. 이전 score: 0.06179691478610039, 현재 score: 0.06164667382836342\n",
      "[194/1000] train loss: 0.03778420202434063, valid loss: 0.06159237399697304, valid accuracy: 0.9790209790209791\n",
      "===> 194에폭에서 모델 저장. 이전 score: 0.06164667382836342, 현재 score: 0.06159237399697304\n",
      "[195/1000] train loss: 0.03909796290099621, valid loss: 0.061398014426231384, valid accuracy: 0.9790209790209791\n",
      "===> 195에폭에서 모델 저장. 이전 score: 0.06159237399697304, 현재 score: 0.061398014426231384\n",
      "[196/1000] train loss: 0.03902627620846033, valid loss: 0.061211634427309036, valid accuracy: 0.9790209790209791\n",
      "===> 196에폭에서 모델 저장. 이전 score: 0.061398014426231384, 현재 score: 0.061211634427309036\n",
      "[197/1000] train loss: 0.029008619487285614, valid loss: 0.06120000034570694, valid accuracy: 0.9790209790209791\n",
      "===> 197에폭에서 모델 저장. 이전 score: 0.061211634427309036, 현재 score: 0.06120000034570694\n",
      "[198/1000] train loss: 0.037841495126485825, valid loss: 0.06113123148679733, valid accuracy: 0.9790209790209791\n",
      "===> 198에폭에서 모델 저장. 이전 score: 0.06120000034570694, 현재 score: 0.06113123148679733\n",
      "[199/1000] train loss: 0.03447691258043051, valid loss: 0.06115055829286575, valid accuracy: 0.9790209790209791\n",
      "[200/1000] train loss: 0.03706049919128418, valid loss: 0.06112641468644142, valid accuracy: 0.9790209790209791\n",
      "===> 200에폭에서 모델 저장. 이전 score: 0.06113123148679733, 현재 score: 0.06112641468644142\n",
      "[201/1000] train loss: 0.031474038027226925, valid loss: 0.0612574964761734, valid accuracy: 0.9790209790209791\n",
      "[202/1000] train loss: 0.03739641420543194, valid loss: 0.06133798509836197, valid accuracy: 0.9790209790209791\n",
      "[203/1000] train loss: 0.03506644628942013, valid loss: 0.061351336538791656, valid accuracy: 0.9790209790209791\n",
      "[204/1000] train loss: 0.035987856797873974, valid loss: 0.06127290800213814, valid accuracy: 0.9790209790209791\n",
      "[205/1000] train loss: 0.037347027100622654, valid loss: 0.06113919988274574, valid accuracy: 0.9790209790209791\n",
      "[206/1000] train loss: 0.03681217133998871, valid loss: 0.061008699238300323, valid accuracy: 0.9790209790209791\n",
      "===> 206에폭에서 모델 저장. 이전 score: 0.06112641468644142, 현재 score: 0.061008699238300323\n",
      "[207/1000] train loss: 0.03551157936453819, valid loss: 0.06080570071935654, valid accuracy: 0.9790209790209791\n",
      "===> 207에폭에서 모델 저장. 이전 score: 0.061008699238300323, 현재 score: 0.06080570071935654\n",
      "[208/1000] train loss: 0.036136820912361145, valid loss: 0.06055271625518799, valid accuracy: 0.9790209790209791\n",
      "===> 208에폭에서 모델 저장. 이전 score: 0.06080570071935654, 현재 score: 0.06055271625518799\n",
      "[209/1000] train loss: 0.03566093370318413, valid loss: 0.06049376353621483, valid accuracy: 0.9790209790209791\n",
      "===> 209에폭에서 모델 저장. 이전 score: 0.06055271625518799, 현재 score: 0.06049376353621483\n",
      "[210/1000] train loss: 0.03441286459565163, valid loss: 0.060261406004428864, valid accuracy: 0.9790209790209791\n",
      "===> 210에폭에서 모델 저장. 이전 score: 0.06049376353621483, 현재 score: 0.060261406004428864\n",
      "[211/1000] train loss: 0.02950152102857828, valid loss: 0.060249295085668564, valid accuracy: 0.9790209790209791\n",
      "===> 211에폭에서 모델 저장. 이전 score: 0.060261406004428864, 현재 score: 0.060249295085668564\n",
      "[212/1000] train loss: 0.03544341120868921, valid loss: 0.06028430163860321, valid accuracy: 0.9790209790209791\n",
      "[213/1000] train loss: 0.03555496037006378, valid loss: 0.06028204783797264, valid accuracy: 0.9790209790209791\n",
      "[214/1000] train loss: 0.03452015481889248, valid loss: 0.06022515147924423, valid accuracy: 0.9790209790209791\n",
      "===> 214에폭에서 모델 저장. 이전 score: 0.060249295085668564, 현재 score: 0.06022515147924423\n",
      "[215/1000] train loss: 0.03356485068798065, valid loss: 0.0601828508079052, valid accuracy: 0.9790209790209791\n",
      "===> 215에폭에서 모델 저장. 이전 score: 0.06022515147924423, 현재 score: 0.0601828508079052\n",
      "[216/1000] train loss: 0.034683410078287125, valid loss: 0.060147225856781006, valid accuracy: 0.9790209790209791\n",
      "===> 216에폭에서 모델 저장. 이전 score: 0.0601828508079052, 현재 score: 0.060147225856781006\n",
      "[217/1000] train loss: 0.03324314299970865, valid loss: 0.060115501284599304, valid accuracy: 0.9790209790209791\n",
      "===> 217에폭에서 모델 저장. 이전 score: 0.060147225856781006, 현재 score: 0.060115501284599304\n",
      "[218/1000] train loss: 0.033811600878834724, valid loss: 0.060102637857198715, valid accuracy: 0.9790209790209791\n",
      "===> 218에폭에서 모델 저장. 이전 score: 0.060115501284599304, 현재 score: 0.060102637857198715\n",
      "[219/1000] train loss: 0.03401609230786562, valid loss: 0.060142695903778076, valid accuracy: 0.9790209790209791\n",
      "[220/1000] train loss: 0.033580437302589417, valid loss: 0.060317058116197586, valid accuracy: 0.9790209790209791\n",
      "[221/1000] train loss: 0.03372011333703995, valid loss: 0.0603402815759182, valid accuracy: 0.9790209790209791\n",
      "[222/1000] train loss: 0.03089881967753172, valid loss: 0.06040794402360916, valid accuracy: 0.9790209790209791\n",
      "[223/1000] train loss: 0.03273952193558216, valid loss: 0.06032373011112213, valid accuracy: 0.9790209790209791\n",
      "[224/1000] train loss: 0.025133274495601654, valid loss: 0.060332585126161575, valid accuracy: 0.9790209790209791\n",
      "[225/1000] train loss: 0.0318184457719326, valid loss: 0.06012542545795441, valid accuracy: 0.9790209790209791\n",
      "[226/1000] train loss: 0.030133494175970554, valid loss: 0.05984990671277046, valid accuracy: 0.9790209790209791\n",
      "===> 226에폭에서 모델 저장. 이전 score: 0.060102637857198715, 현재 score: 0.05984990671277046\n",
      "[227/1000] train loss: 0.03189214412122965, valid loss: 0.059678126126527786, valid accuracy: 0.9790209790209791\n",
      "===> 227에폭에서 모델 저장. 이전 score: 0.05984990671277046, 현재 score: 0.059678126126527786\n",
      "[228/1000] train loss: 0.029625273309648037, valid loss: 0.05952417105436325, valid accuracy: 0.9790209790209791\n",
      "===> 228에폭에서 모델 저장. 이전 score: 0.059678126126527786, 현재 score: 0.05952417105436325\n",
      "[229/1000] train loss: 0.02644141437485814, valid loss: 0.059597354382276535, valid accuracy: 0.9790209790209791\n",
      "[230/1000] train loss: 0.030752776190638542, valid loss: 0.059654876589775085, valid accuracy: 0.9790209790209791\n",
      "[231/1000] train loss: 0.025239218957722187, valid loss: 0.05981288105249405, valid accuracy: 0.9790209790209791\n",
      "[232/1000] train loss: 0.0309143946506083, valid loss: 0.06009430065751076, valid accuracy: 0.9790209790209791\n",
      "[233/1000] train loss: 0.03123505786061287, valid loss: 0.06033646687865257, valid accuracy: 0.9790209790209791\n",
      "[234/1000] train loss: 0.029863297939300537, valid loss: 0.060576051473617554, valid accuracy: 0.9790209790209791\n",
      "[235/1000] train loss: 0.03069000132381916, valid loss: 0.06090613827109337, valid accuracy: 0.9790209790209791\n",
      "[236/1000] train loss: 0.03010406158864498, valid loss: 0.06105707213282585, valid accuracy: 0.9790209790209791\n",
      "[237/1000] train loss: 0.030155664309859276, valid loss: 0.06118468940258026, valid accuracy: 0.9790209790209791\n",
      "[238/1000] train loss: 0.02918284945189953, valid loss: 0.06120673939585686, valid accuracy: 0.9790209790209791\n",
      "[239/1000] train loss: 0.029506264254450798, valid loss: 0.06115235760807991, valid accuracy: 0.9790209790209791\n",
      "[240/1000] train loss: 0.022448118776082993, valid loss: 0.06101949140429497, valid accuracy: 0.9790209790209791\n",
      "[241/1000] train loss: 0.02815757878124714, valid loss: 0.060759298503398895, valid accuracy: 0.9790209790209791\n",
      "[242/1000] train loss: 0.02821691334247589, valid loss: 0.06058210879564285, valid accuracy: 0.9790209790209791\n"
     ]
    },
    {
     "name": "stdout",
     "output_type": "stream",
     "text": [
      "[243/1000] train loss: 0.029594553634524345, valid loss: 0.06034664437174797, valid accuracy: 0.9790209790209791\n",
      "[244/1000] train loss: 0.022281893528997898, valid loss: 0.06021306291222572, valid accuracy: 0.9790209790209791\n",
      "[245/1000] train loss: 0.028992301784455776, valid loss: 0.06012563779950142, valid accuracy: 0.9790209790209791\n",
      "[246/1000] train loss: 0.028134018182754517, valid loss: 0.060048628598451614, valid accuracy: 0.9790209790209791\n",
      "[247/1000] train loss: 0.028253629803657532, valid loss: 0.06009237840771675, valid accuracy: 0.9790209790209791\n",
      "[248/1000] train loss: 0.028160125017166138, valid loss: 0.060161035507917404, valid accuracy: 0.9790209790209791\n",
      "######## Early Stop: 248\n",
      "학습시간: 1.9967560768127441초\n"
     ]
    }
   ],
   "source": [
    "import time\n",
    "## 하이퍼파라미터\n",
    "LR = 0.001\n",
    "N_EPOCH = 1000\n",
    "\n",
    "# 모델 생성\n",
    "model = BCModel().to(device)\n",
    "# loss 함수\n",
    "loss_fn = nn.BCELoss() # binary cross entropy loss\n",
    "# optimizer\n",
    "optimizer = torch.optim.Adam(model.parameters(), lr=LR)\n",
    "\n",
    "s = time.time()\n",
    "######################### \n",
    "# 에폭별 검증 -> train loss, validation loss, validation accuracy\n",
    "# 조기종료(Early Stopping) - 성능 개선이 안되면 학습을 중단\n",
    "# 가장 좋은 성능을 내는 에폭의 모델을 저장. \n",
    "#  조기종료/모델 저장 ==> validation loss 기준.\n",
    "######################### \n",
    "\n",
    "## 결과 저장할 리스트\n",
    "train_loss_list, valid_loss_list, valid_acc_list = [], [], []\n",
    "\n",
    "### 모델 저장, 조기종료 관련 변수\n",
    "best_score = torch.inf  # valid loss\n",
    "save_bcmodel_path = \"models/bc_best_model.pth\"\n",
    "\n",
    "patience = 20  # 성능이 개선 될때 까지 몇 에폭 기다릴 것인지.\n",
    "trigger_cnt = 0 # 성능이 개선 될때 까지 현재 몇번째 기다렸는지.\n",
    "\n",
    "\n",
    "for epoch in range(N_EPOCH):\n",
    "    \n",
    "    # train\n",
    "    model.train()\n",
    "    train_loss = 0.0\n",
    "    for X_train, y_train in train_loader:\n",
    "        # 한 step\n",
    "        X_train, y_train = X_train.to(device), y_train.to(device)\n",
    "        pred_train = model(X_train) # 예측\n",
    "        loss = loss_fn(pred_train, y_train) # 오차계산\n",
    "        # 파라미터 업데이트\n",
    "        optimizer.zero_grad() # 초기화\n",
    "        loss.backward() # grad 계산\n",
    "        optimizer.step() # 파라미터 update\n",
    "        \n",
    "        train_loss += loss.item()\n",
    "    train_loss /= len(train_loader) # 현재 epoch의 평균 train loss 계산\n",
    "    \n",
    "    #### 검증(validation)\n",
    "    model.eval()\n",
    "    valid_loss, valid_acc = 0.0, 0.0\n",
    "    with torch.no_grad():\n",
    "        for X_valid, y_valid in test_loader:\n",
    "            X_valid, y_valid = X_valid.to(device), y_valid.to(device)\n",
    "            pred_valid = model(X_valid) # 값: 1개 - positive일 확률 ==> Loss 계산\n",
    "            pred_label = (pred_valid > 0.5).type(torch.int32)  # label ==> 정확도 계산\n",
    "            \n",
    "            # loss\n",
    "            loss_valid = loss_fn(pred_valid, y_valid)\n",
    "            valid_loss += loss_valid.item()\n",
    "            # 정확도\n",
    "            valid_acc += torch.sum(pred_label == y_valid).item()\n",
    "    # valid 검증 결과 계산\n",
    "    valid_loss /= len(test_loader)\n",
    "    valid_acc /= len(test_loader.dataset)\n",
    "    \n",
    "    print(f\"[{epoch+1}/{N_EPOCH}] train loss: {train_loss}, valid loss: {valid_loss}, valid accuracy: {valid_acc}\")\n",
    "    train_loss_list.append(train_loss)\n",
    "    valid_loss_list.append(valid_loss)\n",
    "    valid_acc_list.append(valid_acc)\n",
    "    \n",
    "    ##### 모델 저장 및 조기종료 처리\n",
    "    if valid_loss < best_score: # 성능 개선\n",
    "        print(f\"===> {epoch+1}에폭에서 모델 저장. 이전 score: {best_score}, 현재 score: {valid_loss}\")\n",
    "        torch.save(model, save_bcmodel_path)\n",
    "        best_score = valid_loss\n",
    "        trigger_cnt = 0\n",
    "    else: # 성능개선이 안됨.\n",
    "        trigger_cnt += 1\n",
    "        if patience == trigger_cnt: # 조기종료\n",
    "            print(f\"######## Early Stop: {epoch+1}\")\n",
    "            break\n",
    "    \n",
    "    \n",
    "e = time.time()\n",
    "print(f\"학습시간: {e-s}초\")"
   ]
  },
  {
   "cell_type": "code",
   "execution_count": 58,
   "metadata": {},
   "outputs": [
    {
     "data": {
      "image/png": "[encoded data removed]",
      "text/plain": [
       "<Figure size 640x480 with 1 Axes>"
      ]
     },
     "metadata": {},
     "output_type": "display_data"
    }
   ],
   "source": [
    "plt.plot(train_loss_list, label=\"train\")\n",
    "plt.plot(valid_loss_list, label=\"validation\")\n",
    "plt.ylim(0, 0.06)\n",
    "plt.legend()\n",
    "plt.show()"
   ]
  },
  {
   "cell_type": "code",
   "execution_count": 61,
   "metadata": {},
   "outputs": [
    {
     "data": {
      "image/png": "[encoded data removed]",
      "text/plain": [
       "<Figure size 640x480 with 1 Axes>"
      ]
     },
     "metadata": {},
     "output_type": "display_data"
    }
   ],
   "source": [
    "plt.plot(train_loss_list, label=\"train\")\n",
    "plt.plot(valid_loss_list, label=\"validation\")\n",
    "plt.ylim(0, 0.1)\n",
    "plt.legend()\n",
    "plt.show()"
   ]
  },
  {
   "cell_type": "markdown",
   "metadata": {},
   "source": [
    "### 모델 Train 결과 확인/평가"
   ]
  },
  {
   "cell_type": "code",
   "execution_count": 62,
   "metadata": {},
   "outputs": [],
   "source": [
    "best_model = torch.load(save_bcmodel_path)"
   ]
  },
  {
   "cell_type": "code",
   "execution_count": null,
   "metadata": {},
   "outputs": [],
   "source": [
    "# 모델이 학습한 데이터는 전처리 된 것.(Standard Scaling)\n",
    "# 예측(추론) 할 데이터도 같은 전처리를 해야한다."
   ]
  },
  {
   "cell_type": "code",
   "execution_count": 63,
   "metadata": {},
   "outputs": [
    {
     "data": {
      "text/plain": [
       "torch.Size([143, 30])"
      ]
     },
     "execution_count": 63,
     "metadata": {},
     "output_type": "execute_result"
    }
   ],
   "source": [
    "X_test_tensor.shape"
   ]
  },
  {
   "cell_type": "code",
   "execution_count": 66,
   "metadata": {},
   "outputs": [
    {
     "data": {
      "text/plain": [
       "torch.Size([143, 1])"
      ]
     },
     "execution_count": 66,
     "metadata": {},
     "output_type": "execute_result"
    }
   ],
   "source": [
    "pred_new = best_model(X_test_tensor)\n",
    "pred_new.shape"
   ]
  },
  {
   "cell_type": "code",
   "execution_count": 68,
   "metadata": {},
   "outputs": [
    {
     "data": {
      "text/plain": [
       "tensor([[9.9998e-01],\n",
       "        [9.9998e-01],\n",
       "        [1.0429e-05],\n",
       "        [9.9850e-01],\n",
       "        [9.9959e-01]], grad_fn=<SliceBackward0>)"
      ]
     },
     "execution_count": 68,
     "metadata": {},
     "output_type": "execute_result"
    }
   ],
   "source": [
    "pred_new[:5]  # positive(1)일 확률"
   ]
  },
  {
   "cell_type": "code",
   "execution_count": 69,
   "metadata": {},
   "outputs": [
    {
     "data": {
      "text/plain": [
       "tensor([[1],\n",
       "        [1],\n",
       "        [0],\n",
       "        [1],\n",
       "        [1]], dtype=torch.int32)"
      ]
     },
     "execution_count": 69,
     "metadata": {},
     "output_type": "execute_result"
    }
   ],
   "source": [
    "# 확률->class index\n",
    "pred_new_label = (pred_new > 0.5).type(torch.int32)\n",
    "pred_new_label[:5]"
   ]
  },
  {
   "cell_type": "code",
   "execution_count": 71,
   "metadata": {},
   "outputs": [
    {
     "data": {
      "text/plain": [
       "tensor([[1.],\n",
       "        [1.],\n",
       "        [0.],\n",
       "        [1.],\n",
       "        [1.]])"
      ]
     },
     "execution_count": 71,
     "metadata": {},
     "output_type": "execute_result"
    }
   ],
   "source": [
    "y_test_tensor[:5]"
   ]
  },
  {
   "cell_type": "code",
   "execution_count": null,
   "metadata": {},
   "outputs": [],
   "source": []
  },
  {
   "cell_type": "code",
   "execution_count": null,
   "metadata": {},
   "outputs": [],
   "source": []
  },
  {
   "cell_type": "code",
   "execution_count": null,
   "metadata": {},
   "outputs": [],
   "source": []
  }
 ],
 "metadata": {
  "kernelspec": {
   "display_name": "Python 3",
   "language": "python",
   "name": "python3"
  },
  "language_info": {
   "codemirror_mode": {
    "name": "ipython",
    "version": 3
   },
   "file_extension": ".py",
   "mimetype": "text/x-python",
   "name": "python",
   "nbconvert_exporter": "python",
   "pygments_lexer": "ipython3",
   "version": "3.8.8"
  },
  "toc": {
   "base_numbering": 1,
   "nav_menu": {},
   "number_sections": false,
   "sideBar": true,
   "skip_h1_title": false,
   "title_cell": "Table of Contents",
   "title_sidebar": "Contents",
   "toc_cell": false,
   "toc_position": {
    "height": "calc(100% - 180px)",
    "left": "10px",
    "top": "150px",
    "width": "512px"
   },
   "toc_section_display": true,
   "toc_window_display": false
  },
  "varInspector": {
   "cols": {
    "lenName": 16,
    "lenType": 16,
    "lenVar": 40
   },
   "kernels_config": {
    "python": {
     "delete_cmd_postfix": "",
     "delete_cmd_prefix": "del ",
     "library": "var_list.py",
     "varRefreshCmd": "print(var_dic_list())"
    },
    "r": {
     "delete_cmd_postfix": ") ",
     "delete_cmd_prefix": "rm(",
     "library": "var_list.r",
     "varRefreshCmd": "cat(var_dic_list()) "
    }
   },
   "types_to_exclude": [
    "module",
    "function",
    "builtin_function_or_method",
    "instance",
    "_Feature"
   ],
   "window_display": false
  }
 },
 "nbformat": 4,
 "nbformat_minor": 4
}
