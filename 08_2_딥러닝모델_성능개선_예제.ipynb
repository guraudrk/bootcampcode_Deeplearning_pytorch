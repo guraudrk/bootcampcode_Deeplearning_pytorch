{
 "cells": [
  {
   "cell_type": "markdown",
   "metadata": {},
   "source": [
    "# 성능개선 기법 실습"
   ]
  },
  {
   "cell_type": "markdown",
   "metadata": {},
   "source": [
    "# 모듈 정의"
   ]
  },
  {
   "cell_type": "markdown",
   "metadata": {},
   "source": [
    "## train.py\n",
    "- 모델 학습과 검증 함수 정의"
   ]
  },
  {
   "cell_type": "code",
   "execution_count": 1,
   "metadata": {},
   "outputs": [],
   "source": [
    "import os\n",
    "os.makedirs('module', exist_ok=True) #module이라는 패키지를 만든 것이다."
   ]
  },
  {
   "cell_type": "code",
   "execution_count": 1,
   "metadata": {
    "code_folding": []
   },
   "outputs": [
    {
     "name": "stdout",
     "output_type": "stream",
     "text": [
      "Overwriting module/train.py\n"
     ]
    }
   ],
   "source": [
    "%%writefile module/train.py\n",
    "\n",
    "#이 셀을 실행을 하면 위의 파일에 내용을 쓰라는 이야기이다. 이 점을 반드시 기억할 것!\n",
    "import torch\n",
    "import time\n",
    "\n",
    "# multi와 binary 정확도 계산이 다르다.\n",
    "\n",
    "\n",
    "#다중분류 문제에 대해 평가하는 코드.\n",
    "def test_multi_classification(dataloader, model, loss_fn, device=\"cpu\") -> tuple:\n",
    "    \"\"\"\n",
    "    다중 분류 검증/평가 함수\n",
    "    \n",
    "    [parameter]\n",
    "        dataloader: DataLoader - 검증할 대상 데이터로더\n",
    "        model: 검증할 모델\n",
    "        loss_fn: 모델 추정값과 정답의 차이를 계산할 loss 함수.\n",
    "        device: str - 연산을 처리할 장치. default-\"cpu\", gpu-\"cuda\"\n",
    "    [return]\n",
    "        tuple: (loss, accuracy)\n",
    "    \"\"\"\n",
    "    model.eval() # 모델을 평가모드로 변환\n",
    "    size = len(dataloader.dataset) # 전체 데이터수---전체 데이터수를 구하기 위해 dataloader 중에서도 dataset을 구한다.\n",
    "    num_batches = len(dataloader)  #  step 수\n",
    "    \n",
    "    test_loss, test_accuracy = 0., 0.\n",
    "    \n",
    "    with torch.no_grad():\n",
    "        for X, y in dataloader:\n",
    "            X, y = X.to(device), y.to(device)\n",
    "            pred = model(X) #모델에게 추론을 시키는 부분의 코드이다.\n",
    "            test_loss += loss_fn(pred, y).item()\n",
    "            # 정확도 계산\n",
    "            pred_label = torch.argmax(pred, axis=-1) #label을 뽑아내는 과정이 틀리다.\n",
    "            test_accuracy += torch.sum(pred_label == y).item()\n",
    "            \n",
    "        test_loss /= num_batches\n",
    "        test_accuracy /= size  #전체 개수로 나눈다.\n",
    "    return test_loss, test_accuracy  #결국 test_loss, test_accuracy를 return 한다. \n",
    "\n",
    "\n",
    "\n",
    "#이중분류에 대해 평가하는 코드. 이렇게 분류하는 이유는 함수도 다르고, 프로세스도 다르기 때문이다.\n",
    "def test_binary_classification(dataloader, model, loss_fn, device=\"cpu\") -> tuple:\n",
    "    \"\"\"\n",
    "    이진 분류 검증/평가 함수\n",
    "    \n",
    "    [parameter]\n",
    "        dataloader: DataLoader - 검증할 대상 데이터로더\n",
    "        model: 검증할 모델\n",
    "        loss_fn: 모델 추정값과 정답의 차이를 계산할 loss 함수.\n",
    "        device: str - 연산을 처리할 장치. default-\"cpu\", gpu-\"cuda\"\n",
    "    [return]\n",
    "        tuple: (loss, accuracy)\n",
    "    \"\"\"\n",
    "    model.eval() # 모델을 평가모드로 변환\n",
    "    size = len(dataloader.dataset)\n",
    "    num_batches = len(dataloader)\n",
    "    \n",
    "    test_loss, test_accuracy = 0., 0.\n",
    "    \n",
    "    with torch.no_grad():\n",
    "        for X, y in dataloader:\n",
    "            X, y = X.to(device), y.to(device)\n",
    "            pred = model(X)\n",
    "            test_loss += loss_fn(pred, y).item()\n",
    "            ## 정확도 계산\n",
    "            pred_label = (pred >= 0.5).type(torch.int32) #정확도가 일정 기준 이상이면,이를 pred_label에 추가.\n",
    "            test_accuracy += (pred_label == y).sum().item() \n",
    "            \n",
    "        test_loss /= num_batches\n",
    "        test_accuracy /= size   #전체 개수로 나눈다.\n",
    "    return test_loss, test_accuracy    \n",
    "\n",
    "\n",
    "#train 해주는 코드를 작성했다.\n",
    "def train(dataloader, model, loss_fn, optimizer, device=\"cpu\", mode:\"binary or multi\"='binary'):\n",
    "    \"\"\"\n",
    "    모델을 1 epoch 학습시키는 함수\n",
    "\n",
    "    [parameter]\n",
    "        dataloader: DataLoader - 학습데이터셋을 제공하는 DataLoader\n",
    "        model - 학습대상 모델\n",
    "        loss_fn: 모델 추정값과 정답의 차이를 계산할 loss 함수.\n",
    "        optimizer - 최적화 함수\n",
    "        device: str - 연산을 처리할 장치. default-\"cpu\", gpu-\"cuda\"\n",
    "        mode: str - 분류 종류. binary 또는 multi\n",
    "    [return]\n",
    "        tuple: 학습후 계산한 Train set에 대한  train_loss, train_accuracy\n",
    "    \"\"\"\n",
    "    model.train()\n",
    "    size = len(dataloader.dataset) #총 데이터수\n",
    "\n",
    "    for batch, (X, y) in enumerate(dataloader): #batch의 수와 x,y도 출력을 시도!\n",
    "        X, y = X.to(device), y.to(device)\n",
    "        pred = model(X) #모델 학습\n",
    "\n",
    "        loss = loss_fn(pred, y) #loss 구하기\n",
    "\n",
    "        optimizer.zero_grad() #gradient 초기화\n",
    "        loss.backward()\n",
    "        optimizer.step()\n",
    "        #이를 통해 한 step의 학습이 끝났다.\n",
    "        \n",
    "    if mode == 'binary': #모드에 따라서 train 관련값이 어떻게 반영이 될 것인지에 대한 놈이다.\n",
    "        train_loss, train_accuracy = test_binary_classification(dataloader, model, loss_fn, device)\n",
    "    else:\n",
    "        train_loss, train_accuracy = test_multi_classification(dataloader, model, loss_fn, device)\n",
    "    return train_loss, train_accuracy\n",
    "\n",
    "\n",
    "#최종적으로 학습을 시킨다. 학습을 하고, 검증을 하는 것 2가지를 같이 한다.\n",
    "def fit(train_loader, val_loader, model, loss_fn, optimizer, epochs, \n",
    "        save_best_model=True, save_model_path=None, early_stopping=True, patience=10, device='cpu',  mode:\"binary or multi\"='binary',\n",
    "    lr_scheduler=None):\n",
    "    \"\"\"\n",
    "    모델을 학습시키는 함수\n",
    "\n",
    "    [parameter]\n",
    "        train_loader (Dataloader): Train dataloader\n",
    "        test_loader (Dataloader): validation dataloader\n",
    "        model (Module): 학습시킬 모델\n",
    "        loss_fn (_Loss): Loss function\n",
    "        optimizer (Optimizer): Optimizer\n",
    "        epochs (int): epoch수\n",
    "        save_best_model (bool, optional): 학습도중 성능개선시 모델 저장 여부. Defaults to True.\n",
    "        save_model_path (str, optional): save_best_model=True일 때 모델저장할 파일 경로. Defaults to None.\n",
    "        early_stopping (bool, optional): 조기 종료 여부. Defaults to True.\n",
    "        patience (int, optional): 조기종료 True일 때 종료전에 성능이 개선될지 몇 epoch까지 기다릴지 epoch수. Defaults to 10.\n",
    "        device (str, optional): device. Defaults to 'cpu'.\n",
    "        mode(str, optinal): 분류 종류. \"binary(default) or multi\n",
    "    [return]\n",
    "        tuple: 에폭 별 성능 리스트. (train_loss_list, train_accuracy_list, validation_loss_list, validataion_accuracy_list)\n",
    "        lr_scheduler:Learning Rate 스케쥴러 객체. default: None\n",
    "    \"\"\"\n",
    "\n",
    "    train_loss_list = []\n",
    "    train_accuracy_list = []\n",
    "    val_loss_list = []\n",
    "    val_accuracy_list = []\n",
    "    \n",
    "    #이런 거는 상황에 맞게 알맞게 사용하면 된다.\n",
    "    if save_best_model:\n",
    "        best_score_save = torch.inf\n",
    "\n",
    "    ############################\n",
    "    # early stopping\n",
    "    #############################\n",
    "    if early_stopping:\n",
    "        trigger_count = 0\n",
    "        best_score_es = torch.inf\n",
    "    \n",
    "    # 모델 device로 옮기기\n",
    "    model = model.to(device)\n",
    "    s = time.time()\n",
    "    for epoch in range(epochs):\n",
    "        \n",
    "        train_loss, train_accuracy = train(train_loader, model, loss_fn, optimizer, device=device, mode=mode)\n",
    "        #train이라는 함수를 호출하면, train_loss와 train_accuracy를 return 할 것이다.\n",
    "       #이 과정을 통해 train 과정이 끝이 난다.(한 epoch의 train이 끝이 난다.)\n",
    "    \n",
    "        # 검증 - test_xxxx_classsification() 함수를 호출한다. mode가 무엇인가에 따라 코드의 동작 방식이 달라진다.\n",
    "        if mode == \"binary\":\n",
    "            val_loss, val_accuracy = test_binary_classification(val_loader, model, loss_fn, device=device)\n",
    "        else:\n",
    "            val_loss, val_accuracy = test_multi_classification(val_loader, model, loss_fn, device=device)\n",
    "\n",
    "        ####LR Scheduler에게 lr 변경요청\n",
    "        if lr_scheduler:\n",
    "            lr_scheduler.step()\n",
    "        \n",
    "        #한 에폭의 검증 결과를 각 list에 추가한다.\n",
    "        train_loss_list.append(train_loss)\n",
    "        train_accuracy_list.append(train_accuracy)\n",
    "        val_loss_list.append(val_loss)\n",
    "        val_accuracy_list.append(val_accuracy)\n",
    "        \n",
    "        #로그 출력. 현재 epoch, train loss, train accucracy 등을 세세히 출력한다.\n",
    "        print(f\"Epoch[{epoch+1}/{epochs}] - Train loss: {train_loss:.5f} Train Accucracy: {train_accuracy:.5f} || Validation Loss: {val_loss:.5f} Validation Accuracy: {val_accuracy:.5f}\")\n",
    "        print('='*100)\n",
    "        \n",
    "        # 모델 저장\n",
    "        if save_best_model:\n",
    "            if val_loss < best_score_save:\n",
    "                torch.save(model, save_model_path)\n",
    "                print(f\"저장: {epoch+1} - 이전 : {best_score_save}, 현재: {val_loss}\")\n",
    "                best_score_save = val_loss\n",
    "        \n",
    "        # early stopping 처리 (early stopping이 true인지 false인지 따져 보는 것이다.)           \n",
    "        if early_stopping: #true라면 스코어를 갱신하고 trigger를 0으로 설정한다.\n",
    "            if val_loss < best_score_es: \n",
    "                best_score_es = val_loss  \n",
    "                trigger_count = 0\n",
    "                                \n",
    "            else:\n",
    "                trigger_count += 1                \n",
    "                if patience == trigger_count:\n",
    "                    print(f\"Early stopping: Epoch - {epoch}\")\n",
    "                    break\n",
    "            \n",
    "    e = time.time()\n",
    "    print(e-s, \"초\")\n",
    "    return train_loss_list, train_accuracy_list, val_loss_list, val_accuracy_list\n",
    "\n",
    "\n",
    "#이 코드는 복습 시간에 정말 세세하게 코드 리뷰를 하도록 하자."
   ]
  },
  {
   "cell_type": "markdown",
   "metadata": {},
   "source": [
    "## data.py\n",
    "- dataset 생성 함수 제공 모듈"
   ]
  },
  {
   "cell_type": "code",
   "execution_count": 2,
   "metadata": {},
   "outputs": [
    {
     "name": "stdout",
     "output_type": "stream",
     "text": [
      "Overwriting module/data.py\n"
     ]
    }
   ],
   "source": [
    "%%writefile module/data.py\n",
    "\n",
    "#이번엔 data.py라는 이름을 가진 파일에 저장을 하자.\n",
    "from torchvision import datasets, transforms\n",
    "from torch.utils.data import DataLoader\n",
    "\n",
    "def load_mnist_dataset(root_path, batch_size, is_train=True):\n",
    "    \"\"\"\n",
    "    mnist dataset dataloader 제공 함수\n",
    "    [parameter]\n",
    "        root_path: str|Path - 데이터파일 저장 디렉토리\n",
    "        batch_size: int\n",
    "        is_train: bool = True - True: Train dataset, False - Test dataset\n",
    "    [return]\n",
    "        DataLoader \n",
    "    \"\"\"\n",
    "    transform = transforms.Compose([\n",
    "        transforms.ToTensor()\n",
    "    ])\n",
    "    #dataset과 dataloader를 정의한다.\n",
    "    dataset = datasets.MNIST(root=root_path, train=is_train, download=True, transform=transform)\n",
    "    dataloader = DataLoader(dataset, batch_size=batch_size, shuffle=is_train)  # shuffle: train이면 True, test면 False 할 것이므로 is_train을 넣음.\n",
    "    \n",
    "    return dataloader #dataloader를 return 하면 결과적으로는 dataset도 같이 포함하는 거야. 위에 코드 보면 알겠지?\n",
    "\n",
    "def load_fashion_mnist_dataset(root_path, batch_size, is_train=True):\n",
    "    \"\"\"\n",
    "    fashion mnist dataset dataloader 제공 함수\n",
    "    [parameter]\n",
    "        root_path: str|Path - 데이터파일 저장 디렉토리\n",
    "        batch_size: int\n",
    "        is_train: bool = True - True: Train dataset, False - Test dataset\n",
    "    [return]\n",
    "        DataLoader\n",
    "    \"\"\"\n",
    "    transform = transforms.Compose([\n",
    "        transforms.ToTensor()\n",
    "    ])\n",
    "    dataset = datasets.FashionMNIST(root=root_path, train=is_train, download=True, transform=transform)\n",
    "    dataloader = DataLoader(dataset, batch_size=batch_size, shuffle=is_train)  # shuffle: train이면 True, test면 False 할 것이므로 is_train을 넣음.\n",
    "    \n",
    "    return dataloader"
   ]
  },
  {
   "cell_type": "code",
   "execution_count": 3,
   "metadata": {},
   "outputs": [],
   "source": [
    "from module import data"
   ]
  },
  {
   "cell_type": "code",
   "execution_count": 4,
   "metadata": {},
   "outputs": [],
   "source": [
    "mnist_trainloader = data.load_mnist_dataset(\"datasets\",200,True) #이런 식으로 trainset를 제공한다.\n",
    "mnist_testloader = data.load_mnist_dataset(\"datasets\",200,False) #이런 식으로 testset을 제공한다.\n",
    "\n",
    "\n",
    "\n"
   ]
  },
  {
   "cell_type": "code",
   "execution_count": 5,
   "metadata": {},
   "outputs": [
    {
     "data": {
      "text/plain": [
       "(60000, 10000)"
      ]
     },
     "execution_count": 5,
     "metadata": {},
     "output_type": "execute_result"
    }
   ],
   "source": [
    "#데이터수\n",
    "\n",
    "len(mnist_trainloader.dataset), len(mnist_testloader.dataset)"
   ]
  },
  {
   "cell_type": "code",
   "execution_count": 6,
   "metadata": {},
   "outputs": [
    {
     "data": {
      "text/plain": [
       "(300, 50)"
      ]
     },
     "execution_count": 6,
     "metadata": {},
     "output_type": "execute_result"
    }
   ],
   "source": [
    "#step수------데이터수에서 batch_size를 나누는 것이다.\n",
    "\n",
    "len(mnist_trainloader), len(mnist_testloader)"
   ]
  },
  {
   "cell_type": "markdown",
   "metadata": {},
   "source": [
    "### import"
   ]
  },
  {
   "cell_type": "code",
   "execution_count": 11,
   "metadata": {},
   "outputs": [
    {
     "data": {
      "text/plain": [
       "'cpu'"
      ]
     },
     "execution_count": 11,
     "metadata": {},
     "output_type": "execute_result"
    }
   ],
   "source": [
    "import torch\n",
    "import torch.nn as nn\n",
    "\n",
    "import torchinfo\n",
    "\n",
    "\n",
    "from module import train, data\n",
    "import os\n",
    "import matplotlib.pyplot as plt\n",
    "\n",
    "device = \"cuda\" if torch.cuda.is_available() else \"cpu\" #device에 대한 if문.\n",
    "device"
   ]
  },
  {
   "cell_type": "code",
   "execution_count": null,
   "metadata": {},
   "outputs": [],
   "source": []
  },
  {
   "cell_type": "code",
   "execution_count": null,
   "metadata": {},
   "outputs": [],
   "source": []
  },
  {
   "cell_type": "markdown",
   "metadata": {},
   "source": [
    "## 하이퍼파라미터, 변수 정의"
   ]
  },
  {
   "cell_type": "code",
   "execution_count": 12,
   "metadata": {},
   "outputs": [],
   "source": [
    "LR = 0.001\n",
    "N_EPOCH = 10\n",
    "BATCH_SIZE = 200\n",
    "\n",
    "\n",
    "#DATASET, MODEL 을 저장할 ROOT 디렉토리 경로\n",
    "DATASET_ROOT_PATH = 'datasets'\n",
    "MODEL_SAVE_ROOT_PATH = 'models'\n",
    "\n",
    "#이런 식으로 자주 쓰이거나, 나중에 튜닝의 대상이 되는 변수들은 한 곳에 모아서 정의를 하는 것이 좋다.\n",
    "#이 팁은 다른 개발을 할 때도 요긴하게 쓰인다.\n",
    "\n"
   ]
  },
  {
   "cell_type": "code",
   "execution_count": null,
   "metadata": {},
   "outputs": [],
   "source": []
  },
  {
   "cell_type": "markdown",
   "metadata": {},
   "source": [
    "# Data 준비\n",
    "\n",
    "## mnist 데이터 로딩"
   ]
  },
  {
   "cell_type": "code",
   "execution_count": 13,
   "metadata": {},
   "outputs": [],
   "source": [
    "train_loader = data.load_mnist_dataset(DATASET_ROOT_PATH,BATCH_SIZE,True)\n",
    "test_loader = data.load_mnist_dataset(DATASET_ROOT_PATH,BATCH_SIZE,False)\n",
    "\n",
    "\n"
   ]
  },
  {
   "cell_type": "code",
   "execution_count": null,
   "metadata": {},
   "outputs": [],
   "source": []
  },
  {
   "cell_type": "markdown",
   "metadata": {},
   "source": [
    "# 모델의 크기 변경에 따른 성능변화"
   ]
  },
  {
   "cell_type": "code",
   "execution_count": 14,
   "metadata": {},
   "outputs": [],
   "source": [
    "#자, 일단 작은 크기의 모델을 한번 적용시켜보자.\n",
    "\n",
    "class SmallSizeModel(nn.Module):\n",
    "    \n",
    "    def __init__(self):\n",
    "        super().__init__()\n",
    "        self.output = nn.Linear(784,10) #in:feature의 수. (1*28*28), out: class 개수------바로 출력하는 것이다.\n",
    "        \n",
    "        \n",
    "    def forward(self,X):\n",
    "        out = nn.Flatten()(X)\n",
    "        out =self.output(out)\n",
    "        return out\n",
    "        "
   ]
  },
  {
   "cell_type": "code",
   "execution_count": 16,
   "metadata": {},
   "outputs": [
    {
     "data": {
      "text/plain": [
       "==========================================================================================\n",
       "Layer (type:depth-idx)                   Output Shape              Param #\n",
       "==========================================================================================\n",
       "SmallSizeModel                           [200, 10]                 --\n",
       "├─Linear: 1-1                            [200, 10]                 7,850\n",
       "==========================================================================================\n",
       "Total params: 7,850\n",
       "Trainable params: 7,850\n",
       "Non-trainable params: 0\n",
       "Total mult-adds (M): 1.57\n",
       "==========================================================================================\n",
       "Input size (MB): 0.63\n",
       "Forward/backward pass size (MB): 0.02\n",
       "Params size (MB): 0.03\n",
       "Estimated Total Size (MB): 0.67\n",
       "=========================================================================================="
      ]
     },
     "execution_count": 16,
     "metadata": {},
     "output_type": "execute_result"
    }
   ],
   "source": [
    "small_model = SmallSizeModel()\n",
    "torchinfo.summary(small_model,(BATCH_SIZE,1,28,28))\n",
    "\n",
    "#summary를 보면 알겠지만, 뭔가가 많이 있지는 않다."
   ]
  },
  {
   "cell_type": "code",
   "execution_count": 18,
   "metadata": {},
   "outputs": [],
   "source": [
    "#loss \n",
    "\n",
    "loss_fn = nn.CrossEntropyLoss()\n",
    "\n",
    "#optimizer\n",
    "optimizer = torch.optim.Adam(small_model.parameters(),lr=LR)\n",
    "\n"
   ]
  },
  {
   "cell_type": "code",
   "execution_count": 19,
   "metadata": {},
   "outputs": [
    {
     "name": "stdout",
     "output_type": "stream",
     "text": [
      "Epoch[1/10] - Train loss: 0.44705 Train Accucracy: 0.88607 || Validation Loss: 0.42795 Validation Accuracy: 0.89460\n",
      "====================================================================================================\n",
      "저장: 1 - 이전 : inf, 현재: 0.4279545383155346\n",
      "Epoch[2/10] - Train loss: 0.35787 Train Accucracy: 0.90365 || Validation Loss: 0.34362 Validation Accuracy: 0.90870\n",
      "====================================================================================================\n",
      "저장: 2 - 이전 : 0.4279545383155346, 현재: 0.34361504584550856\n",
      "Epoch[3/10] - Train loss: 0.32298 Train Accucracy: 0.91173 || Validation Loss: 0.31384 Validation Accuracy: 0.91350\n",
      "====================================================================================================\n",
      "저장: 3 - 이전 : 0.34361504584550856, 현재: 0.3138397286832333\n",
      "Epoch[4/10] - Train loss: 0.30486 Train Accucracy: 0.91592 || Validation Loss: 0.29697 Validation Accuracy: 0.91750\n",
      "====================================================================================================\n",
      "저장: 4 - 이전 : 0.3138397286832333, 현재: 0.29696669973433015\n",
      "Epoch[5/10] - Train loss: 0.29288 Train Accucracy: 0.91913 || Validation Loss: 0.28789 Validation Accuracy: 0.92020\n",
      "====================================================================================================\n",
      "저장: 5 - 이전 : 0.29696669973433015, 현재: 0.28788589537143705\n",
      "Epoch[6/10] - Train loss: 0.28375 Train Accucracy: 0.92162 || Validation Loss: 0.28168 Validation Accuracy: 0.92090\n",
      "====================================================================================================\n",
      "저장: 6 - 이전 : 0.28788589537143705, 현재: 0.28168279353529213\n",
      "Epoch[7/10] - Train loss: 0.27673 Train Accucracy: 0.92325 || Validation Loss: 0.27633 Validation Accuracy: 0.92350\n",
      "====================================================================================================\n",
      "저장: 7 - 이전 : 0.28168279353529213, 현재: 0.2763306713476777\n",
      "Epoch[8/10] - Train loss: 0.27155 Train Accucracy: 0.92417 || Validation Loss: 0.27289 Validation Accuracy: 0.92410\n",
      "====================================================================================================\n",
      "저장: 8 - 이전 : 0.2763306713476777, 현재: 0.2728899650648236\n",
      "Epoch[9/10] - Train loss: 0.26868 Train Accucracy: 0.92537 || Validation Loss: 0.27063 Validation Accuracy: 0.92520\n",
      "====================================================================================================\n",
      "저장: 9 - 이전 : 0.2728899650648236, 현재: 0.27063312657177446\n",
      "Epoch[10/10] - Train loss: 0.26581 Train Accucracy: 0.92520 || Validation Loss: 0.27064 Validation Accuracy: 0.92480\n",
      "====================================================================================================\n",
      "158.54847383499146 초\n"
     ]
    }
   ],
   "source": [
    "#train -> module.fit()\n",
    "#train.fit() 으로 한번에 학습이 된다.\n",
    "train_loss_list, train_acc_list, valid_loss_list, valid_acc_list = \\\n",
    "train.fit(train_loader,test_loader,small_model,loss_fn,optimizer,N_EPOCH,save_best_model=True,\n",
    "          save_model_path=os.path.join(MODEL_SAVE_ROOT_PATH,\"small_model.pth\"),device=device,mode=\"multi\")"
   ]
  },
  {
   "cell_type": "code",
   "execution_count": 20,
   "metadata": {},
   "outputs": [
    {
     "data": {
      "image/png": "[encoded data removed]",
      "text/plain": [
       "<Figure size 720x360 with 2 Axes>"
      ]
     },
     "metadata": {
      "needs_background": "light"
     },
     "output_type": "display_data"
    }
   ],
   "source": [
    "plt.figure(figsize=(10,5))\n",
    "plt.subplot(1,2,1)\n",
    "plt.plot(train_loss_list,label=\"trainset\")\n",
    "plt.plot(valid_loss_list,label=\"validationset\")\n",
    "plt.title(\"Loss\")\n",
    "plt.legend()\n",
    "\n",
    "\n",
    "plt.subplot(1,2,2)\n",
    "plt.plot(train_acc_list,label=\"trainset\")\n",
    "plt.plot(valid_acc_list,label=\"validationset\")\n",
    "plt.title(\"accuracy\")\n",
    "plt.legend()\n",
    "\n",
    "plt.tight_layout()\n",
    "plt.show()\n",
    "\n",
    "\n",
    "#뭐 어쨌든 loss는 줄어들고 accuracy는 줄어든 것을 볼 수 있다. 근데, epoch을 더 돌려야 하는 것은 자명하다.\n",
    "#근본적인 이유는 모델의 크기가 작아서 학습 능력이 떨어지는 것이다.\n",
    "\n",
    "\n"
   ]
  },
  {
   "cell_type": "code",
   "execution_count": 13,
   "metadata": {},
   "outputs": [
    {
     "data": {
      "text/plain": [
       "tensor([[0.0000, 0.0000, 0.0000, 0.0000, 1.6560, 0.5506, 1.5307, 0.0000, 1.3514,\n",
       "         0.0000, 0.0000, 0.3279, 0.8142, 0.0000, 0.0000, 0.0895, 0.0000, 0.4381,\n",
       "         0.0000, 0.0000, 0.0000, 0.0023, 0.0000, 0.0000, 0.0000, 0.0000, 0.0000,\n",
       "         0.0000, 0.1003, 0.0362]], grad_fn=<ReluBackward0>)"
      ]
     },
     "execution_count": 13,
     "metadata": {},
     "output_type": "execute_result"
    }
   ],
   "source": [
    "#nn.Sequential을 이용해서 layer block을 정의하자.\n",
    "#### 여러 layer 들을 묶어준다. (묶어서 하나로 표현을 해 준다.)\n",
    "\n",
    "\n",
    "\n",
    "#모델을 만들 때, 이런 식으로 간단하게 만들기도 한다.\n",
    "#이 부분은 복습할 때 세세히 학습을 하도록 하자.\n",
    "layer_block = nn.Sequential(\n",
    "    \n",
    "    nn.Linear(20,30),\n",
    "    nn.ReLU()\n",
    ")\n",
    "\n",
    "\n",
    "a = torch.ones(1,20)\n",
    "r = layer_block(a)\n",
    "r.shape\n",
    "r#음수는 0이 나오고 양수는 0이 아닌 수가 나온다."
   ]
  },
  {
   "cell_type": "code",
   "execution_count": 21,
   "metadata": {},
   "outputs": [],
   "source": [
    "#자, 이번에는 bigsize 모델을 한번 만들어보자.\n",
    "## nn.Sequential을 통해 중간 과정을 더 간단하게 만들 수 있다.\n",
    "\n",
    "class BigSizeModel(nn.Module):\n",
    "    def __init__(self):\n",
    "        super().__init__()\n",
    "        self.b1 = nn.Sequential(nn.Linear(784,2048),nn.ReLU()) #nn.ReLU에 넣겠다는 의미이다.\n",
    "        self.b2 = nn.Sequential(nn.Linear(2048,1024),nn.ReLU())\n",
    "        self.b3 = nn.Sequential(nn.Linear(1024,512),nn.ReLU())\n",
    "        self.b4 = nn.Sequential(nn.Linear(512,256),nn.ReLU())\n",
    "        self.b5 = nn.Sequential(nn.Linear(256,128),nn.ReLU())\n",
    "        self.b6 = nn.Sequential(nn.Linear(128,64),nn.ReLU())\n",
    "        \n",
    "        #최종 결과 10개를 출력하게 될 것이다.\n",
    "        self.output = nn.Linear(64,10)\n",
    "        \n",
    "    def forward(self,X):\n",
    "        \n",
    "        #이런 식으로 각 블록을 통과한다. 이 코드가 없으면, 블록이 정의만 되지 블록을 통과하지는 못한다.\n",
    "        X = nn.Flatten()(X) #객체를 생성하고 코드를 실행 시키는 것을 항상 잊지 마라!\n",
    "        out =self.b1(X)\n",
    "        out =self.b2(out)\n",
    "        out =self.b3(out)\n",
    "        out =self.b4(out)\n",
    "        out =self.b5(out)\n",
    "        out =self.b6(out)\n",
    "        return self.output(out)\n",
    "    "
   ]
  },
  {
   "cell_type": "code",
   "execution_count": 22,
   "metadata": {},
   "outputs": [
    {
     "data": {
      "text/plain": [
       "==========================================================================================\n",
       "Layer (type:depth-idx)                   Output Shape              Param #\n",
       "==========================================================================================\n",
       "BigSizeModel                             [200, 10]                 --\n",
       "├─Sequential: 1-1                        [200, 2048]               --\n",
       "│    └─Linear: 2-1                       [200, 2048]               1,607,680\n",
       "│    └─ReLU: 2-2                         [200, 2048]               --\n",
       "├─Sequential: 1-2                        [200, 1024]               --\n",
       "│    └─Linear: 2-3                       [200, 1024]               2,098,176\n",
       "│    └─ReLU: 2-4                         [200, 1024]               --\n",
       "├─Sequential: 1-3                        [200, 512]                --\n",
       "│    └─Linear: 2-5                       [200, 512]                524,800\n",
       "│    └─ReLU: 2-6                         [200, 512]                --\n",
       "├─Sequential: 1-4                        [200, 256]                --\n",
       "│    └─Linear: 2-7                       [200, 256]                131,328\n",
       "│    └─ReLU: 2-8                         [200, 256]                --\n",
       "├─Sequential: 1-5                        [200, 128]                --\n",
       "│    └─Linear: 2-9                       [200, 128]                32,896\n",
       "│    └─ReLU: 2-10                        [200, 128]                --\n",
       "├─Sequential: 1-6                        [200, 64]                 --\n",
       "│    └─Linear: 2-11                      [200, 64]                 8,256\n",
       "│    └─ReLU: 2-12                        [200, 64]                 --\n",
       "├─Linear: 1-7                            [200, 10]                 650\n",
       "==========================================================================================\n",
       "Total params: 4,403,786\n",
       "Trainable params: 4,403,786\n",
       "Non-trainable params: 0\n",
       "Total mult-adds (M): 880.76\n",
       "==========================================================================================\n",
       "Input size (MB): 0.63\n",
       "Forward/backward pass size (MB): 6.47\n",
       "Params size (MB): 17.62\n",
       "Estimated Total Size (MB): 24.71\n",
       "=========================================================================================="
      ]
     },
     "execution_count": 22,
     "metadata": {},
     "output_type": "execute_result"
    }
   ],
   "source": [
    "big_model = BigSizeModel()\n",
    "\n",
    "torchinfo.summary(big_model,(BATCH_SIZE,1,28,28))"
   ]
  },
  {
   "cell_type": "code",
   "execution_count": 23,
   "metadata": {},
   "outputs": [],
   "source": [
    "#loss_fn, optimizer 등을 새로 적어주는 것이 좋다.\n",
    "\n",
    "loss_fn = nn.CrossEntropyLoss()\n",
    "optimizer = torch.optim.Adam(big_model.parameters())"
   ]
  },
  {
   "cell_type": "code",
   "execution_count": 24,
   "metadata": {},
   "outputs": [
    {
     "name": "stdout",
     "output_type": "stream",
     "text": [
      "Epoch[1/10] - Train loss: 0.11916 Train Accucracy: 0.96580 || Validation Loss: 0.12917 Validation Accuracy: 0.96260\n",
      "====================================================================================================\n",
      "저장: 1 - 이전 : inf, 현재: 0.12916784353554248\n",
      "Epoch[2/10] - Train loss: 0.07325 Train Accucracy: 0.97773 || Validation Loss: 0.10755 Validation Accuracy: 0.96990\n",
      "====================================================================================================\n",
      "저장: 2 - 이전 : 0.12916784353554248, 현재: 0.1075451648980379\n",
      "Epoch[3/10] - Train loss: 0.06034 Train Accucracy: 0.98180 || Validation Loss: 0.10540 Validation Accuracy: 0.96920\n",
      "====================================================================================================\n",
      "저장: 3 - 이전 : 0.1075451648980379, 현재: 0.10539983634836972\n",
      "Epoch[4/10] - Train loss: 0.05157 Train Accucracy: 0.98395 || Validation Loss: 0.10138 Validation Accuracy: 0.97170\n",
      "====================================================================================================\n",
      "저장: 4 - 이전 : 0.10539983634836972, 현재: 0.10138087772764265\n",
      "Epoch[5/10] - Train loss: 0.03626 Train Accucracy: 0.98932 || Validation Loss: 0.08837 Validation Accuracy: 0.97840\n",
      "====================================================================================================\n",
      "저장: 5 - 이전 : 0.10138087772764265, 현재: 0.08837471866048872\n",
      "Epoch[6/10] - Train loss: 0.01897 Train Accucracy: 0.99473 || Validation Loss: 0.07289 Validation Accuracy: 0.98170\n",
      "====================================================================================================\n",
      "저장: 6 - 이전 : 0.08837471866048872, 현재: 0.07289231812290381\n",
      "Epoch[7/10] - Train loss: 0.02655 Train Accucracy: 0.99192 || Validation Loss: 0.08465 Validation Accuracy: 0.97780\n",
      "====================================================================================================\n",
      "Epoch[8/10] - Train loss: 0.02266 Train Accucracy: 0.99362 || Validation Loss: 0.08541 Validation Accuracy: 0.97830\n",
      "====================================================================================================\n",
      "Epoch[9/10] - Train loss: 0.01265 Train Accucracy: 0.99610 || Validation Loss: 0.08771 Validation Accuracy: 0.98100\n",
      "====================================================================================================\n",
      "Epoch[10/10] - Train loss: 0.01603 Train Accucracy: 0.99523 || Validation Loss: 0.09420 Validation Accuracy: 0.97880\n",
      "====================================================================================================\n",
      "550.0869960784912 초\n"
     ]
    }
   ],
   "source": [
    "#학습----위의 것과 다른 것은 파일 등의 이름이다.\n",
    "#시간이 조금 걸린다.\n",
    "#train -> module.fit()\n",
    "#train.fit() 으로 한번에 학습이 된다.\n",
    "train_loss_list2, train_acc_list2, valid_loss_list2, valid_acc_list2 = \\\n",
    "train.fit(train_loader,test_loader,big_model,loss_fn,optimizer,N_EPOCH,save_best_model=True,\n",
    "          save_model_path=os.path.join(MODEL_SAVE_ROOT_PATH,\"big2_model.pth\"),device=device,mode=\"multi\")"
   ]
  },
  {
   "cell_type": "code",
   "execution_count": 26,
   "metadata": {},
   "outputs": [
    {
     "data": {
      "image/png": "[encoded data removed]",
      "text/plain": [
       "<Figure size 720x360 with 2 Axes>"
      ]
     },
     "metadata": {
      "needs_background": "light"
     },
     "output_type": "display_data"
    }
   ],
   "source": [
    "plt.figure(figsize=(10,5))\n",
    "plt.subplot(1,2,1)\n",
    "plt.plot(train_loss_list2,label=\"trainset\")\n",
    "plt.plot(valid_loss_list2,label=\"validationset\")\n",
    "plt.title(\"Loss\")\n",
    "plt.legend()\n",
    "\n",
    "\n",
    "plt.subplot(1,2,2)\n",
    "plt.plot(train_acc_list2,label=\"trainset\")\n",
    "plt.plot(valid_acc_list2,label=\"validationset\")\n",
    "plt.title(\"accuracy\")\n",
    "plt.legend()\n",
    "\n",
    "plt.tight_layout()\n",
    "plt.show()\n",
    "\n",
    "\n",
    "#사이즈가 커지니까.... 여윽시 성능이 더 좋아지는 것 갑다잉.\n",
    "\n"
   ]
  },
  {
   "cell_type": "code",
   "execution_count": null,
   "metadata": {},
   "outputs": [],
   "source": []
  },
  {
   "cell_type": "code",
   "execution_count": null,
   "metadata": {},
   "outputs": [],
   "source": []
  },
  {
   "cell_type": "markdown",
   "metadata": {},
   "source": [
    "# Dropout 예제\n",
    "- dropout 각 레이어에 적용\n",
    "    - dropout은 nn.Dropout 객체를 사용\n",
    "    - 객체 생성시 dropout_rate 설정: 0.2 ~ 0.5\n",
    "    - Drop시킬 노드를 가진 Layer 뒤에 추가한다."
   ]
  },
  {
   "cell_type": "code",
   "execution_count": 25,
   "metadata": {},
   "outputs": [],
   "source": [
    "#Model은 Model인데, dropout을 적용시키는 model이다.\n",
    "\n",
    "class DropoutModel(nn.Module):\n",
    "    \n",
    "    \n",
    "    def __init__(self,drop_rate=0.5):\n",
    "        super().__init__()\n",
    "        self.b1 = nn.Sequential(nn.Linear(784,256), nn.ReLU(),nn.Dropout(p=drop_rate)) #보통 거의 모든 단계에 dropout을 적용한다.\n",
    "        self.b2 = nn.Sequential(nn.Linear(256,256), nn.ReLU(),nn.Dropout(p=drop_rate))\n",
    "        self.b3 = nn.Sequential(nn.Linear(256,128), nn.ReLU(),nn.Dropout(p=drop_rate))\n",
    "        self.b4 = nn.Sequential(nn.Linear(128,128), nn.ReLU(),nn.Dropout(p=drop_rate))\n",
    "        self.output = nn.Sequential(nn.Linear(128,10),nn.Dropout(p=drop_rate))\n",
    "    \n",
    "    def forward(self,X):\n",
    "        out = nn.Flatten()(X)\n",
    "        out = self.b1(out)\n",
    "        out = self.b2(out)\n",
    "        out = self.b3(out)\n",
    "        out = self.b4(out)\n",
    "        out = self.output(out)\n",
    "        \n",
    "        return out\n",
    "    \n",
    "        \n",
    "    "
   ]
  },
  {
   "cell_type": "code",
   "execution_count": 28,
   "metadata": {},
   "outputs": [
    {
     "data": {
      "text/plain": [
       "==========================================================================================\n",
       "Layer (type:depth-idx)                   Output Shape              Param #\n",
       "==========================================================================================\n",
       "DropoutModel                             [200, 10]                 --\n",
       "├─Sequential: 1-1                        [200, 256]                --\n",
       "│    └─Linear: 2-1                       [200, 256]                200,960\n",
       "│    └─ReLU: 2-2                         [200, 256]                --\n",
       "│    └─Dropout: 2-3                      [200, 256]                --\n",
       "├─Sequential: 1-2                        [200, 256]                --\n",
       "│    └─Linear: 2-4                       [200, 256]                65,792\n",
       "│    └─ReLU: 2-5                         [200, 256]                --\n",
       "│    └─Dropout: 2-6                      [200, 256]                --\n",
       "├─Sequential: 1-3                        [200, 128]                --\n",
       "│    └─Linear: 2-7                       [200, 128]                32,896\n",
       "│    └─ReLU: 2-8                         [200, 128]                --\n",
       "│    └─Dropout: 2-9                      [200, 128]                --\n",
       "├─Sequential: 1-4                        [200, 128]                --\n",
       "│    └─Linear: 2-10                      [200, 128]                16,512\n",
       "│    └─ReLU: 2-11                        [200, 128]                --\n",
       "│    └─Dropout: 2-12                     [200, 128]                --\n",
       "├─Sequential: 1-5                        [200, 10]                 --\n",
       "│    └─Linear: 2-13                      [200, 10]                 1,290\n",
       "│    └─Dropout: 2-14                     [200, 10]                 --\n",
       "==========================================================================================\n",
       "Total params: 317,450\n",
       "Trainable params: 317,450\n",
       "Non-trainable params: 0\n",
       "Total mult-adds (M): 63.49\n",
       "==========================================================================================\n",
       "Input size (MB): 0.63\n",
       "Forward/backward pass size (MB): 1.24\n",
       "Params size (MB): 1.27\n",
       "Estimated Total Size (MB): 3.14\n",
       "=========================================================================================="
      ]
     },
     "execution_count": 28,
     "metadata": {},
     "output_type": "execute_result"
    }
   ],
   "source": [
    "\n",
    "\n",
    "d_model = DropoutModel().to(device)\n",
    "torchinfo.summary(d_model,(BATCH_SIZE,1,28,28)) #summary를 통해 정보를 출력한다.\n",
    "\n",
    "#relu 뿐만 아니라, dropout도 파라미터가 없다. 학습을 하는 것이 없기 때문이다.\n"
   ]
  },
  {
   "cell_type": "code",
   "execution_count": 22,
   "metadata": {},
   "outputs": [
    {
     "name": "stdout",
     "output_type": "stream",
     "text": [
      "Epoch[1/10] - Train loss: 0.29768 Train Accucracy: 0.93248 || Validation Loss: 0.28599 Validation Accuracy: 0.93300\n",
      "====================================================================================================\n",
      "Epoch[2/10] - Train loss: 0.22178 Train Accucracy: 0.95080 || Validation Loss: 0.21830 Validation Accuracy: 0.94960\n",
      "====================================================================================================\n",
      "Epoch[3/10] - Train loss: 0.16385 Train Accucracy: 0.95983 || Validation Loss: 0.17443 Validation Accuracy: 0.95520\n",
      "====================================================================================================\n",
      "Epoch[4/10] - Train loss: 0.13905 Train Accucracy: 0.96778 || Validation Loss: 0.14688 Validation Accuracy: 0.96370\n",
      "====================================================================================================\n",
      "Epoch[5/10] - Train loss: 0.11987 Train Accucracy: 0.97180 || Validation Loss: 0.13463 Validation Accuracy: 0.96570\n",
      "====================================================================================================\n",
      "Epoch[6/10] - Train loss: 0.10705 Train Accucracy: 0.97398 || Validation Loss: 0.12397 Validation Accuracy: 0.96920\n",
      "====================================================================================================\n",
      "Epoch[7/10] - Train loss: 0.10810 Train Accucracy: 0.97477 || Validation Loss: 0.12979 Validation Accuracy: 0.96750\n",
      "====================================================================================================\n",
      "Epoch[8/10] - Train loss: 0.09561 Train Accucracy: 0.97653 || Validation Loss: 0.12139 Validation Accuracy: 0.97020\n",
      "====================================================================================================\n",
      "Epoch[9/10] - Train loss: 0.09106 Train Accucracy: 0.98010 || Validation Loss: 0.11663 Validation Accuracy: 0.97000\n",
      "====================================================================================================\n",
      "Epoch[10/10] - Train loss: 0.08628 Train Accucracy: 0.97927 || Validation Loss: 0.11161 Validation Accuracy: 0.97150\n",
      "====================================================================================================\n",
      "179.66910767555237 초\n"
     ]
    }
   ],
   "source": [
    "#학습을 시키기 위한 정의 과정\n",
    "\n",
    "loss_fn = nn.CrossEntropyLoss()\n",
    "optimizer = torch.optim.Adam(d_model.parameters(),lr=LR)\n",
    "\n",
    "\n",
    "result = train.fit(train_loader,test_loader,d_model,loss_fn,optimizer,N_EPOCH,save_best_model=False,early_stopping=False,\n",
    "                  device=device,mode=\"multi\")"
   ]
  },
  {
   "cell_type": "code",
   "execution_count": 23,
   "metadata": {},
   "outputs": [],
   "source": [
    "#위의 결과를 보면 학습 결과가 계속 개선이 되고 있다.\n",
    "#train과 valid 간의 loss 차이가 크게 나지 않아서, 과대적합 문제를 막을 수도 있다.\n",
    "\n"
   ]
  },
  {
   "cell_type": "code",
   "execution_count": 29,
   "metadata": {},
   "outputs": [],
   "source": [
    "a = torch.randn(5,3)\n",
    "#a.shape\n",
    "\n",
    "ln = nn.Linear(3,4) #데이터 3개를 받아서 4개로 출력하는 함수.\n",
    "\n",
    "b= ln(a)\n",
    "do = nn.Dropout(0.5)\n",
    "c = do(b)\n"
   ]
  },
  {
   "cell_type": "code",
   "execution_count": 30,
   "metadata": {},
   "outputs": [
    {
     "data": {
      "text/plain": [
       "tensor([[ 0.7375, -0.2155, -1.3012],\n",
       "        [-0.0027, -1.3812, -1.3877],\n",
       "        [-1.6763,  0.8160, -0.5084],\n",
       "        [ 1.5167, -1.7105,  1.7431],\n",
       "        [ 0.5207,  0.0745,  1.2179]])"
      ]
     },
     "execution_count": 30,
     "metadata": {},
     "output_type": "execute_result"
    }
   ],
   "source": [
    "a #input"
   ]
  },
  {
   "cell_type": "code",
   "execution_count": 31,
   "metadata": {},
   "outputs": [
    {
     "data": {
      "text/plain": [
       "tensor([[-0.4269, -0.0335, -0.4198,  0.5820],\n",
       "        [-1.3609, -0.7881, -0.0870,  0.3148],\n",
       "        [-1.1360, -0.7249, -0.4859,  0.3033],\n",
       "        [ 0.2630, -0.9213,  0.3661, -0.9252],\n",
       "        [ 0.2957, -0.4865, -0.1433, -0.4015]], grad_fn=<AddmmBackward0>)"
      ]
     },
     "execution_count": 31,
     "metadata": {},
     "output_type": "execute_result"
    }
   ],
   "source": [
    "b #linear를 통과해서 나오는 결과.\n"
   ]
  },
  {
   "cell_type": "code",
   "execution_count": 33,
   "metadata": {},
   "outputs": [
    {
     "data": {
      "text/plain": [
       "tensor([[-0.0000, -0.0670, -0.0000,  1.1639],\n",
       "        [-2.7218, -0.0000, -0.0000,  0.6295],\n",
       "        [-0.0000, -1.4499, -0.9718,  0.6065],\n",
       "        [ 0.0000, -0.0000,  0.7322, -0.0000],\n",
       "        [ 0.0000, -0.9730, -0.0000, -0.0000]], grad_fn=<MulBackward0>)"
      ]
     },
     "execution_count": 33,
     "metadata": {},
     "output_type": "execute_result"
    }
   ],
   "source": [
    "c #dropout을 통해 0으로 바뀐 것을 잘 파악하자.\n"
   ]
  },
  {
   "cell_type": "code",
   "execution_count": null,
   "metadata": {},
   "outputs": [],
   "source": []
  },
  {
   "cell_type": "code",
   "execution_count": null,
   "metadata": {
    "scrolled": true
   },
   "outputs": [],
   "source": []
  },
  {
   "cell_type": "code",
   "execution_count": null,
   "metadata": {},
   "outputs": [],
   "source": []
  },
  {
   "cell_type": "code",
   "execution_count": null,
   "metadata": {},
   "outputs": [],
   "source": []
  },
  {
   "cell_type": "code",
   "execution_count": null,
   "metadata": {},
   "outputs": [],
   "source": []
  },
  {
   "cell_type": "markdown",
   "metadata": {},
   "source": [
    "# Batch Normalization\n",
    "- Dense => BN => Activation"
   ]
  },
  {
   "cell_type": "code",
   "execution_count": 29,
   "metadata": {},
   "outputs": [],
   "source": [
    "#Linear ->BatchNorm -> Activation(-> Dropout)\n",
    "#batch normalization에 대한 모델을 만들어보자.\n",
    "\n",
    "class BNModel(nn.Module):\n",
    "    \n",
    "    def __init__(self):\n",
    "        super().__init__()\n",
    "        self.b1 = nn.Sequential(nn.Linear(784,256),nn.BatchNorm1d(256),nn.ReLU()) #속성의 개수를 BatchNorm1d에 넣으면된다.\n",
    "        #Linear 자체가 1차원이기 때문에, 함수도 1d를 넣으면 된다.\n",
    "        self.b2 = nn.Sequential(nn.Linear(256,128),nn.BatchNorm1d(128),nn.ReLU())\n",
    "        self.b3 = nn.Sequential(nn.Linear(128,64),nn.BatchNorm1d(64),nn.ReLU())\n",
    "        self.output = nn.Linear(64,10)\n",
    "        \n",
    "        \n",
    "        \n",
    "        \n",
    "    def forward(self,X):\n",
    "        out = nn.Flatten()(X)\n",
    "        out = self.b1(out)\n",
    "        out = self.b2(out)\n",
    "        out = self.b3(out)\n",
    "        out = self.output(out)\n",
    "        return out"
   ]
  },
  {
   "cell_type": "code",
   "execution_count": 30,
   "metadata": {},
   "outputs": [
    {
     "data": {
      "text/plain": [
       "==========================================================================================\n",
       "Layer (type:depth-idx)                   Output Shape              Param #\n",
       "==========================================================================================\n",
       "BNModel                                  [200, 10]                 --\n",
       "├─Sequential: 1-1                        [200, 256]                --\n",
       "│    └─Linear: 2-1                       [200, 256]                200,960\n",
       "│    └─BatchNorm1d: 2-2                  [200, 256]                512\n",
       "│    └─ReLU: 2-3                         [200, 256]                --\n",
       "├─Sequential: 1-2                        [200, 128]                --\n",
       "│    └─Linear: 2-4                       [200, 128]                32,896\n",
       "│    └─BatchNorm1d: 2-5                  [200, 128]                256\n",
       "│    └─ReLU: 2-6                         [200, 128]                --\n",
       "├─Sequential: 1-3                        [200, 64]                 --\n",
       "│    └─Linear: 2-7                       [200, 64]                 8,256\n",
       "│    └─BatchNorm1d: 2-8                  [200, 64]                 128\n",
       "│    └─ReLU: 2-9                         [200, 64]                 --\n",
       "├─Linear: 1-4                            [200, 10]                 650\n",
       "==========================================================================================\n",
       "Total params: 243,658\n",
       "Trainable params: 243,658\n",
       "Non-trainable params: 0\n",
       "Total mult-adds (M): 48.73\n",
       "==========================================================================================\n",
       "Input size (MB): 0.63\n",
       "Forward/backward pass size (MB): 1.45\n",
       "Params size (MB): 0.97\n",
       "Estimated Total Size (MB): 3.05\n",
       "=========================================================================================="
      ]
     },
     "execution_count": 30,
     "metadata": {},
     "output_type": "execute_result"
    }
   ],
   "source": [
    "#모델 생성\n",
    "\n",
    "bn_model = BNModel().to(device)\n",
    "torchinfo.summary(bn_model,(BATCH_SIZE,1,28,28))"
   ]
  },
  {
   "cell_type": "code",
   "execution_count": 36,
   "metadata": {},
   "outputs": [
    {
     "name": "stdout",
     "output_type": "stream",
     "text": [
      "Epoch[1/10] - Train loss: 0.09036 Train Accucracy: 0.97698 || Validation Loss: 0.11132 Validation Accuracy: 0.96910\n",
      "====================================================================================================\n",
      "Epoch[2/10] - Train loss: 0.04656 Train Accucracy: 0.98708 || Validation Loss: 0.07588 Validation Accuracy: 0.97860\n",
      "====================================================================================================\n",
      "Epoch[3/10] - Train loss: 0.03109 Train Accucracy: 0.99148 || Validation Loss: 0.07732 Validation Accuracy: 0.97520\n",
      "====================================================================================================\n",
      "Epoch[4/10] - Train loss: 0.02708 Train Accucracy: 0.99228 || Validation Loss: 0.06780 Validation Accuracy: 0.97860\n",
      "====================================================================================================\n",
      "Epoch[5/10] - Train loss: 0.02121 Train Accucracy: 0.99370 || Validation Loss: 0.06961 Validation Accuracy: 0.97800\n",
      "====================================================================================================\n",
      "Epoch[6/10] - Train loss: 0.01245 Train Accucracy: 0.99673 || Validation Loss: 0.06260 Validation Accuracy: 0.98020\n",
      "====================================================================================================\n",
      "Epoch[7/10] - Train loss: 0.01088 Train Accucracy: 0.99695 || Validation Loss: 0.06588 Validation Accuracy: 0.97990\n",
      "====================================================================================================\n",
      "Epoch[8/10] - Train loss: 0.01000 Train Accucracy: 0.99683 || Validation Loss: 0.06663 Validation Accuracy: 0.98100\n",
      "====================================================================================================\n",
      "Epoch[9/10] - Train loss: 0.00834 Train Accucracy: 0.99760 || Validation Loss: 0.06831 Validation Accuracy: 0.98110\n",
      "====================================================================================================\n",
      "Epoch[10/10] - Train loss: 0.00692 Train Accucracy: 0.99793 || Validation Loss: 0.07395 Validation Accuracy: 0.98020\n",
      "====================================================================================================\n",
      "176.39130353927612 초\n"
     ]
    }
   ],
   "source": [
    "#train\n",
    "#loss\n",
    "LR=0.001\n",
    "loss_fn = nn.CrossEntropyLoss()\n",
    "optimizer = torch.optim.Adam(bn_model.parameters(),lr=LR)\n",
    "\n",
    "result_bn = train.fit(train_loader,test_loader,bn_model,loss_fn,optimizer,N_EPOCH,\n",
    "                      save_best_model=False,early_stopping=False,device=device,mode='multi')"
   ]
  },
  {
   "cell_type": "markdown",
   "metadata": {},
   "source": [
    "# Learning rate decay"
   ]
  },
  {
   "cell_type": "markdown",
   "metadata": {},
   "source": [
    "### Optimizer와 Learning rate scheduler의 속성, 메소드 확인\n",
    "- 파이토치는 `torch.optim` 모듈에서 다양한 Learning rate 알고리즘을 제공한다."
   ]
  },
  {
   "cell_type": "code",
   "execution_count": 31,
   "metadata": {},
   "outputs": [
    {
     "name": "stdout",
     "output_type": "stream",
     "text": [
      "<class 'list'> 1\n",
      "<class 'dict'>\n"
     ]
    },
    {
     "data": {
      "text/plain": [
       "dict_keys(['params', 'lr', 'betas', 'eps', 'weight_decay', 'amsgrad', 'maximize', 'foreach', 'capturable', 'differentiable', 'fused'])"
      ]
     },
     "execution_count": 31,
     "metadata": {},
     "output_type": "execute_result"
    }
   ],
   "source": [
    "optimizer = torch.optim.Adam(bn_model.parameters())\n",
    "#optimizer에 모델을 넣어준다. 정확히는 bn_model이다.\n",
    "\n",
    "## 옵티마이저 객체관련 여러 정보들을 조회한다.(optimizer.param_groups)\n",
    "\n",
    "print(type(optimizer.param_groups),len(optimizer.param_groups))\n",
    "print(type(optimizer.param_groups[0]))\n",
    "info_dict = optimizer.param_groups[0]\n",
    "info_dict.keys() #key들에 대한 정보들을 출력한다. \n"
   ]
  },
  {
   "cell_type": "code",
   "execution_count": 32,
   "metadata": {},
   "outputs": [
    {
     "data": {
      "text/plain": [
       "0.001"
      ]
     },
     "execution_count": 32,
     "metadata": {},
     "output_type": "execute_result"
    }
   ],
   "source": [
    "info_dict['lr'] #현재 learning rate\n"
   ]
  },
  {
   "cell_type": "code",
   "execution_count": 33,
   "metadata": {},
   "outputs": [],
   "source": [
    "##학습률의 변화흐름을 시각화하는 함수\n",
    "\n",
    "def plot_lr(title,lr_list):\n",
    "    #title - 그래프 제목\n",
    "    #lr_list -  에폭별로 적용된 learning rate을 담은 리스트\n",
    "    plt.figure(figsize=(10,5))\n",
    "    plt.plot(range(len(lr_list)),lr_list)\n",
    "    \n",
    "    \n",
    "    plt.title(title)\n",
    "    plt.xticks([x for x in range(len(lr_list)) if x % 5 == 0]) #이런 식으로 식을 정한다.\n",
    "    plt.xlabel(\"Epochs\")\n",
    "    plt.ylabel(\"LR\")\n",
    "    plt.grid(True,axis=\"x\", #x축 기준 그리드만 표시\n",
    "             linestyle=\":\")\n",
    "    plt.show()"
   ]
  },
  {
   "cell_type": "code",
   "execution_count": 34,
   "metadata": {},
   "outputs": [
    {
     "data": {
      "image/png": "[encoded data removed]",
      "text/plain": [
       "<Figure size 720x360 with 1 Axes>"
      ]
     },
     "metadata": {
      "needs_background": "light"
     },
     "output_type": "display_data"
    }
   ],
   "source": [
    "#테스트\n",
    "plot_lr(\"My Scheduler\",list(range(1,1000,10)))"
   ]
  },
  {
   "cell_type": "markdown",
   "metadata": {},
   "source": [
    "#### StepLR"
   ]
  },
  {
   "cell_type": "code",
   "execution_count": 35,
   "metadata": {},
   "outputs": [],
   "source": [
    "optimizer = torch.optim.Adam(bn_model.parameters(),lr=0.001)\n",
    "#lr_scheduler : optimizer의 lr는 초기 학습률이다.\n",
    "\n",
    "\n",
    "step_scheduler = torch.optim.lr_scheduler.StepLR(optimizer, #학습률을 변화시킬 Optimizer\n",
    "                                                step_size=30, #몇 step/epoch 마다 lr을 변경시킬지 간격을 정한다.\n",
    "                                                gamma=0.5, #변경 비율. new_lr = 현재_lr*gamma\n",
    "                                                )\n",
    "\n",
    "\n",
    "#optimizer의 lr을 30에폭 마다 0.5배씩 변경하자.\n",
    "\n"
   ]
  },
  {
   "cell_type": "code",
   "execution_count": 36,
   "metadata": {},
   "outputs": [
    {
     "data": {
      "text/plain": [
       "(0.001, [0.001])"
      ]
     },
     "execution_count": 36,
     "metadata": {},
     "output_type": "execute_result"
    }
   ],
   "source": [
    "#현재 lr 조회\n",
    "optimizer.param_groups[0]['lr'],step_scheduler.get_last_lr()"
   ]
  },
  {
   "cell_type": "code",
   "execution_count": 37,
   "metadata": {},
   "outputs": [],
   "source": [
    "N_EPOCHS = 200\n",
    "STEP_SIZE = 10\n",
    "steplr_list =[] #epoch별 lr를 저장할 변수.\n",
    "\n",
    "\n",
    "\n",
    "\n",
    "for epoch in range(N_EPOCH):\n",
    "    \n",
    "    #step\n",
    "    for step in range(STEP_SIZE): #for x,y in dataloader:\n",
    "        # 학습\n",
    "        #모델 예측 -> loss 계산 -> 파라미터 업데이트\n",
    "        optimizer.step()\n",
    "        #learning rate 변경 요청. =>30번 요청이 들어오면 변경한다. \n",
    "        ##step 단위로 변경한다.\n",
    "    step_scheduler.step() #epoch 단위로 변경.\n",
    "    steplr_list.append(step_scheduler.get_last_lr()[0]) #현재 epoch의 lr을 저장한다.\n",
    "    \n",
    "        "
   ]
  },
  {
   "cell_type": "code",
   "execution_count": 38,
   "metadata": {},
   "outputs": [
    {
     "data": {
      "image/png": "[encoded data removed]",
      "text/plain": [
       "<Figure size 720x360 with 1 Axes>"
      ]
     },
     "metadata": {
      "needs_background": "light"
     },
     "output_type": "display_data"
    }
   ],
   "source": [
    "plot_lr(\"Step LR\",steplr_list)"
   ]
  },
  {
   "cell_type": "code",
   "execution_count": null,
   "metadata": {},
   "outputs": [],
   "source": []
  },
  {
   "cell_type": "markdown",
   "metadata": {},
   "source": [
    "#### CosineAnnealingLR\n",
    "cosine 그래프를 그리면서 learning rate를 변경 하는 방식.  \n",
    "최근에는 learning rate를 단순히 감소시키기 보다는 감소와 증가를 반복하여 진동하는 방식으로 최적점을 찾아가는 알고리즘을 많이 사용한다. 이러한 방법 중 가장 간단하면서도 많이 사용되는 방법이 CosineAnnealingLR이다."
   ]
  },
  {
   "cell_type": "code",
   "execution_count": 39,
   "metadata": {},
   "outputs": [],
   "source": [
    "#가열 <-> 냉각\n",
    "\n",
    "\n",
    "optimizer = torch.optim.Adam(bn_model.parameters(),lr=0.001)\n",
    "ca_scheduler = torch.optim.lr_scheduler.CosineAnnealingLR(optimizer,T_max=10,eta_min=0.0001,\n",
    "                                                         )\n",
    "\n",
    "\n",
    "#범위: 초기 LR ~eta_min"
   ]
  },
  {
   "cell_type": "code",
   "execution_count": 40,
   "metadata": {},
   "outputs": [],
   "source": [
    "ca_lr_list =[]\n",
    "\n",
    "for epoch in range(N_EPOCH):\n",
    "    #한 애폭\n",
    "    for step in range(STEP_SIZE):\n",
    "        #한 스텝\n",
    "        optimizer.step()\n",
    "        \n",
    "    ca_scheduler.step()\n",
    "    ca_lr_list.append(ca_scheduler.get_last_lr()[0])"
   ]
  },
  {
   "cell_type": "code",
   "execution_count": 89,
   "metadata": {},
   "outputs": [
    {
     "data": {
      "image/png": "[encoded data removed]",
      "text/plain": [
       "<Figure size 720x360 with 1 Axes>"
      ]
     },
     "metadata": {
      "needs_background": "light"
     },
     "output_type": "display_data"
    }
   ],
   "source": [
    "plot_lr(\"CosineAnnealingLR\",ca_lr_list)\n",
    "#떨어졌다 올라갔다 왔다갔다....."
   ]
  },
  {
   "cell_type": "code",
   "execution_count": null,
   "metadata": {},
   "outputs": [],
   "source": []
  },
  {
   "cell_type": "code",
   "execution_count": null,
   "metadata": {},
   "outputs": [],
   "source": []
  },
  {
   "cell_type": "code",
   "execution_count": null,
   "metadata": {},
   "outputs": [],
   "source": []
  },
  {
   "cell_type": "markdown",
   "metadata": {},
   "source": [
    "#### CosineAnnealingWarmRestarts\n",
    "\n",
    "cosine annealing의 스케쥴링에 cosine 주기의 에폭을 점점 늘리거나 줄일 수 있다. (보통 늘린다.)"
   ]
  },
  {
   "cell_type": "code",
   "execution_count": 41,
   "metadata": {},
   "outputs": [
    {
     "name": "stdout",
     "output_type": "stream",
     "text": [
      "Epoch 00000: adjusting learning rate of group 0 to 1.0000e-03.\n"
     ]
    }
   ],
   "source": [
    "optimizer = torch.optim.Adam(bn_model.parameters(),lr=0.001)\n",
    "caws_scheduler = torch.optim.lr_scheduler.CosineAnnealingWarmRestarts(\n",
    "optimizer,\n",
    "T_0=10, #초기 변화 주기(cycle)\n",
    "T_mult=2, #변화주기를 어떤 비율로 변경할지를 정한다. T_0 * T_mult = 새주기\n",
    "eta_min=0.00001, #1e-5 로도 쓸 수 있다. 최소학습률\n",
    "verbose=True #학습률 변경할 때 마다 로그 출력.\n",
    "\n",
    "\n",
    "\n",
    "\n",
    ")\n",
    "#변화 범위: 초기 학습률 ~ eta_min\n"
   ]
  },
  {
   "cell_type": "code",
   "execution_count": 42,
   "metadata": {},
   "outputs": [
    {
     "name": "stdout",
     "output_type": "stream",
     "text": [
      "Epoch 00001: adjusting learning rate of group 0 to 9.7577e-04.\n",
      "Epoch 00002: adjusting learning rate of group 0 to 9.0546e-04.\n",
      "Epoch 00003: adjusting learning rate of group 0 to 7.9595e-04.\n",
      "Epoch 00004: adjusting learning rate of group 0 to 6.5796e-04.\n",
      "Epoch 00005: adjusting learning rate of group 0 to 5.0500e-04.\n",
      "Epoch 00006: adjusting learning rate of group 0 to 3.5204e-04.\n",
      "Epoch 00007: adjusting learning rate of group 0 to 2.1405e-04.\n",
      "Epoch 00008: adjusting learning rate of group 0 to 1.0454e-04.\n",
      "Epoch 00009: adjusting learning rate of group 0 to 3.4227e-05.\n",
      "Epoch 00010: adjusting learning rate of group 0 to 1.0000e-03.\n"
     ]
    }
   ],
   "source": [
    "caws_lr_list=[]\n",
    "\n",
    "\n",
    "for epoch in range(N_EPOCH):\n",
    "    #한 에폭\n",
    "    for step in range(STEP_SIZE):\n",
    "        #한 스텝\n",
    "        optimizer.step()\n",
    "    caws_scheduler.step()\n",
    "    caws_lr_list.append(caws_scheduler.get_last_lr()[0])"
   ]
  },
  {
   "cell_type": "code",
   "execution_count": 43,
   "metadata": {
    "scrolled": true
   },
   "outputs": [
    {
     "data": {
      "image/png": "[encoded data removed]",
      "text/plain": [
       "<Figure size 720x360 with 1 Axes>"
      ]
     },
     "metadata": {
      "needs_background": "light"
     },
     "output_type": "display_data"
    }
   ],
   "source": [
    "plot_lr(\"CosineAnnealingWarmRestart\",caws_lr_list)"
   ]
  },
  {
   "cell_type": "code",
   "execution_count": null,
   "metadata": {},
   "outputs": [],
   "source": []
  },
  {
   "cell_type": "code",
   "execution_count": null,
   "metadata": {},
   "outputs": [],
   "source": []
  },
  {
   "cell_type": "code",
   "execution_count": null,
   "metadata": {},
   "outputs": [],
   "source": []
  },
  {
   "cell_type": "code",
   "execution_count": null,
   "metadata": {},
   "outputs": [],
   "source": []
  }
 ],
 "metadata": {
  "kernelspec": {
   "display_name": "Python 3",
   "language": "python",
   "name": "python3"
  },
  "language_info": {
   "codemirror_mode": {
    "name": "ipython",
    "version": 3
   },
   "file_extension": ".py",
   "mimetype": "text/x-python",
   "name": "python",
   "nbconvert_exporter": "python",
   "pygments_lexer": "ipython3",
   "version": "3.8.8"
  },
  "toc": {
   "base_numbering": 1,
   "nav_menu": {},
   "number_sections": false,
   "sideBar": true,
   "skip_h1_title": false,
   "title_cell": "Table of Contents",
   "title_sidebar": "Contents",
   "toc_cell": false,
   "toc_position": {},
   "toc_section_display": true,
   "toc_window_display": false
  },
  "varInspector": {
   "cols": {
    "lenName": 16,
    "lenType": 16,
    "lenVar": 40
   },
   "kernels_config": {
    "python": {
     "delete_cmd_postfix": "",
     "delete_cmd_prefix": "del ",
     "library": "var_list.py",
     "varRefreshCmd": "print(var_dic_list())"
    },
    "r": {
     "delete_cmd_postfix": ") ",
     "delete_cmd_prefix": "rm(",
     "library": "var_list.r",
     "varRefreshCmd": "cat(var_dic_list()) "
    }
   },
   "types_to_exclude": [
    "module",
    "function",
    "builtin_function_or_method",
    "instance",
    "_Feature"
   ],
   "window_display": false
  }
 },
 "nbformat": 4,
 "nbformat_minor": 4
}
